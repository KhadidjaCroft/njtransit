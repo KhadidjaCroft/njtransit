{
 "cells": [
  {
   "cell_type": "code",
   "execution_count": 1,
   "metadata": {
    "collapsed": true
   },
   "outputs": [],
   "source": [
    "import pandas as pd"
   ]
  },
  {
   "cell_type": "code",
   "execution_count": 3,
   "metadata": {
    "collapsed": true
   },
   "outputs": [],
   "source": [
    "months = [\"03\", \"04\", \"05\", \"06\", \"07\", \"08\", \"09\", \"10\", \"11\", \"12\", \"01\", \"02\", \"03\", \"04\"]\n",
    "years = [\"2018\", \"2018\", \"2018\", \"2018\", \"2018\", \"2018\", \"2018\", \"2018\", \"2018\", \"2018\", \"2019\", \"2019\", \"2019\", \"2019\"]"
   ]
  },
  {
   "cell_type": "code",
   "execution_count": 5,
   "metadata": {
    "collapsed": false
   },
   "outputs": [],
   "source": [
    "monthly_path = \"/Users/pranav/Documents/development/njtransit/csv/monthly/{}_{}.csv\""
   ]
  },
  {
   "cell_type": "code",
   "execution_count": 7,
   "metadata": {
    "collapsed": false
   },
   "outputs": [],
   "source": [
    "all_trains = pd.concat((pd.read_csv(monthly_path.format(year, month)) for month, year in zip(months, years)))"
   ]
  },
  {
   "cell_type": "code",
   "execution_count": 8,
   "metadata": {
    "collapsed": false
   },
   "outputs": [
    {
     "data": {
      "text/plain": [
       "287036"
      ]
     },
     "execution_count": 8,
     "metadata": {},
     "output_type": "execute_result"
    }
   ],
   "source": [
    "all_trains.groupby(['date', 'train_id']).ngroups#/214.0\n"
   ]
  },
  {
   "cell_type": "code",
   "execution_count": 9,
   "metadata": {
    "collapsed": false
   },
   "outputs": [
    {
     "data": {
      "text/plain": [
       "248742"
      ]
     },
     "execution_count": 9,
     "metadata": {},
     "output_type": "execute_result"
    }
   ],
   "source": [
    "all_trains[all_trains['type'] == \"NJ Transit\"].groupby(['date', 'train_id']).ngroups"
   ]
  },
  {
   "cell_type": "code",
   "execution_count": 10,
   "metadata": {
    "collapsed": false
   },
   "outputs": [
    {
     "data": {
      "text/plain": [
       "38294"
      ]
     },
     "execution_count": 10,
     "metadata": {},
     "output_type": "execute_result"
    }
   ],
   "source": [
    "all_trains[all_trains['type'] == \"Amtrak\"].groupby(['date', 'train_id']).ngroups"
   ]
  },
  {
   "cell_type": "code",
   "execution_count": null,
   "metadata": {
    "collapsed": true
   },
   "outputs": [],
   "source": []
  },
  {
   "cell_type": "code",
   "execution_count": 11,
   "metadata": {
    "collapsed": true
   },
   "outputs": [],
   "source": [
    "invalid = pd.read_csv(\"/Users/pranav/Documents/development/njtransit/csv/invalid_trains.csv\")"
   ]
  },
  {
   "cell_type": "code",
   "execution_count": 12,
   "metadata": {
    "collapsed": false
   },
   "outputs": [
    {
     "data": {
      "text/plain": [
       "Index([u'date', u'train_id', u'reason'], dtype='object')"
      ]
     },
     "execution_count": 12,
     "metadata": {},
     "output_type": "execute_result"
    }
   ],
   "source": [
    "invalid.columns"
   ]
  },
  {
   "cell_type": "code",
   "execution_count": 13,
   "metadata": {
    "collapsed": false
   },
   "outputs": [
    {
     "data": {
      "text/plain": [
       "7315"
      ]
     },
     "execution_count": 13,
     "metadata": {},
     "output_type": "execute_result"
    }
   ],
   "source": [
    "len(invalid)"
   ]
  },
  {
   "cell_type": "code",
   "execution_count": 14,
   "metadata": {
    "collapsed": false
   },
   "outputs": [
    {
     "data": {
      "text/plain": [
       "0.9751487170079259"
      ]
     },
     "execution_count": 14,
     "metadata": {},
     "output_type": "execute_result"
    }
   ],
   "source": [
    "287036.0/(287036 + 7315.0)"
   ]
  },
  {
   "cell_type": "code",
   "execution_count": 15,
   "metadata": {
    "collapsed": false
   },
   "outputs": [
    {
     "data": {
      "text/plain": [
       "empty file       4862\n",
       "no departures    1440\n",
       "missing state     905\n",
       "Name: reason, dtype: int64"
      ]
     },
     "execution_count": 15,
     "metadata": {},
     "output_type": "execute_result"
    }
   ],
   "source": [
    "invalid[\"reason\"].value_counts()"
   ]
  },
  {
   "cell_type": "code",
   "execution_count": 48,
   "metadata": {
    "collapsed": true
   },
   "outputs": [],
   "source": [
    "test = pd.read_csv(\"/Users/pranav/Downloads/2018_10_12_3885.csv\")"
   ]
  },
  {
   "cell_type": "code",
   "execution_count": 50,
   "metadata": {
    "collapsed": false
   },
   "outputs": [],
   "source": [
    "columns = [\"date\", \"train_id\", \"stop_sequence\", \"from\", \"from_id\", \"to\", \"to_id\", \"expected\", \"time\", \"status\", \"line\", \"type\", \"scheduled\"]"
   ]
  },
  {
   "cell_type": "code",
   "execution_count": 51,
   "metadata": {
    "collapsed": true
   },
   "outputs": [],
   "source": [
    "test = test[columns]"
   ]
  },
  {
   "cell_type": "code",
   "execution_count": 54,
   "metadata": {
    "collapsed": false
   },
   "outputs": [
    {
     "name": "stderr",
     "output_type": "stream",
     "text": [
      "/Users/pranav/anaconda/lib/python2.7/site-packages/pandas/core/frame.py:2834: SettingWithCopyWarning: \n",
      "A value is trying to be set on a copy of a slice from a DataFrame\n",
      "\n",
      "See the caveats in the documentation: http://pandas.pydata.org/pandas-docs/stable/indexing.html#indexing-view-versus-copy\n",
      "  **kwargs)\n"
     ]
    }
   ],
   "source": [
    "test.rename({\"expected\": \"scheduled_time\", \"time\": \"actual_time\"}, inplace=True)"
   ]
  },
  {
   "cell_type": "code",
   "execution_count": 55,
   "metadata": {
    "collapsed": false
   },
   "outputs": [
    {
     "data": {
      "text/html": [
       "<div>\n",
       "<table border=\"1\" class=\"dataframe\">\n",
       "  <thead>\n",
       "    <tr style=\"text-align: right;\">\n",
       "      <th></th>\n",
       "      <th>date</th>\n",
       "      <th>train_id</th>\n",
       "      <th>stop_sequence</th>\n",
       "      <th>from</th>\n",
       "      <th>from_id</th>\n",
       "      <th>to</th>\n",
       "      <th>to_id</th>\n",
       "      <th>expected</th>\n",
       "      <th>time</th>\n",
       "      <th>status</th>\n",
       "      <th>line</th>\n",
       "      <th>type</th>\n",
       "      <th>scheduled</th>\n",
       "    </tr>\n",
       "  </thead>\n",
       "  <tbody>\n",
       "    <tr>\n",
       "      <th>0</th>\n",
       "      <td>2018-10-12</td>\n",
       "      <td>3885</td>\n",
       "      <td>1</td>\n",
       "      <td>New York Penn Station</td>\n",
       "      <td>105</td>\n",
       "      <td>New York Penn Station</td>\n",
       "      <td>105</td>\n",
       "      <td>2018-10-12 20:37:00</td>\n",
       "      <td>2018-10-12 20:36:09</td>\n",
       "      <td>departed</td>\n",
       "      <td>Northeast Corrdr</td>\n",
       "      <td>NJ Transit</td>\n",
       "      <td>True</td>\n",
       "    </tr>\n",
       "    <tr>\n",
       "      <th>1</th>\n",
       "      <td>2018-10-12</td>\n",
       "      <td>3885</td>\n",
       "      <td>2</td>\n",
       "      <td>New York Penn Station</td>\n",
       "      <td>105</td>\n",
       "      <td>Secaucus Upper Lvl</td>\n",
       "      <td>38187</td>\n",
       "      <td>2018-10-12 20:47:00</td>\n",
       "      <td>2018-10-12 20:51:06</td>\n",
       "      <td>departed</td>\n",
       "      <td>Northeast Corrdr</td>\n",
       "      <td>NJ Transit</td>\n",
       "      <td>True</td>\n",
       "    </tr>\n",
       "    <tr>\n",
       "      <th>2</th>\n",
       "      <td>2018-10-12</td>\n",
       "      <td>3885</td>\n",
       "      <td>3</td>\n",
       "      <td>Secaucus Upper Lvl</td>\n",
       "      <td>38187</td>\n",
       "      <td>Newark Penn Station</td>\n",
       "      <td>107</td>\n",
       "      <td>2018-10-12 20:56:00</td>\n",
       "      <td>2018-10-12 20:59:06</td>\n",
       "      <td>departed</td>\n",
       "      <td>Northeast Corrdr</td>\n",
       "      <td>NJ Transit</td>\n",
       "      <td>True</td>\n",
       "    </tr>\n",
       "    <tr>\n",
       "      <th>3</th>\n",
       "      <td>2018-10-12</td>\n",
       "      <td>3885</td>\n",
       "      <td>4</td>\n",
       "      <td>Newark Penn Station</td>\n",
       "      <td>107</td>\n",
       "      <td>Newark Airport</td>\n",
       "      <td>37953</td>\n",
       "      <td>2018-10-12 21:01:00</td>\n",
       "      <td>2018-10-12 21:06:11</td>\n",
       "      <td>departed</td>\n",
       "      <td>Northeast Corrdr</td>\n",
       "      <td>NJ Transit</td>\n",
       "      <td>True</td>\n",
       "    </tr>\n",
       "    <tr>\n",
       "      <th>4</th>\n",
       "      <td>2018-10-12</td>\n",
       "      <td>3885</td>\n",
       "      <td>5</td>\n",
       "      <td>Newark Airport</td>\n",
       "      <td>37953</td>\n",
       "      <td>Metropark</td>\n",
       "      <td>83</td>\n",
       "      <td>2018-10-12 21:15:00</td>\n",
       "      <td>2018-10-12 21:18:02</td>\n",
       "      <td>departed</td>\n",
       "      <td>Northeast Corrdr</td>\n",
       "      <td>NJ Transit</td>\n",
       "      <td>True</td>\n",
       "    </tr>\n",
       "    <tr>\n",
       "      <th>5</th>\n",
       "      <td>2018-10-12</td>\n",
       "      <td>3885</td>\n",
       "      <td>6</td>\n",
       "      <td>Metropark</td>\n",
       "      <td>83</td>\n",
       "      <td>Metuchen</td>\n",
       "      <td>84</td>\n",
       "      <td>2018-10-12 21:20:00</td>\n",
       "      <td>2018-10-12 21:22:09</td>\n",
       "      <td>departed</td>\n",
       "      <td>Northeast Corrdr</td>\n",
       "      <td>NJ Transit</td>\n",
       "      <td>True</td>\n",
       "    </tr>\n",
       "    <tr>\n",
       "      <th>6</th>\n",
       "      <td>2018-10-12</td>\n",
       "      <td>3885</td>\n",
       "      <td>7</td>\n",
       "      <td>Metuchen</td>\n",
       "      <td>84</td>\n",
       "      <td>Edison</td>\n",
       "      <td>38</td>\n",
       "      <td>2018-10-12 21:25:00</td>\n",
       "      <td>2018-10-12 21:26:05</td>\n",
       "      <td>departed</td>\n",
       "      <td>Northeast Corrdr</td>\n",
       "      <td>NJ Transit</td>\n",
       "      <td>True</td>\n",
       "    </tr>\n",
       "    <tr>\n",
       "      <th>7</th>\n",
       "      <td>2018-10-12</td>\n",
       "      <td>3885</td>\n",
       "      <td>8</td>\n",
       "      <td>Edison</td>\n",
       "      <td>38</td>\n",
       "      <td>New Brunswick</td>\n",
       "      <td>103</td>\n",
       "      <td>2018-10-12 21:30:00</td>\n",
       "      <td>2018-10-12 21:30:11</td>\n",
       "      <td>departed</td>\n",
       "      <td>Northeast Corrdr</td>\n",
       "      <td>NJ Transit</td>\n",
       "      <td>True</td>\n",
       "    </tr>\n",
       "    <tr>\n",
       "      <th>8</th>\n",
       "      <td>2018-10-12</td>\n",
       "      <td>3885</td>\n",
       "      <td>9</td>\n",
       "      <td>New Brunswick</td>\n",
       "      <td>103</td>\n",
       "      <td>Jersey Avenue</td>\n",
       "      <td>32906</td>\n",
       "      <td>2018-10-12 21:34:00</td>\n",
       "      <td>2018-10-12 21:35:16</td>\n",
       "      <td>departed</td>\n",
       "      <td>Northeast Corrdr</td>\n",
       "      <td>NJ Transit</td>\n",
       "      <td>True</td>\n",
       "    </tr>\n",
       "    <tr>\n",
       "      <th>9</th>\n",
       "      <td>2018-10-12</td>\n",
       "      <td>3885</td>\n",
       "      <td>10</td>\n",
       "      <td>Jersey Avenue</td>\n",
       "      <td>32906</td>\n",
       "      <td>Princeton Junction</td>\n",
       "      <td>125</td>\n",
       "      <td>2018-10-12 21:47:00</td>\n",
       "      <td>2018-10-12 21:53:07</td>\n",
       "      <td>departed</td>\n",
       "      <td>Northeast Corrdr</td>\n",
       "      <td>NJ Transit</td>\n",
       "      <td>True</td>\n",
       "    </tr>\n",
       "    <tr>\n",
       "      <th>10</th>\n",
       "      <td>2018-10-12</td>\n",
       "      <td>3885</td>\n",
       "      <td>11</td>\n",
       "      <td>Princeton Junction</td>\n",
       "      <td>125</td>\n",
       "      <td>Hamilton</td>\n",
       "      <td>32905</td>\n",
       "      <td>2018-10-12 21:55:00</td>\n",
       "      <td>2018-10-12 22:00:05</td>\n",
       "      <td>departed</td>\n",
       "      <td>Northeast Corrdr</td>\n",
       "      <td>NJ Transit</td>\n",
       "      <td>True</td>\n",
       "    </tr>\n",
       "    <tr>\n",
       "      <th>11</th>\n",
       "      <td>2018-10-12</td>\n",
       "      <td>3885</td>\n",
       "      <td>12</td>\n",
       "      <td>Hamilton</td>\n",
       "      <td>32905</td>\n",
       "      <td>Trenton</td>\n",
       "      <td>148</td>\n",
       "      <td>2018-10-12 22:07:00</td>\n",
       "      <td>2018-10-12 22:04:00</td>\n",
       "      <td>estimated</td>\n",
       "      <td>Northeast Corrdr</td>\n",
       "      <td>NJ Transit</td>\n",
       "      <td>True</td>\n",
       "    </tr>\n",
       "  </tbody>\n",
       "</table>\n",
       "</div>"
      ],
      "text/plain": [
       "          date  train_id  stop_sequence                   from  from_id  \\\n",
       "0   2018-10-12      3885              1  New York Penn Station      105   \n",
       "1   2018-10-12      3885              2  New York Penn Station      105   \n",
       "2   2018-10-12      3885              3     Secaucus Upper Lvl    38187   \n",
       "3   2018-10-12      3885              4    Newark Penn Station      107   \n",
       "4   2018-10-12      3885              5         Newark Airport    37953   \n",
       "5   2018-10-12      3885              6              Metropark       83   \n",
       "6   2018-10-12      3885              7               Metuchen       84   \n",
       "7   2018-10-12      3885              8                 Edison       38   \n",
       "8   2018-10-12      3885              9          New Brunswick      103   \n",
       "9   2018-10-12      3885             10          Jersey Avenue    32906   \n",
       "10  2018-10-12      3885             11     Princeton Junction      125   \n",
       "11  2018-10-12      3885             12               Hamilton    32905   \n",
       "\n",
       "                       to  to_id             expected                 time  \\\n",
       "0   New York Penn Station    105  2018-10-12 20:37:00  2018-10-12 20:36:09   \n",
       "1      Secaucus Upper Lvl  38187  2018-10-12 20:47:00  2018-10-12 20:51:06   \n",
       "2     Newark Penn Station    107  2018-10-12 20:56:00  2018-10-12 20:59:06   \n",
       "3          Newark Airport  37953  2018-10-12 21:01:00  2018-10-12 21:06:11   \n",
       "4               Metropark     83  2018-10-12 21:15:00  2018-10-12 21:18:02   \n",
       "5                Metuchen     84  2018-10-12 21:20:00  2018-10-12 21:22:09   \n",
       "6                  Edison     38  2018-10-12 21:25:00  2018-10-12 21:26:05   \n",
       "7           New Brunswick    103  2018-10-12 21:30:00  2018-10-12 21:30:11   \n",
       "8           Jersey Avenue  32906  2018-10-12 21:34:00  2018-10-12 21:35:16   \n",
       "9      Princeton Junction    125  2018-10-12 21:47:00  2018-10-12 21:53:07   \n",
       "10               Hamilton  32905  2018-10-12 21:55:00  2018-10-12 22:00:05   \n",
       "11                Trenton    148  2018-10-12 22:07:00  2018-10-12 22:04:00   \n",
       "\n",
       "       status              line        type scheduled  \n",
       "0    departed  Northeast Corrdr  NJ Transit      True  \n",
       "1    departed  Northeast Corrdr  NJ Transit      True  \n",
       "2    departed  Northeast Corrdr  NJ Transit      True  \n",
       "3    departed  Northeast Corrdr  NJ Transit      True  \n",
       "4    departed  Northeast Corrdr  NJ Transit      True  \n",
       "5    departed  Northeast Corrdr  NJ Transit      True  \n",
       "6    departed  Northeast Corrdr  NJ Transit      True  \n",
       "7    departed  Northeast Corrdr  NJ Transit      True  \n",
       "8    departed  Northeast Corrdr  NJ Transit      True  \n",
       "9    departed  Northeast Corrdr  NJ Transit      True  \n",
       "10   departed  Northeast Corrdr  NJ Transit      True  \n",
       "11  estimated  Northeast Corrdr  NJ Transit      True  "
      ]
     },
     "execution_count": 55,
     "metadata": {},
     "output_type": "execute_result"
    }
   ],
   "source": [
    "test"
   ]
  },
  {
   "cell_type": "code",
   "execution_count": 57,
   "metadata": {
    "collapsed": false
   },
   "outputs": [
    {
     "data": {
      "text/html": [
       "<div>\n",
       "<table border=\"1\" class=\"dataframe\">\n",
       "  <thead>\n",
       "    <tr style=\"text-align: right;\">\n",
       "      <th></th>\n",
       "      <th>date</th>\n",
       "      <th>train_id</th>\n",
       "      <th>stop_sequence</th>\n",
       "      <th>from</th>\n",
       "      <th>from_id</th>\n",
       "      <th>to</th>\n",
       "      <th>to_id</th>\n",
       "      <th>scheduled_time</th>\n",
       "      <th>actual_time</th>\n",
       "      <th>delay_minutes</th>\n",
       "      <th>status</th>\n",
       "      <th>line</th>\n",
       "      <th>type</th>\n",
       "    </tr>\n",
       "  </thead>\n",
       "  <tbody>\n",
       "    <tr>\n",
       "      <th>220510</th>\n",
       "      <td>2018-09-28</td>\n",
       "      <td>3885</td>\n",
       "      <td>1.0</td>\n",
       "      <td>New York Penn Station</td>\n",
       "      <td>105.0</td>\n",
       "      <td>New York Penn Station</td>\n",
       "      <td>105.0</td>\n",
       "      <td>2018-09-28 20:37:00</td>\n",
       "      <td>2018-09-28 20:36:07</td>\n",
       "      <td>0.000000</td>\n",
       "      <td>departed</td>\n",
       "      <td>Northeast Corrdr</td>\n",
       "      <td>NJ Transit</td>\n",
       "    </tr>\n",
       "    <tr>\n",
       "      <th>220511</th>\n",
       "      <td>2018-09-28</td>\n",
       "      <td>3885</td>\n",
       "      <td>2.0</td>\n",
       "      <td>New York Penn Station</td>\n",
       "      <td>105.0</td>\n",
       "      <td>Secaucus Upper Lvl</td>\n",
       "      <td>38187.0</td>\n",
       "      <td>2018-09-28 20:47:00</td>\n",
       "      <td>2018-09-28 20:50:10</td>\n",
       "      <td>3.166667</td>\n",
       "      <td>departed</td>\n",
       "      <td>Northeast Corrdr</td>\n",
       "      <td>NJ Transit</td>\n",
       "    </tr>\n",
       "    <tr>\n",
       "      <th>220512</th>\n",
       "      <td>2018-09-28</td>\n",
       "      <td>3885</td>\n",
       "      <td>3.0</td>\n",
       "      <td>Secaucus Upper Lvl</td>\n",
       "      <td>38187.0</td>\n",
       "      <td>Newark Penn Station</td>\n",
       "      <td>107.0</td>\n",
       "      <td>2018-09-28 20:56:00</td>\n",
       "      <td>2018-09-28 20:59:07</td>\n",
       "      <td>3.116667</td>\n",
       "      <td>departed</td>\n",
       "      <td>Northeast Corrdr</td>\n",
       "      <td>NJ Transit</td>\n",
       "    </tr>\n",
       "    <tr>\n",
       "      <th>220513</th>\n",
       "      <td>2018-09-28</td>\n",
       "      <td>3885</td>\n",
       "      <td>4.0</td>\n",
       "      <td>Newark Penn Station</td>\n",
       "      <td>107.0</td>\n",
       "      <td>Newark Airport</td>\n",
       "      <td>37953.0</td>\n",
       "      <td>2018-09-28 21:01:00</td>\n",
       "      <td>2018-09-28 21:06:06</td>\n",
       "      <td>5.100000</td>\n",
       "      <td>departed</td>\n",
       "      <td>Northeast Corrdr</td>\n",
       "      <td>NJ Transit</td>\n",
       "    </tr>\n",
       "    <tr>\n",
       "      <th>220514</th>\n",
       "      <td>2018-09-28</td>\n",
       "      <td>3885</td>\n",
       "      <td>5.0</td>\n",
       "      <td>Newark Airport</td>\n",
       "      <td>37953.0</td>\n",
       "      <td>Metropark</td>\n",
       "      <td>83.0</td>\n",
       "      <td>2018-09-28 21:15:00</td>\n",
       "      <td>2018-09-28 21:18:05</td>\n",
       "      <td>3.083333</td>\n",
       "      <td>departed</td>\n",
       "      <td>Northeast Corrdr</td>\n",
       "      <td>NJ Transit</td>\n",
       "    </tr>\n",
       "    <tr>\n",
       "      <th>220515</th>\n",
       "      <td>2018-09-28</td>\n",
       "      <td>3885</td>\n",
       "      <td>6.0</td>\n",
       "      <td>Metropark</td>\n",
       "      <td>83.0</td>\n",
       "      <td>Metuchen</td>\n",
       "      <td>84.0</td>\n",
       "      <td>2018-09-28 21:20:00</td>\n",
       "      <td>2018-09-28 21:21:32</td>\n",
       "      <td>1.533333</td>\n",
       "      <td>departed</td>\n",
       "      <td>Northeast Corrdr</td>\n",
       "      <td>NJ Transit</td>\n",
       "    </tr>\n",
       "    <tr>\n",
       "      <th>220516</th>\n",
       "      <td>2018-09-28</td>\n",
       "      <td>3885</td>\n",
       "      <td>7.0</td>\n",
       "      <td>Metuchen</td>\n",
       "      <td>84.0</td>\n",
       "      <td>Edison</td>\n",
       "      <td>38.0</td>\n",
       "      <td>2018-09-28 21:25:00</td>\n",
       "      <td>2018-09-28 21:25:17</td>\n",
       "      <td>0.283333</td>\n",
       "      <td>departed</td>\n",
       "      <td>Northeast Corrdr</td>\n",
       "      <td>NJ Transit</td>\n",
       "    </tr>\n",
       "    <tr>\n",
       "      <th>220517</th>\n",
       "      <td>2018-09-28</td>\n",
       "      <td>3885</td>\n",
       "      <td>8.0</td>\n",
       "      <td>Edison</td>\n",
       "      <td>38.0</td>\n",
       "      <td>New Brunswick</td>\n",
       "      <td>103.0</td>\n",
       "      <td>2018-09-28 21:30:00</td>\n",
       "      <td>2018-09-28 21:29:09</td>\n",
       "      <td>0.000000</td>\n",
       "      <td>departed</td>\n",
       "      <td>Northeast Corrdr</td>\n",
       "      <td>NJ Transit</td>\n",
       "    </tr>\n",
       "    <tr>\n",
       "      <th>220518</th>\n",
       "      <td>2018-09-28</td>\n",
       "      <td>3885</td>\n",
       "      <td>9.0</td>\n",
       "      <td>New Brunswick</td>\n",
       "      <td>103.0</td>\n",
       "      <td>Jersey Avenue</td>\n",
       "      <td>32906.0</td>\n",
       "      <td>2018-09-28 21:34:00</td>\n",
       "      <td>2018-09-28 21:32:10</td>\n",
       "      <td>0.000000</td>\n",
       "      <td>departed</td>\n",
       "      <td>Northeast Corrdr</td>\n",
       "      <td>NJ Transit</td>\n",
       "    </tr>\n",
       "    <tr>\n",
       "      <th>220519</th>\n",
       "      <td>2018-09-28</td>\n",
       "      <td>3885</td>\n",
       "      <td>10.0</td>\n",
       "      <td>Jersey Avenue</td>\n",
       "      <td>32906.0</td>\n",
       "      <td>Princeton Junction</td>\n",
       "      <td>125.0</td>\n",
       "      <td>2018-09-28 21:47:00</td>\n",
       "      <td>2018-09-28 21:43:08</td>\n",
       "      <td>0.000000</td>\n",
       "      <td>departed</td>\n",
       "      <td>Northeast Corrdr</td>\n",
       "      <td>NJ Transit</td>\n",
       "    </tr>\n",
       "    <tr>\n",
       "      <th>220520</th>\n",
       "      <td>2018-09-28</td>\n",
       "      <td>3885</td>\n",
       "      <td>11.0</td>\n",
       "      <td>Princeton Junction</td>\n",
       "      <td>125.0</td>\n",
       "      <td>Hamilton</td>\n",
       "      <td>32905.0</td>\n",
       "      <td>2018-09-28 21:55:00</td>\n",
       "      <td>2018-09-28 21:49:13</td>\n",
       "      <td>0.000000</td>\n",
       "      <td>departed</td>\n",
       "      <td>Northeast Corrdr</td>\n",
       "      <td>NJ Transit</td>\n",
       "    </tr>\n",
       "    <tr>\n",
       "      <th>220521</th>\n",
       "      <td>2018-09-28</td>\n",
       "      <td>3885</td>\n",
       "      <td>12.0</td>\n",
       "      <td>Hamilton</td>\n",
       "      <td>32905.0</td>\n",
       "      <td>Trenton</td>\n",
       "      <td>148.0</td>\n",
       "      <td>2018-09-28 22:07:00</td>\n",
       "      <td>2018-09-28 21:53:00</td>\n",
       "      <td>0.000000</td>\n",
       "      <td>estimated</td>\n",
       "      <td>Northeast Corrdr</td>\n",
       "      <td>NJ Transit</td>\n",
       "    </tr>\n",
       "  </tbody>\n",
       "</table>\n",
       "</div>"
      ],
      "text/plain": [
       "              date train_id  stop_sequence                   from  from_id  \\\n",
       "220510  2018-09-28     3885            1.0  New York Penn Station    105.0   \n",
       "220511  2018-09-28     3885            2.0  New York Penn Station    105.0   \n",
       "220512  2018-09-28     3885            3.0     Secaucus Upper Lvl  38187.0   \n",
       "220513  2018-09-28     3885            4.0    Newark Penn Station    107.0   \n",
       "220514  2018-09-28     3885            5.0         Newark Airport  37953.0   \n",
       "220515  2018-09-28     3885            6.0              Metropark     83.0   \n",
       "220516  2018-09-28     3885            7.0               Metuchen     84.0   \n",
       "220517  2018-09-28     3885            8.0                 Edison     38.0   \n",
       "220518  2018-09-28     3885            9.0          New Brunswick    103.0   \n",
       "220519  2018-09-28     3885           10.0          Jersey Avenue  32906.0   \n",
       "220520  2018-09-28     3885           11.0     Princeton Junction    125.0   \n",
       "220521  2018-09-28     3885           12.0               Hamilton  32905.0   \n",
       "\n",
       "                           to    to_id       scheduled_time  \\\n",
       "220510  New York Penn Station    105.0  2018-09-28 20:37:00   \n",
       "220511     Secaucus Upper Lvl  38187.0  2018-09-28 20:47:00   \n",
       "220512    Newark Penn Station    107.0  2018-09-28 20:56:00   \n",
       "220513         Newark Airport  37953.0  2018-09-28 21:01:00   \n",
       "220514              Metropark     83.0  2018-09-28 21:15:00   \n",
       "220515               Metuchen     84.0  2018-09-28 21:20:00   \n",
       "220516                 Edison     38.0  2018-09-28 21:25:00   \n",
       "220517          New Brunswick    103.0  2018-09-28 21:30:00   \n",
       "220518          Jersey Avenue  32906.0  2018-09-28 21:34:00   \n",
       "220519     Princeton Junction    125.0  2018-09-28 21:47:00   \n",
       "220520               Hamilton  32905.0  2018-09-28 21:55:00   \n",
       "220521                Trenton    148.0  2018-09-28 22:07:00   \n",
       "\n",
       "                actual_time  delay_minutes     status              line  \\\n",
       "220510  2018-09-28 20:36:07       0.000000   departed  Northeast Corrdr   \n",
       "220511  2018-09-28 20:50:10       3.166667   departed  Northeast Corrdr   \n",
       "220512  2018-09-28 20:59:07       3.116667   departed  Northeast Corrdr   \n",
       "220513  2018-09-28 21:06:06       5.100000   departed  Northeast Corrdr   \n",
       "220514  2018-09-28 21:18:05       3.083333   departed  Northeast Corrdr   \n",
       "220515  2018-09-28 21:21:32       1.533333   departed  Northeast Corrdr   \n",
       "220516  2018-09-28 21:25:17       0.283333   departed  Northeast Corrdr   \n",
       "220517  2018-09-28 21:29:09       0.000000   departed  Northeast Corrdr   \n",
       "220518  2018-09-28 21:32:10       0.000000   departed  Northeast Corrdr   \n",
       "220519  2018-09-28 21:43:08       0.000000   departed  Northeast Corrdr   \n",
       "220520  2018-09-28 21:49:13       0.000000   departed  Northeast Corrdr   \n",
       "220521  2018-09-28 21:53:00       0.000000  estimated  Northeast Corrdr   \n",
       "\n",
       "              type  \n",
       "220510  NJ Transit  \n",
       "220511  NJ Transit  \n",
       "220512  NJ Transit  \n",
       "220513  NJ Transit  \n",
       "220514  NJ Transit  \n",
       "220515  NJ Transit  \n",
       "220516  NJ Transit  \n",
       "220517  NJ Transit  \n",
       "220518  NJ Transit  \n",
       "220519  NJ Transit  \n",
       "220520  NJ Transit  \n",
       "220521  NJ Transit  "
      ]
     },
     "execution_count": 57,
     "metadata": {},
     "output_type": "execute_result"
    }
   ],
   "source": [
    "all_trains[(all_trains[\"train_id\"] == \"3885\") & (all_trains[\"date\"] == \"2018-09-28\")]"
   ]
  },
  {
   "cell_type": "code",
   "execution_count": null,
   "metadata": {
    "collapsed": true
   },
   "outputs": [],
   "source": []
  }
 ],
 "metadata": {
  "anaconda-cloud": {},
  "kernelspec": {
   "display_name": "Python [Root]",
   "language": "python",
   "name": "Python [Root]"
  },
  "language_info": {
   "codemirror_mode": {
    "name": "ipython",
    "version": 2
   },
   "file_extension": ".py",
   "mimetype": "text/x-python",
   "name": "python",
   "nbconvert_exporter": "python",
   "pygments_lexer": "ipython2",
   "version": "2.7.12"
  }
 },
 "nbformat": 4,
 "nbformat_minor": 2
}
