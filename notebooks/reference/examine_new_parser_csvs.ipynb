{
 "cells": [
  {
   "cell_type": "code",
   "execution_count": 2,
   "metadata": {
    "collapsed": false
   },
   "outputs": [],
   "source": [
    "import pandas as pd"
   ]
  },
  {
   "cell_type": "code",
   "execution_count": 4,
   "metadata": {
    "collapsed": false
   },
   "outputs": [],
   "source": [
    "df_03_02 = pd.read_csv(\"../../csv/2018_03_02.csv\")"
   ]
  },
  {
   "cell_type": "code",
   "execution_count": 5,
   "metadata": {
    "collapsed": false
   },
   "outputs": [
    {
     "data": {
      "text/html": [
       "<div>\n",
       "<table border=\"1\" class=\"dataframe\">\n",
       "  <thead>\n",
       "    <tr style=\"text-align: right;\">\n",
       "      <th></th>\n",
       "      <th>train_id</th>\n",
       "      <th>date</th>\n",
       "      <th>stop_sequence</th>\n",
       "      <th>from</th>\n",
       "      <th>from_id</th>\n",
       "      <th>to</th>\n",
       "      <th>to_id</th>\n",
       "      <th>expected</th>\n",
       "      <th>time</th>\n",
       "      <th>status</th>\n",
       "      <th>line</th>\n",
       "      <th>type</th>\n",
       "    </tr>\n",
       "  </thead>\n",
       "  <tbody>\n",
       "    <tr>\n",
       "      <th>0</th>\n",
       "      <td>5127</td>\n",
       "      <td>2018-03-02</td>\n",
       "      <td>1.0</td>\n",
       "      <td>New York Penn Station</td>\n",
       "      <td>105</td>\n",
       "      <td>New York Penn Station</td>\n",
       "      <td>105</td>\n",
       "      <td>2018-03-02 13:47:00</td>\n",
       "      <td>2018-03-02 13:47:14</td>\n",
       "      <td>departed</td>\n",
       "      <td>Raritan Valley</td>\n",
       "      <td>NJ Transit</td>\n",
       "    </tr>\n",
       "    <tr>\n",
       "      <th>1</th>\n",
       "      <td>5127</td>\n",
       "      <td>2018-03-02</td>\n",
       "      <td>2.0</td>\n",
       "      <td>New York Penn Station</td>\n",
       "      <td>105</td>\n",
       "      <td>Secaucus Upper Lvl</td>\n",
       "      <td>38187</td>\n",
       "      <td>2018-03-02 13:56:00</td>\n",
       "      <td>2018-03-02 13:57:18</td>\n",
       "      <td>departed</td>\n",
       "      <td>Raritan Valley</td>\n",
       "      <td>NJ Transit</td>\n",
       "    </tr>\n",
       "    <tr>\n",
       "      <th>2</th>\n",
       "      <td>5127</td>\n",
       "      <td>2018-03-02</td>\n",
       "      <td>3.0</td>\n",
       "      <td>Secaucus Upper Lvl</td>\n",
       "      <td>38187</td>\n",
       "      <td>Newark Penn Station</td>\n",
       "      <td>107</td>\n",
       "      <td>2018-03-02 14:06:00</td>\n",
       "      <td>2018-03-02 14:05:19</td>\n",
       "      <td>departed</td>\n",
       "      <td>Raritan Valley</td>\n",
       "      <td>NJ Transit</td>\n",
       "    </tr>\n",
       "    <tr>\n",
       "      <th>3</th>\n",
       "      <td>5127</td>\n",
       "      <td>2018-03-02</td>\n",
       "      <td>4.0</td>\n",
       "      <td>Newark Penn Station</td>\n",
       "      <td>107</td>\n",
       "      <td>Union</td>\n",
       "      <td>38105</td>\n",
       "      <td>2018-03-02 14:15:00</td>\n",
       "      <td>2018-03-02 14:24:11</td>\n",
       "      <td>departed</td>\n",
       "      <td>Raritan Valley</td>\n",
       "      <td>NJ Transit</td>\n",
       "    </tr>\n",
       "    <tr>\n",
       "      <th>4</th>\n",
       "      <td>5127</td>\n",
       "      <td>2018-03-02</td>\n",
       "      <td>5.0</td>\n",
       "      <td>Union</td>\n",
       "      <td>38105</td>\n",
       "      <td>Roselle Park</td>\n",
       "      <td>31</td>\n",
       "      <td>2018-03-02 14:18:00</td>\n",
       "      <td>2018-03-02 14:27:18</td>\n",
       "      <td>departed</td>\n",
       "      <td>Raritan Valley</td>\n",
       "      <td>NJ Transit</td>\n",
       "    </tr>\n",
       "  </tbody>\n",
       "</table>\n",
       "</div>"
      ],
      "text/plain": [
       "  train_id        date  stop_sequence                   from  from_id  \\\n",
       "0     5127  2018-03-02            1.0  New York Penn Station      105   \n",
       "1     5127  2018-03-02            2.0  New York Penn Station      105   \n",
       "2     5127  2018-03-02            3.0     Secaucus Upper Lvl    38187   \n",
       "3     5127  2018-03-02            4.0    Newark Penn Station      107   \n",
       "4     5127  2018-03-02            5.0                  Union    38105   \n",
       "\n",
       "                      to  to_id             expected                 time  \\\n",
       "0  New York Penn Station    105  2018-03-02 13:47:00  2018-03-02 13:47:14   \n",
       "1     Secaucus Upper Lvl  38187  2018-03-02 13:56:00  2018-03-02 13:57:18   \n",
       "2    Newark Penn Station    107  2018-03-02 14:06:00  2018-03-02 14:05:19   \n",
       "3                  Union  38105  2018-03-02 14:15:00  2018-03-02 14:24:11   \n",
       "4           Roselle Park     31  2018-03-02 14:18:00  2018-03-02 14:27:18   \n",
       "\n",
       "     status            line        type  \n",
       "0  departed  Raritan Valley  NJ Transit  \n",
       "1  departed  Raritan Valley  NJ Transit  \n",
       "2  departed  Raritan Valley  NJ Transit  \n",
       "3  departed  Raritan Valley  NJ Transit  \n",
       "4  departed  Raritan Valley  NJ Transit  "
      ]
     },
     "execution_count": 5,
     "metadata": {},
     "output_type": "execute_result"
    }
   ],
   "source": [
    "df_03_02.head()"
   ]
  },
  {
   "cell_type": "code",
   "execution_count": null,
   "metadata": {
    "collapsed": true
   },
   "outputs": [],
   "source": [
    "    "
   ]
  }
 ],
 "metadata": {
  "kernelspec": {
   "display_name": "Python [Root]",
   "language": "python",
   "name": "Python [Root]"
  },
  "language_info": {
   "codemirror_mode": {
    "name": "ipython",
    "version": 2
   },
   "file_extension": ".py",
   "mimetype": "text/x-python",
   "name": "python",
   "nbconvert_exporter": "python",
   "pygments_lexer": "ipython2",
   "version": "2.7.12"
  }
 },
 "nbformat": 4,
 "nbformat_minor": 2
}
