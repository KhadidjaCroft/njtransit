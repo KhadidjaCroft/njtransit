{
 "cells": [
  {
   "cell_type": "code",
   "execution_count": 183,
   "metadata": {
    "collapsed": true
   },
   "outputs": [],
   "source": [
    "import pandas as pd\n",
    "import glob\n",
    "import os\n",
    "from datetime import datetime, timedelta"
   ]
  },
  {
   "cell_type": "code",
   "execution_count": 184,
   "metadata": {
    "collapsed": true
   },
   "outputs": [],
   "source": [
    "months = [\"03\", \"04\", \"05\", \"06\", \"07\", \"08\", \"09\"]"
   ]
  },
  {
   "cell_type": "code",
   "execution_count": 185,
   "metadata": {
    "collapsed": true
   },
   "outputs": [],
   "source": [
    "def clean_delay_to_minutes(sec):\n",
    "    if sec < 0:\n",
    "        return 0.0\n",
    "    else:\n",
    "        return sec/60.0"
   ]
  },
  {
   "cell_type": "code",
   "execution_count": 186,
   "metadata": {
    "collapsed": true
   },
   "outputs": [],
   "source": [
    "def adjust_actual_times(row):\n",
    "    row[\"delay_minutes\"] = clean_delay_to_minutes(row[\"delay_minutes\"])\n",
    "\n",
    "    if row[\"delay_minutes\"] > 700:\n",
    "        \n",
    "        # if delay ~= 1400, parsing error, subtract full day\n",
    "        if row[\"delay_minutes\"] > 1400:\n",
    "            row[\"actual_time\"] = row[\"actual_time\"] - timedelta(hours=24)\n",
    "        \n",
    "        # if delay ~= 720, parsing error, subtract half day\n",
    "        else:\n",
    "            row[\"actual_time\"] = row[\"actual_time\"] - timedelta(hours=12)\n",
    "        \n",
    "        # recompute delay\n",
    "        row[\"delay_minutes\"] = (row[\"actual_time\"] - row[\"scheduled_time\"]).total_seconds()\n",
    "        row[\"delay_minutes\"] = clean_delay_to_minutes(row[\"delay_minutes\"])\n",
    "\n",
    "        return row\n",
    "    \n",
    "    return None"
   ]
  },
  {
   "cell_type": "code",
   "execution_count": 187,
   "metadata": {
    "collapsed": false,
    "scrolled": true
   },
   "outputs": [
    {
     "name": "stdout",
     "output_type": "stream",
     "text": [
      "done reading csv 03\n",
      "done series-wide 03\n",
      "done adjust/clean 03\n",
      "done generating df 03\n",
      "done reading csv 04\n",
      "done series-wide 04\n",
      "done adjust/clean 04\n",
      "done generating df 04\n",
      "done reading csv 05\n",
      "done series-wide 05\n",
      "done adjust/clean 05\n",
      "done generating df 05\n",
      "done reading csv 06\n",
      "done series-wide 06\n",
      "done adjust/clean 06\n",
      "done generating df 06\n",
      "done reading csv 07\n",
      "done series-wide 07\n",
      "done adjust/clean 07\n",
      "done generating df 07\n",
      "done reading csv 08\n",
      "done series-wide 08\n",
      "done adjust/clean 08\n",
      "done generating df 08\n",
      "done reading csv 09\n",
      "done series-wide 09\n",
      "done adjust/clean 09\n",
      "done generating df 09\n"
     ]
    }
   ],
   "source": [
    "for month in months:\n",
    "    \n",
    "    # read in CSVs for month\n",
    "    path = \"/Users/pranav/Documents/development/njtransit/csv/2018_{}\".format(month)\n",
    "    monthFiles = glob.glob(os.path.join(path, \"*.csv\"))\n",
    "    df = pd.concat((pd.read_csv(f) for f in sorted(monthFiles)))\n",
    "    print(\"done reading csv {}\".format(month))\n",
    "    \n",
    "    # series-wide operations\n",
    "    df.columns = [\"train_id\", \"date\", \"stop_sequence\", \"from\", \"from_id\", \"to\", \"to_id\", \"scheduled_time\", \"actual_time\", \"status\", \"line\", \"type\"]\n",
    "    df['scheduled_time'] = pd.to_datetime(df['scheduled_time'])\n",
    "    df['actual_time'] = pd.to_datetime(df['actual_time'])\n",
    "    df['delay_minutes']=(df['actual_time']-df['scheduled_time']).dt.total_seconds()\n",
    "    print(\"done series-wide {}\".format(month))\n",
    "    \n",
    "    # adjust/clean times\n",
    "    df_records = df.to_dict('records')\n",
    "    for idx, record in enumerate(df_records):\n",
    "        record = adjust_actual_times(record)\n",
    "        if record is not None:\n",
    "            df_records[idx] = record\n",
    "    print(\"done adjust/clean {}\".format(month))\n",
    "    \n",
    "    # generate cleaned df\n",
    "    df = pd.DataFrame(df_records)\n",
    "    columns = [\"date\", \"train_id\", \"stop_sequence\", \"from\", \"from_id\", \"to\", \"to_id\", \"scheduled_time\", \"actual_time\", \"delay_minutes\", \"status\", \"line\", \"type\"]\n",
    "    df = df[columns]\n",
    "    df.to_csv(\"/Users/pranav/Documents/development/njtransit/csv/monthly/2018_{}.csv\".format(month), index=False)\n",
    "    print(\"done generating df {}\".format(month))"
   ]
  },
  {
   "cell_type": "code",
   "execution_count": 188,
   "metadata": {
    "collapsed": false
   },
   "outputs": [
    {
     "data": {
      "text/html": [
       "<div>\n",
       "<table border=\"1\" class=\"dataframe\">\n",
       "  <thead>\n",
       "    <tr style=\"text-align: right;\">\n",
       "      <th></th>\n",
       "      <th>date</th>\n",
       "      <th>train_id</th>\n",
       "      <th>stop_sequence</th>\n",
       "      <th>from</th>\n",
       "      <th>from_id</th>\n",
       "      <th>to</th>\n",
       "      <th>to_id</th>\n",
       "      <th>scheduled_time</th>\n",
       "      <th>actual_time</th>\n",
       "      <th>delay_minutes</th>\n",
       "      <th>status</th>\n",
       "      <th>line</th>\n",
       "      <th>type</th>\n",
       "    </tr>\n",
       "  </thead>\n",
       "  <tbody>\n",
       "    <tr>\n",
       "      <th>0</th>\n",
       "      <td>2018-09-01</td>\n",
       "      <td>0720</td>\n",
       "      <td>1.0</td>\n",
       "      <td>Gladstone</td>\n",
       "      <td>49.0</td>\n",
       "      <td>Gladstone</td>\n",
       "      <td>49.0</td>\n",
       "      <td>2018-09-01 10:52:00</td>\n",
       "      <td>2018-09-01 10:52:06</td>\n",
       "      <td>0.100000</td>\n",
       "      <td>departed</td>\n",
       "      <td>Gladstone Branch</td>\n",
       "      <td>NJ Transit</td>\n",
       "    </tr>\n",
       "    <tr>\n",
       "      <th>1</th>\n",
       "      <td>2018-09-01</td>\n",
       "      <td>0720</td>\n",
       "      <td>2.0</td>\n",
       "      <td>Gladstone</td>\n",
       "      <td>49.0</td>\n",
       "      <td>Peapack</td>\n",
       "      <td>117.0</td>\n",
       "      <td>2018-09-01 10:55:00</td>\n",
       "      <td>2018-09-01 10:56:10</td>\n",
       "      <td>1.166667</td>\n",
       "      <td>departed</td>\n",
       "      <td>Gladstone Branch</td>\n",
       "      <td>NJ Transit</td>\n",
       "    </tr>\n",
       "    <tr>\n",
       "      <th>2</th>\n",
       "      <td>2018-09-01</td>\n",
       "      <td>0720</td>\n",
       "      <td>3.0</td>\n",
       "      <td>Peapack</td>\n",
       "      <td>117.0</td>\n",
       "      <td>Far Hills</td>\n",
       "      <td>45.0</td>\n",
       "      <td>2018-09-01 10:59:00</td>\n",
       "      <td>2018-09-01 11:01:31</td>\n",
       "      <td>2.516667</td>\n",
       "      <td>departed</td>\n",
       "      <td>Gladstone Branch</td>\n",
       "      <td>NJ Transit</td>\n",
       "    </tr>\n",
       "    <tr>\n",
       "      <th>3</th>\n",
       "      <td>2018-09-01</td>\n",
       "      <td>0720</td>\n",
       "      <td>4.0</td>\n",
       "      <td>Far Hills</td>\n",
       "      <td>45.0</td>\n",
       "      <td>Bernardsville</td>\n",
       "      <td>18.0</td>\n",
       "      <td>2018-09-01 11:05:00</td>\n",
       "      <td>2018-09-01 11:07:02</td>\n",
       "      <td>2.033333</td>\n",
       "      <td>departed</td>\n",
       "      <td>Gladstone Branch</td>\n",
       "      <td>NJ Transit</td>\n",
       "    </tr>\n",
       "    <tr>\n",
       "      <th>4</th>\n",
       "      <td>2018-09-01</td>\n",
       "      <td>0720</td>\n",
       "      <td>5.0</td>\n",
       "      <td>Bernardsville</td>\n",
       "      <td>18.0</td>\n",
       "      <td>Basking Ridge</td>\n",
       "      <td>12.0</td>\n",
       "      <td>2018-09-01 11:08:00</td>\n",
       "      <td>2018-09-01 11:10:15</td>\n",
       "      <td>2.250000</td>\n",
       "      <td>departed</td>\n",
       "      <td>Gladstone Branch</td>\n",
       "      <td>NJ Transit</td>\n",
       "    </tr>\n",
       "  </tbody>\n",
       "</table>\n",
       "</div>"
      ],
      "text/plain": [
       "         date train_id  stop_sequence           from  from_id             to  \\\n",
       "0  2018-09-01     0720            1.0      Gladstone     49.0      Gladstone   \n",
       "1  2018-09-01     0720            2.0      Gladstone     49.0        Peapack   \n",
       "2  2018-09-01     0720            3.0        Peapack    117.0      Far Hills   \n",
       "3  2018-09-01     0720            4.0      Far Hills     45.0  Bernardsville   \n",
       "4  2018-09-01     0720            5.0  Bernardsville     18.0  Basking Ridge   \n",
       "\n",
       "   to_id      scheduled_time         actual_time  delay_minutes    status  \\\n",
       "0   49.0 2018-09-01 10:52:00 2018-09-01 10:52:06       0.100000  departed   \n",
       "1  117.0 2018-09-01 10:55:00 2018-09-01 10:56:10       1.166667  departed   \n",
       "2   45.0 2018-09-01 10:59:00 2018-09-01 11:01:31       2.516667  departed   \n",
       "3   18.0 2018-09-01 11:05:00 2018-09-01 11:07:02       2.033333  departed   \n",
       "4   12.0 2018-09-01 11:08:00 2018-09-01 11:10:15       2.250000  departed   \n",
       "\n",
       "               line        type  \n",
       "0  Gladstone Branch  NJ Transit  \n",
       "1  Gladstone Branch  NJ Transit  \n",
       "2  Gladstone Branch  NJ Transit  \n",
       "3  Gladstone Branch  NJ Transit  \n",
       "4  Gladstone Branch  NJ Transit  "
      ]
     },
     "execution_count": 188,
     "metadata": {},
     "output_type": "execute_result"
    }
   ],
   "source": [
    "df.head()"
   ]
  }
 ],
 "metadata": {
  "anaconda-cloud": {},
  "kernelspec": {
   "display_name": "Python [Root]",
   "language": "python",
   "name": "Python [Root]"
  },
  "language_info": {
   "codemirror_mode": {
    "name": "ipython",
    "version": 2
   },
   "file_extension": ".py",
   "mimetype": "text/x-python",
   "name": "python",
   "nbconvert_exporter": "python",
   "pygments_lexer": "ipython2",
   "version": "2.7.12"
  }
 },
 "nbformat": 4,
 "nbformat_minor": 2
}
