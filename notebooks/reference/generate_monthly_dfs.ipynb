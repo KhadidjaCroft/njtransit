{
 "cells": [
  {
   "cell_type": "code",
   "execution_count": 1,
   "metadata": {
    "collapsed": true
   },
   "outputs": [],
   "source": [
    "import pandas as pd\n",
    "import glob\n",
    "import os\n",
    "from datetime import datetime, timedelta"
   ]
  },
  {
   "cell_type": "code",
   "execution_count": 16,
   "metadata": {
    "collapsed": true
   },
   "outputs": [],
   "source": [
    "%matplotlib inline"
   ]
  },
  {
   "cell_type": "code",
   "execution_count": 10,
   "metadata": {
    "collapsed": true
   },
   "outputs": [],
   "source": [
    "months = [\"03\", \"04\"]\n",
    "years = [\"2019\", \"2019\"]"
   ]
  },
  {
   "cell_type": "code",
   "execution_count": 11,
   "metadata": {
    "collapsed": true
   },
   "outputs": [],
   "source": [
    "def clean_delay_to_minutes(sec):\n",
    "    if sec < 0:\n",
    "        return 0.0\n",
    "    else:\n",
    "        return sec/60.0"
   ]
  },
  {
   "cell_type": "code",
   "execution_count": 12,
   "metadata": {
    "collapsed": true
   },
   "outputs": [],
   "source": [
    "def adjust_actual_times(row):\n",
    "    row[\"delay_minutes\"] = clean_delay_to_minutes(row[\"delay_minutes\"])\n",
    "\n",
    "    if row[\"delay_minutes\"] > 700:\n",
    "        \n",
    "        # if delay ~= 1400, parsing error, subtract full day\n",
    "        if row[\"delay_minutes\"] > 1400:\n",
    "            row[\"actual_time\"] = row[\"actual_time\"] - timedelta(hours=24)\n",
    "        \n",
    "        # if delay ~= 720, parsing error, subtract half day\n",
    "        else:\n",
    "            row[\"actual_time\"] = row[\"actual_time\"] - timedelta(hours=12)\n",
    "        \n",
    "        # recompute delay\n",
    "        row[\"delay_minutes\"] = (row[\"actual_time\"] - row[\"scheduled_time\"]).total_seconds()\n",
    "        row[\"delay_minutes\"] = clean_delay_to_minutes(row[\"delay_minutes\"])\n",
    "\n",
    "        return row\n",
    "    \n",
    "    return None"
   ]
  },
  {
   "cell_type": "code",
   "execution_count": 13,
   "metadata": {
    "collapsed": false,
    "scrolled": true
   },
   "outputs": [
    {
     "name": "stdout",
     "output_type": "stream",
     "text": [
      "done reading csv 03\n",
      "done series-wide 03\n",
      "done adjust/clean 03\n",
      "done generating df 03\n",
      "done reading csv 04\n",
      "done series-wide 04\n",
      "done adjust/clean 04\n",
      "done generating df 04\n"
     ]
    }
   ],
   "source": [
    "for month, year in zip(months, years):\n",
    "    \n",
    "    # read in CSVs for month\n",
    "    path = \"/Users/pranav/Documents/development/njtransit/csv/{}_{}\".format(year, month)\n",
    "    monthFiles = glob.glob(os.path.join(path, \"*.csv\"))\n",
    "    df = pd.concat((pd.read_csv(f) for f in sorted(monthFiles)))\n",
    "    print(\"done reading csv {}\".format(month))\n",
    "    \n",
    "    # series-wide operations\n",
    "    df.columns = [\"train_id\", \"date\", \"stop_sequence\", \"from\", \"from_id\", \"to\", \"to_id\", \"scheduled_time\", \"actual_time\", \"status\", \"line\", \"type\"]\n",
    "    df['scheduled_time'] = pd.to_datetime(df['scheduled_time'])\n",
    "    df['actual_time'] = pd.to_datetime(df['actual_time'])\n",
    "    df['delay_minutes']=(df['actual_time']-df['scheduled_time']).dt.total_seconds()\n",
    "    print(\"done series-wide {}\".format(month))\n",
    "    \n",
    "    # adjust/clean times\n",
    "    df_records = df.to_dict('records')\n",
    "    for idx, record in enumerate(df_records):\n",
    "        record = adjust_actual_times(record)\n",
    "        if record is not None:\n",
    "            df_records[idx] = record\n",
    "    print(\"done adjust/clean {}\".format(month))\n",
    "    \n",
    "    # generate cleaned df\n",
    "    df = pd.DataFrame(df_records)\n",
    "    columns = [\"date\", \"train_id\", \"stop_sequence\", \"from\", \"from_id\", \"to\", \"to_id\", \"scheduled_time\", \"actual_time\", \"delay_minutes\", \"status\", \"line\", \"type\"]\n",
    "    df = df[columns]\n",
    "    df.to_csv(\"/Users/pranav/Documents/development/njtransit/csv/monthly/{}_{}.csv\".format(year, month), index=False)\n",
    "    print(\"done generating df {}\".format(month))"
   ]
  },
  {
   "cell_type": "code",
   "execution_count": 19,
   "metadata": {
    "collapsed": false
   },
   "outputs": [
    {
     "data": {
      "text/plain": [
       "<matplotlib.axes._subplots.AxesSubplot at 0x113e84d10>"
      ]
     },
     "execution_count": 19,
     "metadata": {},
     "output_type": "execute_result"
    },
    {
     "data": {
      "image/png": "[encoded data removed]",
      "text/plain": [
       "<matplotlib.figure.Figure at 0x111fff950>"
      ]
     },
     "metadata": {},
     "output_type": "display_data"
    }
   ],
   "source": [
    "df[df[\"delay_minutes\"]<100][\"delay_minutes\"].hist(bins=20)"
   ]
  },
  {
   "cell_type": "code",
   "execution_count": null,
   "metadata": {
    "collapsed": true
   },
   "outputs": [],
   "source": []
  }
 ],
 "metadata": {
  "anaconda-cloud": {},
  "kernelspec": {
   "display_name": "Python [Root]",
   "language": "python",
   "name": "Python [Root]"
  },
  "language_info": {
   "codemirror_mode": {
    "name": "ipython",
    "version": 2
   },
   "file_extension": ".py",
   "mimetype": "text/x-python",
   "name": "python",
   "nbconvert_exporter": "python",
   "pygments_lexer": "ipython2",
   "version": "2.7.12"
  }
 },
 "nbformat": 4,
 "nbformat_minor": 2
}
