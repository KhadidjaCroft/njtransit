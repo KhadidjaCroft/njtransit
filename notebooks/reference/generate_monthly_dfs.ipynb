{
 "cells": [
  {
   "cell_type": "code",
   "execution_count": 106,
   "metadata": {
    "collapsed": true
   },
   "outputs": [],
   "source": [
    "import pandas as pd\n",
    "import glob\n",
    "import os\n",
    "from datetime import datetime, timedelta"
   ]
  },
  {
   "cell_type": "code",
   "execution_count": 169,
   "metadata": {
    "collapsed": true
   },
   "outputs": [],
   "source": [
    "# months = [\"03\", \"04\", \"05\", \"06\", \"07\", \"08\", \"09\"]\n",
    "months = [\"04\"]"
   ]
  },
  {
   "cell_type": "code",
   "execution_count": 170,
   "metadata": {
    "collapsed": true
   },
   "outputs": [],
   "source": [
    "def clean_delay_to_minutes(sec):\n",
    "    if sec < 0:\n",
    "        return 0.0\n",
    "    else:\n",
    "        return sec/60.0"
   ]
  },
  {
   "cell_type": "code",
   "execution_count": 171,
   "metadata": {
    "collapsed": true
   },
   "outputs": [],
   "source": [
    "def adjust_actual_times(row):\n",
    "    row[\"delay_minutes\"] = clean_delay_to_minutes(row[\"delay_minutes\"])\n",
    "\n",
    "    if row[\"delay_minutes\"] > 700:\n",
    "        \n",
    "        # if delay ~= 1400, parsing error, subtract full day\n",
    "        if row[\"delay_minutes\"] > 1400:\n",
    "            row[\"actual_time\"] = row[\"actual_time\"] - timedelta(hours=24)\n",
    "        \n",
    "        # if delay ~= 720, parsing error, subtract half day\n",
    "        else:\n",
    "            row[\"actual_time\"] = row[\"actual_time\"] - timedelta(hours=12)\n",
    "        \n",
    "        # recompute delay\n",
    "        row[\"delay_minutes\"] = (row[\"actual_time\"] - row[\"scheduled_time\"]).total_seconds()\n",
    "        row[\"delay_minutes\"] = clean_delay_to_minutes(row[\"delay_minutes\"])\n",
    "\n",
    "        return row\n",
    "    \n",
    "    return None"
   ]
  },
  {
   "cell_type": "code",
   "execution_count": 172,
   "metadata": {
    "collapsed": false,
    "scrolled": true
   },
   "outputs": [
    {
     "name": "stdout",
     "output_type": "stream",
     "text": [
      "done reading csv 04\n",
      "done series-wide 04\n",
      "done adjust/clean 04\n",
      "done generating df 04\n"
     ]
    }
   ],
   "source": [
    "for month in months:\n",
    "    \n",
    "    # read in CSVs for month\n",
    "    path = \"/Users/pranav/Documents/development/njtransit/csv/2018_{}\".format(month)\n",
    "    monthFiles = glob.glob(os.path.join(path, \"*.csv\"))\n",
    "    df = pd.concat((pd.read_csv(f) for f in sorted(monthFiles)))\n",
    "    print(\"done reading csv {}\".format(month))\n",
    "    \n",
    "    # series-wide operations\n",
    "    df.columns = [\"train_id\", \"date\", \"stop_sequence\", \"from\", \"from_id\", \"to\", \"to_id\", \"scheduled_time\", \"actual_time\", \"status\", \"line\", \"type\"]\n",
    "    df['scheduled_time'] = pd.to_datetime(df['scheduled_time'])\n",
    "    df['actual_time'] = pd.to_datetime(df['actual_time'])\n",
    "    df['delay_minutes']=(df['actual_time']-df['scheduled_time']).dt.total_seconds()\n",
    "    print(\"done series-wide {}\".format(month))\n",
    "    \n",
    "    # adjust/clean times\n",
    "    df_records = df.to_dict('records')\n",
    "    for idx, record in enumerate(df_records):\n",
    "        record = adjust_actual_times(record)\n",
    "        if record is not None:\n",
    "            df_records[idx] = record\n",
    "    print(\"done adjust/clean {}\".format(month))\n",
    "    \n",
    "    # generate cleaned df\n",
    "    df = pd.DataFrame(df_records)\n",
    "    columns = [\"date\", \"train_id\", \"stop_sequence\", \"from\", \"from_id\", \"to\", \"to_id\", \"scheduled_time\", \"actual_time\", \"delay_minutes\", \"status\", \"line\", \"type\"]\n",
    "    df = df[columns]\n",
    "    df.to_csv(\"/Users/pranav/Documents/development/njtransit/csv/monthly/2018_{}.csv\".format(month), index=False)\n",
    "    print(\"done generating df {}\".format(month))"
   ]
  },
  {
   "cell_type": "code",
   "execution_count": 173,
   "metadata": {
    "collapsed": false
   },
   "outputs": [
    {
     "data": {
      "text/html": [
       "<div>\n",
       "<table border=\"1\" class=\"dataframe\">\n",
       "  <thead>\n",
       "    <tr style=\"text-align: right;\">\n",
       "      <th></th>\n",
       "      <th>date</th>\n",
       "      <th>train_id</th>\n",
       "      <th>stop_sequence</th>\n",
       "      <th>from</th>\n",
       "      <th>from_id</th>\n",
       "      <th>to</th>\n",
       "      <th>to_id</th>\n",
       "      <th>scheduled_time</th>\n",
       "      <th>actual_time</th>\n",
       "      <th>delay_minutes</th>\n",
       "      <th>status</th>\n",
       "      <th>line</th>\n",
       "      <th>type</th>\n",
       "    </tr>\n",
       "  </thead>\n",
       "  <tbody>\n",
       "    <tr>\n",
       "      <th>0</th>\n",
       "      <td>2018-04-01</td>\n",
       "      <td>7837</td>\n",
       "      <td>1.0</td>\n",
       "      <td>New York Penn Station</td>\n",
       "      <td>105</td>\n",
       "      <td>New York Penn Station</td>\n",
       "      <td>105</td>\n",
       "      <td>2018-04-01 11:14:00</td>\n",
       "      <td>2018-04-01 11:14:10</td>\n",
       "      <td>0.166667</td>\n",
       "      <td>departed</td>\n",
       "      <td>Northeast Corrdr</td>\n",
       "      <td>NJ Transit</td>\n",
       "    </tr>\n",
       "    <tr>\n",
       "      <th>1</th>\n",
       "      <td>2018-04-01</td>\n",
       "      <td>7837</td>\n",
       "      <td>2.0</td>\n",
       "      <td>New York Penn Station</td>\n",
       "      <td>105</td>\n",
       "      <td>Secaucus Upper Lvl</td>\n",
       "      <td>38187</td>\n",
       "      <td>2018-04-01 11:23:00</td>\n",
       "      <td>2018-04-01 11:26:05</td>\n",
       "      <td>3.083333</td>\n",
       "      <td>departed</td>\n",
       "      <td>Northeast Corrdr</td>\n",
       "      <td>NJ Transit</td>\n",
       "    </tr>\n",
       "    <tr>\n",
       "      <th>2</th>\n",
       "      <td>2018-04-01</td>\n",
       "      <td>7837</td>\n",
       "      <td>3.0</td>\n",
       "      <td>Secaucus Upper Lvl</td>\n",
       "      <td>38187</td>\n",
       "      <td>Newark Penn Station</td>\n",
       "      <td>107</td>\n",
       "      <td>2018-04-01 11:32:00</td>\n",
       "      <td>2018-04-01 11:36:07</td>\n",
       "      <td>4.116667</td>\n",
       "      <td>departed</td>\n",
       "      <td>Northeast Corrdr</td>\n",
       "      <td>NJ Transit</td>\n",
       "    </tr>\n",
       "    <tr>\n",
       "      <th>3</th>\n",
       "      <td>2018-04-01</td>\n",
       "      <td>7837</td>\n",
       "      <td>4.0</td>\n",
       "      <td>Newark Penn Station</td>\n",
       "      <td>107</td>\n",
       "      <td>Newark Airport</td>\n",
       "      <td>37953</td>\n",
       "      <td>2018-04-01 11:37:00</td>\n",
       "      <td>2018-04-01 11:40:08</td>\n",
       "      <td>3.133333</td>\n",
       "      <td>departed</td>\n",
       "      <td>Northeast Corrdr</td>\n",
       "      <td>NJ Transit</td>\n",
       "    </tr>\n",
       "    <tr>\n",
       "      <th>4</th>\n",
       "      <td>2018-04-01</td>\n",
       "      <td>7837</td>\n",
       "      <td>5.0</td>\n",
       "      <td>Newark Airport</td>\n",
       "      <td>37953</td>\n",
       "      <td>Elizabeth</td>\n",
       "      <td>41</td>\n",
       "      <td>2018-04-01 11:42:00</td>\n",
       "      <td>2018-04-01 11:46:04</td>\n",
       "      <td>4.066667</td>\n",
       "      <td>departed</td>\n",
       "      <td>Northeast Corrdr</td>\n",
       "      <td>NJ Transit</td>\n",
       "    </tr>\n",
       "  </tbody>\n",
       "</table>\n",
       "</div>"
      ],
      "text/plain": [
       "         date train_id  stop_sequence                   from  from_id  \\\n",
       "0  2018-04-01     7837            1.0  New York Penn Station      105   \n",
       "1  2018-04-01     7837            2.0  New York Penn Station      105   \n",
       "2  2018-04-01     7837            3.0     Secaucus Upper Lvl    38187   \n",
       "3  2018-04-01     7837            4.0    Newark Penn Station      107   \n",
       "4  2018-04-01     7837            5.0         Newark Airport    37953   \n",
       "\n",
       "                      to  to_id      scheduled_time         actual_time  \\\n",
       "0  New York Penn Station    105 2018-04-01 11:14:00 2018-04-01 11:14:10   \n",
       "1     Secaucus Upper Lvl  38187 2018-04-01 11:23:00 2018-04-01 11:26:05   \n",
       "2    Newark Penn Station    107 2018-04-01 11:32:00 2018-04-01 11:36:07   \n",
       "3         Newark Airport  37953 2018-04-01 11:37:00 2018-04-01 11:40:08   \n",
       "4              Elizabeth     41 2018-04-01 11:42:00 2018-04-01 11:46:04   \n",
       "\n",
       "   delay_minutes    status              line        type  \n",
       "0       0.166667  departed  Northeast Corrdr  NJ Transit  \n",
       "1       3.083333  departed  Northeast Corrdr  NJ Transit  \n",
       "2       4.116667  departed  Northeast Corrdr  NJ Transit  \n",
       "3       3.133333  departed  Northeast Corrdr  NJ Transit  \n",
       "4       4.066667  departed  Northeast Corrdr  NJ Transit  "
      ]
     },
     "execution_count": 173,
     "metadata": {},
     "output_type": "execute_result"
    }
   ],
   "source": [
    "df.head()"
   ]
  }
 ],
 "metadata": {
  "anaconda-cloud": {},
  "kernelspec": {
   "display_name": "Python [Root]",
   "language": "python",
   "name": "Python [Root]"
  },
  "language_info": {
   "codemirror_mode": {
    "name": "ipython",
    "version": 2
   },
   "file_extension": ".py",
   "mimetype": "text/x-python",
   "name": "python",
   "nbconvert_exporter": "python",
   "pygments_lexer": "ipython2",
   "version": "2.7.12"
  }
 },
 "nbformat": 4,
 "nbformat_minor": 2
}
