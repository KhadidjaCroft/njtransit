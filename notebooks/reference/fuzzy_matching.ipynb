{
 "cells": [
  {
   "cell_type": "code",
   "execution_count": 89,
   "metadata": {
    "collapsed": true
   },
   "outputs": [],
   "source": [
    "from fuzzywuzzy import fuzz, process"
   ]
  },
  {
   "cell_type": "code",
   "execution_count": 90,
   "metadata": {
    "collapsed": true
   },
   "outputs": [],
   "source": [
    "import json"
   ]
  },
  {
   "cell_type": "code",
   "execution_count": 91,
   "metadata": {
    "collapsed": true
   },
   "outputs": [],
   "source": [
    "from transit_parser import *"
   ]
  },
  {
   "cell_type": "code",
   "execution_count": 92,
   "metadata": {
    "collapsed": true
   },
   "outputs": [],
   "source": [
    "stops_df = pd.read_csv(RAIL_DATA + '/stops.txt')"
   ]
  },
  {
   "cell_type": "code",
   "execution_count": 93,
   "metadata": {
    "collapsed": true
   },
   "outputs": [],
   "source": [
    "stops_df = stops_df[~stops_df['stop_name'].str.contains(\"LIGHT RAIL\")]"
   ]
  },
  {
   "cell_type": "code",
   "execution_count": 94,
   "metadata": {
    "collapsed": false
   },
   "outputs": [],
   "source": [
    "stops_dict = stops_df[['stop_id', 'stop_name']].set_index('stop_name').T.to_dict('list')"
   ]
  },
  {
   "cell_type": "code",
   "execution_count": 95,
   "metadata": {
    "collapsed": false
   },
   "outputs": [],
   "source": [
    "stops_dict = dict((k.lower(), v) for k,v in stops_dict.iteritems())"
   ]
  },
  {
   "cell_type": "code",
   "execution_count": 96,
   "metadata": {
    "collapsed": false
   },
   "outputs": [],
   "source": [
    "stops_list = list(stops_df['stop_name'])"
   ]
  },
  {
   "cell_type": "code",
   "execution_count": 97,
   "metadata": {
    "collapsed": false
   },
   "outputs": [],
   "source": [
    "stops_list = [s.lower() for s in stops_list]"
   ]
  },
  {
   "cell_type": "code",
   "execution_count": 98,
   "metadata": {
    "collapsed": true
   },
   "outputs": [],
   "source": [
    "t = TrainParser('./scraped_data/2018_02_09/2018_02_09_3961')"
   ]
  },
  {
   "cell_type": "code",
   "execution_count": 99,
   "metadata": {
    "collapsed": true
   },
   "outputs": [],
   "source": [
    "t_stops = t.get_stop_times()"
   ]
  },
  {
   "cell_type": "code",
   "execution_count": 100,
   "metadata": {
    "collapsed": true
   },
   "outputs": [],
   "source": [
    "t_rows = t.get_rows(t_stops)"
   ]
  },
  {
   "cell_type": "code",
   "execution_count": 101,
   "metadata": {
    "collapsed": false
   },
   "outputs": [
    {
     "data": {
      "text/plain": [
       "[{'station': u'New York Penn Station',\n",
       "  'status': 'Departed',\n",
       "  'time': u'2018-02-09 18:39:07.970835'},\n",
       " {'station': u'Secaucus Concourse',\n",
       "  'status': 'Departed',\n",
       "  'time': u'2018-02-09 18:47:05.137277'},\n",
       " {'station': u'Newark Penn Station',\n",
       "  'status': 'Departed',\n",
       "  'time': u'2018-02-09 19:05:16.479151'},\n",
       " {'station': u'Newark Airport',\n",
       "  'status': 'Departed',\n",
       "  'time': u'2018-02-09 19:17:07.282859'},\n",
       " {'station': u'New Brunswick',\n",
       "  'status': 'Departed',\n",
       "  'time': u'2018-02-09 19:29:05.788174'},\n",
       " {'station': u'Jersey Avenue',\n",
       "  'status': 'Departed',\n",
       "  'time': u'2018-02-09 19:33:08.486474'},\n",
       " {'station': u'Princeton Junction',\n",
       "  'status': 'Departed',\n",
       "  'time': u'2018-02-09 19:47:05.412448'},\n",
       " {'station': u'Hamilton',\n",
       "  'status': 'Departed',\n",
       "  'time': u'2018-02-09 19:54:03.523446'},\n",
       " {'station': u'Trenton', 'status': 'Departed', 'time': '2018-02-09 20:05:00'}]"
      ]
     },
     "execution_count": 101,
     "metadata": {},
     "output_type": "execute_result"
    }
   ],
   "source": [
    "t_stops"
   ]
  },
  {
   "cell_type": "code",
   "execution_count": 102,
   "metadata": {
    "collapsed": false,
    "scrolled": false
   },
   "outputs": [
    {
     "data": {
      "text/plain": [
       "{'aberdeen-matawan': [37169],\n",
       " 'absecon': [2],\n",
       " 'allendale': [3],\n",
       " 'allenhurst': [4],\n",
       " 'anderson street': [5],\n",
       " 'annandale': [6],\n",
       " 'asbury park': [8],\n",
       " 'atco': [9],\n",
       " 'atlantic city': [10],\n",
       " 'avenel': [11],\n",
       " 'basking ridge': [12],\n",
       " 'bay head': [13],\n",
       " 'bay street': [14],\n",
       " 'belmar': [15],\n",
       " 'bergenline ave': [38578],\n",
       " 'berkeley heights': [17],\n",
       " 'bernardsville': [18],\n",
       " 'bloomfield': [19],\n",
       " 'boonton': [20],\n",
       " 'bound brook': [21],\n",
       " 'bradley beach': [22],\n",
       " 'brick church': [23],\n",
       " 'bridgewater': [24],\n",
       " 'broadway': [25],\n",
       " 'campbell hall': [26],\n",
       " 'chatham': [27],\n",
       " 'cherry hill': [28],\n",
       " 'clifton': [29],\n",
       " 'convent': [30],\n",
       " 'cranford': [32],\n",
       " 'delawanna': [33],\n",
       " 'denville': [34],\n",
       " 'dover': [35],\n",
       " 'dunellen': [36],\n",
       " 'east orange': [37],\n",
       " 'edison station': [38],\n",
       " 'egg harbor': [39],\n",
       " 'elberon': [40],\n",
       " 'elizabeth': [41],\n",
       " 'emerson': [42],\n",
       " 'essex street': [43],\n",
       " 'fanwood': [44],\n",
       " 'far hills': [45],\n",
       " 'garfield': [46],\n",
       " 'garwood': [47],\n",
       " 'gillette': [48],\n",
       " 'gladstone': [49],\n",
       " 'glen ridge': [50],\n",
       " 'glen rock boro hall': [51],\n",
       " 'glen rock main line': [52],\n",
       " 'hackettstown': [54],\n",
       " 'hamilton': [32905],\n",
       " 'hammonton': [55],\n",
       " 'harriman': [57],\n",
       " 'hawthorne': [58],\n",
       " 'hazlet': [59],\n",
       " 'high bridge': [60],\n",
       " 'highland avenue': [61],\n",
       " 'hillsdale': [62],\n",
       " 'hoboken': [63],\n",
       " 'hohokus': [64],\n",
       " 'jersey ave.': [32906],\n",
       " 'kingsland': [66],\n",
       " 'lake hopatcong': [67],\n",
       " 'lebanon': [68],\n",
       " 'lincoln park': [69],\n",
       " 'linden': [70],\n",
       " 'lindenwold': [71],\n",
       " 'little falls': [72],\n",
       " 'little silver': [73],\n",
       " 'long branch': [74],\n",
       " 'lyndhurst': [75],\n",
       " 'lyons': [76],\n",
       " 'madison': [77],\n",
       " 'mahwah': [78],\n",
       " 'manasquan': [79],\n",
       " 'maplewood': [81],\n",
       " 'meadowlands sports complex station': [40570],\n",
       " 'metropark': [83],\n",
       " 'metuchen': [84],\n",
       " 'middletown nj': [85],\n",
       " 'middletown ny': [86],\n",
       " 'millburn': [87],\n",
       " 'millington': [88],\n",
       " 'montclair heights': [89],\n",
       " 'montclair state u': [38081],\n",
       " 'montvale': [90],\n",
       " 'morris plains': [91],\n",
       " 'morristown': [92],\n",
       " 'mount arlington': [39472],\n",
       " 'mount olive': [93],\n",
       " 'mount tabor': [94],\n",
       " 'mountain avenue': [95],\n",
       " 'mountain lakes': [96],\n",
       " 'mountain station': [97],\n",
       " 'mountain view': [98],\n",
       " 'murray hill': [99],\n",
       " 'nanuet': [100],\n",
       " 'netcong': [101],\n",
       " 'netherwood': [102],\n",
       " 'new bridge landing': [110],\n",
       " 'new brunswick': [103],\n",
       " 'new providence': [104],\n",
       " 'new york penn station': [105],\n",
       " 'newark airport railroad station': [37953],\n",
       " 'newark broad st': [106],\n",
       " 'newark penn station': [107],\n",
       " 'north branch': [108],\n",
       " 'north elizabeth': [109],\n",
       " 'oradell': [111],\n",
       " 'orange': [112],\n",
       " 'otisville': [113],\n",
       " 'park ridge': [114],\n",
       " 'passaic': [115],\n",
       " 'paterson': [116],\n",
       " 'peapack': [117],\n",
       " 'pearl river': [118],\n",
       " 'pennsauken transit center': [43298],\n",
       " 'perth amboy': [119],\n",
       " 'philadelphia': [1],\n",
       " 'plainfield': [120],\n",
       " 'plauderville': [121],\n",
       " 'point pleasant': [122],\n",
       " 'port imperial hblr station': [9878],\n",
       " 'port jervis': [123],\n",
       " 'princeton': [124],\n",
       " 'princeton junction': [125],\n",
       " 'radburn': [126],\n",
       " 'rahway': [127],\n",
       " 'ramsey main st': [128],\n",
       " 'ramsey route 17 station': [38417],\n",
       " 'raritan': [129],\n",
       " 'red bank': [130],\n",
       " 'ridgewood': [131],\n",
       " 'river edge': [132],\n",
       " 'roselle park': [31],\n",
       " 'rutherford': [134],\n",
       " 'salisbury mills-cornwall': [135],\n",
       " 'secaucus lower level': [38174],\n",
       " 'secaucus upper level': [38187],\n",
       " 'short hills': [136],\n",
       " 'sloatsburg': [137],\n",
       " 'somerville': [138],\n",
       " 'south amboy': [139],\n",
       " 'south orange': [140],\n",
       " 'spring lake': [141],\n",
       " 'spring valley': [142],\n",
       " 'stirling': [143],\n",
       " 'suffern': [144],\n",
       " 'summit': [145],\n",
       " 'teterboro': [146],\n",
       " 'towaco': [147],\n",
       " 'trenton transit center': [148],\n",
       " 'tuxedo': [149],\n",
       " 'union': [38105],\n",
       " 'upper montclair': [150],\n",
       " 'waldwick': [151],\n",
       " 'walnut street': [152],\n",
       " 'walter rand transportation ctr': [38307],\n",
       " 'watchung avenue': [153],\n",
       " 'watsessing avenue': [154],\n",
       " 'wayne/route 23 transit center [rr]': [39635],\n",
       " 'wesmont': [43599],\n",
       " 'westfield': [155],\n",
       " 'westwood': [156],\n",
       " 'white house': [157],\n",
       " 'wood-ridge': [160],\n",
       " 'woodbridge': [158],\n",
       " 'woodcliff lake': [159]}"
      ]
     },
     "execution_count": 102,
     "metadata": {},
     "output_type": "execute_result"
    }
   ],
   "source": [
    "stops_dict"
   ]
  },
  {
   "cell_type": "code",
   "execution_count": 129,
   "metadata": {
    "collapsed": true
   },
   "outputs": [],
   "source": [
    "def get_station_match(station):\n",
    "    match = process.extract(station.lower(), stops_list, limit=1, scorer=fuzz.ratio)\n",
    "    if match[0][1] > 77:\n",
    "        return match\n",
    "    else:\n",
    "        match = process.extract(station.lower(), stops_list, limit=1, scorer=fuzz.partial_ratio)\n",
    "    if match[0][1] > 77:\n",
    "        return match[0][0]\n",
    "    return None"
   ]
  },
  {
   "cell_type": "code",
   "execution_count": 130,
   "metadata": {
    "collapsed": false
   },
   "outputs": [
    {
     "data": {
      "text/plain": [
       "[('princeton junction', 100)]"
      ]
     },
     "execution_count": 130,
     "metadata": {},
     "output_type": "execute_result"
    }
   ],
   "source": [
    "get_station_match(\"princeton junction\")"
   ]
  },
  {
   "cell_type": "code",
   "execution_count": 132,
   "metadata": {
    "collapsed": false
   },
   "outputs": [],
   "source": [
    "test = {}\n",
    "for station in ALL_STATIONS:\n",
    "    match = get_station_match(station)\n",
    "    if match is not None:\n",
    "        test[station] = stops_dict[match[0][0]][0]\n",
    "    else:\n",
    "        test[station] = None"
   ]
  },
  {
   "cell_type": "code",
   "execution_count": 133,
   "metadata": {
    "collapsed": false
   },
   "outputs": [
    {
     "data": {
      "text/plain": [
       "{'Aberdeen-Matawan': 37169,\n",
       " 'Absecon': 2,\n",
       " 'Allendale': 3,\n",
       " 'Allenhurst': 4,\n",
       " 'Anderson Street': 5,\n",
       " 'Annandale': 6,\n",
       " 'Asbury Park': 8,\n",
       " 'Atco': 9,\n",
       " 'Atlantic City Rail Terminal': 10,\n",
       " 'Avenel': 11,\n",
       " 'Basking Ridge': 12,\n",
       " 'Bay Head': 13,\n",
       " 'Bay Street': 14,\n",
       " 'Belmar': 15,\n",
       " 'Berkeley Heights': 17,\n",
       " 'Bernardsville': 18,\n",
       " 'Bloomfield': 19,\n",
       " 'Boonton': 20,\n",
       " 'Bound Brook': 21,\n",
       " 'Bradley Beach': 22,\n",
       " 'Brick Church': 23,\n",
       " 'Bridgewater': 24,\n",
       " 'Broadway Fair Lawn': 25,\n",
       " 'Campbell Hall': 26,\n",
       " 'Chatham': 27,\n",
       " 'Cherry Hill': 28,\n",
       " 'Clifton': 29,\n",
       " 'Convent Station': 30,\n",
       " 'Cranford': 32,\n",
       " 'Delawanna': 33,\n",
       " 'Denville': 34,\n",
       " 'Dover': 35,\n",
       " 'Dunellen': 36,\n",
       " 'East Orange': 37,\n",
       " 'Edison': 38,\n",
       " 'Egg Harbor City': 39,\n",
       " 'Elberon': 40,\n",
       " 'Elizabeth': 41,\n",
       " 'Emerson': 42,\n",
       " 'Essex Street': 43,\n",
       " 'Fanwood': 44,\n",
       " 'Far Hills': 45,\n",
       " 'Garfield': 46,\n",
       " 'Garwood': 47,\n",
       " 'Gillette': 48,\n",
       " 'Gladstone': 49,\n",
       " 'Glen Ridge': 50,\n",
       " 'Glen Rock Boro Hall': 51,\n",
       " 'Glen Rock Main Line': 52,\n",
       " 'Hackettstown': 54,\n",
       " 'Hamilton': 32905,\n",
       " 'Hammonton': 55,\n",
       " 'Harriman': 57,\n",
       " 'Hawthorne': 58,\n",
       " 'Hazlet': 59,\n",
       " 'High Bridge': 60,\n",
       " 'Highland Avenue': 61,\n",
       " 'Hillsdale': 62,\n",
       " 'Ho-Ho-Kus': 64,\n",
       " 'Hoboken': 63,\n",
       " 'Jersey Avenue': 32906,\n",
       " 'Kingsland': 66,\n",
       " 'Lake Hopatcong': 67,\n",
       " 'Lebanon': 68,\n",
       " 'Lincoln Park': 69,\n",
       " 'Linden': 70,\n",
       " 'Lindenwold': 71,\n",
       " 'Little Falls': 72,\n",
       " 'Little Silver': 73,\n",
       " 'Long Branch': 74,\n",
       " 'Lyndhurst': 75,\n",
       " 'Lyons': 76,\n",
       " 'Madison': 77,\n",
       " 'Mahwah': 78,\n",
       " 'Manasquan': 79,\n",
       " 'Maplewood': 81,\n",
       " 'Meadowlands Sports Complex': 40570,\n",
       " 'Metropark': 83,\n",
       " 'Metuchen': 84,\n",
       " 'Middletown NJ': 85,\n",
       " 'Middletown NY': 86,\n",
       " 'Millburn': 87,\n",
       " 'Millington': 88,\n",
       " 'Monmouth Park': None,\n",
       " 'Montclair Heights': 89,\n",
       " 'Montclair State U': 38081,\n",
       " 'Montvale': 90,\n",
       " 'Morris Plains': 91,\n",
       " 'Morristown': 92,\n",
       " 'Mount Arlington': 39472,\n",
       " 'Mount Olive': 93,\n",
       " 'Mount Tabor': 94,\n",
       " 'Mountain Avenue': 95,\n",
       " 'Mountain Lakes': 96,\n",
       " 'Mountain Station': 97,\n",
       " 'Mountain View': 98,\n",
       " 'Murray Hill': 99,\n",
       " 'Nanuet': 100,\n",
       " 'Netcong': 101,\n",
       " 'Netherwood': 102,\n",
       " 'New Bridge Landing': 110,\n",
       " 'New Brunswick': 103,\n",
       " 'New Providence': 104,\n",
       " 'New York Penn Station': 105,\n",
       " 'Newark Airport': 37953,\n",
       " 'Newark Broad Street': 106,\n",
       " 'Newark Penn Station': 107,\n",
       " 'North Branch': 108,\n",
       " 'North Elizabeth': 109,\n",
       " 'Oradell': 111,\n",
       " 'Orange': 112,\n",
       " 'Otisville': 113,\n",
       " 'Park Ridge': 114,\n",
       " 'Passaic': 115,\n",
       " 'Paterson': 116,\n",
       " 'Peapack': 117,\n",
       " 'Pearl River': 118,\n",
       " 'Pennsauken': 43298,\n",
       " 'Perth Amboy': 119,\n",
       " 'Philadelphia': 1,\n",
       " 'Plainfield': 120,\n",
       " 'Plauderville': 121,\n",
       " 'Point Pleasant Beach': 122,\n",
       " 'Port Jervis': 123,\n",
       " 'Princeton': 124,\n",
       " 'Princeton Junction': 125,\n",
       " 'Radburn Fair Lawn': 126,\n",
       " 'Rahway': 127,\n",
       " 'Ramsey Main St': 128,\n",
       " 'Ramsey Route 17': 38417,\n",
       " 'Raritan': 129,\n",
       " 'Red Bank': 130,\n",
       " 'Ridgewood': 131,\n",
       " 'River Edge': 132,\n",
       " 'Roselle Park': 31,\n",
       " 'Rutherford': 134,\n",
       " 'Salisbury Mills-Cornwall': 135,\n",
       " 'Secaucus Concourse': None,\n",
       " 'Secaucus Lower Lvl': 38174,\n",
       " 'Secaucus Upper Lvl': 38187,\n",
       " 'Short Hills': 136,\n",
       " 'Sloatsburg': 137,\n",
       " 'Somerville': 138,\n",
       " 'South Amboy': 139,\n",
       " 'South Orange': 140,\n",
       " 'Spring Lake': 141,\n",
       " 'Spring Valley': 142,\n",
       " 'Stirling': 143,\n",
       " 'Suffern': 144,\n",
       " 'Summit': 145,\n",
       " 'Teterboro': 146,\n",
       " 'Towaco': 147,\n",
       " 'Trenton': 148,\n",
       " 'Tuxedo': 149,\n",
       " 'Union': 38105,\n",
       " 'Upper Montclair': 150,\n",
       " 'Waldwick': 151,\n",
       " 'Walnut Street': 152,\n",
       " 'Watchung Avenue': 153,\n",
       " 'Watsessing Avenue': 154,\n",
       " 'Wayne-Route 23': 39635,\n",
       " 'Wesmont': 43599,\n",
       " 'Westfield': 155,\n",
       " 'Westwood': 156,\n",
       " 'White House': 157,\n",
       " 'Wood Ridge': 160,\n",
       " 'Woodbridge': 158,\n",
       " 'Woodcliff Lake': 159}"
      ]
     },
     "execution_count": 133,
     "metadata": {},
     "output_type": "execute_result"
    }
   ],
   "source": [
    "test"
   ]
  },
  {
   "cell_type": "code",
   "execution_count": 134,
   "metadata": {
    "collapsed": true
   },
   "outputs": [],
   "source": [
    "with open('rail_data/rail_stations', 'w') as outfile:\n",
    "    json.dump(test, outfile)"
   ]
  }
 ],
 "metadata": {
  "anaconda-cloud": {},
  "kernelspec": {
   "display_name": "Python [Root]",
   "language": "python",
   "name": "Python [Root]"
  },
  "language_info": {
   "codemirror_mode": {
    "name": "ipython",
    "version": 2
   },
   "file_extension": ".py",
   "mimetype": "text/x-python",
   "name": "python",
   "nbconvert_exporter": "python",
   "pygments_lexer": "ipython2",
   "version": "2.7.12"
  }
 },
 "nbformat": 4,
 "nbformat_minor": 2
}
