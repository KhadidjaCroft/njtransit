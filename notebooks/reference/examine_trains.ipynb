{
 "cells": [
  {
   "cell_type": "code",
   "execution_count": 1,
   "metadata": {
    "collapsed": true
   },
   "outputs": [],
   "source": [
    "%matplotlib inline"
   ]
  },
  {
   "cell_type": "code",
   "execution_count": 2,
   "metadata": {
    "collapsed": true
   },
   "outputs": [],
   "source": [
    "from matplotlib import dates\n"
   ]
  },
  {
   "cell_type": "code",
   "execution_count": 3,
   "metadata": {
    "collapsed": true
   },
   "outputs": [],
   "source": [
    "from transit_parser import *"
   ]
  },
  {
   "cell_type": "code",
   "execution_count": 4,
   "metadata": {
    "collapsed": true
   },
   "outputs": [],
   "source": [
    "TEST = './test/'\n",
    "TRAINS = './trains/'\n",
    "def examine_train(filename, folder=TEST):\n",
    "    train_name = folder + filename\n",
    "    t = TrainParser(train_name)\n",
    "    times = t.get_stop_times()\n",
    "    rows = t.get_rows(times)\n",
    "    df = t.get_df(rows)\n",
    "    performance = t.join_schedule(df)\n",
    "    print t.is_valid(performance)\n",
    "    return performance[['from', 'to','status', 'time', 'expected','train_id', 'line']]"
   ]
  },
  {
   "cell_type": "code",
   "execution_count": 5,
   "metadata": {
    "collapsed": false
   },
   "outputs": [
    {
     "name": "stdout",
     "output_type": "stream",
     "text": [
      "height has been deprecated.\n",
      "\n"
     ]
    }
   ],
   "source": [
    "pd.set_option('display.height', 100)"
   ]
  },
  {
   "cell_type": "markdown",
   "metadata": {},
   "source": [
    "## NJ Transit "
   ]
  },
  {
   "cell_type": "code",
   "execution_count": 21,
   "metadata": {
    "collapsed": false
   },
   "outputs": [
    {
     "name": "stdout",
     "output_type": "stream",
     "text": [
      "True\n"
     ]
    }
   ],
   "source": [
    "df = examine_train('2018_03_02_3861', TEST)\n"
   ]
  },
  {
   "cell_type": "code",
   "execution_count": 22,
   "metadata": {
    "collapsed": false
   },
   "outputs": [
    {
     "data": {
      "text/html": [
       "<div>\n",
       "<table border=\"1\" class=\"dataframe\">\n",
       "  <thead>\n",
       "    <tr style=\"text-align: right;\">\n",
       "      <th></th>\n",
       "      <th>from</th>\n",
       "      <th>to</th>\n",
       "      <th>status</th>\n",
       "      <th>time</th>\n",
       "      <th>expected</th>\n",
       "      <th>train_id</th>\n",
       "      <th>line</th>\n",
       "    </tr>\n",
       "  </thead>\n",
       "  <tbody>\n",
       "    <tr>\n",
       "      <th>0</th>\n",
       "      <td>New York Penn Station</td>\n",
       "      <td>New York Penn Station</td>\n",
       "      <td>Departed</td>\n",
       "      <td>2018-03-02 16:29:12</td>\n",
       "      <td>2018-03-02 16:29:00</td>\n",
       "      <td>3861</td>\n",
       "      <td>Northeast Corrdr</td>\n",
       "    </tr>\n",
       "    <tr>\n",
       "      <th>1</th>\n",
       "      <td>New York Penn Station</td>\n",
       "      <td>Secaucus Upper Lvl</td>\n",
       "      <td>Departed</td>\n",
       "      <td>2018-03-02 16:50:17</td>\n",
       "      <td>2018-03-02 16:38:00</td>\n",
       "      <td>3861</td>\n",
       "      <td>Northeast Corrdr</td>\n",
       "    </tr>\n",
       "    <tr>\n",
       "      <th>2</th>\n",
       "      <td>Secaucus Upper Lvl</td>\n",
       "      <td>Newark Penn Station</td>\n",
       "      <td>Departed</td>\n",
       "      <td>2018-03-02 17:44:29</td>\n",
       "      <td>2018-03-02 16:50:00</td>\n",
       "      <td>3861</td>\n",
       "      <td>Northeast Corrdr</td>\n",
       "    </tr>\n",
       "    <tr>\n",
       "      <th>3</th>\n",
       "      <td>Newark Penn Station</td>\n",
       "      <td>Newark Airport</td>\n",
       "      <td>Departed</td>\n",
       "      <td>2018-03-02 17:59:23</td>\n",
       "      <td>2018-03-02 16:56:00</td>\n",
       "      <td>3861</td>\n",
       "      <td>Northeast Corrdr</td>\n",
       "    </tr>\n",
       "    <tr>\n",
       "      <th>4</th>\n",
       "      <td>Newark Airport</td>\n",
       "      <td>North Elizabeth</td>\n",
       "      <td>Departed</td>\n",
       "      <td>2018-03-02 18:27:25</td>\n",
       "      <td>2018-03-02 16:59:00</td>\n",
       "      <td>3861</td>\n",
       "      <td>Northeast Corrdr</td>\n",
       "    </tr>\n",
       "    <tr>\n",
       "      <th>5</th>\n",
       "      <td>North Elizabeth</td>\n",
       "      <td>Elizabeth</td>\n",
       "      <td>None</td>\n",
       "      <td>2018-03-02 18:28:00</td>\n",
       "      <td>2018-03-02 17:02:00</td>\n",
       "      <td>3861</td>\n",
       "      <td>Northeast Corrdr</td>\n",
       "    </tr>\n",
       "    <tr>\n",
       "      <th>6</th>\n",
       "      <td>Elizabeth</td>\n",
       "      <td>Linden</td>\n",
       "      <td>None</td>\n",
       "      <td>2018-03-02 18:32:00</td>\n",
       "      <td>2018-03-02 17:07:00</td>\n",
       "      <td>3861</td>\n",
       "      <td>Northeast Corrdr</td>\n",
       "    </tr>\n",
       "    <tr>\n",
       "      <th>7</th>\n",
       "      <td>Linden</td>\n",
       "      <td>Rahway</td>\n",
       "      <td>None</td>\n",
       "      <td>2018-03-02 18:36:00</td>\n",
       "      <td>2018-03-02 17:11:00</td>\n",
       "      <td>3861</td>\n",
       "      <td>Northeast Corrdr</td>\n",
       "    </tr>\n",
       "    <tr>\n",
       "      <th>8</th>\n",
       "      <td>Rahway</td>\n",
       "      <td>Metropark</td>\n",
       "      <td>None</td>\n",
       "      <td>2018-03-02 18:41:00</td>\n",
       "      <td>2018-03-02 17:16:00</td>\n",
       "      <td>3861</td>\n",
       "      <td>Northeast Corrdr</td>\n",
       "    </tr>\n",
       "    <tr>\n",
       "      <th>9</th>\n",
       "      <td>Metropark</td>\n",
       "      <td>Metuchen</td>\n",
       "      <td>None</td>\n",
       "      <td>2018-03-02 18:46:00</td>\n",
       "      <td>2018-03-02 17:21:00</td>\n",
       "      <td>3861</td>\n",
       "      <td>Northeast Corrdr</td>\n",
       "    </tr>\n",
       "    <tr>\n",
       "      <th>10</th>\n",
       "      <td>Metuchen</td>\n",
       "      <td>Edison</td>\n",
       "      <td>None</td>\n",
       "      <td>2018-03-02 18:50:00</td>\n",
       "      <td>2018-03-02 17:25:00</td>\n",
       "      <td>3861</td>\n",
       "      <td>Northeast Corrdr</td>\n",
       "    </tr>\n",
       "    <tr>\n",
       "      <th>11</th>\n",
       "      <td>Edison</td>\n",
       "      <td>New Brunswick</td>\n",
       "      <td>None</td>\n",
       "      <td>2018-03-02 18:54:00</td>\n",
       "      <td>2018-03-02 17:29:00</td>\n",
       "      <td>3861</td>\n",
       "      <td>Northeast Corrdr</td>\n",
       "    </tr>\n",
       "    <tr>\n",
       "      <th>12</th>\n",
       "      <td>New Brunswick</td>\n",
       "      <td>Princeton Junction</td>\n",
       "      <td>None</td>\n",
       "      <td>2018-03-02 19:09:00</td>\n",
       "      <td>2018-03-02 17:45:00</td>\n",
       "      <td>3861</td>\n",
       "      <td>Northeast Corrdr</td>\n",
       "    </tr>\n",
       "    <tr>\n",
       "      <th>13</th>\n",
       "      <td>Princeton Junction</td>\n",
       "      <td>Hamilton</td>\n",
       "      <td>None</td>\n",
       "      <td>2018-03-02 19:17:00</td>\n",
       "      <td>2018-03-02 17:52:00</td>\n",
       "      <td>3861</td>\n",
       "      <td>Northeast Corrdr</td>\n",
       "    </tr>\n",
       "    <tr>\n",
       "      <th>14</th>\n",
       "      <td>Hamilton</td>\n",
       "      <td>Trenton</td>\n",
       "      <td>None</td>\n",
       "      <td>2018-03-02 19:29:00</td>\n",
       "      <td>2018-03-02 18:03:00</td>\n",
       "      <td>3861</td>\n",
       "      <td>Northeast Corrdr</td>\n",
       "    </tr>\n",
       "  </tbody>\n",
       "</table>\n",
       "</div>"
      ],
      "text/plain": [
       "                     from                     to    status  \\\n",
       "0   New York Penn Station  New York Penn Station  Departed   \n",
       "1   New York Penn Station     Secaucus Upper Lvl  Departed   \n",
       "2      Secaucus Upper Lvl    Newark Penn Station  Departed   \n",
       "3     Newark Penn Station         Newark Airport  Departed   \n",
       "4          Newark Airport        North Elizabeth  Departed   \n",
       "5         North Elizabeth              Elizabeth      None   \n",
       "6               Elizabeth                 Linden      None   \n",
       "7                  Linden                 Rahway      None   \n",
       "8                  Rahway              Metropark      None   \n",
       "9               Metropark               Metuchen      None   \n",
       "10               Metuchen                 Edison      None   \n",
       "11                 Edison          New Brunswick      None   \n",
       "12          New Brunswick     Princeton Junction      None   \n",
       "13     Princeton Junction               Hamilton      None   \n",
       "14               Hamilton                Trenton      None   \n",
       "\n",
       "                   time             expected train_id              line  \n",
       "0   2018-03-02 16:29:12  2018-03-02 16:29:00     3861  Northeast Corrdr  \n",
       "1   2018-03-02 16:50:17  2018-03-02 16:38:00     3861  Northeast Corrdr  \n",
       "2   2018-03-02 17:44:29  2018-03-02 16:50:00     3861  Northeast Corrdr  \n",
       "3   2018-03-02 17:59:23  2018-03-02 16:56:00     3861  Northeast Corrdr  \n",
       "4   2018-03-02 18:27:25  2018-03-02 16:59:00     3861  Northeast Corrdr  \n",
       "5   2018-03-02 18:28:00  2018-03-02 17:02:00     3861  Northeast Corrdr  \n",
       "6   2018-03-02 18:32:00  2018-03-02 17:07:00     3861  Northeast Corrdr  \n",
       "7   2018-03-02 18:36:00  2018-03-02 17:11:00     3861  Northeast Corrdr  \n",
       "8   2018-03-02 18:41:00  2018-03-02 17:16:00     3861  Northeast Corrdr  \n",
       "9   2018-03-02 18:46:00  2018-03-02 17:21:00     3861  Northeast Corrdr  \n",
       "10  2018-03-02 18:50:00  2018-03-02 17:25:00     3861  Northeast Corrdr  \n",
       "11  2018-03-02 18:54:00  2018-03-02 17:29:00     3861  Northeast Corrdr  \n",
       "12  2018-03-02 19:09:00  2018-03-02 17:45:00     3861  Northeast Corrdr  \n",
       "13  2018-03-02 19:17:00  2018-03-02 17:52:00     3861  Northeast Corrdr  \n",
       "14  2018-03-02 19:29:00  2018-03-02 18:03:00     3861  Northeast Corrdr  "
      ]
     },
     "execution_count": 22,
     "metadata": {},
     "output_type": "execute_result"
    }
   ],
   "source": [
    "df"
   ]
  },
  {
   "cell_type": "code",
   "execution_count": 7,
   "metadata": {
    "collapsed": false
   },
   "outputs": [
    {
     "name": "stdout",
     "output_type": "stream",
     "text": [
      "True\n",
      "True\n",
      "True\n",
      "True\n",
      "True\n"
     ]
    }
   ],
   "source": [
    "df = examine_train('2018_02_07_3928', TEST)\n",
    "df1 = examine_train('2018_02_07_3714', TEST)\n",
    "df2 = examine_train('2018_02_07_3828', TEST)\n",
    "df3 = examine_train('2018_02_07_3712', TEST)\n",
    "df4 = examine_train('2018_02_07_3126', TEST)"
   ]
  },
  {
   "cell_type": "code",
   "execution_count": 12,
   "metadata": {
    "collapsed": false
   },
   "outputs": [
    {
     "data": {
      "text/html": [
       "<div>\n",
       "<style>\n",
       "    .dataframe thead tr:only-child th {\n",
       "        text-align: right;\n",
       "    }\n",
       "\n",
       "    .dataframe thead th {\n",
       "        text-align: left;\n",
       "    }\n",
       "\n",
       "    .dataframe tbody tr th {\n",
       "        vertical-align: top;\n",
       "    }\n",
       "</style>\n",
       "<table border=\"1\" class=\"dataframe\">\n",
       "  <thead>\n",
       "    <tr style=\"text-align: right;\">\n",
       "      <th></th>\n",
       "      <th>from</th>\n",
       "      <th>to</th>\n",
       "      <th>status</th>\n",
       "      <th>time</th>\n",
       "      <th>expected</th>\n",
       "      <th>train_id</th>\n",
       "      <th>line</th>\n",
       "    </tr>\n",
       "    <tr>\n",
       "      <th>stop_num</th>\n",
       "      <th></th>\n",
       "      <th></th>\n",
       "      <th></th>\n",
       "      <th></th>\n",
       "      <th></th>\n",
       "      <th></th>\n",
       "      <th></th>\n",
       "    </tr>\n",
       "  </thead>\n",
       "  <tbody>\n",
       "    <tr>\n",
       "      <th>1</th>\n",
       "      <td>New Brunswick</td>\n",
       "      <td>New Brunswick</td>\n",
       "      <td>Cancelled</td>\n",
       "      <td>2018-02-07 07:46:15</td>\n",
       "      <td>2018-02-07 07:34:00</td>\n",
       "      <td>3126</td>\n",
       "      <td>Northeast Corrdr</td>\n",
       "    </tr>\n",
       "    <tr>\n",
       "      <th>2</th>\n",
       "      <td>New Brunswick</td>\n",
       "      <td>Edison</td>\n",
       "      <td>Cancelled</td>\n",
       "      <td>2018-02-07 07:46:15</td>\n",
       "      <td>2018-02-07 07:39:00</td>\n",
       "      <td>3126</td>\n",
       "      <td>Northeast Corrdr</td>\n",
       "    </tr>\n",
       "    <tr>\n",
       "      <th>3</th>\n",
       "      <td>Edison</td>\n",
       "      <td>Metuchen</td>\n",
       "      <td>Cancelled</td>\n",
       "      <td>2018-02-07 07:46:15</td>\n",
       "      <td>2018-02-07 07:44:00</td>\n",
       "      <td>3126</td>\n",
       "      <td>Northeast Corrdr</td>\n",
       "    </tr>\n",
       "    <tr>\n",
       "      <th>4</th>\n",
       "      <td>Metuchen</td>\n",
       "      <td>Metropark</td>\n",
       "      <td>Cancelled</td>\n",
       "      <td>2018-02-07 07:46:15</td>\n",
       "      <td>2018-02-07 07:50:00</td>\n",
       "      <td>3126</td>\n",
       "      <td>Northeast Corrdr</td>\n",
       "    </tr>\n",
       "    <tr>\n",
       "      <th>5</th>\n",
       "      <td>Metropark</td>\n",
       "      <td>Newark Airport</td>\n",
       "      <td>Cancelled</td>\n",
       "      <td>2018-02-07 07:46:15</td>\n",
       "      <td>2018-02-07 08:03:00</td>\n",
       "      <td>3126</td>\n",
       "      <td>Northeast Corrdr</td>\n",
       "    </tr>\n",
       "    <tr>\n",
       "      <th>6</th>\n",
       "      <td>Newark Airport</td>\n",
       "      <td>Newark Penn Station</td>\n",
       "      <td>Cancelled</td>\n",
       "      <td>2018-02-07 07:46:15</td>\n",
       "      <td>2018-02-07 08:10:00</td>\n",
       "      <td>3126</td>\n",
       "      <td>Northeast Corrdr</td>\n",
       "    </tr>\n",
       "    <tr>\n",
       "      <th>7</th>\n",
       "      <td>Newark Penn Station</td>\n",
       "      <td>Secaucus Upper Lvl</td>\n",
       "      <td>Cancelled</td>\n",
       "      <td>2018-02-07 07:46:15</td>\n",
       "      <td>2018-02-07 08:17:00</td>\n",
       "      <td>3126</td>\n",
       "      <td>Northeast Corrdr</td>\n",
       "    </tr>\n",
       "    <tr>\n",
       "      <th>8</th>\n",
       "      <td>Secaucus Upper Lvl</td>\n",
       "      <td>New York Penn Station</td>\n",
       "      <td>Cancelled</td>\n",
       "      <td>2018-02-07 08:45:00</td>\n",
       "      <td>2018-02-07 08:32:00</td>\n",
       "      <td>3126</td>\n",
       "      <td>Northeast Corrdr</td>\n",
       "    </tr>\n",
       "  </tbody>\n",
       "</table>\n",
       "</div>"
      ],
      "text/plain": [
       "                         from                     to     status  \\\n",
       "stop_num                                                          \n",
       "1               New Brunswick          New Brunswick  Cancelled   \n",
       "2               New Brunswick                 Edison  Cancelled   \n",
       "3                      Edison               Metuchen  Cancelled   \n",
       "4                    Metuchen              Metropark  Cancelled   \n",
       "5                   Metropark         Newark Airport  Cancelled   \n",
       "6              Newark Airport    Newark Penn Station  Cancelled   \n",
       "7         Newark Penn Station     Secaucus Upper Lvl  Cancelled   \n",
       "8          Secaucus Upper Lvl  New York Penn Station  Cancelled   \n",
       "\n",
       "                         time             expected train_id              line  \n",
       "stop_num                                                                       \n",
       "1         2018-02-07 07:46:15  2018-02-07 07:34:00     3126  Northeast Corrdr  \n",
       "2         2018-02-07 07:46:15  2018-02-07 07:39:00     3126  Northeast Corrdr  \n",
       "3         2018-02-07 07:46:15  2018-02-07 07:44:00     3126  Northeast Corrdr  \n",
       "4         2018-02-07 07:46:15  2018-02-07 07:50:00     3126  Northeast Corrdr  \n",
       "5         2018-02-07 07:46:15  2018-02-07 08:03:00     3126  Northeast Corrdr  \n",
       "6         2018-02-07 07:46:15  2018-02-07 08:10:00     3126  Northeast Corrdr  \n",
       "7         2018-02-07 07:46:15  2018-02-07 08:17:00     3126  Northeast Corrdr  \n",
       "8         2018-02-07 08:45:00  2018-02-07 08:32:00     3126  Northeast Corrdr  "
      ]
     },
     "execution_count": 12,
     "metadata": {},
     "output_type": "execute_result"
    }
   ],
   "source": [
    "df4"
   ]
  },
  {
   "cell_type": "code",
   "execution_count": 11,
   "metadata": {
    "collapsed": false,
    "scrolled": true
   },
   "outputs": [
    {
     "data": {
      "text/html": [
       "<div>\n",
       "<style>\n",
       "    .dataframe thead tr:only-child th {\n",
       "        text-align: right;\n",
       "    }\n",
       "\n",
       "    .dataframe thead th {\n",
       "        text-align: left;\n",
       "    }\n",
       "\n",
       "    .dataframe tbody tr th {\n",
       "        vertical-align: top;\n",
       "    }\n",
       "</style>\n",
       "<table border=\"1\" class=\"dataframe\">\n",
       "  <thead>\n",
       "    <tr style=\"text-align: right;\">\n",
       "      <th></th>\n",
       "      <th>from</th>\n",
       "      <th>to</th>\n",
       "      <th>status</th>\n",
       "      <th>time</th>\n",
       "      <th>expected</th>\n",
       "      <th>train_id</th>\n",
       "      <th>line</th>\n",
       "    </tr>\n",
       "    <tr>\n",
       "      <th>stop_num</th>\n",
       "      <th></th>\n",
       "      <th></th>\n",
       "      <th></th>\n",
       "      <th></th>\n",
       "      <th></th>\n",
       "      <th></th>\n",
       "      <th></th>\n",
       "    </tr>\n",
       "  </thead>\n",
       "  <tbody>\n",
       "    <tr>\n",
       "      <th>1</th>\n",
       "      <td>Jersey Avenue</td>\n",
       "      <td>Jersey Avenue</td>\n",
       "      <td>Departed</td>\n",
       "      <td>2018-02-07 07:39:15</td>\n",
       "      <td>2018-02-07 07:39:00</td>\n",
       "      <td>3712</td>\n",
       "      <td>Northeast Corrdr</td>\n",
       "    </tr>\n",
       "    <tr>\n",
       "      <th>2</th>\n",
       "      <td>Jersey Avenue</td>\n",
       "      <td>New Brunswick</td>\n",
       "      <td>Departed</td>\n",
       "      <td>2018-02-07 07:45:07</td>\n",
       "      <td>2018-02-07 07:44:00</td>\n",
       "      <td>3712</td>\n",
       "      <td>Northeast Corrdr</td>\n",
       "    </tr>\n",
       "    <tr>\n",
       "      <th>3</th>\n",
       "      <td>New Brunswick</td>\n",
       "      <td>Edison</td>\n",
       "      <td>Departed</td>\n",
       "      <td>2018-02-07 07:50:10</td>\n",
       "      <td>2018-02-07 07:49:00</td>\n",
       "      <td>3712</td>\n",
       "      <td>Northeast Corrdr</td>\n",
       "    </tr>\n",
       "    <tr>\n",
       "      <th>4</th>\n",
       "      <td>Edison</td>\n",
       "      <td>Metuchen</td>\n",
       "      <td>Departed</td>\n",
       "      <td>2018-02-07 08:08:13</td>\n",
       "      <td>2018-02-07 07:55:00</td>\n",
       "      <td>3712</td>\n",
       "      <td>Northeast Corrdr</td>\n",
       "    </tr>\n",
       "    <tr>\n",
       "      <th>5</th>\n",
       "      <td>Metuchen</td>\n",
       "      <td>Metropark</td>\n",
       "      <td>Departed</td>\n",
       "      <td>2018-02-07 08:13:16</td>\n",
       "      <td>2018-02-07 08:00:00</td>\n",
       "      <td>3712</td>\n",
       "      <td>Northeast Corrdr</td>\n",
       "    </tr>\n",
       "    <tr>\n",
       "      <th>6</th>\n",
       "      <td>Metropark</td>\n",
       "      <td>Newark Penn Station</td>\n",
       "      <td>Departed</td>\n",
       "      <td>2018-02-07 08:31:15</td>\n",
       "      <td>2018-02-07 08:16:00</td>\n",
       "      <td>3712</td>\n",
       "      <td>Northeast Corrdr</td>\n",
       "    </tr>\n",
       "    <tr>\n",
       "      <th>7</th>\n",
       "      <td>Newark Penn Station</td>\n",
       "      <td>Secaucus Upper Lvl</td>\n",
       "      <td>Departed</td>\n",
       "      <td>2018-02-07 08:43:08</td>\n",
       "      <td>2018-02-07 08:23:00</td>\n",
       "      <td>3712</td>\n",
       "      <td>Northeast Corrdr</td>\n",
       "    </tr>\n",
       "    <tr>\n",
       "      <th>8</th>\n",
       "      <td>Secaucus Upper Lvl</td>\n",
       "      <td>New York Penn Station</td>\n",
       "      <td>Departed</td>\n",
       "      <td>2018-02-07 08:57:00</td>\n",
       "      <td>2018-02-07 08:36:00</td>\n",
       "      <td>3712</td>\n",
       "      <td>Northeast Corrdr</td>\n",
       "    </tr>\n",
       "  </tbody>\n",
       "</table>\n",
       "</div>"
      ],
      "text/plain": [
       "                         from                     to    status  \\\n",
       "stop_num                                                         \n",
       "1               Jersey Avenue          Jersey Avenue  Departed   \n",
       "2               Jersey Avenue          New Brunswick  Departed   \n",
       "3               New Brunswick                 Edison  Departed   \n",
       "4                      Edison               Metuchen  Departed   \n",
       "5                    Metuchen              Metropark  Departed   \n",
       "6                   Metropark    Newark Penn Station  Departed   \n",
       "7         Newark Penn Station     Secaucus Upper Lvl  Departed   \n",
       "8          Secaucus Upper Lvl  New York Penn Station  Departed   \n",
       "\n",
       "                         time             expected train_id              line  \n",
       "stop_num                                                                       \n",
       "1         2018-02-07 07:39:15  2018-02-07 07:39:00     3712  Northeast Corrdr  \n",
       "2         2018-02-07 07:45:07  2018-02-07 07:44:00     3712  Northeast Corrdr  \n",
       "3         2018-02-07 07:50:10  2018-02-07 07:49:00     3712  Northeast Corrdr  \n",
       "4         2018-02-07 08:08:13  2018-02-07 07:55:00     3712  Northeast Corrdr  \n",
       "5         2018-02-07 08:13:16  2018-02-07 08:00:00     3712  Northeast Corrdr  \n",
       "6         2018-02-07 08:31:15  2018-02-07 08:16:00     3712  Northeast Corrdr  \n",
       "7         2018-02-07 08:43:08  2018-02-07 08:23:00     3712  Northeast Corrdr  \n",
       "8         2018-02-07 08:57:00  2018-02-07 08:36:00     3712  Northeast Corrdr  "
      ]
     },
     "execution_count": 11,
     "metadata": {},
     "output_type": "execute_result"
    }
   ],
   "source": [
    "df3"
   ]
  },
  {
   "cell_type": "code",
   "execution_count": 10,
   "metadata": {
    "collapsed": false
   },
   "outputs": [
    {
     "data": {
      "text/html": [
       "<div>\n",
       "<style>\n",
       "    .dataframe thead tr:only-child th {\n",
       "        text-align: right;\n",
       "    }\n",
       "\n",
       "    .dataframe thead th {\n",
       "        text-align: left;\n",
       "    }\n",
       "\n",
       "    .dataframe tbody tr th {\n",
       "        vertical-align: top;\n",
       "    }\n",
       "</style>\n",
       "<table border=\"1\" class=\"dataframe\">\n",
       "  <thead>\n",
       "    <tr style=\"text-align: right;\">\n",
       "      <th></th>\n",
       "      <th>from</th>\n",
       "      <th>to</th>\n",
       "      <th>status</th>\n",
       "      <th>time</th>\n",
       "      <th>expected</th>\n",
       "      <th>train_id</th>\n",
       "      <th>line</th>\n",
       "    </tr>\n",
       "    <tr>\n",
       "      <th>stop_num</th>\n",
       "      <th></th>\n",
       "      <th></th>\n",
       "      <th></th>\n",
       "      <th></th>\n",
       "      <th></th>\n",
       "      <th></th>\n",
       "      <th></th>\n",
       "    </tr>\n",
       "  </thead>\n",
       "  <tbody>\n",
       "    <tr>\n",
       "      <th>1</th>\n",
       "      <td>Trenton</td>\n",
       "      <td>Trenton</td>\n",
       "      <td>Departed</td>\n",
       "      <td>2018-02-07 07:22:20</td>\n",
       "      <td>2018-02-07 07:23:00</td>\n",
       "      <td>3828</td>\n",
       "      <td>Northeast Corrdr</td>\n",
       "    </tr>\n",
       "    <tr>\n",
       "      <th>2</th>\n",
       "      <td>Trenton</td>\n",
       "      <td>Hamilton</td>\n",
       "      <td>Departed</td>\n",
       "      <td>2018-02-07 07:32:19</td>\n",
       "      <td>2018-02-07 07:29:00</td>\n",
       "      <td>3828</td>\n",
       "      <td>Northeast Corrdr</td>\n",
       "    </tr>\n",
       "    <tr>\n",
       "      <th>3</th>\n",
       "      <td>Hamilton</td>\n",
       "      <td>Princeton Junction</td>\n",
       "      <td>Departed</td>\n",
       "      <td>2018-02-07 07:39:25</td>\n",
       "      <td>2018-02-07 07:36:00</td>\n",
       "      <td>3828</td>\n",
       "      <td>Northeast Corrdr</td>\n",
       "    </tr>\n",
       "    <tr>\n",
       "      <th>4</th>\n",
       "      <td>Princeton Junction</td>\n",
       "      <td>New Brunswick</td>\n",
       "      <td>Departed</td>\n",
       "      <td>2018-02-07 08:03:26</td>\n",
       "      <td>2018-02-07 07:54:00</td>\n",
       "      <td>3828</td>\n",
       "      <td>Northeast Corrdr</td>\n",
       "    </tr>\n",
       "    <tr>\n",
       "      <th>5</th>\n",
       "      <td>New Brunswick</td>\n",
       "      <td>Edison</td>\n",
       "      <td>Departed</td>\n",
       "      <td>2018-02-07 08:08:22</td>\n",
       "      <td>2018-02-07 07:59:00</td>\n",
       "      <td>3828</td>\n",
       "      <td>Northeast Corrdr</td>\n",
       "    </tr>\n",
       "    <tr>\n",
       "      <th>6</th>\n",
       "      <td>Edison</td>\n",
       "      <td>Metuchen</td>\n",
       "      <td>Departed</td>\n",
       "      <td>2018-02-07 08:17:18</td>\n",
       "      <td>2018-02-07 08:04:00</td>\n",
       "      <td>3828</td>\n",
       "      <td>Northeast Corrdr</td>\n",
       "    </tr>\n",
       "    <tr>\n",
       "      <th>7</th>\n",
       "      <td>Metuchen</td>\n",
       "      <td>Metropark</td>\n",
       "      <td>Departed</td>\n",
       "      <td>2018-02-07 08:21:16</td>\n",
       "      <td>2018-02-07 08:09:00</td>\n",
       "      <td>3828</td>\n",
       "      <td>Northeast Corrdr</td>\n",
       "    </tr>\n",
       "    <tr>\n",
       "      <th>8</th>\n",
       "      <td>Metropark</td>\n",
       "      <td>Rahway</td>\n",
       "      <td>Departed</td>\n",
       "      <td>2018-02-07 08:27:18</td>\n",
       "      <td>2018-02-07 08:18:00</td>\n",
       "      <td>3828</td>\n",
       "      <td>Northeast Corrdr</td>\n",
       "    </tr>\n",
       "    <tr>\n",
       "      <th>9</th>\n",
       "      <td>Rahway</td>\n",
       "      <td>Linden</td>\n",
       "      <td>Departed</td>\n",
       "      <td>2018-02-07 08:32:19</td>\n",
       "      <td>2018-02-07 08:23:00</td>\n",
       "      <td>3828</td>\n",
       "      <td>Northeast Corrdr</td>\n",
       "    </tr>\n",
       "    <tr>\n",
       "      <th>10</th>\n",
       "      <td>Linden</td>\n",
       "      <td>Elizabeth</td>\n",
       "      <td>Departed</td>\n",
       "      <td>2018-02-07 08:41:16</td>\n",
       "      <td>2018-02-07 08:32:00</td>\n",
       "      <td>3828</td>\n",
       "      <td>Northeast Corrdr</td>\n",
       "    </tr>\n",
       "    <tr>\n",
       "      <th>11</th>\n",
       "      <td>Elizabeth</td>\n",
       "      <td>North Elizabeth</td>\n",
       "      <td>Departed</td>\n",
       "      <td>2018-02-07 08:44:20</td>\n",
       "      <td>2018-02-07 08:35:00</td>\n",
       "      <td>3828</td>\n",
       "      <td>Northeast Corrdr</td>\n",
       "    </tr>\n",
       "    <tr>\n",
       "      <th>12</th>\n",
       "      <td>North Elizabeth</td>\n",
       "      <td>Newark Airport</td>\n",
       "      <td>Departed</td>\n",
       "      <td>2018-02-07 08:47:16</td>\n",
       "      <td>2018-02-07 08:38:00</td>\n",
       "      <td>3828</td>\n",
       "      <td>Northeast Corrdr</td>\n",
       "    </tr>\n",
       "    <tr>\n",
       "      <th>13</th>\n",
       "      <td>Newark Airport</td>\n",
       "      <td>Newark Penn Station</td>\n",
       "      <td>Departed</td>\n",
       "      <td>2018-02-07 08:53:20</td>\n",
       "      <td>2018-02-07 08:45:00</td>\n",
       "      <td>3828</td>\n",
       "      <td>Northeast Corrdr</td>\n",
       "    </tr>\n",
       "    <tr>\n",
       "      <th>14</th>\n",
       "      <td>Newark Penn Station</td>\n",
       "      <td>Secaucus Upper Lvl</td>\n",
       "      <td>Departed</td>\n",
       "      <td>2018-02-07 09:01:19</td>\n",
       "      <td>2018-02-07 08:53:00</td>\n",
       "      <td>3828</td>\n",
       "      <td>Northeast Corrdr</td>\n",
       "    </tr>\n",
       "    <tr>\n",
       "      <th>15</th>\n",
       "      <td>Secaucus Upper Lvl</td>\n",
       "      <td>New York Penn Station</td>\n",
       "      <td>None</td>\n",
       "      <td>2018-02-07 09:10:00</td>\n",
       "      <td>2018-02-07 09:06:00</td>\n",
       "      <td>3828</td>\n",
       "      <td>Northeast Corrdr</td>\n",
       "    </tr>\n",
       "  </tbody>\n",
       "</table>\n",
       "</div>"
      ],
      "text/plain": [
       "                         from                     to    status  \\\n",
       "stop_num                                                         \n",
       "1                     Trenton                Trenton  Departed   \n",
       "2                     Trenton               Hamilton  Departed   \n",
       "3                    Hamilton     Princeton Junction  Departed   \n",
       "4          Princeton Junction          New Brunswick  Departed   \n",
       "5               New Brunswick                 Edison  Departed   \n",
       "6                      Edison               Metuchen  Departed   \n",
       "7                    Metuchen              Metropark  Departed   \n",
       "8                   Metropark                 Rahway  Departed   \n",
       "9                      Rahway                 Linden  Departed   \n",
       "10                     Linden              Elizabeth  Departed   \n",
       "11                  Elizabeth        North Elizabeth  Departed   \n",
       "12            North Elizabeth         Newark Airport  Departed   \n",
       "13             Newark Airport    Newark Penn Station  Departed   \n",
       "14        Newark Penn Station     Secaucus Upper Lvl  Departed   \n",
       "15         Secaucus Upper Lvl  New York Penn Station      None   \n",
       "\n",
       "                         time             expected train_id              line  \n",
       "stop_num                                                                       \n",
       "1         2018-02-07 07:22:20  2018-02-07 07:23:00     3828  Northeast Corrdr  \n",
       "2         2018-02-07 07:32:19  2018-02-07 07:29:00     3828  Northeast Corrdr  \n",
       "3         2018-02-07 07:39:25  2018-02-07 07:36:00     3828  Northeast Corrdr  \n",
       "4         2018-02-07 08:03:26  2018-02-07 07:54:00     3828  Northeast Corrdr  \n",
       "5         2018-02-07 08:08:22  2018-02-07 07:59:00     3828  Northeast Corrdr  \n",
       "6         2018-02-07 08:17:18  2018-02-07 08:04:00     3828  Northeast Corrdr  \n",
       "7         2018-02-07 08:21:16  2018-02-07 08:09:00     3828  Northeast Corrdr  \n",
       "8         2018-02-07 08:27:18  2018-02-07 08:18:00     3828  Northeast Corrdr  \n",
       "9         2018-02-07 08:32:19  2018-02-07 08:23:00     3828  Northeast Corrdr  \n",
       "10        2018-02-07 08:41:16  2018-02-07 08:32:00     3828  Northeast Corrdr  \n",
       "11        2018-02-07 08:44:20  2018-02-07 08:35:00     3828  Northeast Corrdr  \n",
       "12        2018-02-07 08:47:16  2018-02-07 08:38:00     3828  Northeast Corrdr  \n",
       "13        2018-02-07 08:53:20  2018-02-07 08:45:00     3828  Northeast Corrdr  \n",
       "14        2018-02-07 09:01:19  2018-02-07 08:53:00     3828  Northeast Corrdr  \n",
       "15        2018-02-07 09:10:00  2018-02-07 09:06:00     3828  Northeast Corrdr  "
      ]
     },
     "execution_count": 10,
     "metadata": {},
     "output_type": "execute_result"
    }
   ],
   "source": [
    "df2"
   ]
  },
  {
   "cell_type": "code",
   "execution_count": 9,
   "metadata": {
    "collapsed": false
   },
   "outputs": [
    {
     "data": {
      "text/html": [
       "<div>\n",
       "<style>\n",
       "    .dataframe thead tr:only-child th {\n",
       "        text-align: right;\n",
       "    }\n",
       "\n",
       "    .dataframe thead th {\n",
       "        text-align: left;\n",
       "    }\n",
       "\n",
       "    .dataframe tbody tr th {\n",
       "        vertical-align: top;\n",
       "    }\n",
       "</style>\n",
       "<table border=\"1\" class=\"dataframe\">\n",
       "  <thead>\n",
       "    <tr style=\"text-align: right;\">\n",
       "      <th></th>\n",
       "      <th>from</th>\n",
       "      <th>to</th>\n",
       "      <th>status</th>\n",
       "      <th>time</th>\n",
       "      <th>expected</th>\n",
       "      <th>train_id</th>\n",
       "      <th>line</th>\n",
       "    </tr>\n",
       "    <tr>\n",
       "      <th>stop_num</th>\n",
       "      <th></th>\n",
       "      <th></th>\n",
       "      <th></th>\n",
       "      <th></th>\n",
       "      <th></th>\n",
       "      <th></th>\n",
       "      <th></th>\n",
       "    </tr>\n",
       "  </thead>\n",
       "  <tbody>\n",
       "    <tr>\n",
       "      <th>1</th>\n",
       "      <td>Jersey Avenue</td>\n",
       "      <td>Jersey Avenue</td>\n",
       "      <td>Departed</td>\n",
       "      <td>2018-02-07 07:55:10</td>\n",
       "      <td>2018-02-07 07:55:00</td>\n",
       "      <td>3714</td>\n",
       "      <td>Northeast Corrdr</td>\n",
       "    </tr>\n",
       "    <tr>\n",
       "      <th>2</th>\n",
       "      <td>Jersey Avenue</td>\n",
       "      <td>New Brunswick</td>\n",
       "      <td>Departed</td>\n",
       "      <td>2018-02-07 08:02:08</td>\n",
       "      <td>2018-02-07 08:01:00</td>\n",
       "      <td>3714</td>\n",
       "      <td>Northeast Corrdr</td>\n",
       "    </tr>\n",
       "    <tr>\n",
       "      <th>3</th>\n",
       "      <td>New Brunswick</td>\n",
       "      <td>Edison</td>\n",
       "      <td>Departed</td>\n",
       "      <td>2018-02-07 08:07:16</td>\n",
       "      <td>2018-02-07 08:06:00</td>\n",
       "      <td>3714</td>\n",
       "      <td>Northeast Corrdr</td>\n",
       "    </tr>\n",
       "    <tr>\n",
       "      <th>4</th>\n",
       "      <td>Edison</td>\n",
       "      <td>Metuchen</td>\n",
       "      <td>Departed</td>\n",
       "      <td>2018-02-07 08:12:08</td>\n",
       "      <td>2018-02-07 08:12:00</td>\n",
       "      <td>3714</td>\n",
       "      <td>Northeast Corrdr</td>\n",
       "    </tr>\n",
       "    <tr>\n",
       "      <th>5</th>\n",
       "      <td>Metuchen</td>\n",
       "      <td>Metropark</td>\n",
       "      <td>Departed</td>\n",
       "      <td>2018-02-07 08:17:09</td>\n",
       "      <td>2018-02-07 08:17:00</td>\n",
       "      <td>3714</td>\n",
       "      <td>Northeast Corrdr</td>\n",
       "    </tr>\n",
       "    <tr>\n",
       "      <th>6</th>\n",
       "      <td>Metropark</td>\n",
       "      <td>Newark Penn Station</td>\n",
       "      <td>Departed</td>\n",
       "      <td>2018-02-07 08:47:09</td>\n",
       "      <td>2018-02-07 08:35:00</td>\n",
       "      <td>3714</td>\n",
       "      <td>Northeast Corrdr</td>\n",
       "    </tr>\n",
       "    <tr>\n",
       "      <th>7</th>\n",
       "      <td>Newark Penn Station</td>\n",
       "      <td>Secaucus Upper Lvl</td>\n",
       "      <td>Departed</td>\n",
       "      <td>2018-02-07 08:58:15</td>\n",
       "      <td>2018-02-07 08:43:00</td>\n",
       "      <td>3714</td>\n",
       "      <td>Northeast Corrdr</td>\n",
       "    </tr>\n",
       "    <tr>\n",
       "      <th>8</th>\n",
       "      <td>Secaucus Upper Lvl</td>\n",
       "      <td>New York Penn Station</td>\n",
       "      <td>Departed</td>\n",
       "      <td>2018-02-07 09:08:00</td>\n",
       "      <td>2018-02-07 08:57:00</td>\n",
       "      <td>3714</td>\n",
       "      <td>Northeast Corrdr</td>\n",
       "    </tr>\n",
       "  </tbody>\n",
       "</table>\n",
       "</div>"
      ],
      "text/plain": [
       "                         from                     to    status  \\\n",
       "stop_num                                                         \n",
       "1               Jersey Avenue          Jersey Avenue  Departed   \n",
       "2               Jersey Avenue          New Brunswick  Departed   \n",
       "3               New Brunswick                 Edison  Departed   \n",
       "4                      Edison               Metuchen  Departed   \n",
       "5                    Metuchen              Metropark  Departed   \n",
       "6                   Metropark    Newark Penn Station  Departed   \n",
       "7         Newark Penn Station     Secaucus Upper Lvl  Departed   \n",
       "8          Secaucus Upper Lvl  New York Penn Station  Departed   \n",
       "\n",
       "                         time             expected train_id              line  \n",
       "stop_num                                                                       \n",
       "1         2018-02-07 07:55:10  2018-02-07 07:55:00     3714  Northeast Corrdr  \n",
       "2         2018-02-07 08:02:08  2018-02-07 08:01:00     3714  Northeast Corrdr  \n",
       "3         2018-02-07 08:07:16  2018-02-07 08:06:00     3714  Northeast Corrdr  \n",
       "4         2018-02-07 08:12:08  2018-02-07 08:12:00     3714  Northeast Corrdr  \n",
       "5         2018-02-07 08:17:09  2018-02-07 08:17:00     3714  Northeast Corrdr  \n",
       "6         2018-02-07 08:47:09  2018-02-07 08:35:00     3714  Northeast Corrdr  \n",
       "7         2018-02-07 08:58:15  2018-02-07 08:43:00     3714  Northeast Corrdr  \n",
       "8         2018-02-07 09:08:00  2018-02-07 08:57:00     3714  Northeast Corrdr  "
      ]
     },
     "execution_count": 9,
     "metadata": {},
     "output_type": "execute_result"
    }
   ],
   "source": [
    "df1"
   ]
  },
  {
   "cell_type": "code",
   "execution_count": 8,
   "metadata": {
    "collapsed": false
   },
   "outputs": [
    {
     "data": {
      "text/html": [
       "<div>\n",
       "<style>\n",
       "    .dataframe thead tr:only-child th {\n",
       "        text-align: right;\n",
       "    }\n",
       "\n",
       "    .dataframe thead th {\n",
       "        text-align: left;\n",
       "    }\n",
       "\n",
       "    .dataframe tbody tr th {\n",
       "        vertical-align: top;\n",
       "    }\n",
       "</style>\n",
       "<table border=\"1\" class=\"dataframe\">\n",
       "  <thead>\n",
       "    <tr style=\"text-align: right;\">\n",
       "      <th></th>\n",
       "      <th>from</th>\n",
       "      <th>to</th>\n",
       "      <th>status</th>\n",
       "      <th>time</th>\n",
       "      <th>expected</th>\n",
       "      <th>train_id</th>\n",
       "      <th>line</th>\n",
       "    </tr>\n",
       "    <tr>\n",
       "      <th>stop_num</th>\n",
       "      <th></th>\n",
       "      <th></th>\n",
       "      <th></th>\n",
       "      <th></th>\n",
       "      <th></th>\n",
       "      <th></th>\n",
       "      <th></th>\n",
       "    </tr>\n",
       "  </thead>\n",
       "  <tbody>\n",
       "    <tr>\n",
       "      <th>1</th>\n",
       "      <td>Trenton</td>\n",
       "      <td>Trenton</td>\n",
       "      <td>Departed</td>\n",
       "      <td>2018-02-07 07:50:03</td>\n",
       "      <td>2018-02-07 07:50:00</td>\n",
       "      <td>3928</td>\n",
       "      <td>Northeast Corrdr</td>\n",
       "    </tr>\n",
       "    <tr>\n",
       "      <th>2</th>\n",
       "      <td>Trenton</td>\n",
       "      <td>Hamilton</td>\n",
       "      <td>Departed</td>\n",
       "      <td>2018-02-07 07:58:06</td>\n",
       "      <td>2018-02-07 07:57:00</td>\n",
       "      <td>3928</td>\n",
       "      <td>Northeast Corrdr</td>\n",
       "    </tr>\n",
       "    <tr>\n",
       "      <th>3</th>\n",
       "      <td>Hamilton</td>\n",
       "      <td>Princeton Junction</td>\n",
       "      <td>Departed</td>\n",
       "      <td>2018-02-07 08:06:10</td>\n",
       "      <td>2018-02-07 08:05:00</td>\n",
       "      <td>3928</td>\n",
       "      <td>Northeast Corrdr</td>\n",
       "    </tr>\n",
       "    <tr>\n",
       "      <th>4</th>\n",
       "      <td>Princeton Junction</td>\n",
       "      <td>New Brunswick</td>\n",
       "      <td>Departed</td>\n",
       "      <td>2018-02-07 08:21:00</td>\n",
       "      <td>2018-02-07 08:21:00</td>\n",
       "      <td>3928</td>\n",
       "      <td>Northeast Corrdr</td>\n",
       "    </tr>\n",
       "    <tr>\n",
       "      <th>5</th>\n",
       "      <td>New Brunswick</td>\n",
       "      <td>Metropark</td>\n",
       "      <td>Departed</td>\n",
       "      <td>2018-02-07 08:33:10</td>\n",
       "      <td>2018-02-07 08:31:00</td>\n",
       "      <td>3928</td>\n",
       "      <td>Northeast Corrdr</td>\n",
       "    </tr>\n",
       "    <tr>\n",
       "      <th>6</th>\n",
       "      <td>Metropark</td>\n",
       "      <td>Newark Airport</td>\n",
       "      <td>Departed</td>\n",
       "      <td>2018-02-07 08:51:01</td>\n",
       "      <td>2018-02-07 08:44:00</td>\n",
       "      <td>3928</td>\n",
       "      <td>Northeast Corrdr</td>\n",
       "    </tr>\n",
       "    <tr>\n",
       "      <th>7</th>\n",
       "      <td>Newark Airport</td>\n",
       "      <td>Newark Penn Station</td>\n",
       "      <td>Departed</td>\n",
       "      <td>2018-02-07 08:58:09</td>\n",
       "      <td>2018-02-07 08:51:00</td>\n",
       "      <td>3928</td>\n",
       "      <td>Northeast Corrdr</td>\n",
       "    </tr>\n",
       "    <tr>\n",
       "      <th>8</th>\n",
       "      <td>Newark Penn Station</td>\n",
       "      <td>Secaucus Upper Lvl</td>\n",
       "      <td>Departed</td>\n",
       "      <td>2018-02-07 09:06:09</td>\n",
       "      <td>2018-02-07 09:00:00</td>\n",
       "      <td>3928</td>\n",
       "      <td>Northeast Corrdr</td>\n",
       "    </tr>\n",
       "    <tr>\n",
       "      <th>9</th>\n",
       "      <td>Secaucus Upper Lvl</td>\n",
       "      <td>New York Penn Station</td>\n",
       "      <td>Departed</td>\n",
       "      <td>2018-02-07 09:16:00</td>\n",
       "      <td>2018-02-07 09:14:00</td>\n",
       "      <td>3928</td>\n",
       "      <td>Northeast Corrdr</td>\n",
       "    </tr>\n",
       "  </tbody>\n",
       "</table>\n",
       "</div>"
      ],
      "text/plain": [
       "                         from                     to    status  \\\n",
       "stop_num                                                         \n",
       "1                     Trenton                Trenton  Departed   \n",
       "2                     Trenton               Hamilton  Departed   \n",
       "3                    Hamilton     Princeton Junction  Departed   \n",
       "4          Princeton Junction          New Brunswick  Departed   \n",
       "5               New Brunswick              Metropark  Departed   \n",
       "6                   Metropark         Newark Airport  Departed   \n",
       "7              Newark Airport    Newark Penn Station  Departed   \n",
       "8         Newark Penn Station     Secaucus Upper Lvl  Departed   \n",
       "9          Secaucus Upper Lvl  New York Penn Station  Departed   \n",
       "\n",
       "                         time             expected train_id              line  \n",
       "stop_num                                                                       \n",
       "1         2018-02-07 07:50:03  2018-02-07 07:50:00     3928  Northeast Corrdr  \n",
       "2         2018-02-07 07:58:06  2018-02-07 07:57:00     3928  Northeast Corrdr  \n",
       "3         2018-02-07 08:06:10  2018-02-07 08:05:00     3928  Northeast Corrdr  \n",
       "4         2018-02-07 08:21:00  2018-02-07 08:21:00     3928  Northeast Corrdr  \n",
       "5         2018-02-07 08:33:10  2018-02-07 08:31:00     3928  Northeast Corrdr  \n",
       "6         2018-02-07 08:51:01  2018-02-07 08:44:00     3928  Northeast Corrdr  \n",
       "7         2018-02-07 08:58:09  2018-02-07 08:51:00     3928  Northeast Corrdr  \n",
       "8         2018-02-07 09:06:09  2018-02-07 09:00:00     3928  Northeast Corrdr  \n",
       "9         2018-02-07 09:16:00  2018-02-07 09:14:00     3928  Northeast Corrdr  "
      ]
     },
     "execution_count": 8,
     "metadata": {},
     "output_type": "execute_result"
    }
   ],
   "source": [
    "df"
   ]
  },
  {
   "cell_type": "markdown",
   "metadata": {},
   "source": [
    "## Amtrak"
   ]
  },
  {
   "cell_type": "code",
   "execution_count": 5,
   "metadata": {
    "collapsed": false
   },
   "outputs": [
    {
     "name": "stdout",
     "output_type": "stream",
     "text": [
      "station Philadelphia\n",
      "station Metropark\n",
      "station Newark Penn Station\n",
      "station New York Penn Station\n",
      "4\n",
      "True\n"
     ]
    },
    {
     "data": {
      "text/html": [
       "<div>\n",
       "<table border=\"1\" class=\"dataframe\">\n",
       "  <thead>\n",
       "    <tr style=\"text-align: right;\">\n",
       "      <th></th>\n",
       "      <th>from</th>\n",
       "      <th>to</th>\n",
       "      <th>status</th>\n",
       "      <th>time</th>\n",
       "      <th>expected</th>\n",
       "      <th>train_id</th>\n",
       "      <th>line</th>\n",
       "    </tr>\n",
       "    <tr>\n",
       "      <th>stop_num</th>\n",
       "      <th></th>\n",
       "      <th></th>\n",
       "      <th></th>\n",
       "      <th></th>\n",
       "      <th></th>\n",
       "      <th></th>\n",
       "      <th></th>\n",
       "    </tr>\n",
       "  </thead>\n",
       "  <tbody>\n",
       "    <tr>\n",
       "      <th>1</th>\n",
       "      <td>Philadelphia</td>\n",
       "      <td>Philadelphia</td>\n",
       "      <td>Departed</td>\n",
       "      <td>2018-02-02 17:31:10</td>\n",
       "      <td>None</td>\n",
       "      <td>A2172</td>\n",
       "      <td>ACELA EXPRESS</td>\n",
       "    </tr>\n",
       "    <tr>\n",
       "      <th>2</th>\n",
       "      <td>Philadelphia</td>\n",
       "      <td>Metropark</td>\n",
       "      <td>Departed</td>\n",
       "      <td>2018-02-02 18:20:15</td>\n",
       "      <td>None</td>\n",
       "      <td>A2172</td>\n",
       "      <td>ACELA EXPRESS</td>\n",
       "    </tr>\n",
       "    <tr>\n",
       "      <th>3</th>\n",
       "      <td>Metropark</td>\n",
       "      <td>Newark Penn Station</td>\n",
       "      <td>Departed</td>\n",
       "      <td>2018-02-02 18:34:17</td>\n",
       "      <td>None</td>\n",
       "      <td>A2172</td>\n",
       "      <td>ACELA EXPRESS</td>\n",
       "    </tr>\n",
       "    <tr>\n",
       "      <th>4</th>\n",
       "      <td>Newark Penn Station</td>\n",
       "      <td>New York Penn Station</td>\n",
       "      <td>Departed</td>\n",
       "      <td>2018-02-02 19:04:07</td>\n",
       "      <td>None</td>\n",
       "      <td>A2172</td>\n",
       "      <td>ACELA EXPRESS</td>\n",
       "    </tr>\n",
       "  </tbody>\n",
       "</table>\n",
       "</div>"
      ],
      "text/plain": [
       "                         from                     to    status  \\\n",
       "stop_num                                                         \n",
       "1                Philadelphia           Philadelphia  Departed   \n",
       "2                Philadelphia              Metropark  Departed   \n",
       "3                   Metropark    Newark Penn Station  Departed   \n",
       "4         Newark Penn Station  New York Penn Station  Departed   \n",
       "\n",
       "                         time expected train_id           line  \n",
       "stop_num                                                        \n",
       "1         2018-02-02 17:31:10     None    A2172  ACELA EXPRESS  \n",
       "2         2018-02-02 18:20:15     None    A2172  ACELA EXPRESS  \n",
       "3         2018-02-02 18:34:17     None    A2172  ACELA EXPRESS  \n",
       "4         2018-02-02 19:04:07     None    A2172  ACELA EXPRESS  "
      ]
     },
     "execution_count": 5,
     "metadata": {},
     "output_type": "execute_result"
    }
   ],
   "source": [
    "examine_train('2018_02_02_A2172', TRAINS)"
   ]
  },
  {
   "cell_type": "code",
   "execution_count": 6,
   "metadata": {
    "collapsed": false,
    "scrolled": true
   },
   "outputs": [
    {
     "name": "stdout",
     "output_type": "stream",
     "text": [
      "station Newark Penn Station\n",
      "station Trenton\n",
      "station Philadelphia\n",
      "3\n",
      "True\n"
     ]
    },
    {
     "data": {
      "text/html": [
       "<div>\n",
       "<table border=\"1\" class=\"dataframe\">\n",
       "  <thead>\n",
       "    <tr style=\"text-align: right;\">\n",
       "      <th></th>\n",
       "      <th>from</th>\n",
       "      <th>to</th>\n",
       "      <th>status</th>\n",
       "      <th>time</th>\n",
       "      <th>expected</th>\n",
       "      <th>train_id</th>\n",
       "      <th>line</th>\n",
       "    </tr>\n",
       "    <tr>\n",
       "      <th>stop_num</th>\n",
       "      <th></th>\n",
       "      <th></th>\n",
       "      <th></th>\n",
       "      <th></th>\n",
       "      <th></th>\n",
       "      <th></th>\n",
       "      <th></th>\n",
       "    </tr>\n",
       "  </thead>\n",
       "  <tbody>\n",
       "    <tr>\n",
       "      <th>1</th>\n",
       "      <td>Newark Penn Station</td>\n",
       "      <td>Newark Penn Station</td>\n",
       "      <td>Departed</td>\n",
       "      <td>2018-02-02 09:46:12</td>\n",
       "      <td>None</td>\n",
       "      <td>A643</td>\n",
       "      <td>KEYSTONE</td>\n",
       "    </tr>\n",
       "    <tr>\n",
       "      <th>2</th>\n",
       "      <td>Newark Penn Station</td>\n",
       "      <td>Trenton</td>\n",
       "      <td>Departed</td>\n",
       "      <td>2018-02-02 10:23:11</td>\n",
       "      <td>None</td>\n",
       "      <td>A643</td>\n",
       "      <td>KEYSTONE</td>\n",
       "    </tr>\n",
       "    <tr>\n",
       "      <th>3</th>\n",
       "      <td>Trenton</td>\n",
       "      <td>Philadelphia</td>\n",
       "      <td>Departed</td>\n",
       "      <td>2018-02-02 11:00:05</td>\n",
       "      <td>None</td>\n",
       "      <td>A643</td>\n",
       "      <td>KEYSTONE</td>\n",
       "    </tr>\n",
       "  </tbody>\n",
       "</table>\n",
       "</div>"
      ],
      "text/plain": [
       "                         from                   to    status  \\\n",
       "stop_num                                                       \n",
       "1         Newark Penn Station  Newark Penn Station  Departed   \n",
       "2         Newark Penn Station              Trenton  Departed   \n",
       "3                     Trenton         Philadelphia  Departed   \n",
       "\n",
       "                         time expected train_id      line  \n",
       "stop_num                                                   \n",
       "1         2018-02-02 09:46:12     None     A643  KEYSTONE  \n",
       "2         2018-02-02 10:23:11     None     A643  KEYSTONE  \n",
       "3         2018-02-02 11:00:05     None     A643  KEYSTONE  "
      ]
     },
     "execution_count": 6,
     "metadata": {},
     "output_type": "execute_result"
    }
   ],
   "source": [
    "examine_train('2018_02_02_A643', TRAINS)"
   ]
  },
  {
   "cell_type": "code",
   "execution_count": 97,
   "metadata": {
    "collapsed": true
   },
   "outputs": [],
   "source": [
    "all_trains = pd.read_csv('./2018_02_02.csv')"
   ]
  },
  {
   "cell_type": "code",
   "execution_count": 150,
   "metadata": {
    "collapsed": true
   },
   "outputs": [],
   "source": [
    "all_trains2 = pd.read_csv('./2018_02_01.csv')"
   ]
  },
  {
   "cell_type": "code",
   "execution_count": 153,
   "metadata": {
    "collapsed": true
   },
   "outputs": [],
   "source": [
    "all_trains['expected'] = pd.to_datetime(all_trains['expected'])\n",
    "all_trains2['expected'] = pd.to_datetime(all_trains2['expected'])"
   ]
  },
  {
   "cell_type": "code",
   "execution_count": 151,
   "metadata": {
    "collapsed": true
   },
   "outputs": [],
   "source": [
    "all_trains['time'] = pd.to_datetime(all_trains['time'])\n",
    "all_trains2['time'] = pd.to_datetime(all_trains2['time'])"
   ]
  },
  {
   "cell_type": "code",
   "execution_count": 154,
   "metadata": {
    "collapsed": true
   },
   "outputs": [],
   "source": [
    "all_trains['delay']=(all_trains['time']-all_trains['expected']).dt.total_seconds()\n",
    "all_trains2['delay']=(all_trains2['time']-all_trains2['expected']).dt.total_seconds()"
   ]
  },
  {
   "cell_type": "code",
   "execution_count": 155,
   "metadata": {
    "collapsed": true
   },
   "outputs": [],
   "source": [
    "def clean_delay(sec):\n",
    "    if sec < 0:\n",
    "        return 0\n",
    "    else:\n",
    "        return sec"
   ]
  },
  {
   "cell_type": "code",
   "execution_count": 166,
   "metadata": {
    "collapsed": false
   },
   "outputs": [
    {
     "data": {
      "text/plain": [
       "839"
      ]
     },
     "execution_count": 166,
     "metadata": {},
     "output_type": "execute_result"
    }
   ],
   "source": [
    "all_trains['train_id'].nunique()"
   ]
  },
  {
   "cell_type": "code",
   "execution_count": 167,
   "metadata": {
    "collapsed": false
   },
   "outputs": [
    {
     "data": {
      "text/plain": [
       "829"
      ]
     },
     "execution_count": 167,
     "metadata": {},
     "output_type": "execute_result"
    }
   ],
   "source": [
    "all_trains2['train_id'].nunique()"
   ]
  },
  {
   "cell_type": "code",
   "execution_count": 156,
   "metadata": {
    "collapsed": true
   },
   "outputs": [],
   "source": [
    "all_trains['delay'] = all_trains['delay'].apply(lambda x: clean_delay(x))/60.0\n",
    "all_trains2['delay'] = all_trains2['delay'].apply(lambda x: clean_delay(x))/60.0"
   ]
  },
  {
   "cell_type": "code",
   "execution_count": 162,
   "metadata": {
    "collapsed": true
   },
   "outputs": [],
   "source": [
    "cum_delay = all_trains.groupby('train_id').last()\n",
    "cum_delay2 = all_trains2.groupby('train_id').last()"
   ]
  },
  {
   "cell_type": "code",
   "execution_count": 163,
   "metadata": {
    "collapsed": true
   },
   "outputs": [],
   "source": [
    "njt_nyp = cum_delay[(cum_delay['type']==\"NJ Transit\") & (cum_delay['to']==\"New York Penn Station\")]\n",
    "njt_nyp2 = cum_delay2[(cum_delay2['type']==\"NJ Transit\") & (cum_delay2['to']==\"New York Penn Station\")]"
   ]
  },
  {
   "cell_type": "code",
   "execution_count": 164,
   "metadata": {
    "collapsed": false,
    "scrolled": true
   },
   "outputs": [
    {
     "data": {
      "text/plain": [
       "<matplotlib.axes._subplots.AxesSubplot at 0x11d080bd0>"
      ]
     },
     "execution_count": 164,
     "metadata": {},
     "output_type": "execute_result"
    },
    {
     "data": {
      "image/png": "[encoded data removed]",
      "text/plain": [
       "<matplotlib.figure.Figure at 0x11d0c41d0>"
      ]
     },
     "metadata": {},
     "output_type": "display_data"
    }
   ],
   "source": [
    "njt_nyp2.plot(x=\"expected\", y=\"delay\", figsize=(15,10))"
   ]
  },
  {
   "cell_type": "code",
   "execution_count": 181,
   "metadata": {
    "collapsed": false
   },
   "outputs": [
    {
     "data": {
      "text/plain": [
       "<matplotlib.axes._subplots.AxesSubplot at 0x11e40e4d0>"
      ]
     },
     "execution_count": 181,
     "metadata": {},
     "output_type": "execute_result"
    },
    {
     "data": {
      "image/png": "[encoded data removed]",
      "text/plain": [
       "<matplotlib.figure.Figure at 0x11e47cd10>"
      ]
     },
     "metadata": {},
     "output_type": "display_data"
    }
   ],
   "source": [
    "njt_nyp2.plot(x=\"expected\", y=\"delay\", figsize=(15,10))"
   ]
  },
  {
   "cell_type": "code",
   "execution_count": 149,
   "metadata": {
    "collapsed": false,
    "scrolled": true
   },
   "outputs": [
    {
     "data": {
      "text/plain": [
       "<matplotlib.axes._subplots.AxesSubplot at 0x11cc05f50>"
      ]
     },
     "execution_count": 149,
     "metadata": {},
     "output_type": "execute_result"
    },
    {
     "data": {
      "image/png": "[encoded data removed]",
      "text/plain": [
       "<matplotlib.figure.Figure at 0x11c301810>"
      ]
     },
     "metadata": {},
     "output_type": "display_data"
    }
   ],
   "source": [
    "njt_nyp.plot(x=\"expected\", y=\"delay\", figsize=(15,10))"
   ]
  },
  {
   "cell_type": "code",
   "execution_count": 182,
   "metadata": {
    "collapsed": false
   },
   "outputs": [
    {
     "data": {
      "text/plain": [
       "<matplotlib.axes._subplots.AxesSubplot at 0x11e52f8d0>"
      ]
     },
     "execution_count": 182,
     "metadata": {},
     "output_type": "execute_result"
    },
    {
     "data": {
      "image/png": "[encoded data removed]",
      "text/plain": [
       "<matplotlib.figure.Figure at 0x11e54a1d0>"
      ]
     },
     "metadata": {},
     "output_type": "display_data"
    }
   ],
   "source": [
    "njt_nyp2.groupby(pd.Grouper(key='expected', freq='30min'))['delay'].mean().plot(figsize=(9,6))"
   ]
  },
  {
   "cell_type": "code",
   "execution_count": 204,
   "metadata": {
    "collapsed": false
   },
   "outputs": [
    {
     "data": {
      "image/png": "[encoded data removed]",
      "text/plain": [
       "<matplotlib.figure.Figure at 0x1213670d0>"
      ]
     },
     "metadata": {},
     "output_type": "display_data"
    }
   ],
   "source": [
    "ax = njt_nyp.groupby(pd.Grouper(key='expected', freq='30min'))['delay'].mean().plot(figsize=(9,6), title=\"Mean delay into NY Penn on Fri, 2/2/18(30 min buckets)\")\n",
    "ax.set_xlabel(\"Time of Day (30 min buckets)\")\n",
    "ax.set_ylabel(\"Mean Delay (in minutes)\")\n",
    "hours = dates.HourLocator()\n",
    "ax.get_xaxis().set_major_locator(hours)\n"
   ]
  },
  {
   "cell_type": "code",
   "execution_count": 196,
   "metadata": {
    "collapsed": false
   },
   "outputs": [
    {
     "data": {
      "text/plain": [
       "<matplotlib.dates.HourLocator at 0x121cc86d0>"
      ]
     },
     "execution_count": 196,
     "metadata": {},
     "output_type": "execute_result"
    }
   ],
   "source": []
  },
  {
   "cell_type": "code",
   "execution_count": 191,
   "metadata": {
    "collapsed": false
   },
   "outputs": [
    {
     "data": {
      "text/plain": [
       "<matplotlib.axes._subplots.AxesSubplot at 0x11635a690>"
      ]
     },
     "execution_count": 191,
     "metadata": {},
     "output_type": "execute_result"
    },
    {
     "data": {
      "image/png": "[encoded data removed]",
      "text/plain": [
       "<matplotlib.figure.Figure at 0x1212655d0>"
      ]
     },
     "metadata": {},
     "output_type": "display_data"
    }
   ],
   "source": [
    "njt_nyp.groupby(pd.Grouper(key='expected', freq='30min')).size().plot(figsize=(9,6))"
   ]
  }
 ],
 "metadata": {
  "anaconda-cloud": {},
  "kernelspec": {
   "display_name": "Python [Root]",
   "language": "python",
   "name": "Python [Root]"
  },
  "language_info": {
   "codemirror_mode": {
    "name": "ipython",
    "version": 2
   },
   "file_extension": ".py",
   "mimetype": "text/x-python",
   "name": "python",
   "nbconvert_exporter": "python",
   "pygments_lexer": "ipython2",
   "version": "2.7.12"
  },
  "toc": {
   "nav_menu": {},
   "number_sections": true,
   "sideBar": true,
   "skip_h1_title": false,
   "toc_cell": false,
   "toc_position": {},
   "toc_section_display": "block",
   "toc_window_display": false
  }
 },
 "nbformat": 4,
 "nbformat_minor": 2
}
