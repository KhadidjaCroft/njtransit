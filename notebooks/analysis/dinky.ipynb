{
 "cells": [
  {
   "cell_type": "markdown",
   "metadata": {},
   "source": [
    "# Setup"
   ]
  },
  {
   "cell_type": "code",
   "execution_count": 1,
   "metadata": {},
   "outputs": [],
   "source": [
    "import pandas as pd\n",
    "from helpers import *\n",
    "\n",
    "from os import listdir"
   ]
  },
  {
   "cell_type": "code",
   "execution_count": 2,
   "metadata": {},
   "outputs": [],
   "source": [
    "%matplotlib inline"
   ]
  },
  {
   "cell_type": "code",
   "execution_count": 3,
   "metadata": {},
   "outputs": [],
   "source": [
    "pd.options.mode.chained_assignment = None"
   ]
  },
  {
   "cell_type": "markdown",
   "metadata": {},
   "source": [
    "# Read in data"
   ]
  },
  {
   "cell_type": "code",
   "execution_count": 4,
   "metadata": {},
   "outputs": [
    {
     "data": {
      "text/plain": [
       "'/Users/mzhang13/Code/njtransit/notebooks/analysis'"
      ]
     },
     "execution_count": 4,
     "metadata": {},
     "output_type": "execute_result"
    }
   ],
   "source": [
    "pwd"
   ]
  },
  {
   "cell_type": "code",
   "execution_count": 5,
   "metadata": {},
   "outputs": [
    {
     "data": {
      "text/plain": [
       "['2018_03_04.csv',\n",
       " '2018_03_03.csv',\n",
       " '.DS_Store',\n",
       " '2018_03_02.csv',\n",
       " '2018_03_01.csv',\n",
       " '2018_02_26.csv',\n",
       " '2018_02_27.csv',\n",
       " 'cleaned',\n",
       " '2018_02_25.csv',\n",
       " '2018_02_19.csv',\n",
       " '2018_02_18.csv',\n",
       " '2018_02_24.csv',\n",
       " '2018_02_08.csv',\n",
       " '2018_02_20.csv',\n",
       " '2018_02_21.csv',\n",
       " '2018_02_09.csv',\n",
       " '2018_02_23.csv',\n",
       " '2018_02_22.csv',\n",
       " '2018_02_07.csv',\n",
       " '2018_02_13.csv',\n",
       " '2018_02_12.csv',\n",
       " '2018_02_06.csv',\n",
       " '2018_02_10.csv',\n",
       " '2018_02_05.csv',\n",
       " '2018_02_11.csv',\n",
       " '2018_02_15.csv',\n",
       " '2018_02_14.csv',\n",
       " '2018_02_28.csv',\n",
       " '2018_02_16.csv',\n",
       " '2018_02_17.csv']"
      ]
     },
     "execution_count": 5,
     "metadata": {},
     "output_type": "execute_result"
    }
   ],
   "source": [
    "listdir(\"../../csv/\")"
   ]
  },
  {
   "cell_type": "code",
   "execution_count": 6,
   "metadata": {},
   "outputs": [],
   "source": [
    "files_to_read = sorted(listdir(\"../../csv/\"))\n",
    "files_to_read = [file for file in files_to_read if \".csv\" in file]"
   ]
  },
  {
   "cell_type": "code",
   "execution_count": 7,
   "metadata": {},
   "outputs": [
    {
     "data": {
      "text/plain": [
       "28"
      ]
     },
     "execution_count": 7,
     "metadata": {},
     "output_type": "execute_result"
    }
   ],
   "source": [
    "len(files_to_read)"
   ]
  },
  {
   "cell_type": "code",
   "execution_count": 8,
   "metadata": {},
   "outputs": [],
   "source": [
    "df = pd.DataFrame()\n",
    "\n",
    "for file in files_to_read:\n",
    "    temp = pd.read_csv(\"../../csv/\"+file)\n",
    "    df = pd.concat([df, temp])"
   ]
  },
  {
   "cell_type": "markdown",
   "metadata": {},
   "source": [
    "## Check"
   ]
  },
  {
   "cell_type": "code",
   "execution_count": 9,
   "metadata": {},
   "outputs": [
    {
     "data": {
      "text/html": [
       "<div>\n",
       "<style scoped>\n",
       "    .dataframe tbody tr th:only-of-type {\n",
       "        vertical-align: middle;\n",
       "    }\n",
       "\n",
       "    .dataframe tbody tr th {\n",
       "        vertical-align: top;\n",
       "    }\n",
       "\n",
       "    .dataframe thead th {\n",
       "        text-align: right;\n",
       "    }\n",
       "</style>\n",
       "<table border=\"1\" class=\"dataframe\">\n",
       "  <thead>\n",
       "    <tr style=\"text-align: right;\">\n",
       "      <th></th>\n",
       "      <th>train_id</th>\n",
       "      <th>date</th>\n",
       "      <th>stop_sequence</th>\n",
       "      <th>from</th>\n",
       "      <th>from_id</th>\n",
       "      <th>to</th>\n",
       "      <th>to_id</th>\n",
       "      <th>expected</th>\n",
       "      <th>time</th>\n",
       "      <th>status</th>\n",
       "      <th>line</th>\n",
       "      <th>type</th>\n",
       "    </tr>\n",
       "  </thead>\n",
       "  <tbody>\n",
       "    <tr>\n",
       "      <th>0</th>\n",
       "      <td>0337</td>\n",
       "      <td>2018-02-05</td>\n",
       "      <td>1.0</td>\n",
       "      <td>Hoboken</td>\n",
       "      <td>63.0</td>\n",
       "      <td>Hoboken</td>\n",
       "      <td>63.0</td>\n",
       "      <td>2018-02-05 17:39:00</td>\n",
       "      <td>2018-02-05 17:38:02</td>\n",
       "      <td>Departed</td>\n",
       "      <td>Morristown Line</td>\n",
       "      <td>NJ Transit</td>\n",
       "    </tr>\n",
       "    <tr>\n",
       "      <th>1</th>\n",
       "      <td>0337</td>\n",
       "      <td>2018-02-05</td>\n",
       "      <td>2.0</td>\n",
       "      <td>Hoboken</td>\n",
       "      <td>63.0</td>\n",
       "      <td>Newark Broad Street</td>\n",
       "      <td>106.0</td>\n",
       "      <td>2018-02-05 17:55:00</td>\n",
       "      <td>2018-02-05 17:58:03</td>\n",
       "      <td>Departed</td>\n",
       "      <td>Morristown Line</td>\n",
       "      <td>NJ Transit</td>\n",
       "    </tr>\n",
       "    <tr>\n",
       "      <th>2</th>\n",
       "      <td>0337</td>\n",
       "      <td>2018-02-05</td>\n",
       "      <td>3.0</td>\n",
       "      <td>Newark Broad Street</td>\n",
       "      <td>106.0</td>\n",
       "      <td>East Orange</td>\n",
       "      <td>37.0</td>\n",
       "      <td>2018-02-05 18:00:00</td>\n",
       "      <td>2018-02-05 18:03:07</td>\n",
       "      <td>Departed</td>\n",
       "      <td>Morristown Line</td>\n",
       "      <td>NJ Transit</td>\n",
       "    </tr>\n",
       "    <tr>\n",
       "      <th>3</th>\n",
       "      <td>0337</td>\n",
       "      <td>2018-02-05</td>\n",
       "      <td>4.0</td>\n",
       "      <td>East Orange</td>\n",
       "      <td>37.0</td>\n",
       "      <td>Brick Church</td>\n",
       "      <td>23.0</td>\n",
       "      <td>2018-02-05 18:03:00</td>\n",
       "      <td>2018-02-05 18:06:12</td>\n",
       "      <td>Departed</td>\n",
       "      <td>Morristown Line</td>\n",
       "      <td>NJ Transit</td>\n",
       "    </tr>\n",
       "    <tr>\n",
       "      <th>4</th>\n",
       "      <td>0337</td>\n",
       "      <td>2018-02-05</td>\n",
       "      <td>5.0</td>\n",
       "      <td>Brick Church</td>\n",
       "      <td>23.0</td>\n",
       "      <td>Orange</td>\n",
       "      <td>112.0</td>\n",
       "      <td>2018-02-05 18:06:00</td>\n",
       "      <td>2018-02-05 18:09:09</td>\n",
       "      <td>Departed</td>\n",
       "      <td>Morristown Line</td>\n",
       "      <td>NJ Transit</td>\n",
       "    </tr>\n",
       "  </tbody>\n",
       "</table>\n",
       "</div>"
      ],
      "text/plain": [
       "  train_id        date  stop_sequence                 from  from_id  \\\n",
       "0     0337  2018-02-05            1.0              Hoboken     63.0   \n",
       "1     0337  2018-02-05            2.0              Hoboken     63.0   \n",
       "2     0337  2018-02-05            3.0  Newark Broad Street    106.0   \n",
       "3     0337  2018-02-05            4.0          East Orange     37.0   \n",
       "4     0337  2018-02-05            5.0         Brick Church     23.0   \n",
       "\n",
       "                    to  to_id             expected                 time  \\\n",
       "0              Hoboken   63.0  2018-02-05 17:39:00  2018-02-05 17:38:02   \n",
       "1  Newark Broad Street  106.0  2018-02-05 17:55:00  2018-02-05 17:58:03   \n",
       "2          East Orange   37.0  2018-02-05 18:00:00  2018-02-05 18:03:07   \n",
       "3         Brick Church   23.0  2018-02-05 18:03:00  2018-02-05 18:06:12   \n",
       "4               Orange  112.0  2018-02-05 18:06:00  2018-02-05 18:09:09   \n",
       "\n",
       "     status             line        type  \n",
       "0  Departed  Morristown Line  NJ Transit  \n",
       "1  Departed  Morristown Line  NJ Transit  \n",
       "2  Departed  Morristown Line  NJ Transit  \n",
       "3  Departed  Morristown Line  NJ Transit  \n",
       "4  Departed  Morristown Line  NJ Transit  "
      ]
     },
     "execution_count": 9,
     "metadata": {},
     "output_type": "execute_result"
    }
   ],
   "source": [
    "df.head()"
   ]
  },
  {
   "cell_type": "code",
   "execution_count": 10,
   "metadata": {},
   "outputs": [],
   "source": [
    "for col in [\"date\", \"expected\", \"time\"]:\n",
    "    df[col] = pd.to_datetime(df[col])"
   ]
  },
  {
   "cell_type": "code",
   "execution_count": 11,
   "metadata": {},
   "outputs": [
    {
     "data": {
      "text/html": [
       "<div>\n",
       "<style scoped>\n",
       "    .dataframe tbody tr th:only-of-type {\n",
       "        vertical-align: middle;\n",
       "    }\n",
       "\n",
       "    .dataframe tbody tr th {\n",
       "        vertical-align: top;\n",
       "    }\n",
       "\n",
       "    .dataframe thead th {\n",
       "        text-align: right;\n",
       "    }\n",
       "</style>\n",
       "<table border=\"1\" class=\"dataframe\">\n",
       "  <thead>\n",
       "    <tr style=\"text-align: right;\">\n",
       "      <th></th>\n",
       "      <th>train_id</th>\n",
       "      <th>date</th>\n",
       "      <th>stop_sequence</th>\n",
       "      <th>from</th>\n",
       "      <th>from_id</th>\n",
       "      <th>to</th>\n",
       "      <th>to_id</th>\n",
       "      <th>expected</th>\n",
       "      <th>time</th>\n",
       "      <th>status</th>\n",
       "      <th>line</th>\n",
       "      <th>type</th>\n",
       "    </tr>\n",
       "  </thead>\n",
       "  <tbody>\n",
       "    <tr>\n",
       "      <th>5461</th>\n",
       "      <td>1837</td>\n",
       "      <td>2018-03-04</td>\n",
       "      <td>9.0</td>\n",
       "      <td>Paterson</td>\n",
       "      <td>116.0</td>\n",
       "      <td>Hawthorne</td>\n",
       "      <td>58.0</td>\n",
       "      <td>2018-03-04 22:53:00</td>\n",
       "      <td>2018-03-04 22:57:02</td>\n",
       "      <td>Departed</td>\n",
       "      <td>Main Line</td>\n",
       "      <td>NJ Transit</td>\n",
       "    </tr>\n",
       "    <tr>\n",
       "      <th>5462</th>\n",
       "      <td>1837</td>\n",
       "      <td>2018-03-04</td>\n",
       "      <td>10.0</td>\n",
       "      <td>Hawthorne</td>\n",
       "      <td>58.0</td>\n",
       "      <td>Glen Rock Main Line</td>\n",
       "      <td>52.0</td>\n",
       "      <td>2018-03-04 22:57:00</td>\n",
       "      <td>2018-03-04 23:01:08</td>\n",
       "      <td>Departed</td>\n",
       "      <td>Main Line</td>\n",
       "      <td>NJ Transit</td>\n",
       "    </tr>\n",
       "    <tr>\n",
       "      <th>5463</th>\n",
       "      <td>1837</td>\n",
       "      <td>2018-03-04</td>\n",
       "      <td>11.0</td>\n",
       "      <td>Glen Rock Main Line</td>\n",
       "      <td>52.0</td>\n",
       "      <td>Ridgewood</td>\n",
       "      <td>131.0</td>\n",
       "      <td>2018-03-04 23:01:00</td>\n",
       "      <td>2018-03-04 23:04:08</td>\n",
       "      <td>Departed</td>\n",
       "      <td>Main Line</td>\n",
       "      <td>NJ Transit</td>\n",
       "    </tr>\n",
       "    <tr>\n",
       "      <th>5464</th>\n",
       "      <td>1837</td>\n",
       "      <td>2018-03-04</td>\n",
       "      <td>12.0</td>\n",
       "      <td>Ridgewood</td>\n",
       "      <td>131.0</td>\n",
       "      <td>Ho-Ho-Kus</td>\n",
       "      <td>64.0</td>\n",
       "      <td>2018-03-04 23:05:00</td>\n",
       "      <td>2018-03-04 23:08:01</td>\n",
       "      <td>Departed</td>\n",
       "      <td>Main Line</td>\n",
       "      <td>NJ Transit</td>\n",
       "    </tr>\n",
       "    <tr>\n",
       "      <th>5465</th>\n",
       "      <td>1837</td>\n",
       "      <td>2018-03-04</td>\n",
       "      <td>13.0</td>\n",
       "      <td>Ho-Ho-Kus</td>\n",
       "      <td>64.0</td>\n",
       "      <td>Waldwick</td>\n",
       "      <td>151.0</td>\n",
       "      <td>2018-03-04 23:09:00</td>\n",
       "      <td>2018-03-04 23:10:00</td>\n",
       "      <td>Departed</td>\n",
       "      <td>Main Line</td>\n",
       "      <td>NJ Transit</td>\n",
       "    </tr>\n",
       "  </tbody>\n",
       "</table>\n",
       "</div>"
      ],
      "text/plain": [
       "     train_id       date  stop_sequence                 from  from_id  \\\n",
       "5461     1837 2018-03-04            9.0             Paterson    116.0   \n",
       "5462     1837 2018-03-04           10.0            Hawthorne     58.0   \n",
       "5463     1837 2018-03-04           11.0  Glen Rock Main Line     52.0   \n",
       "5464     1837 2018-03-04           12.0            Ridgewood    131.0   \n",
       "5465     1837 2018-03-04           13.0            Ho-Ho-Kus     64.0   \n",
       "\n",
       "                       to  to_id            expected                time  \\\n",
       "5461            Hawthorne   58.0 2018-03-04 22:53:00 2018-03-04 22:57:02   \n",
       "5462  Glen Rock Main Line   52.0 2018-03-04 22:57:00 2018-03-04 23:01:08   \n",
       "5463            Ridgewood  131.0 2018-03-04 23:01:00 2018-03-04 23:04:08   \n",
       "5464            Ho-Ho-Kus   64.0 2018-03-04 23:05:00 2018-03-04 23:08:01   \n",
       "5465             Waldwick  151.0 2018-03-04 23:09:00 2018-03-04 23:10:00   \n",
       "\n",
       "        status       line        type  \n",
       "5461  Departed  Main Line  NJ Transit  \n",
       "5462  Departed  Main Line  NJ Transit  \n",
       "5463  Departed  Main Line  NJ Transit  \n",
       "5464  Departed  Main Line  NJ Transit  \n",
       "5465  Departed  Main Line  NJ Transit  "
      ]
     },
     "execution_count": 11,
     "metadata": {},
     "output_type": "execute_result"
    }
   ],
   "source": [
    "df.tail()"
   ]
  },
  {
   "cell_type": "markdown",
   "metadata": {},
   "source": [
    "# Clean data"
   ]
  },
  {
   "cell_type": "code",
   "execution_count": 12,
   "metadata": {},
   "outputs": [
    {
     "name": "stdout",
     "output_type": "stream",
     "text": [
      "CPU times: user 36.2 s, sys: 754 ms, total: 37 s\n",
      "Wall time: 37.4 s\n"
     ]
    }
   ],
   "source": [
    "%%time\n",
    "\n",
    "df = format_df(df)"
   ]
  },
  {
   "cell_type": "code",
   "execution_count": 13,
   "metadata": {},
   "outputs": [
    {
     "data": {
      "text/html": [
       "<div>\n",
       "<style scoped>\n",
       "    .dataframe tbody tr th:only-of-type {\n",
       "        vertical-align: middle;\n",
       "    }\n",
       "\n",
       "    .dataframe tbody tr th {\n",
       "        vertical-align: top;\n",
       "    }\n",
       "\n",
       "    .dataframe thead th {\n",
       "        text-align: right;\n",
       "    }\n",
       "</style>\n",
       "<table border=\"1\" class=\"dataframe\">\n",
       "  <thead>\n",
       "    <tr style=\"text-align: right;\">\n",
       "      <th></th>\n",
       "      <th>train_id</th>\n",
       "      <th>date</th>\n",
       "      <th>stop_sequence</th>\n",
       "      <th>from</th>\n",
       "      <th>from_id</th>\n",
       "      <th>to</th>\n",
       "      <th>to_id</th>\n",
       "      <th>expected</th>\n",
       "      <th>time</th>\n",
       "      <th>status</th>\n",
       "      <th>line</th>\n",
       "      <th>type</th>\n",
       "      <th>delay</th>\n",
       "    </tr>\n",
       "  </thead>\n",
       "  <tbody>\n",
       "    <tr>\n",
       "      <th>0</th>\n",
       "      <td>0337</td>\n",
       "      <td>2018-02-05</td>\n",
       "      <td>1.0</td>\n",
       "      <td>Hoboken</td>\n",
       "      <td>63.0</td>\n",
       "      <td>Hoboken</td>\n",
       "      <td>63.0</td>\n",
       "      <td>2018-02-05 17:39:00</td>\n",
       "      <td>2018-02-05 17:38:02</td>\n",
       "      <td>Departed</td>\n",
       "      <td>Morristown Line</td>\n",
       "      <td>NJ Transit</td>\n",
       "      <td>0.000000</td>\n",
       "    </tr>\n",
       "    <tr>\n",
       "      <th>1</th>\n",
       "      <td>0337</td>\n",
       "      <td>2018-02-05</td>\n",
       "      <td>2.0</td>\n",
       "      <td>Hoboken</td>\n",
       "      <td>63.0</td>\n",
       "      <td>Newark Broad Street</td>\n",
       "      <td>106.0</td>\n",
       "      <td>2018-02-05 17:55:00</td>\n",
       "      <td>2018-02-05 17:58:03</td>\n",
       "      <td>Departed</td>\n",
       "      <td>Morristown Line</td>\n",
       "      <td>NJ Transit</td>\n",
       "      <td>3.050000</td>\n",
       "    </tr>\n",
       "    <tr>\n",
       "      <th>2</th>\n",
       "      <td>0337</td>\n",
       "      <td>2018-02-05</td>\n",
       "      <td>3.0</td>\n",
       "      <td>Newark Broad Street</td>\n",
       "      <td>106.0</td>\n",
       "      <td>East Orange</td>\n",
       "      <td>37.0</td>\n",
       "      <td>2018-02-05 18:00:00</td>\n",
       "      <td>2018-02-05 18:03:07</td>\n",
       "      <td>Departed</td>\n",
       "      <td>Morristown Line</td>\n",
       "      <td>NJ Transit</td>\n",
       "      <td>3.116667</td>\n",
       "    </tr>\n",
       "    <tr>\n",
       "      <th>3</th>\n",
       "      <td>0337</td>\n",
       "      <td>2018-02-05</td>\n",
       "      <td>4.0</td>\n",
       "      <td>East Orange</td>\n",
       "      <td>37.0</td>\n",
       "      <td>Brick Church</td>\n",
       "      <td>23.0</td>\n",
       "      <td>2018-02-05 18:03:00</td>\n",
       "      <td>2018-02-05 18:06:12</td>\n",
       "      <td>Departed</td>\n",
       "      <td>Morristown Line</td>\n",
       "      <td>NJ Transit</td>\n",
       "      <td>3.200000</td>\n",
       "    </tr>\n",
       "    <tr>\n",
       "      <th>4</th>\n",
       "      <td>0337</td>\n",
       "      <td>2018-02-05</td>\n",
       "      <td>5.0</td>\n",
       "      <td>Brick Church</td>\n",
       "      <td>23.0</td>\n",
       "      <td>Orange</td>\n",
       "      <td>112.0</td>\n",
       "      <td>2018-02-05 18:06:00</td>\n",
       "      <td>2018-02-05 18:09:09</td>\n",
       "      <td>Departed</td>\n",
       "      <td>Morristown Line</td>\n",
       "      <td>NJ Transit</td>\n",
       "      <td>3.150000</td>\n",
       "    </tr>\n",
       "  </tbody>\n",
       "</table>\n",
       "</div>"
      ],
      "text/plain": [
       "  train_id       date  stop_sequence                 from  from_id  \\\n",
       "0     0337 2018-02-05            1.0              Hoboken     63.0   \n",
       "1     0337 2018-02-05            2.0              Hoboken     63.0   \n",
       "2     0337 2018-02-05            3.0  Newark Broad Street    106.0   \n",
       "3     0337 2018-02-05            4.0          East Orange     37.0   \n",
       "4     0337 2018-02-05            5.0         Brick Church     23.0   \n",
       "\n",
       "                    to  to_id            expected                time  \\\n",
       "0              Hoboken   63.0 2018-02-05 17:39:00 2018-02-05 17:38:02   \n",
       "1  Newark Broad Street  106.0 2018-02-05 17:55:00 2018-02-05 17:58:03   \n",
       "2          East Orange   37.0 2018-02-05 18:00:00 2018-02-05 18:03:07   \n",
       "3         Brick Church   23.0 2018-02-05 18:03:00 2018-02-05 18:06:12   \n",
       "4               Orange  112.0 2018-02-05 18:06:00 2018-02-05 18:09:09   \n",
       "\n",
       "     status             line        type     delay  \n",
       "0  Departed  Morristown Line  NJ Transit  0.000000  \n",
       "1  Departed  Morristown Line  NJ Transit  3.050000  \n",
       "2  Departed  Morristown Line  NJ Transit  3.116667  \n",
       "3  Departed  Morristown Line  NJ Transit  3.200000  \n",
       "4  Departed  Morristown Line  NJ Transit  3.150000  "
      ]
     },
     "execution_count": 13,
     "metadata": {},
     "output_type": "execute_result"
    }
   ],
   "source": [
    "df.head()"
   ]
  },
  {
   "cell_type": "code",
   "execution_count": 14,
   "metadata": {},
   "outputs": [
    {
     "data": {
      "text/html": [
       "<div>\n",
       "<style scoped>\n",
       "    .dataframe tbody tr th:only-of-type {\n",
       "        vertical-align: middle;\n",
       "    }\n",
       "\n",
       "    .dataframe tbody tr th {\n",
       "        vertical-align: top;\n",
       "    }\n",
       "\n",
       "    .dataframe thead th {\n",
       "        text-align: right;\n",
       "    }\n",
       "</style>\n",
       "<table border=\"1\" class=\"dataframe\">\n",
       "  <thead>\n",
       "    <tr style=\"text-align: right;\">\n",
       "      <th></th>\n",
       "      <th>train_id</th>\n",
       "      <th>date</th>\n",
       "      <th>stop_sequence</th>\n",
       "      <th>from</th>\n",
       "      <th>from_id</th>\n",
       "      <th>to</th>\n",
       "      <th>to_id</th>\n",
       "      <th>expected</th>\n",
       "      <th>time</th>\n",
       "      <th>status</th>\n",
       "      <th>line</th>\n",
       "      <th>type</th>\n",
       "      <th>delay</th>\n",
       "    </tr>\n",
       "  </thead>\n",
       "  <tbody>\n",
       "    <tr>\n",
       "      <th>5461</th>\n",
       "      <td>1837</td>\n",
       "      <td>2018-03-04</td>\n",
       "      <td>9.0</td>\n",
       "      <td>Paterson</td>\n",
       "      <td>116.0</td>\n",
       "      <td>Hawthorne</td>\n",
       "      <td>58.0</td>\n",
       "      <td>2018-03-04 22:53:00</td>\n",
       "      <td>2018-03-04 22:57:02</td>\n",
       "      <td>Departed</td>\n",
       "      <td>Main Line</td>\n",
       "      <td>NJ Transit</td>\n",
       "      <td>4.033333</td>\n",
       "    </tr>\n",
       "    <tr>\n",
       "      <th>5462</th>\n",
       "      <td>1837</td>\n",
       "      <td>2018-03-04</td>\n",
       "      <td>10.0</td>\n",
       "      <td>Hawthorne</td>\n",
       "      <td>58.0</td>\n",
       "      <td>Glen Rock Main Line</td>\n",
       "      <td>52.0</td>\n",
       "      <td>2018-03-04 22:57:00</td>\n",
       "      <td>2018-03-04 23:01:08</td>\n",
       "      <td>Departed</td>\n",
       "      <td>Main Line</td>\n",
       "      <td>NJ Transit</td>\n",
       "      <td>4.133333</td>\n",
       "    </tr>\n",
       "    <tr>\n",
       "      <th>5463</th>\n",
       "      <td>1837</td>\n",
       "      <td>2018-03-04</td>\n",
       "      <td>11.0</td>\n",
       "      <td>Glen Rock Main Line</td>\n",
       "      <td>52.0</td>\n",
       "      <td>Ridgewood</td>\n",
       "      <td>131.0</td>\n",
       "      <td>2018-03-04 23:01:00</td>\n",
       "      <td>2018-03-04 23:04:08</td>\n",
       "      <td>Departed</td>\n",
       "      <td>Main Line</td>\n",
       "      <td>NJ Transit</td>\n",
       "      <td>3.133333</td>\n",
       "    </tr>\n",
       "    <tr>\n",
       "      <th>5464</th>\n",
       "      <td>1837</td>\n",
       "      <td>2018-03-04</td>\n",
       "      <td>12.0</td>\n",
       "      <td>Ridgewood</td>\n",
       "      <td>131.0</td>\n",
       "      <td>Ho-Ho-Kus</td>\n",
       "      <td>64.0</td>\n",
       "      <td>2018-03-04 23:05:00</td>\n",
       "      <td>2018-03-04 23:08:01</td>\n",
       "      <td>Departed</td>\n",
       "      <td>Main Line</td>\n",
       "      <td>NJ Transit</td>\n",
       "      <td>3.016667</td>\n",
       "    </tr>\n",
       "    <tr>\n",
       "      <th>5465</th>\n",
       "      <td>1837</td>\n",
       "      <td>2018-03-04</td>\n",
       "      <td>13.0</td>\n",
       "      <td>Ho-Ho-Kus</td>\n",
       "      <td>64.0</td>\n",
       "      <td>Waldwick</td>\n",
       "      <td>151.0</td>\n",
       "      <td>2018-03-04 23:09:00</td>\n",
       "      <td>2018-03-04 23:10:00</td>\n",
       "      <td>Departed</td>\n",
       "      <td>Main Line</td>\n",
       "      <td>NJ Transit</td>\n",
       "      <td>1.000000</td>\n",
       "    </tr>\n",
       "  </tbody>\n",
       "</table>\n",
       "</div>"
      ],
      "text/plain": [
       "     train_id       date  stop_sequence                 from  from_id  \\\n",
       "5461     1837 2018-03-04            9.0             Paterson    116.0   \n",
       "5462     1837 2018-03-04           10.0            Hawthorne     58.0   \n",
       "5463     1837 2018-03-04           11.0  Glen Rock Main Line     52.0   \n",
       "5464     1837 2018-03-04           12.0            Ridgewood    131.0   \n",
       "5465     1837 2018-03-04           13.0            Ho-Ho-Kus     64.0   \n",
       "\n",
       "                       to  to_id            expected                time  \\\n",
       "5461            Hawthorne   58.0 2018-03-04 22:53:00 2018-03-04 22:57:02   \n",
       "5462  Glen Rock Main Line   52.0 2018-03-04 22:57:00 2018-03-04 23:01:08   \n",
       "5463            Ridgewood  131.0 2018-03-04 23:01:00 2018-03-04 23:04:08   \n",
       "5464            Ho-Ho-Kus   64.0 2018-03-04 23:05:00 2018-03-04 23:08:01   \n",
       "5465             Waldwick  151.0 2018-03-04 23:09:00 2018-03-04 23:10:00   \n",
       "\n",
       "        status       line        type     delay  \n",
       "5461  Departed  Main Line  NJ Transit  4.033333  \n",
       "5462  Departed  Main Line  NJ Transit  4.133333  \n",
       "5463  Departed  Main Line  NJ Transit  3.133333  \n",
       "5464  Departed  Main Line  NJ Transit  3.016667  \n",
       "5465  Departed  Main Line  NJ Transit  1.000000  "
      ]
     },
     "execution_count": 14,
     "metadata": {},
     "output_type": "execute_result"
    }
   ],
   "source": [
    "df.tail()"
   ]
  },
  {
   "cell_type": "code",
   "execution_count": 35,
   "metadata": {},
   "outputs": [],
   "source": [
    "# df.to_csv(\"../../csv/cleaned/formatted_20180205-20180304.csv\")"
   ]
  },
  {
   "cell_type": "markdown",
   "metadata": {},
   "source": [
    "Delay in unit of minutes"
   ]
  },
  {
   "cell_type": "markdown",
   "metadata": {},
   "source": [
    "## Read in cleaned data"
   ]
  },
  {
   "cell_type": "code",
   "execution_count": 16,
   "metadata": {},
   "outputs": [],
   "source": [
    "# df = pd.read_csv(\"../../csv/cleaned/formatted_20180205-20180304.csv\")"
   ]
  },
  {
   "cell_type": "markdown",
   "metadata": {},
   "source": [
    "# Filter data"
   ]
  },
  {
   "cell_type": "code",
   "execution_count": 17,
   "metadata": {},
   "outputs": [
    {
     "data": {
      "text/plain": [
       "NJ Transit    228217\n",
       "Amtrak         11584\n",
       "Name: type, dtype: int64"
      ]
     },
     "execution_count": 17,
     "metadata": {},
     "output_type": "execute_result"
    }
   ],
   "source": [
    "df[\"type\"].value_counts()"
   ]
  },
  {
   "cell_type": "code",
   "execution_count": 18,
   "metadata": {},
   "outputs": [
    {
     "data": {
      "text/plain": [
       "Northeast Corrdr             35582\n",
       "No Jersey Coast              34954\n",
       "Morristown Line              34528\n",
       "Gladstone Branch             22192\n",
       "Main Line                    20968\n",
       "Bergen Co. Line              19380\n",
       "Raritan Valley               18775\n",
       "Montclair-Boonton            18155\n",
       "Pascack Valley               13937\n",
       "Atl. City Line                5714\n",
       "Princeton Shuttle             4032\n",
       "Amtrak                        3461\n",
       "REGIONAL                      3178\n",
       "ACELA EXPRESS                 1945\n",
       "KEYSTONE                      1584\n",
       "AMTRAK                         284\n",
       "PENNSYLVANIAN                  223\n",
       "CRESCENT                       211\n",
       "SILVER STAR  -R                207\n",
       "CAROLINIAN                     188\n",
       "SILVER METEOR-R                179\n",
       "VERMONTER    -R                 76\n",
       "AMTRAK REGIONAL                 24\n",
       "Palmetto                        16\n",
       "Silver Service / Palmetto        4\n",
       "Carolinian / Piedmont            4\n",
       "Name: line, dtype: int64"
      ]
     },
     "execution_count": 18,
     "metadata": {},
     "output_type": "execute_result"
    }
   ],
   "source": [
    "df[\"line\"].value_counts()"
   ]
  },
  {
   "cell_type": "markdown",
   "metadata": {},
   "source": [
    "Simple enough..."
   ]
  },
  {
   "cell_type": "code",
   "execution_count": 19,
   "metadata": {},
   "outputs": [
    {
     "data": {
      "text/plain": [
       "array(['Princeton Junction', 'Princeton'], dtype=object)"
      ]
     },
     "execution_count": 19,
     "metadata": {},
     "output_type": "execute_result"
    }
   ],
   "source": [
    "df[df[\"from\"].str.lower().str.contains(\"princeton\")][\"from\"].unique()"
   ]
  },
  {
   "cell_type": "code",
   "execution_count": 20,
   "metadata": {},
   "outputs": [
    {
     "data": {
      "text/plain": [
       "array(['Princeton Junction', 'Princeton'], dtype=object)"
      ]
     },
     "execution_count": 20,
     "metadata": {},
     "output_type": "execute_result"
    }
   ],
   "source": [
    "df[df[\"to\"].str.lower().str.contains(\"princeton\")][\"to\"].unique()"
   ]
  },
  {
   "cell_type": "markdown",
   "metadata": {},
   "source": [
    "## Princeton only"
   ]
  },
  {
   "cell_type": "code",
   "execution_count": 21,
   "metadata": {},
   "outputs": [],
   "source": [
    "princeton = df[(df[\"from\"].str.lower().str.contains(\"princeton\")) | (df[\"to\"].str.lower().str.contains(\"princeton\"))]"
   ]
  },
  {
   "cell_type": "code",
   "execution_count": 22,
   "metadata": {},
   "outputs": [
    {
     "data": {
      "text/plain": [
       "9197"
      ]
     },
     "execution_count": 22,
     "metadata": {},
     "output_type": "execute_result"
    }
   ],
   "source": [
    "len(princeton)"
   ]
  },
  {
   "cell_type": "code",
   "execution_count": 23,
   "metadata": {},
   "outputs": [
    {
     "data": {
      "text/html": [
       "<div>\n",
       "<style scoped>\n",
       "    .dataframe tbody tr th:only-of-type {\n",
       "        vertical-align: middle;\n",
       "    }\n",
       "\n",
       "    .dataframe tbody tr th {\n",
       "        vertical-align: top;\n",
       "    }\n",
       "\n",
       "    .dataframe thead th {\n",
       "        text-align: right;\n",
       "    }\n",
       "</style>\n",
       "<table border=\"1\" class=\"dataframe\">\n",
       "  <thead>\n",
       "    <tr style=\"text-align: right;\">\n",
       "      <th></th>\n",
       "      <th>train_id</th>\n",
       "      <th>date</th>\n",
       "      <th>stop_sequence</th>\n",
       "      <th>from</th>\n",
       "      <th>from_id</th>\n",
       "      <th>to</th>\n",
       "      <th>to_id</th>\n",
       "      <th>expected</th>\n",
       "      <th>time</th>\n",
       "      <th>status</th>\n",
       "      <th>line</th>\n",
       "      <th>type</th>\n",
       "      <th>delay</th>\n",
       "    </tr>\n",
       "  </thead>\n",
       "  <tbody>\n",
       "    <tr>\n",
       "      <th>15</th>\n",
       "      <td>4135</td>\n",
       "      <td>2018-02-05</td>\n",
       "      <td>1.0</td>\n",
       "      <td>Princeton Junction</td>\n",
       "      <td>125.0</td>\n",
       "      <td>Princeton Junction</td>\n",
       "      <td>125.0</td>\n",
       "      <td>2018-02-05 12:04:00</td>\n",
       "      <td>2018-02-05 12:04:08</td>\n",
       "      <td>Departed</td>\n",
       "      <td>Princeton Shuttle</td>\n",
       "      <td>NJ Transit</td>\n",
       "      <td>0.133333</td>\n",
       "    </tr>\n",
       "    <tr>\n",
       "      <th>16</th>\n",
       "      <td>4135</td>\n",
       "      <td>2018-02-05</td>\n",
       "      <td>2.0</td>\n",
       "      <td>Princeton Junction</td>\n",
       "      <td>125.0</td>\n",
       "      <td>Princeton</td>\n",
       "      <td>124.0</td>\n",
       "      <td>2018-02-05 12:09:00</td>\n",
       "      <td>2018-02-05 12:09:00</td>\n",
       "      <td>Departed</td>\n",
       "      <td>Princeton Shuttle</td>\n",
       "      <td>NJ Transit</td>\n",
       "      <td>0.000000</td>\n",
       "    </tr>\n",
       "    <tr>\n",
       "      <th>112</th>\n",
       "      <td>4132</td>\n",
       "      <td>2018-02-05</td>\n",
       "      <td>1.0</td>\n",
       "      <td>Princeton</td>\n",
       "      <td>124.0</td>\n",
       "      <td>Princeton</td>\n",
       "      <td>124.0</td>\n",
       "      <td>2018-02-05 11:17:00</td>\n",
       "      <td>2018-02-05 11:17:10</td>\n",
       "      <td>Departed</td>\n",
       "      <td>Princeton Shuttle</td>\n",
       "      <td>NJ Transit</td>\n",
       "      <td>0.166667</td>\n",
       "    </tr>\n",
       "    <tr>\n",
       "      <th>113</th>\n",
       "      <td>4132</td>\n",
       "      <td>2018-02-05</td>\n",
       "      <td>2.0</td>\n",
       "      <td>Princeton</td>\n",
       "      <td>124.0</td>\n",
       "      <td>Princeton Junction</td>\n",
       "      <td>125.0</td>\n",
       "      <td>2018-02-05 11:22:00</td>\n",
       "      <td>2018-02-05 11:22:00</td>\n",
       "      <td>Departed</td>\n",
       "      <td>Princeton Shuttle</td>\n",
       "      <td>NJ Transit</td>\n",
       "      <td>0.000000</td>\n",
       "    </tr>\n",
       "    <tr>\n",
       "      <th>116</th>\n",
       "      <td>3926</td>\n",
       "      <td>2018-02-05</td>\n",
       "      <td>3.0</td>\n",
       "      <td>Hamilton</td>\n",
       "      <td>32905.0</td>\n",
       "      <td>Princeton Junction</td>\n",
       "      <td>125.0</td>\n",
       "      <td>2018-02-05 07:45:00</td>\n",
       "      <td>2018-02-05 07:45:15</td>\n",
       "      <td>Departed</td>\n",
       "      <td>Northeast Corrdr</td>\n",
       "      <td>NJ Transit</td>\n",
       "      <td>0.250000</td>\n",
       "    </tr>\n",
       "  </tbody>\n",
       "</table>\n",
       "</div>"
      ],
      "text/plain": [
       "    train_id       date  stop_sequence                from  from_id  \\\n",
       "15      4135 2018-02-05            1.0  Princeton Junction    125.0   \n",
       "16      4135 2018-02-05            2.0  Princeton Junction    125.0   \n",
       "112     4132 2018-02-05            1.0           Princeton    124.0   \n",
       "113     4132 2018-02-05            2.0           Princeton    124.0   \n",
       "116     3926 2018-02-05            3.0            Hamilton  32905.0   \n",
       "\n",
       "                     to  to_id            expected                time  \\\n",
       "15   Princeton Junction  125.0 2018-02-05 12:04:00 2018-02-05 12:04:08   \n",
       "16            Princeton  124.0 2018-02-05 12:09:00 2018-02-05 12:09:00   \n",
       "112           Princeton  124.0 2018-02-05 11:17:00 2018-02-05 11:17:10   \n",
       "113  Princeton Junction  125.0 2018-02-05 11:22:00 2018-02-05 11:22:00   \n",
       "116  Princeton Junction  125.0 2018-02-05 07:45:00 2018-02-05 07:45:15   \n",
       "\n",
       "       status               line        type     delay  \n",
       "15   Departed  Princeton Shuttle  NJ Transit  0.133333  \n",
       "16   Departed  Princeton Shuttle  NJ Transit  0.000000  \n",
       "112  Departed  Princeton Shuttle  NJ Transit  0.166667  \n",
       "113  Departed  Princeton Shuttle  NJ Transit  0.000000  \n",
       "116  Departed   Northeast Corrdr  NJ Transit  0.250000  "
      ]
     },
     "execution_count": 23,
     "metadata": {},
     "output_type": "execute_result"
    }
   ],
   "source": [
    "princeton.head()"
   ]
  },
  {
   "cell_type": "code",
   "execution_count": 24,
   "metadata": {},
   "outputs": [
    {
     "data": {
      "text/plain": [
       "NJ Transit    8933\n",
       "Amtrak         264\n",
       "Name: type, dtype: int64"
      ]
     },
     "execution_count": 24,
     "metadata": {},
     "output_type": "execute_result"
    }
   ],
   "source": [
    "princeton[\"type\"].value_counts()"
   ]
  },
  {
   "cell_type": "code",
   "execution_count": 25,
   "metadata": {},
   "outputs": [],
   "source": [
    "princeton = princeton[princeton[\"type\"] == \"NJ Transit\"]"
   ]
  },
  {
   "cell_type": "markdown",
   "metadata": {},
   "source": [
    "# Explore Princeton"
   ]
  },
  {
   "cell_type": "markdown",
   "metadata": {},
   "source": [
    "## Date"
   ]
  },
  {
   "cell_type": "code",
   "execution_count": 26,
   "metadata": {},
   "outputs": [
    {
     "data": {
      "text/plain": [
       "date\n",
       "2018-02-05    362\n",
       "2018-02-06    350\n",
       "2018-02-07    364\n",
       "2018-02-08    350\n",
       "2018-02-09    372\n",
       "2018-02-10    238\n",
       "2018-02-11    224\n",
       "2018-02-12    364\n",
       "2018-02-13    348\n",
       "2018-02-14    366\n",
       "2018-02-15    350\n",
       "2018-02-16    372\n",
       "2018-02-17    238\n",
       "2018-02-18    226\n",
       "2018-02-19    258\n",
       "2018-02-20    364\n",
       "2018-02-21    348\n",
       "2018-02-22    366\n",
       "2018-02-23    350\n",
       "2018-02-24    238\n",
       "2018-02-25    224\n",
       "2018-02-26    364\n",
       "2018-02-27    348\n",
       "2018-02-28    366\n",
       "2018-03-01    348\n",
       "2018-03-02    371\n",
       "2018-03-03    238\n",
       "2018-03-04    226\n",
       "dtype: int64"
      ]
     },
     "execution_count": 26,
     "metadata": {},
     "output_type": "execute_result"
    }
   ],
   "source": [
    "princeton.groupby(princeton[\"date\"]).size()"
   ]
  },
  {
   "cell_type": "code",
   "execution_count": 27,
   "metadata": {},
   "outputs": [
    {
     "data": {
      "text/plain": [
       "date\n",
       "0    1348\n",
       "1    1410\n",
       "2    1444\n",
       "3    1414\n",
       "4    1465\n",
       "5     952\n",
       "6     900\n",
       "dtype: int64"
      ]
     },
     "execution_count": 27,
     "metadata": {},
     "output_type": "execute_result"
    }
   ],
   "source": [
    "princeton.groupby(princeton[\"date\"].dt.weekday).size()"
   ]
  },
  {
   "cell_type": "markdown",
   "metadata": {},
   "source": [
    "Weekends low, as expected"
   ]
  },
  {
   "cell_type": "markdown",
   "metadata": {},
   "source": [
    "## Check delays"
   ]
  },
  {
   "cell_type": "code",
   "execution_count": 28,
   "metadata": {},
   "outputs": [
    {
     "data": {
      "text/plain": [
       "count    8933.000000\n",
       "mean        2.207278\n",
       "std         5.274259\n",
       "min         0.000000\n",
       "25%         0.000000\n",
       "50%         0.166667\n",
       "75%         2.216667\n",
       "max        85.000000\n",
       "Name: delay, dtype: float64"
      ]
     },
     "execution_count": 28,
     "metadata": {},
     "output_type": "execute_result"
    }
   ],
   "source": [
    "princeton[\"delay\"].describe()"
   ]
  },
  {
   "cell_type": "code",
   "execution_count": 29,
   "metadata": {
    "scrolled": true
   },
   "outputs": [
    {
     "data": {
      "text/plain": [
       "9434    85.0\n",
       "9433    84.0\n",
       "8447    78.0\n",
       "8448    76.0\n",
       "3950    73.0\n",
       "Name: delay, dtype: float64"
      ]
     },
     "execution_count": 29,
     "metadata": {},
     "output_type": "execute_result"
    }
   ],
   "source": [
    "princeton[\"delay\"].sort_values(ascending = False).head()"
   ]
  },
  {
   "cell_type": "code",
   "execution_count": 30,
   "metadata": {},
   "outputs": [
    {
     "data": {
      "text/plain": [
       "<matplotlib.axes._subplots.AxesSubplot at 0x129ac00f0>"
      ]
     },
     "execution_count": 30,
     "metadata": {},
     "output_type": "execute_result"
    },
    {
     "data": {
      "image/png": "[encoded data removed]",
      "text/plain": [
       "<matplotlib.figure.Figure at 0x129ac0780>"
      ]
     },
     "metadata": {},
     "output_type": "display_data"
    }
   ],
   "source": [
    "princeton[\"delay\"].hist(bins = 30)"
   ]
  },
  {
   "cell_type": "code",
   "execution_count": 31,
   "metadata": {},
   "outputs": [
    {
     "data": {
      "text/html": [
       "<div>\n",
       "<style scoped>\n",
       "    .dataframe tbody tr th:only-of-type {\n",
       "        vertical-align: middle;\n",
       "    }\n",
       "\n",
       "    .dataframe tbody tr th {\n",
       "        vertical-align: top;\n",
       "    }\n",
       "\n",
       "    .dataframe thead th {\n",
       "        text-align: right;\n",
       "    }\n",
       "</style>\n",
       "<table border=\"1\" class=\"dataframe\">\n",
       "  <thead>\n",
       "    <tr style=\"text-align: right;\">\n",
       "      <th></th>\n",
       "      <th>train_id</th>\n",
       "      <th>date</th>\n",
       "      <th>stop_sequence</th>\n",
       "      <th>from</th>\n",
       "      <th>from_id</th>\n",
       "      <th>to</th>\n",
       "      <th>to_id</th>\n",
       "      <th>expected</th>\n",
       "      <th>time</th>\n",
       "      <th>status</th>\n",
       "      <th>line</th>\n",
       "      <th>type</th>\n",
       "      <th>delay</th>\n",
       "    </tr>\n",
       "  </thead>\n",
       "  <tbody>\n",
       "  </tbody>\n",
       "</table>\n",
       "</div>"
      ],
      "text/plain": [
       "Empty DataFrame\n",
       "Columns: [train_id, date, stop_sequence, from, from_id, to, to_id, expected, time, status, line, type, delay]\n",
       "Index: []"
      ]
     },
     "execution_count": 31,
     "metadata": {},
     "output_type": "execute_result"
    }
   ],
   "source": [
    "princeton[pd.isnull(princeton[\"delay\"])]"
   ]
  },
  {
   "cell_type": "markdown",
   "metadata": {},
   "source": [
    "# Dinky only"
   ]
  },
  {
   "cell_type": "code",
   "execution_count": 32,
   "metadata": {},
   "outputs": [
    {
     "data": {
      "text/plain": [
       "Northeast Corrdr     4901\n",
       "Princeton Shuttle    4032\n",
       "Name: line, dtype: int64"
      ]
     },
     "execution_count": 32,
     "metadata": {},
     "output_type": "execute_result"
    }
   ],
   "source": [
    "princeton[\"line\"].value_counts()"
   ]
  },
  {
   "cell_type": "code",
   "execution_count": 33,
   "metadata": {},
   "outputs": [],
   "source": [
    "dinky = princeton[princeton[\"line\"] == \"Princeton Shuttle\"]"
   ]
  },
  {
   "cell_type": "code",
   "execution_count": 34,
   "metadata": {},
   "outputs": [
    {
     "data": {
      "text/html": [
       "<div>\n",
       "<style scoped>\n",
       "    .dataframe tbody tr th:only-of-type {\n",
       "        vertical-align: middle;\n",
       "    }\n",
       "\n",
       "    .dataframe tbody tr th {\n",
       "        vertical-align: top;\n",
       "    }\n",
       "\n",
       "    .dataframe thead th {\n",
       "        text-align: right;\n",
       "    }\n",
       "</style>\n",
       "<table border=\"1\" class=\"dataframe\">\n",
       "  <thead>\n",
       "    <tr style=\"text-align: right;\">\n",
       "      <th></th>\n",
       "      <th>train_id</th>\n",
       "      <th>date</th>\n",
       "      <th>stop_sequence</th>\n",
       "      <th>from</th>\n",
       "      <th>from_id</th>\n",
       "      <th>to</th>\n",
       "      <th>to_id</th>\n",
       "      <th>expected</th>\n",
       "      <th>time</th>\n",
       "      <th>status</th>\n",
       "      <th>line</th>\n",
       "      <th>type</th>\n",
       "      <th>delay</th>\n",
       "    </tr>\n",
       "  </thead>\n",
       "  <tbody>\n",
       "    <tr>\n",
       "      <th>15</th>\n",
       "      <td>4135</td>\n",
       "      <td>2018-02-05</td>\n",
       "      <td>1.0</td>\n",
       "      <td>Princeton Junction</td>\n",
       "      <td>125.0</td>\n",
       "      <td>Princeton Junction</td>\n",
       "      <td>125.0</td>\n",
       "      <td>2018-02-05 12:04:00</td>\n",
       "      <td>2018-02-05 12:04:08</td>\n",
       "      <td>Departed</td>\n",
       "      <td>Princeton Shuttle</td>\n",
       "      <td>NJ Transit</td>\n",
       "      <td>0.133333</td>\n",
       "    </tr>\n",
       "    <tr>\n",
       "      <th>16</th>\n",
       "      <td>4135</td>\n",
       "      <td>2018-02-05</td>\n",
       "      <td>2.0</td>\n",
       "      <td>Princeton Junction</td>\n",
       "      <td>125.0</td>\n",
       "      <td>Princeton</td>\n",
       "      <td>124.0</td>\n",
       "      <td>2018-02-05 12:09:00</td>\n",
       "      <td>2018-02-05 12:09:00</td>\n",
       "      <td>Departed</td>\n",
       "      <td>Princeton Shuttle</td>\n",
       "      <td>NJ Transit</td>\n",
       "      <td>0.000000</td>\n",
       "    </tr>\n",
       "    <tr>\n",
       "      <th>112</th>\n",
       "      <td>4132</td>\n",
       "      <td>2018-02-05</td>\n",
       "      <td>1.0</td>\n",
       "      <td>Princeton</td>\n",
       "      <td>124.0</td>\n",
       "      <td>Princeton</td>\n",
       "      <td>124.0</td>\n",
       "      <td>2018-02-05 11:17:00</td>\n",
       "      <td>2018-02-05 11:17:10</td>\n",
       "      <td>Departed</td>\n",
       "      <td>Princeton Shuttle</td>\n",
       "      <td>NJ Transit</td>\n",
       "      <td>0.166667</td>\n",
       "    </tr>\n",
       "    <tr>\n",
       "      <th>113</th>\n",
       "      <td>4132</td>\n",
       "      <td>2018-02-05</td>\n",
       "      <td>2.0</td>\n",
       "      <td>Princeton</td>\n",
       "      <td>124.0</td>\n",
       "      <td>Princeton Junction</td>\n",
       "      <td>125.0</td>\n",
       "      <td>2018-02-05 11:22:00</td>\n",
       "      <td>2018-02-05 11:22:00</td>\n",
       "      <td>Departed</td>\n",
       "      <td>Princeton Shuttle</td>\n",
       "      <td>NJ Transit</td>\n",
       "      <td>0.000000</td>\n",
       "    </tr>\n",
       "    <tr>\n",
       "      <th>131</th>\n",
       "      <td>4104</td>\n",
       "      <td>2018-02-05</td>\n",
       "      <td>1.0</td>\n",
       "      <td>Princeton</td>\n",
       "      <td>124.0</td>\n",
       "      <td>Princeton</td>\n",
       "      <td>124.0</td>\n",
       "      <td>2018-02-06 01:45:00</td>\n",
       "      <td>2018-02-06 01:45:05</td>\n",
       "      <td>Departed</td>\n",
       "      <td>Princeton Shuttle</td>\n",
       "      <td>NJ Transit</td>\n",
       "      <td>0.083333</td>\n",
       "    </tr>\n",
       "    <tr>\n",
       "      <th>132</th>\n",
       "      <td>4104</td>\n",
       "      <td>2018-02-05</td>\n",
       "      <td>2.0</td>\n",
       "      <td>Princeton</td>\n",
       "      <td>124.0</td>\n",
       "      <td>Princeton Junction</td>\n",
       "      <td>125.0</td>\n",
       "      <td>2018-02-06 01:50:00</td>\n",
       "      <td>2018-02-06 01:50:00</td>\n",
       "      <td>Departed</td>\n",
       "      <td>Princeton Shuttle</td>\n",
       "      <td>NJ Transit</td>\n",
       "      <td>0.000000</td>\n",
       "    </tr>\n",
       "    <tr>\n",
       "      <th>245</th>\n",
       "      <td>4103</td>\n",
       "      <td>2018-02-05</td>\n",
       "      <td>1.0</td>\n",
       "      <td>Princeton Junction</td>\n",
       "      <td>125.0</td>\n",
       "      <td>Princeton Junction</td>\n",
       "      <td>125.0</td>\n",
       "      <td>2018-02-06 01:35:00</td>\n",
       "      <td>2018-02-06 01:35:02</td>\n",
       "      <td>Departed</td>\n",
       "      <td>Princeton Shuttle</td>\n",
       "      <td>NJ Transit</td>\n",
       "      <td>0.033333</td>\n",
       "    </tr>\n",
       "    <tr>\n",
       "      <th>246</th>\n",
       "      <td>4103</td>\n",
       "      <td>2018-02-05</td>\n",
       "      <td>2.0</td>\n",
       "      <td>Princeton Junction</td>\n",
       "      <td>125.0</td>\n",
       "      <td>Princeton</td>\n",
       "      <td>124.0</td>\n",
       "      <td>2018-02-06 01:40:00</td>\n",
       "      <td>2018-02-06 01:40:00</td>\n",
       "      <td>Departed</td>\n",
       "      <td>Princeton Shuttle</td>\n",
       "      <td>NJ Transit</td>\n",
       "      <td>0.000000</td>\n",
       "    </tr>\n",
       "    <tr>\n",
       "      <th>314</th>\n",
       "      <td>4168</td>\n",
       "      <td>2018-02-05</td>\n",
       "      <td>1.0</td>\n",
       "      <td>Princeton</td>\n",
       "      <td>124.0</td>\n",
       "      <td>Princeton</td>\n",
       "      <td>124.0</td>\n",
       "      <td>2018-02-05 19:37:00</td>\n",
       "      <td>2018-02-05 19:37:10</td>\n",
       "      <td>Departed</td>\n",
       "      <td>Princeton Shuttle</td>\n",
       "      <td>NJ Transit</td>\n",
       "      <td>0.166667</td>\n",
       "    </tr>\n",
       "    <tr>\n",
       "      <th>315</th>\n",
       "      <td>4168</td>\n",
       "      <td>2018-02-05</td>\n",
       "      <td>2.0</td>\n",
       "      <td>Princeton</td>\n",
       "      <td>124.0</td>\n",
       "      <td>Princeton Junction</td>\n",
       "      <td>125.0</td>\n",
       "      <td>2018-02-05 19:42:00</td>\n",
       "      <td>2018-02-05 19:42:00</td>\n",
       "      <td>Departed</td>\n",
       "      <td>Princeton Shuttle</td>\n",
       "      <td>NJ Transit</td>\n",
       "      <td>0.000000</td>\n",
       "    </tr>\n",
       "    <tr>\n",
       "      <th>371</th>\n",
       "      <td>4157</td>\n",
       "      <td>2018-02-05</td>\n",
       "      <td>1.0</td>\n",
       "      <td>Princeton Junction</td>\n",
       "      <td>125.0</td>\n",
       "      <td>Princeton Junction</td>\n",
       "      <td>125.0</td>\n",
       "      <td>2018-02-05 17:16:00</td>\n",
       "      <td>2018-02-05 17:16:15</td>\n",
       "      <td>Departed</td>\n",
       "      <td>Princeton Shuttle</td>\n",
       "      <td>NJ Transit</td>\n",
       "      <td>0.250000</td>\n",
       "    </tr>\n",
       "    <tr>\n",
       "      <th>372</th>\n",
       "      <td>4157</td>\n",
       "      <td>2018-02-05</td>\n",
       "      <td>2.0</td>\n",
       "      <td>Princeton Junction</td>\n",
       "      <td>125.0</td>\n",
       "      <td>Princeton</td>\n",
       "      <td>124.0</td>\n",
       "      <td>2018-02-05 17:21:00</td>\n",
       "      <td>2018-02-05 17:21:00</td>\n",
       "      <td>Departed</td>\n",
       "      <td>Princeton Shuttle</td>\n",
       "      <td>NJ Transit</td>\n",
       "      <td>0.000000</td>\n",
       "    </tr>\n",
       "    <tr>\n",
       "      <th>411</th>\n",
       "      <td>4150</td>\n",
       "      <td>2018-02-05</td>\n",
       "      <td>1.0</td>\n",
       "      <td>Princeton</td>\n",
       "      <td>124.0</td>\n",
       "      <td>Princeton</td>\n",
       "      <td>124.0</td>\n",
       "      <td>2018-02-05 15:38:00</td>\n",
       "      <td>2018-02-05 15:38:06</td>\n",
       "      <td>Departed</td>\n",
       "      <td>Princeton Shuttle</td>\n",
       "      <td>NJ Transit</td>\n",
       "      <td>0.100000</td>\n",
       "    </tr>\n",
       "    <tr>\n",
       "      <th>412</th>\n",
       "      <td>4150</td>\n",
       "      <td>2018-02-05</td>\n",
       "      <td>2.0</td>\n",
       "      <td>Princeton</td>\n",
       "      <td>124.0</td>\n",
       "      <td>Princeton Junction</td>\n",
       "      <td>125.0</td>\n",
       "      <td>2018-02-05 15:43:00</td>\n",
       "      <td>2018-02-05 15:43:00</td>\n",
       "      <td>Departed</td>\n",
       "      <td>Princeton Shuttle</td>\n",
       "      <td>NJ Transit</td>\n",
       "      <td>0.000000</td>\n",
       "    </tr>\n",
       "    <tr>\n",
       "      <th>514</th>\n",
       "      <td>4159</td>\n",
       "      <td>2018-02-05</td>\n",
       "      <td>1.0</td>\n",
       "      <td>Princeton Junction</td>\n",
       "      <td>125.0</td>\n",
       "      <td>Princeton Junction</td>\n",
       "      <td>125.0</td>\n",
       "      <td>2018-02-05 18:00:00</td>\n",
       "      <td>2018-02-05 18:00:21</td>\n",
       "      <td>Departed</td>\n",
       "      <td>Princeton Shuttle</td>\n",
       "      <td>NJ Transit</td>\n",
       "      <td>0.350000</td>\n",
       "    </tr>\n",
       "    <tr>\n",
       "      <th>515</th>\n",
       "      <td>4159</td>\n",
       "      <td>2018-02-05</td>\n",
       "      <td>2.0</td>\n",
       "      <td>Princeton Junction</td>\n",
       "      <td>125.0</td>\n",
       "      <td>Princeton</td>\n",
       "      <td>124.0</td>\n",
       "      <td>2018-02-05 18:05:00</td>\n",
       "      <td>2018-02-05 18:05:00</td>\n",
       "      <td>Departed</td>\n",
       "      <td>Princeton Shuttle</td>\n",
       "      <td>NJ Transit</td>\n",
       "      <td>0.000000</td>\n",
       "    </tr>\n",
       "    <tr>\n",
       "      <th>594</th>\n",
       "      <td>4166</td>\n",
       "      <td>2018-02-05</td>\n",
       "      <td>1.0</td>\n",
       "      <td>Princeton</td>\n",
       "      <td>124.0</td>\n",
       "      <td>Princeton</td>\n",
       "      <td>124.0</td>\n",
       "      <td>2018-02-05 19:17:00</td>\n",
       "      <td>2018-02-05 19:17:10</td>\n",
       "      <td>Departed</td>\n",
       "      <td>Princeton Shuttle</td>\n",
       "      <td>NJ Transit</td>\n",
       "      <td>0.166667</td>\n",
       "    </tr>\n",
       "    <tr>\n",
       "      <th>595</th>\n",
       "      <td>4166</td>\n",
       "      <td>2018-02-05</td>\n",
       "      <td>2.0</td>\n",
       "      <td>Princeton</td>\n",
       "      <td>124.0</td>\n",
       "      <td>Princeton Junction</td>\n",
       "      <td>125.0</td>\n",
       "      <td>2018-02-05 19:22:00</td>\n",
       "      <td>2018-02-05 19:22:00</td>\n",
       "      <td>Departed</td>\n",
       "      <td>Princeton Shuttle</td>\n",
       "      <td>NJ Transit</td>\n",
       "      <td>0.000000</td>\n",
       "    </tr>\n",
       "    <tr>\n",
       "      <th>682</th>\n",
       "      <td>4161</td>\n",
       "      <td>2018-02-05</td>\n",
       "      <td>1.0</td>\n",
       "      <td>Princeton Junction</td>\n",
       "      <td>125.0</td>\n",
       "      <td>Princeton Junction</td>\n",
       "      <td>125.0</td>\n",
       "      <td>2018-02-05 18:27:00</td>\n",
       "      <td>2018-02-05 18:27:10</td>\n",
       "      <td>Departed</td>\n",
       "      <td>Princeton Shuttle</td>\n",
       "      <td>NJ Transit</td>\n",
       "      <td>0.166667</td>\n",
       "    </tr>\n",
       "    <tr>\n",
       "      <th>683</th>\n",
       "      <td>4161</td>\n",
       "      <td>2018-02-05</td>\n",
       "      <td>2.0</td>\n",
       "      <td>Princeton Junction</td>\n",
       "      <td>125.0</td>\n",
       "      <td>Princeton</td>\n",
       "      <td>124.0</td>\n",
       "      <td>2018-02-05 18:32:00</td>\n",
       "      <td>2018-02-05 18:32:00</td>\n",
       "      <td>Departed</td>\n",
       "      <td>Princeton Shuttle</td>\n",
       "      <td>NJ Transit</td>\n",
       "      <td>0.000000</td>\n",
       "    </tr>\n",
       "  </tbody>\n",
       "</table>\n",
       "</div>"
      ],
      "text/plain": [
       "    train_id       date  stop_sequence                from  from_id  \\\n",
       "15      4135 2018-02-05            1.0  Princeton Junction    125.0   \n",
       "16      4135 2018-02-05            2.0  Princeton Junction    125.0   \n",
       "112     4132 2018-02-05            1.0           Princeton    124.0   \n",
       "113     4132 2018-02-05            2.0           Princeton    124.0   \n",
       "131     4104 2018-02-05            1.0           Princeton    124.0   \n",
       "132     4104 2018-02-05            2.0           Princeton    124.0   \n",
       "245     4103 2018-02-05            1.0  Princeton Junction    125.0   \n",
       "246     4103 2018-02-05            2.0  Princeton Junction    125.0   \n",
       "314     4168 2018-02-05            1.0           Princeton    124.0   \n",
       "315     4168 2018-02-05            2.0           Princeton    124.0   \n",
       "371     4157 2018-02-05            1.0  Princeton Junction    125.0   \n",
       "372     4157 2018-02-05            2.0  Princeton Junction    125.0   \n",
       "411     4150 2018-02-05            1.0           Princeton    124.0   \n",
       "412     4150 2018-02-05            2.0           Princeton    124.0   \n",
       "514     4159 2018-02-05            1.0  Princeton Junction    125.0   \n",
       "515     4159 2018-02-05            2.0  Princeton Junction    125.0   \n",
       "594     4166 2018-02-05            1.0           Princeton    124.0   \n",
       "595     4166 2018-02-05            2.0           Princeton    124.0   \n",
       "682     4161 2018-02-05            1.0  Princeton Junction    125.0   \n",
       "683     4161 2018-02-05            2.0  Princeton Junction    125.0   \n",
       "\n",
       "                     to  to_id            expected                time  \\\n",
       "15   Princeton Junction  125.0 2018-02-05 12:04:00 2018-02-05 12:04:08   \n",
       "16            Princeton  124.0 2018-02-05 12:09:00 2018-02-05 12:09:00   \n",
       "112           Princeton  124.0 2018-02-05 11:17:00 2018-02-05 11:17:10   \n",
       "113  Princeton Junction  125.0 2018-02-05 11:22:00 2018-02-05 11:22:00   \n",
       "131           Princeton  124.0 2018-02-06 01:45:00 2018-02-06 01:45:05   \n",
       "132  Princeton Junction  125.0 2018-02-06 01:50:00 2018-02-06 01:50:00   \n",
       "245  Princeton Junction  125.0 2018-02-06 01:35:00 2018-02-06 01:35:02   \n",
       "246           Princeton  124.0 2018-02-06 01:40:00 2018-02-06 01:40:00   \n",
       "314           Princeton  124.0 2018-02-05 19:37:00 2018-02-05 19:37:10   \n",
       "315  Princeton Junction  125.0 2018-02-05 19:42:00 2018-02-05 19:42:00   \n",
       "371  Princeton Junction  125.0 2018-02-05 17:16:00 2018-02-05 17:16:15   \n",
       "372           Princeton  124.0 2018-02-05 17:21:00 2018-02-05 17:21:00   \n",
       "411           Princeton  124.0 2018-02-05 15:38:00 2018-02-05 15:38:06   \n",
       "412  Princeton Junction  125.0 2018-02-05 15:43:00 2018-02-05 15:43:00   \n",
       "514  Princeton Junction  125.0 2018-02-05 18:00:00 2018-02-05 18:00:21   \n",
       "515           Princeton  124.0 2018-02-05 18:05:00 2018-02-05 18:05:00   \n",
       "594           Princeton  124.0 2018-02-05 19:17:00 2018-02-05 19:17:10   \n",
       "595  Princeton Junction  125.0 2018-02-05 19:22:00 2018-02-05 19:22:00   \n",
       "682  Princeton Junction  125.0 2018-02-05 18:27:00 2018-02-05 18:27:10   \n",
       "683           Princeton  124.0 2018-02-05 18:32:00 2018-02-05 18:32:00   \n",
       "\n",
       "       status               line        type     delay  \n",
       "15   Departed  Princeton Shuttle  NJ Transit  0.133333  \n",
       "16   Departed  Princeton Shuttle  NJ Transit  0.000000  \n",
       "112  Departed  Princeton Shuttle  NJ Transit  0.166667  \n",
       "113  Departed  Princeton Shuttle  NJ Transit  0.000000  \n",
       "131  Departed  Princeton Shuttle  NJ Transit  0.083333  \n",
       "132  Departed  Princeton Shuttle  NJ Transit  0.000000  \n",
       "245  Departed  Princeton Shuttle  NJ Transit  0.033333  \n",
       "246  Departed  Princeton Shuttle  NJ Transit  0.000000  \n",
       "314  Departed  Princeton Shuttle  NJ Transit  0.166667  \n",
       "315  Departed  Princeton Shuttle  NJ Transit  0.000000  \n",
       "371  Departed  Princeton Shuttle  NJ Transit  0.250000  \n",
       "372  Departed  Princeton Shuttle  NJ Transit  0.000000  \n",
       "411  Departed  Princeton Shuttle  NJ Transit  0.100000  \n",
       "412  Departed  Princeton Shuttle  NJ Transit  0.000000  \n",
       "514  Departed  Princeton Shuttle  NJ Transit  0.350000  \n",
       "515  Departed  Princeton Shuttle  NJ Transit  0.000000  \n",
       "594  Departed  Princeton Shuttle  NJ Transit  0.166667  \n",
       "595  Departed  Princeton Shuttle  NJ Transit  0.000000  \n",
       "682  Departed  Princeton Shuttle  NJ Transit  0.166667  \n",
       "683  Departed  Princeton Shuttle  NJ Transit  0.000000  "
      ]
     },
     "execution_count": 34,
     "metadata": {},
     "output_type": "execute_result"
    }
   ],
   "source": [
    "dinky.head(20)"
   ]
  },
  {
   "cell_type": "markdown",
   "metadata": {},
   "source": [
    "Always stop_sequence 1-2-1-2-1-2..."
   ]
  },
  {
   "cell_type": "code",
   "execution_count": 36,
   "metadata": {},
   "outputs": [
    {
     "data": {
      "text/plain": [
       "expected\n",
       "0    564\n",
       "1    652\n",
       "2    620\n",
       "3    644\n",
       "4    620\n",
       "5    468\n",
       "6    464\n",
       "dtype: int64"
      ]
     },
     "execution_count": 36,
     "metadata": {},
     "output_type": "execute_result"
    }
   ],
   "source": [
    "dinky.groupby(dinky[\"expected\"].dt.weekday).size()"
   ]
  },
  {
   "cell_type": "markdown",
   "metadata": {},
   "source": [
    "## Delay"
   ]
  },
  {
   "cell_type": "code",
   "execution_count": 37,
   "metadata": {},
   "outputs": [
    {
     "data": {
      "text/plain": [
       "count    4032.000000\n",
       "mean        0.083309\n",
       "std         0.134500\n",
       "min         0.000000\n",
       "25%         0.000000\n",
       "50%         0.000000\n",
       "75%         0.150000\n",
       "max         4.466667\n",
       "Name: delay, dtype: float64"
      ]
     },
     "execution_count": 37,
     "metadata": {},
     "output_type": "execute_result"
    }
   ],
   "source": [
    "dinky[\"delay\"].describe()"
   ]
  },
  {
   "cell_type": "code",
   "execution_count": 38,
   "metadata": {},
   "outputs": [
    {
     "data": {
      "text/plain": [
       "4099    4.466667\n",
       "7301    3.233333\n",
       "8715    1.000000\n",
       "2875    0.566667\n",
       "2609    0.533333\n",
       "5689    0.500000\n",
       "6836    0.483333\n",
       "7085    0.483333\n",
       "400     0.466667\n",
       "1841    0.466667\n",
       "9914    0.466667\n",
       "8198    0.466667\n",
       "5416    0.466667\n",
       "1923    0.466667\n",
       "2674    0.450000\n",
       "3567    0.450000\n",
       "2675    0.450000\n",
       "7962    0.433333\n",
       "9229    0.433333\n",
       "8849    0.416667\n",
       "Name: delay, dtype: float64"
      ]
     },
     "execution_count": 38,
     "metadata": {},
     "output_type": "execute_result"
    }
   ],
   "source": [
    "dinky[\"delay\"].sort_values(ascending = False).head(20)"
   ]
  },
  {
   "cell_type": "code",
   "execution_count": 39,
   "metadata": {},
   "outputs": [
    {
     "data": {
      "text/plain": [
       "<matplotlib.axes._subplots.AxesSubplot at 0x112f531d0>"
      ]
     },
     "execution_count": 39,
     "metadata": {},
     "output_type": "execute_result"
    },
    {
     "data": {
      "image/png": "[encoded data removed]",
      "text/plain": [
       "<matplotlib.figure.Figure at 0x107f097b8>"
      ]
     },
     "metadata": {},
     "output_type": "display_data"
    }
   ],
   "source": [
    "dinky[\"delay\"].hist(bins = 50)"
   ]
  },
  {
   "cell_type": "markdown",
   "metadata": {},
   "source": [
    "## Stop sequence 1"
   ]
  },
  {
   "cell_type": "code",
   "execution_count": 40,
   "metadata": {},
   "outputs": [],
   "source": [
    "leaving_dinky = dinky[dinky[\"stop_sequence\"] == 1.0]"
   ]
  },
  {
   "cell_type": "code",
   "execution_count": 41,
   "metadata": {},
   "outputs": [
    {
     "data": {
      "text/plain": [
       "Departed    2016\n",
       "Name: status, dtype: int64"
      ]
     },
     "execution_count": 41,
     "metadata": {},
     "output_type": "execute_result"
    }
   ],
   "source": [
    "leaving_dinky[\"status\"].value_counts()"
   ]
  },
  {
   "cell_type": "code",
   "execution_count": 42,
   "metadata": {},
   "outputs": [
    {
     "data": {
      "text/html": [
       "<div>\n",
       "<style scoped>\n",
       "    .dataframe tbody tr th:only-of-type {\n",
       "        vertical-align: middle;\n",
       "    }\n",
       "\n",
       "    .dataframe tbody tr th {\n",
       "        vertical-align: top;\n",
       "    }\n",
       "\n",
       "    .dataframe thead th {\n",
       "        text-align: right;\n",
       "    }\n",
       "</style>\n",
       "<table border=\"1\" class=\"dataframe\">\n",
       "  <thead>\n",
       "    <tr style=\"text-align: right;\">\n",
       "      <th></th>\n",
       "      <th>train_id</th>\n",
       "      <th>date</th>\n",
       "      <th>stop_sequence</th>\n",
       "      <th>from</th>\n",
       "      <th>from_id</th>\n",
       "      <th>to</th>\n",
       "      <th>to_id</th>\n",
       "      <th>expected</th>\n",
       "      <th>time</th>\n",
       "      <th>status</th>\n",
       "      <th>line</th>\n",
       "      <th>type</th>\n",
       "      <th>delay</th>\n",
       "    </tr>\n",
       "  </thead>\n",
       "  <tbody>\n",
       "    <tr>\n",
       "      <th>15</th>\n",
       "      <td>4135</td>\n",
       "      <td>2018-02-05</td>\n",
       "      <td>1.0</td>\n",
       "      <td>Princeton Junction</td>\n",
       "      <td>125.0</td>\n",
       "      <td>Princeton Junction</td>\n",
       "      <td>125.0</td>\n",
       "      <td>2018-02-05 12:04:00</td>\n",
       "      <td>2018-02-05 12:04:08</td>\n",
       "      <td>Departed</td>\n",
       "      <td>Princeton Shuttle</td>\n",
       "      <td>NJ Transit</td>\n",
       "      <td>0.133333</td>\n",
       "    </tr>\n",
       "    <tr>\n",
       "      <th>112</th>\n",
       "      <td>4132</td>\n",
       "      <td>2018-02-05</td>\n",
       "      <td>1.0</td>\n",
       "      <td>Princeton</td>\n",
       "      <td>124.0</td>\n",
       "      <td>Princeton</td>\n",
       "      <td>124.0</td>\n",
       "      <td>2018-02-05 11:17:00</td>\n",
       "      <td>2018-02-05 11:17:10</td>\n",
       "      <td>Departed</td>\n",
       "      <td>Princeton Shuttle</td>\n",
       "      <td>NJ Transit</td>\n",
       "      <td>0.166667</td>\n",
       "    </tr>\n",
       "    <tr>\n",
       "      <th>131</th>\n",
       "      <td>4104</td>\n",
       "      <td>2018-02-05</td>\n",
       "      <td>1.0</td>\n",
       "      <td>Princeton</td>\n",
       "      <td>124.0</td>\n",
       "      <td>Princeton</td>\n",
       "      <td>124.0</td>\n",
       "      <td>2018-02-06 01:45:00</td>\n",
       "      <td>2018-02-06 01:45:05</td>\n",
       "      <td>Departed</td>\n",
       "      <td>Princeton Shuttle</td>\n",
       "      <td>NJ Transit</td>\n",
       "      <td>0.083333</td>\n",
       "    </tr>\n",
       "    <tr>\n",
       "      <th>245</th>\n",
       "      <td>4103</td>\n",
       "      <td>2018-02-05</td>\n",
       "      <td>1.0</td>\n",
       "      <td>Princeton Junction</td>\n",
       "      <td>125.0</td>\n",
       "      <td>Princeton Junction</td>\n",
       "      <td>125.0</td>\n",
       "      <td>2018-02-06 01:35:00</td>\n",
       "      <td>2018-02-06 01:35:02</td>\n",
       "      <td>Departed</td>\n",
       "      <td>Princeton Shuttle</td>\n",
       "      <td>NJ Transit</td>\n",
       "      <td>0.033333</td>\n",
       "    </tr>\n",
       "    <tr>\n",
       "      <th>314</th>\n",
       "      <td>4168</td>\n",
       "      <td>2018-02-05</td>\n",
       "      <td>1.0</td>\n",
       "      <td>Princeton</td>\n",
       "      <td>124.0</td>\n",
       "      <td>Princeton</td>\n",
       "      <td>124.0</td>\n",
       "      <td>2018-02-05 19:37:00</td>\n",
       "      <td>2018-02-05 19:37:10</td>\n",
       "      <td>Departed</td>\n",
       "      <td>Princeton Shuttle</td>\n",
       "      <td>NJ Transit</td>\n",
       "      <td>0.166667</td>\n",
       "    </tr>\n",
       "  </tbody>\n",
       "</table>\n",
       "</div>"
      ],
      "text/plain": [
       "    train_id       date  stop_sequence                from  from_id  \\\n",
       "15      4135 2018-02-05            1.0  Princeton Junction    125.0   \n",
       "112     4132 2018-02-05            1.0           Princeton    124.0   \n",
       "131     4104 2018-02-05            1.0           Princeton    124.0   \n",
       "245     4103 2018-02-05            1.0  Princeton Junction    125.0   \n",
       "314     4168 2018-02-05            1.0           Princeton    124.0   \n",
       "\n",
       "                     to  to_id            expected                time  \\\n",
       "15   Princeton Junction  125.0 2018-02-05 12:04:00 2018-02-05 12:04:08   \n",
       "112           Princeton  124.0 2018-02-05 11:17:00 2018-02-05 11:17:10   \n",
       "131           Princeton  124.0 2018-02-06 01:45:00 2018-02-06 01:45:05   \n",
       "245  Princeton Junction  125.0 2018-02-06 01:35:00 2018-02-06 01:35:02   \n",
       "314           Princeton  124.0 2018-02-05 19:37:00 2018-02-05 19:37:10   \n",
       "\n",
       "       status               line        type     delay  \n",
       "15   Departed  Princeton Shuttle  NJ Transit  0.133333  \n",
       "112  Departed  Princeton Shuttle  NJ Transit  0.166667  \n",
       "131  Departed  Princeton Shuttle  NJ Transit  0.083333  \n",
       "245  Departed  Princeton Shuttle  NJ Transit  0.033333  \n",
       "314  Departed  Princeton Shuttle  NJ Transit  0.166667  "
      ]
     },
     "execution_count": 42,
     "metadata": {},
     "output_type": "execute_result"
    }
   ],
   "source": [
    "leaving_dinky.head()"
   ]
  },
  {
   "cell_type": "code",
   "execution_count": 43,
   "metadata": {},
   "outputs": [
    {
     "data": {
      "text/plain": [
       "count    2016.000000\n",
       "mean        0.166617\n",
       "std         0.149338\n",
       "min         0.000000\n",
       "25%         0.100000\n",
       "50%         0.150000\n",
       "75%         0.216667\n",
       "max         4.466667\n",
       "Name: delay, dtype: float64"
      ]
     },
     "execution_count": 43,
     "metadata": {},
     "output_type": "execute_result"
    }
   ],
   "source": [
    "leaving_dinky[\"delay\"].describe()"
   ]
  },
  {
   "cell_type": "code",
   "execution_count": 44,
   "metadata": {},
   "outputs": [
    {
     "data": {
      "text/plain": [
       "0.2833333333333333"
      ]
     },
     "execution_count": 44,
     "metadata": {},
     "output_type": "execute_result"
    }
   ],
   "source": [
    "leaving_dinky[\"delay\"].quantile(.9)"
   ]
  },
  {
   "cell_type": "code",
   "execution_count": 45,
   "metadata": {},
   "outputs": [
    {
     "data": {
      "text/plain": [
       "0.31666666666666665"
      ]
     },
     "execution_count": 45,
     "metadata": {},
     "output_type": "execute_result"
    }
   ],
   "source": [
    "leaving_dinky[\"delay\"].quantile(.95)"
   ]
  },
  {
   "cell_type": "code",
   "execution_count": 46,
   "metadata": {},
   "outputs": [
    {
     "data": {
      "text/plain": [
       "0.9935000000000554"
      ]
     },
     "execution_count": 46,
     "metadata": {},
     "output_type": "execute_result"
    }
   ],
   "source": [
    "leaving_dinky[\"delay\"].quantile(.999)"
   ]
  },
  {
   "cell_type": "code",
   "execution_count": 47,
   "metadata": {},
   "outputs": [
    {
     "data": {
      "text/html": [
       "<div>\n",
       "<style scoped>\n",
       "    .dataframe tbody tr th:only-of-type {\n",
       "        vertical-align: middle;\n",
       "    }\n",
       "\n",
       "    .dataframe tbody tr th {\n",
       "        vertical-align: top;\n",
       "    }\n",
       "\n",
       "    .dataframe thead th {\n",
       "        text-align: right;\n",
       "    }\n",
       "</style>\n",
       "<table border=\"1\" class=\"dataframe\">\n",
       "  <thead>\n",
       "    <tr style=\"text-align: right;\">\n",
       "      <th></th>\n",
       "      <th>train_id</th>\n",
       "      <th>date</th>\n",
       "      <th>stop_sequence</th>\n",
       "      <th>from</th>\n",
       "      <th>from_id</th>\n",
       "      <th>to</th>\n",
       "      <th>to_id</th>\n",
       "      <th>expected</th>\n",
       "      <th>time</th>\n",
       "      <th>status</th>\n",
       "      <th>line</th>\n",
       "      <th>type</th>\n",
       "      <th>delay</th>\n",
       "    </tr>\n",
       "  </thead>\n",
       "  <tbody>\n",
       "    <tr>\n",
       "      <th>8715</th>\n",
       "      <td>4142</td>\n",
       "      <td>2018-02-20</td>\n",
       "      <td>1.0</td>\n",
       "      <td>Princeton</td>\n",
       "      <td>124.0</td>\n",
       "      <td>Princeton</td>\n",
       "      <td>124.0</td>\n",
       "      <td>2018-02-20 13:46:00</td>\n",
       "      <td>2018-02-20 13:47:00</td>\n",
       "      <td>Departed</td>\n",
       "      <td>Princeton Shuttle</td>\n",
       "      <td>NJ Transit</td>\n",
       "      <td>1.000000</td>\n",
       "    </tr>\n",
       "    <tr>\n",
       "      <th>7301</th>\n",
       "      <td>4134</td>\n",
       "      <td>2018-03-01</td>\n",
       "      <td>1.0</td>\n",
       "      <td>Princeton</td>\n",
       "      <td>124.0</td>\n",
       "      <td>Princeton</td>\n",
       "      <td>124.0</td>\n",
       "      <td>2018-03-01 11:52:00</td>\n",
       "      <td>2018-03-01 11:55:14</td>\n",
       "      <td>Departed</td>\n",
       "      <td>Princeton Shuttle</td>\n",
       "      <td>NJ Transit</td>\n",
       "      <td>3.233333</td>\n",
       "    </tr>\n",
       "    <tr>\n",
       "      <th>4099</th>\n",
       "      <td>4265</td>\n",
       "      <td>2018-03-04</td>\n",
       "      <td>1.0</td>\n",
       "      <td>Princeton Junction</td>\n",
       "      <td>125.0</td>\n",
       "      <td>Princeton Junction</td>\n",
       "      <td>125.0</td>\n",
       "      <td>2018-03-04 20:34:00</td>\n",
       "      <td>2018-03-04 20:38:28</td>\n",
       "      <td>Departed</td>\n",
       "      <td>Princeton Shuttle</td>\n",
       "      <td>NJ Transit</td>\n",
       "      <td>4.466667</td>\n",
       "    </tr>\n",
       "  </tbody>\n",
       "</table>\n",
       "</div>"
      ],
      "text/plain": [
       "     train_id       date  stop_sequence                from  from_id  \\\n",
       "8715     4142 2018-02-20            1.0           Princeton    124.0   \n",
       "7301     4134 2018-03-01            1.0           Princeton    124.0   \n",
       "4099     4265 2018-03-04            1.0  Princeton Junction    125.0   \n",
       "\n",
       "                      to  to_id            expected                time  \\\n",
       "8715           Princeton  124.0 2018-02-20 13:46:00 2018-02-20 13:47:00   \n",
       "7301           Princeton  124.0 2018-03-01 11:52:00 2018-03-01 11:55:14   \n",
       "4099  Princeton Junction  125.0 2018-03-04 20:34:00 2018-03-04 20:38:28   \n",
       "\n",
       "        status               line        type     delay  \n",
       "8715  Departed  Princeton Shuttle  NJ Transit  1.000000  \n",
       "7301  Departed  Princeton Shuttle  NJ Transit  3.233333  \n",
       "4099  Departed  Princeton Shuttle  NJ Transit  4.466667  "
      ]
     },
     "execution_count": 47,
     "metadata": {},
     "output_type": "execute_result"
    }
   ],
   "source": [
    "leaving_dinky[leaving_dinky[\"delay\"] >= 1]"
   ]
  },
  {
   "cell_type": "code",
   "execution_count": 48,
   "metadata": {},
   "outputs": [
    {
     "data": {
      "text/html": [
       "<div>\n",
       "<style scoped>\n",
       "    .dataframe tbody tr th:only-of-type {\n",
       "        vertical-align: middle;\n",
       "    }\n",
       "\n",
       "    .dataframe tbody tr th {\n",
       "        vertical-align: top;\n",
       "    }\n",
       "\n",
       "    .dataframe thead th {\n",
       "        text-align: right;\n",
       "    }\n",
       "</style>\n",
       "<table border=\"1\" class=\"dataframe\">\n",
       "  <thead>\n",
       "    <tr style=\"text-align: right;\">\n",
       "      <th></th>\n",
       "      <th>train_id</th>\n",
       "      <th>date</th>\n",
       "      <th>stop_sequence</th>\n",
       "      <th>from</th>\n",
       "      <th>from_id</th>\n",
       "      <th>to</th>\n",
       "      <th>to_id</th>\n",
       "      <th>expected</th>\n",
       "      <th>time</th>\n",
       "      <th>status</th>\n",
       "      <th>line</th>\n",
       "      <th>type</th>\n",
       "      <th>delay</th>\n",
       "    </tr>\n",
       "  </thead>\n",
       "  <tbody>\n",
       "    <tr>\n",
       "      <th>4099</th>\n",
       "      <td>4265</td>\n",
       "      <td>2018-03-04</td>\n",
       "      <td>1.0</td>\n",
       "      <td>Princeton Junction</td>\n",
       "      <td>125.0</td>\n",
       "      <td>Princeton Junction</td>\n",
       "      <td>125.0</td>\n",
       "      <td>2018-03-04 20:34:00</td>\n",
       "      <td>2018-03-04 20:38:28</td>\n",
       "      <td>Departed</td>\n",
       "      <td>Princeton Shuttle</td>\n",
       "      <td>NJ Transit</td>\n",
       "      <td>4.466667</td>\n",
       "    </tr>\n",
       "    <tr>\n",
       "      <th>4100</th>\n",
       "      <td>4265</td>\n",
       "      <td>2018-03-04</td>\n",
       "      <td>2.0</td>\n",
       "      <td>Princeton Junction</td>\n",
       "      <td>125.0</td>\n",
       "      <td>Princeton</td>\n",
       "      <td>124.0</td>\n",
       "      <td>2018-03-04 20:39:00</td>\n",
       "      <td>2018-03-04 20:39:00</td>\n",
       "      <td>Departed</td>\n",
       "      <td>Princeton Shuttle</td>\n",
       "      <td>NJ Transit</td>\n",
       "      <td>0.000000</td>\n",
       "    </tr>\n",
       "  </tbody>\n",
       "</table>\n",
       "</div>"
      ],
      "text/plain": [
       "     train_id       date  stop_sequence                from  from_id  \\\n",
       "4099     4265 2018-03-04            1.0  Princeton Junction    125.0   \n",
       "4100     4265 2018-03-04            2.0  Princeton Junction    125.0   \n",
       "\n",
       "                      to  to_id            expected                time  \\\n",
       "4099  Princeton Junction  125.0 2018-03-04 20:34:00 2018-03-04 20:38:28   \n",
       "4100           Princeton  124.0 2018-03-04 20:39:00 2018-03-04 20:39:00   \n",
       "\n",
       "        status               line        type     delay  \n",
       "4099  Departed  Princeton Shuttle  NJ Transit  4.466667  \n",
       "4100  Departed  Princeton Shuttle  NJ Transit  0.000000  "
      ]
     },
     "execution_count": 48,
     "metadata": {},
     "output_type": "execute_result"
    }
   ],
   "source": [
    "dinky[(dinky[\"train_id\"] == \"4265\") & (dinky[\"date\"] == \"2018-03-04\")]"
   ]
  },
  {
   "cell_type": "markdown",
   "metadata": {},
   "source": [
    "So... going to base dinky lateness off of arrival lateness."
   ]
  },
  {
   "cell_type": "markdown",
   "metadata": {},
   "source": [
    "## Stop sequence 2"
   ]
  },
  {
   "cell_type": "code",
   "execution_count": 49,
   "metadata": {},
   "outputs": [],
   "source": [
    "moving_dinky = dinky[dinky[\"stop_sequence\"] != 1.0]"
   ]
  },
  {
   "cell_type": "code",
   "execution_count": 50,
   "metadata": {},
   "outputs": [
    {
     "data": {
      "text/html": [
       "<div>\n",
       "<style scoped>\n",
       "    .dataframe tbody tr th:only-of-type {\n",
       "        vertical-align: middle;\n",
       "    }\n",
       "\n",
       "    .dataframe tbody tr th {\n",
       "        vertical-align: top;\n",
       "    }\n",
       "\n",
       "    .dataframe thead th {\n",
       "        text-align: right;\n",
       "    }\n",
       "</style>\n",
       "<table border=\"1\" class=\"dataframe\">\n",
       "  <thead>\n",
       "    <tr style=\"text-align: right;\">\n",
       "      <th></th>\n",
       "      <th>train_id</th>\n",
       "      <th>date</th>\n",
       "      <th>stop_sequence</th>\n",
       "      <th>from</th>\n",
       "      <th>from_id</th>\n",
       "      <th>to</th>\n",
       "      <th>to_id</th>\n",
       "      <th>expected</th>\n",
       "      <th>time</th>\n",
       "      <th>status</th>\n",
       "      <th>line</th>\n",
       "      <th>type</th>\n",
       "      <th>delay</th>\n",
       "    </tr>\n",
       "  </thead>\n",
       "  <tbody>\n",
       "    <tr>\n",
       "      <th>16</th>\n",
       "      <td>4135</td>\n",
       "      <td>2018-02-05</td>\n",
       "      <td>2.0</td>\n",
       "      <td>Princeton Junction</td>\n",
       "      <td>125.0</td>\n",
       "      <td>Princeton</td>\n",
       "      <td>124.0</td>\n",
       "      <td>2018-02-05 12:09:00</td>\n",
       "      <td>2018-02-05 12:09:00</td>\n",
       "      <td>Departed</td>\n",
       "      <td>Princeton Shuttle</td>\n",
       "      <td>NJ Transit</td>\n",
       "      <td>0.0</td>\n",
       "    </tr>\n",
       "    <tr>\n",
       "      <th>113</th>\n",
       "      <td>4132</td>\n",
       "      <td>2018-02-05</td>\n",
       "      <td>2.0</td>\n",
       "      <td>Princeton</td>\n",
       "      <td>124.0</td>\n",
       "      <td>Princeton Junction</td>\n",
       "      <td>125.0</td>\n",
       "      <td>2018-02-05 11:22:00</td>\n",
       "      <td>2018-02-05 11:22:00</td>\n",
       "      <td>Departed</td>\n",
       "      <td>Princeton Shuttle</td>\n",
       "      <td>NJ Transit</td>\n",
       "      <td>0.0</td>\n",
       "    </tr>\n",
       "    <tr>\n",
       "      <th>132</th>\n",
       "      <td>4104</td>\n",
       "      <td>2018-02-05</td>\n",
       "      <td>2.0</td>\n",
       "      <td>Princeton</td>\n",
       "      <td>124.0</td>\n",
       "      <td>Princeton Junction</td>\n",
       "      <td>125.0</td>\n",
       "      <td>2018-02-06 01:50:00</td>\n",
       "      <td>2018-02-06 01:50:00</td>\n",
       "      <td>Departed</td>\n",
       "      <td>Princeton Shuttle</td>\n",
       "      <td>NJ Transit</td>\n",
       "      <td>0.0</td>\n",
       "    </tr>\n",
       "    <tr>\n",
       "      <th>246</th>\n",
       "      <td>4103</td>\n",
       "      <td>2018-02-05</td>\n",
       "      <td>2.0</td>\n",
       "      <td>Princeton Junction</td>\n",
       "      <td>125.0</td>\n",
       "      <td>Princeton</td>\n",
       "      <td>124.0</td>\n",
       "      <td>2018-02-06 01:40:00</td>\n",
       "      <td>2018-02-06 01:40:00</td>\n",
       "      <td>Departed</td>\n",
       "      <td>Princeton Shuttle</td>\n",
       "      <td>NJ Transit</td>\n",
       "      <td>0.0</td>\n",
       "    </tr>\n",
       "    <tr>\n",
       "      <th>315</th>\n",
       "      <td>4168</td>\n",
       "      <td>2018-02-05</td>\n",
       "      <td>2.0</td>\n",
       "      <td>Princeton</td>\n",
       "      <td>124.0</td>\n",
       "      <td>Princeton Junction</td>\n",
       "      <td>125.0</td>\n",
       "      <td>2018-02-05 19:42:00</td>\n",
       "      <td>2018-02-05 19:42:00</td>\n",
       "      <td>Departed</td>\n",
       "      <td>Princeton Shuttle</td>\n",
       "      <td>NJ Transit</td>\n",
       "      <td>0.0</td>\n",
       "    </tr>\n",
       "  </tbody>\n",
       "</table>\n",
       "</div>"
      ],
      "text/plain": [
       "    train_id       date  stop_sequence                from  from_id  \\\n",
       "16      4135 2018-02-05            2.0  Princeton Junction    125.0   \n",
       "113     4132 2018-02-05            2.0           Princeton    124.0   \n",
       "132     4104 2018-02-05            2.0           Princeton    124.0   \n",
       "246     4103 2018-02-05            2.0  Princeton Junction    125.0   \n",
       "315     4168 2018-02-05            2.0           Princeton    124.0   \n",
       "\n",
       "                     to  to_id            expected                time  \\\n",
       "16            Princeton  124.0 2018-02-05 12:09:00 2018-02-05 12:09:00   \n",
       "113  Princeton Junction  125.0 2018-02-05 11:22:00 2018-02-05 11:22:00   \n",
       "132  Princeton Junction  125.0 2018-02-06 01:50:00 2018-02-06 01:50:00   \n",
       "246           Princeton  124.0 2018-02-06 01:40:00 2018-02-06 01:40:00   \n",
       "315  Princeton Junction  125.0 2018-02-05 19:42:00 2018-02-05 19:42:00   \n",
       "\n",
       "       status               line        type  delay  \n",
       "16   Departed  Princeton Shuttle  NJ Transit    0.0  \n",
       "113  Departed  Princeton Shuttle  NJ Transit    0.0  \n",
       "132  Departed  Princeton Shuttle  NJ Transit    0.0  \n",
       "246  Departed  Princeton Shuttle  NJ Transit    0.0  \n",
       "315  Departed  Princeton Shuttle  NJ Transit    0.0  "
      ]
     },
     "execution_count": 50,
     "metadata": {},
     "output_type": "execute_result"
    }
   ],
   "source": [
    "moving_dinky.head()"
   ]
  },
  {
   "cell_type": "code",
   "execution_count": 51,
   "metadata": {},
   "outputs": [
    {
     "data": {
      "text/plain": [
       "2016"
      ]
     },
     "execution_count": 51,
     "metadata": {},
     "output_type": "execute_result"
    }
   ],
   "source": [
    "len(moving_dinky)"
   ]
  },
  {
   "cell_type": "code",
   "execution_count": 52,
   "metadata": {},
   "outputs": [
    {
     "data": {
      "text/plain": [
       "count    2016.0\n",
       "mean        0.0\n",
       "std         0.0\n",
       "min         0.0\n",
       "25%         0.0\n",
       "50%         0.0\n",
       "75%         0.0\n",
       "max         0.0\n",
       "Name: delay, dtype: float64"
      ]
     },
     "execution_count": 52,
     "metadata": {},
     "output_type": "execute_result"
    }
   ],
   "source": [
    "moving_dinky[\"delay\"].describe()"
   ]
  },
  {
   "cell_type": "code",
   "execution_count": 53,
   "metadata": {},
   "outputs": [
    {
     "data": {
      "text/plain": [
       "0"
      ]
     },
     "execution_count": 53,
     "metadata": {},
     "output_type": "execute_result"
    }
   ],
   "source": [
    "len(moving_dinky[moving_dinky[\"delay\"] > 0])"
   ]
  },
  {
   "cell_type": "code",
   "execution_count": 54,
   "metadata": {},
   "outputs": [
    {
     "data": {
      "text/plain": [
       "0.0"
      ]
     },
     "execution_count": 54,
     "metadata": {},
     "output_type": "execute_result"
    }
   ],
   "source": [
    "# nice\n",
    "len(moving_dinky[moving_dinky[\"delay\"] > 0]) / len(moving_dinky)"
   ]
  },
  {
   "cell_type": "markdown",
   "metadata": {},
   "source": [
    "# Impactful delays"
   ]
  },
  {
   "cell_type": "markdown",
   "metadata": {},
   "source": [
    "Two main questions:\n",
    "* Is the Dinky ever delayed such that one misses an outbound train at Princeton Junction?\n",
    "* How often does a inbound train get delayed such that one misses the Dinky?"
   ]
  },
  {
   "cell_type": "code",
   "execution_count": 55,
   "metadata": {},
   "outputs": [],
   "source": [
    "# if I go down the df sorted by time, and I get consecutive to/from's of Princeton Junction..."
   ]
  },
  {
   "cell_type": "code",
   "execution_count": 56,
   "metadata": {},
   "outputs": [],
   "source": [
    "princeton = princeton.sort_values(\"expected\")"
   ]
  },
  {
   "cell_type": "markdown",
   "metadata": {},
   "source": [
    "## How many dinkys?"
   ]
  },
  {
   "cell_type": "code",
   "execution_count": 57,
   "metadata": {},
   "outputs": [
    {
     "data": {
      "text/plain": [
       "140"
      ]
     },
     "execution_count": 57,
     "metadata": {},
     "output_type": "execute_result"
    }
   ],
   "source": [
    "dinky[\"train_id\"].nunique()"
   ]
  },
  {
   "cell_type": "code",
   "execution_count": 58,
   "metadata": {},
   "outputs": [
    {
     "data": {
      "text/plain": [
       "stop_sequence\n",
       "1.0    2016\n",
       "2.0    2016\n",
       "dtype: int64"
      ]
     },
     "execution_count": 58,
     "metadata": {},
     "output_type": "execute_result"
    }
   ],
   "source": [
    "dinky.groupby(\"stop_sequence\").size()"
   ]
  },
  {
   "cell_type": "markdown",
   "metadata": {},
   "source": [
    "## Pairing inbound trains to Princeton Junction with the Dinky"
   ]
  },
  {
   "cell_type": "markdown",
   "metadata": {},
   "source": [
    "x => Princeton Junction => Princeton"
   ]
  },
  {
   "cell_type": "markdown",
   "metadata": {},
   "source": [
    "Would have missed due to expected vs. would have missed due to actual"
   ]
  },
  {
   "cell_type": "markdown",
   "metadata": {},
   "source": [
    "### Try \"list\" method"
   ]
  },
  {
   "cell_type": "markdown",
   "metadata": {},
   "source": [
    "Hard/annoying to do (if possible) with pandas and shift()"
   ]
  },
  {
   "cell_type": "code",
   "execution_count": 59,
   "metadata": {},
   "outputs": [
    {
     "data": {
      "text/html": [
       "<div>\n",
       "<style scoped>\n",
       "    .dataframe tbody tr th:only-of-type {\n",
       "        vertical-align: middle;\n",
       "    }\n",
       "\n",
       "    .dataframe tbody tr th {\n",
       "        vertical-align: top;\n",
       "    }\n",
       "\n",
       "    .dataframe thead th {\n",
       "        text-align: right;\n",
       "    }\n",
       "</style>\n",
       "<table border=\"1\" class=\"dataframe\">\n",
       "  <thead>\n",
       "    <tr style=\"text-align: right;\">\n",
       "      <th></th>\n",
       "      <th>train_id</th>\n",
       "      <th>date</th>\n",
       "      <th>stop_sequence</th>\n",
       "      <th>from</th>\n",
       "      <th>from_id</th>\n",
       "      <th>to</th>\n",
       "      <th>to_id</th>\n",
       "      <th>expected</th>\n",
       "      <th>time</th>\n",
       "      <th>status</th>\n",
       "      <th>line</th>\n",
       "      <th>type</th>\n",
       "      <th>delay</th>\n",
       "    </tr>\n",
       "  </thead>\n",
       "  <tbody>\n",
       "    <tr>\n",
       "      <th>1442</th>\n",
       "      <td>3808</td>\n",
       "      <td>2018-02-05</td>\n",
       "      <td>3.0</td>\n",
       "      <td>Hamilton</td>\n",
       "      <td>32905.0</td>\n",
       "      <td>Princeton Junction</td>\n",
       "      <td>125.0</td>\n",
       "      <td>2018-02-05 04:35:00</td>\n",
       "      <td>2018-02-05 04:36:04</td>\n",
       "      <td>Departed</td>\n",
       "      <td>Northeast Corrdr</td>\n",
       "      <td>NJ Transit</td>\n",
       "      <td>1.066667</td>\n",
       "    </tr>\n",
       "    <tr>\n",
       "      <th>824</th>\n",
       "      <td>4105</td>\n",
       "      <td>2018-02-05</td>\n",
       "      <td>1.0</td>\n",
       "      <td>Princeton Junction</td>\n",
       "      <td>125.0</td>\n",
       "      <td>Princeton Junction</td>\n",
       "      <td>125.0</td>\n",
       "      <td>2018-02-05 04:46:00</td>\n",
       "      <td>2018-02-05 04:46:04</td>\n",
       "      <td>Departed</td>\n",
       "      <td>Princeton Shuttle</td>\n",
       "      <td>NJ Transit</td>\n",
       "      <td>0.066667</td>\n",
       "    </tr>\n",
       "    <tr>\n",
       "      <th>1443</th>\n",
       "      <td>3808</td>\n",
       "      <td>2018-02-05</td>\n",
       "      <td>4.0</td>\n",
       "      <td>Princeton Junction</td>\n",
       "      <td>125.0</td>\n",
       "      <td>New Brunswick</td>\n",
       "      <td>103.0</td>\n",
       "      <td>2018-02-05 04:49:00</td>\n",
       "      <td>2018-02-05 04:51:02</td>\n",
       "      <td>Departed</td>\n",
       "      <td>Northeast Corrdr</td>\n",
       "      <td>NJ Transit</td>\n",
       "      <td>2.033333</td>\n",
       "    </tr>\n",
       "    <tr>\n",
       "      <th>825</th>\n",
       "      <td>4105</td>\n",
       "      <td>2018-02-05</td>\n",
       "      <td>2.0</td>\n",
       "      <td>Princeton Junction</td>\n",
       "      <td>125.0</td>\n",
       "      <td>Princeton</td>\n",
       "      <td>124.0</td>\n",
       "      <td>2018-02-05 04:51:00</td>\n",
       "      <td>2018-02-05 04:51:00</td>\n",
       "      <td>Departed</td>\n",
       "      <td>Princeton Shuttle</td>\n",
       "      <td>NJ Transit</td>\n",
       "      <td>0.000000</td>\n",
       "    </tr>\n",
       "    <tr>\n",
       "      <th>6077</th>\n",
       "      <td>4106</td>\n",
       "      <td>2018-02-05</td>\n",
       "      <td>1.0</td>\n",
       "      <td>Princeton</td>\n",
       "      <td>124.0</td>\n",
       "      <td>Princeton</td>\n",
       "      <td>124.0</td>\n",
       "      <td>2018-02-05 04:58:00</td>\n",
       "      <td>2018-02-05 04:58:10</td>\n",
       "      <td>Departed</td>\n",
       "      <td>Princeton Shuttle</td>\n",
       "      <td>NJ Transit</td>\n",
       "      <td>0.166667</td>\n",
       "    </tr>\n",
       "  </tbody>\n",
       "</table>\n",
       "</div>"
      ],
      "text/plain": [
       "     train_id       date  stop_sequence                from  from_id  \\\n",
       "1442     3808 2018-02-05            3.0            Hamilton  32905.0   \n",
       "824      4105 2018-02-05            1.0  Princeton Junction    125.0   \n",
       "1443     3808 2018-02-05            4.0  Princeton Junction    125.0   \n",
       "825      4105 2018-02-05            2.0  Princeton Junction    125.0   \n",
       "6077     4106 2018-02-05            1.0           Princeton    124.0   \n",
       "\n",
       "                      to  to_id            expected                time  \\\n",
       "1442  Princeton Junction  125.0 2018-02-05 04:35:00 2018-02-05 04:36:04   \n",
       "824   Princeton Junction  125.0 2018-02-05 04:46:00 2018-02-05 04:46:04   \n",
       "1443       New Brunswick  103.0 2018-02-05 04:49:00 2018-02-05 04:51:02   \n",
       "825            Princeton  124.0 2018-02-05 04:51:00 2018-02-05 04:51:00   \n",
       "6077           Princeton  124.0 2018-02-05 04:58:00 2018-02-05 04:58:10   \n",
       "\n",
       "        status               line        type     delay  \n",
       "1442  Departed   Northeast Corrdr  NJ Transit  1.066667  \n",
       "824   Departed  Princeton Shuttle  NJ Transit  0.066667  \n",
       "1443  Departed   Northeast Corrdr  NJ Transit  2.033333  \n",
       "825   Departed  Princeton Shuttle  NJ Transit  0.000000  \n",
       "6077  Departed  Princeton Shuttle  NJ Transit  0.166667  "
      ]
     },
     "execution_count": 59,
     "metadata": {},
     "output_type": "execute_result"
    }
   ],
   "source": [
    "princeton.head()"
   ]
  },
  {
   "cell_type": "code",
   "execution_count": 60,
   "metadata": {},
   "outputs": [],
   "source": [
    "princeton_tuples = []\n",
    "\n",
    "for row in princeton.itertuples():\n",
    "    princeton_tuples.append(row)"
   ]
  },
  {
   "cell_type": "code",
   "execution_count": 61,
   "metadata": {
    "scrolled": true
   },
   "outputs": [
    {
     "data": {
      "text/plain": [
       "Pandas(Index=1442, train_id='3808', date=Timestamp('2018-02-05 00:00:00'), stop_sequence=3.0, _4='Hamilton', from_id=32905.0, to='Princeton Junction', to_id=125.0, expected=Timestamp('2018-02-05 04:35:00'), time=Timestamp('2018-02-05 04:36:04'), status='Departed', line='Northeast Corrdr', type='NJ Transit', delay=1.0666666666666667)"
      ]
     },
     "execution_count": 61,
     "metadata": {},
     "output_type": "execute_result"
    }
   ],
   "source": [
    "princeton_tuples[0]"
   ]
  },
  {
   "cell_type": "markdown",
   "metadata": {},
   "source": [
    "\"from\" became \"_4\" (from is a function call?)"
   ]
  },
  {
   "cell_type": "code",
   "execution_count": 62,
   "metadata": {},
   "outputs": [
    {
     "data": {
      "text/plain": [
       "2452"
      ]
     },
     "execution_count": 62,
     "metadata": {},
     "output_type": "execute_result"
    }
   ],
   "source": [
    "# does this method even work?\n",
    "\n",
    "test_counter = 0\n",
    "\n",
    "for i in range(len(princeton_tuples)):\n",
    "    if (princeton_tuples[i].to == \"Princeton Junction\") & (princeton_tuples[i].line == \"Northeast Corrdr\"):\n",
    "        test_counter += 1\n",
    "\n",
    "test_counter"
   ]
  },
  {
   "cell_type": "markdown",
   "metadata": {},
   "source": [
    "For each train on Northeast Corridor going into Princeton Junction, find next Dinky leave time (stop_sequence == 1.0)"
   ]
  },
  {
   "cell_type": "code",
   "execution_count": 63,
   "metadata": {},
   "outputs": [
    {
     "name": "stdout",
     "output_type": "stream",
     "text": [
      "CPU times: user 16.4 ms, sys: 1.04 ms, total: 17.4 ms\n",
      "Wall time: 16.5 ms\n"
     ]
    }
   ],
   "source": [
    "%%time\n",
    "\n",
    "relevant_dinky = []\n",
    "\n",
    "for i in range(len(princeton_tuples)):\n",
    "    # if goes to Junction from Northeast Coordr\n",
    "    if (princeton_tuples[i].to == \"Princeton Junction\") & (princeton_tuples[i].line == \"Northeast Corrdr\"):\n",
    "        # find next dinky\n",
    "        found = False\n",
    "        j = i + 1\n",
    "        while not found:\n",
    "            # if no more Dinkys left\n",
    "            if j == len(princeton_tuples):\n",
    "                relevant_dinky.append((None, None, None))\n",
    "                break\n",
    "            \n",
    "            possible = princeton_tuples[j]\n",
    "            \n",
    "            # needs to be stop sequence 1.0 (i.e. to/from == \"Princeton Junction\"), and \"Princeton Shuttle\"\n",
    "            if (possible._4 == \"Princeton Junction\") & (possible.to == \"Princeton Junction\"):\n",
    "                relevant_dinky.append((possible.expected, possible.time, possible.delay))\n",
    "                found = True\n",
    "            else:\n",
    "                j += 1\n",
    "    else:\n",
    "        relevant_dinky.append((None, None, None))"
   ]
  },
  {
   "cell_type": "code",
   "execution_count": 64,
   "metadata": {},
   "outputs": [],
   "source": [
    "relevant_dinky_df = pd.DataFrame(relevant_dinky)"
   ]
  },
  {
   "cell_type": "markdown",
   "metadata": {},
   "source": [
    "Worth transferring index to be able to join later?"
   ]
  },
  {
   "cell_type": "code",
   "execution_count": 65,
   "metadata": {},
   "outputs": [],
   "source": [
    "inbound_dinky = princeton.reset_index(drop=True).join(relevant_dinky_df).rename(columns={0:\"dinky_expected\", 1:\"dinky_time\", 2:\"dinky_delay\"})"
   ]
  },
  {
   "cell_type": "code",
   "execution_count": 66,
   "metadata": {},
   "outputs": [
    {
     "data": {
      "text/html": [
       "<div>\n",
       "<style scoped>\n",
       "    .dataframe tbody tr th:only-of-type {\n",
       "        vertical-align: middle;\n",
       "    }\n",
       "\n",
       "    .dataframe tbody tr th {\n",
       "        vertical-align: top;\n",
       "    }\n",
       "\n",
       "    .dataframe thead th {\n",
       "        text-align: right;\n",
       "    }\n",
       "</style>\n",
       "<table border=\"1\" class=\"dataframe\">\n",
       "  <thead>\n",
       "    <tr style=\"text-align: right;\">\n",
       "      <th></th>\n",
       "      <th>train_id</th>\n",
       "      <th>date</th>\n",
       "      <th>stop_sequence</th>\n",
       "      <th>from</th>\n",
       "      <th>from_id</th>\n",
       "      <th>to</th>\n",
       "      <th>to_id</th>\n",
       "      <th>expected</th>\n",
       "      <th>time</th>\n",
       "      <th>status</th>\n",
       "      <th>line</th>\n",
       "      <th>type</th>\n",
       "      <th>delay</th>\n",
       "      <th>dinky_expected</th>\n",
       "      <th>dinky_time</th>\n",
       "      <th>dinky_delay</th>\n",
       "    </tr>\n",
       "  </thead>\n",
       "  <tbody>\n",
       "    <tr>\n",
       "      <th>0</th>\n",
       "      <td>3808</td>\n",
       "      <td>2018-02-05</td>\n",
       "      <td>3.0</td>\n",
       "      <td>Hamilton</td>\n",
       "      <td>32905.0</td>\n",
       "      <td>Princeton Junction</td>\n",
       "      <td>125.0</td>\n",
       "      <td>2018-02-05 04:35:00</td>\n",
       "      <td>2018-02-05 04:36:04</td>\n",
       "      <td>Departed</td>\n",
       "      <td>Northeast Corrdr</td>\n",
       "      <td>NJ Transit</td>\n",
       "      <td>1.066667</td>\n",
       "      <td>2018-02-05 04:46:00</td>\n",
       "      <td>2018-02-05 04:46:04</td>\n",
       "      <td>0.066667</td>\n",
       "    </tr>\n",
       "    <tr>\n",
       "      <th>1</th>\n",
       "      <td>4105</td>\n",
       "      <td>2018-02-05</td>\n",
       "      <td>1.0</td>\n",
       "      <td>Princeton Junction</td>\n",
       "      <td>125.0</td>\n",
       "      <td>Princeton Junction</td>\n",
       "      <td>125.0</td>\n",
       "      <td>2018-02-05 04:46:00</td>\n",
       "      <td>2018-02-05 04:46:04</td>\n",
       "      <td>Departed</td>\n",
       "      <td>Princeton Shuttle</td>\n",
       "      <td>NJ Transit</td>\n",
       "      <td>0.066667</td>\n",
       "      <td>NaT</td>\n",
       "      <td>NaT</td>\n",
       "      <td>NaN</td>\n",
       "    </tr>\n",
       "    <tr>\n",
       "      <th>2</th>\n",
       "      <td>3808</td>\n",
       "      <td>2018-02-05</td>\n",
       "      <td>4.0</td>\n",
       "      <td>Princeton Junction</td>\n",
       "      <td>125.0</td>\n",
       "      <td>New Brunswick</td>\n",
       "      <td>103.0</td>\n",
       "      <td>2018-02-05 04:49:00</td>\n",
       "      <td>2018-02-05 04:51:02</td>\n",
       "      <td>Departed</td>\n",
       "      <td>Northeast Corrdr</td>\n",
       "      <td>NJ Transit</td>\n",
       "      <td>2.033333</td>\n",
       "      <td>NaT</td>\n",
       "      <td>NaT</td>\n",
       "      <td>NaN</td>\n",
       "    </tr>\n",
       "    <tr>\n",
       "      <th>3</th>\n",
       "      <td>4105</td>\n",
       "      <td>2018-02-05</td>\n",
       "      <td>2.0</td>\n",
       "      <td>Princeton Junction</td>\n",
       "      <td>125.0</td>\n",
       "      <td>Princeton</td>\n",
       "      <td>124.0</td>\n",
       "      <td>2018-02-05 04:51:00</td>\n",
       "      <td>2018-02-05 04:51:00</td>\n",
       "      <td>Departed</td>\n",
       "      <td>Princeton Shuttle</td>\n",
       "      <td>NJ Transit</td>\n",
       "      <td>0.000000</td>\n",
       "      <td>NaT</td>\n",
       "      <td>NaT</td>\n",
       "      <td>NaN</td>\n",
       "    </tr>\n",
       "    <tr>\n",
       "      <th>4</th>\n",
       "      <td>4106</td>\n",
       "      <td>2018-02-05</td>\n",
       "      <td>1.0</td>\n",
       "      <td>Princeton</td>\n",
       "      <td>124.0</td>\n",
       "      <td>Princeton</td>\n",
       "      <td>124.0</td>\n",
       "      <td>2018-02-05 04:58:00</td>\n",
       "      <td>2018-02-05 04:58:10</td>\n",
       "      <td>Departed</td>\n",
       "      <td>Princeton Shuttle</td>\n",
       "      <td>NJ Transit</td>\n",
       "      <td>0.166667</td>\n",
       "      <td>NaT</td>\n",
       "      <td>NaT</td>\n",
       "      <td>NaN</td>\n",
       "    </tr>\n",
       "  </tbody>\n",
       "</table>\n",
       "</div>"
      ],
      "text/plain": [
       "  train_id       date  stop_sequence                from  from_id  \\\n",
       "0     3808 2018-02-05            3.0            Hamilton  32905.0   \n",
       "1     4105 2018-02-05            1.0  Princeton Junction    125.0   \n",
       "2     3808 2018-02-05            4.0  Princeton Junction    125.0   \n",
       "3     4105 2018-02-05            2.0  Princeton Junction    125.0   \n",
       "4     4106 2018-02-05            1.0           Princeton    124.0   \n",
       "\n",
       "                   to  to_id            expected                time  \\\n",
       "0  Princeton Junction  125.0 2018-02-05 04:35:00 2018-02-05 04:36:04   \n",
       "1  Princeton Junction  125.0 2018-02-05 04:46:00 2018-02-05 04:46:04   \n",
       "2       New Brunswick  103.0 2018-02-05 04:49:00 2018-02-05 04:51:02   \n",
       "3           Princeton  124.0 2018-02-05 04:51:00 2018-02-05 04:51:00   \n",
       "4           Princeton  124.0 2018-02-05 04:58:00 2018-02-05 04:58:10   \n",
       "\n",
       "     status               line        type     delay      dinky_expected  \\\n",
       "0  Departed   Northeast Corrdr  NJ Transit  1.066667 2018-02-05 04:46:00   \n",
       "1  Departed  Princeton Shuttle  NJ Transit  0.066667                 NaT   \n",
       "2  Departed   Northeast Corrdr  NJ Transit  2.033333                 NaT   \n",
       "3  Departed  Princeton Shuttle  NJ Transit  0.000000                 NaT   \n",
       "4  Departed  Princeton Shuttle  NJ Transit  0.166667                 NaT   \n",
       "\n",
       "           dinky_time  dinky_delay  \n",
       "0 2018-02-05 04:46:04     0.066667  \n",
       "1                 NaT          NaN  \n",
       "2                 NaT          NaN  \n",
       "3                 NaT          NaN  \n",
       "4                 NaT          NaN  "
      ]
     },
     "execution_count": 66,
     "metadata": {},
     "output_type": "execute_result"
    }
   ],
   "source": [
    "inbound_dinky.head()"
   ]
  },
  {
   "cell_type": "code",
   "execution_count": 67,
   "metadata": {},
   "outputs": [],
   "source": [
    "inbound_dinky = inbound_dinky[pd.notnull(inbound_dinky[\"dinky_expected\"])]"
   ]
  },
  {
   "cell_type": "code",
   "execution_count": 68,
   "metadata": {},
   "outputs": [
    {
     "data": {
      "text/plain": [
       "2450"
      ]
     },
     "execution_count": 68,
     "metadata": {},
     "output_type": "execute_result"
    }
   ],
   "source": [
    "# good\n",
    "len(inbound_dinky[pd.notnull(inbound_dinky[\"dinky_expected\"])])"
   ]
  },
  {
   "cell_type": "code",
   "execution_count": 69,
   "metadata": {},
   "outputs": [
    {
     "data": {
      "text/plain": [
       "Hamilton                 1150\n",
       "Jersey Avenue             585\n",
       "New Brunswick             521\n",
       "Newark Penn Station       121\n",
       "Trenton                    61\n",
       "New York Penn Station       6\n",
       "Secaucus Upper Lvl          2\n",
       "Linden                      1\n",
       "Elizabeth                   1\n",
       "Metuchen                    1\n",
       "Metropark                   1\n",
       "Name: from, dtype: int64"
      ]
     },
     "execution_count": 69,
     "metadata": {},
     "output_type": "execute_result"
    }
   ],
   "source": [
    "inbound_dinky[\"from\"].value_counts()"
   ]
  },
  {
   "cell_type": "markdown",
   "metadata": {},
   "source": [
    "### Create north vs. southbound"
   ]
  },
  {
   "cell_type": "code",
   "execution_count": 76,
   "metadata": {},
   "outputs": [],
   "source": [
    "from_trenton_stations = [\"Hamilton\", \"Trenton\"]"
   ]
  },
  {
   "cell_type": "code",
   "execution_count": 77,
   "metadata": {},
   "outputs": [],
   "source": [
    "inbound_dinky[\"from_trenton\"] = inbound_dinky[\"from\"].isin(from_trenton_stations)"
   ]
  },
  {
   "cell_type": "code",
   "execution_count": 152,
   "metadata": {},
   "outputs": [],
   "source": [
    "inbound_dinky_from_south = inbound_dinky[inbound_dinky[\"from_trenton\"]]"
   ]
  },
  {
   "cell_type": "code",
   "execution_count": 153,
   "metadata": {},
   "outputs": [],
   "source": [
    "inbound_dinky_from_north = inbound_dinky[~inbound_dinky[\"from_trenton\"]]"
   ]
  },
  {
   "cell_type": "markdown",
   "metadata": {},
   "source": [
    "### High-level lateness"
   ]
  },
  {
   "cell_type": "code",
   "execution_count": 78,
   "metadata": {},
   "outputs": [
    {
     "data": {
      "text/plain": [
       "(2450, 1080)"
      ]
     },
     "execution_count": 78,
     "metadata": {},
     "output_type": "execute_result"
    }
   ],
   "source": [
    "len(inbound_dinky), len(inbound_dinky[inbound_dinky[\"delay\"] >= 3])"
   ]
  },
  {
   "cell_type": "code",
   "execution_count": 79,
   "metadata": {},
   "outputs": [],
   "source": [
    "inbound_dinky[\"late_to_junction\"] = inbound_dinky[\"delay\"] >= 3"
   ]
  },
  {
   "cell_type": "code",
   "execution_count": 80,
   "metadata": {},
   "outputs": [
    {
     "data": {
      "text/plain": [
       "from_trenton\n",
       "False    1239\n",
       "True     1211\n",
       "dtype: int64"
      ]
     },
     "execution_count": 80,
     "metadata": {},
     "output_type": "execute_result"
    }
   ],
   "source": [
    "inbound_dinky.groupby(\"from_trenton\").size()"
   ]
  },
  {
   "cell_type": "code",
   "execution_count": 81,
   "metadata": {},
   "outputs": [
    {
     "data": {
      "text/plain": [
       "from_trenton\n",
       "False    0.347054\n",
       "True     0.536746\n",
       "dtype: float64"
      ]
     },
     "execution_count": 81,
     "metadata": {},
     "output_type": "execute_result"
    }
   ],
   "source": [
    "inbound_dinky.groupby(\"from_trenton\")[\"late_to_junction\"].sum() / inbound_dinky.groupby(\"from_trenton\").size()"
   ]
  },
  {
   "cell_type": "code",
   "execution_count": 83,
   "metadata": {},
   "outputs": [],
   "source": [
    "hamilton = df[(df[\"from\"] == \"Trenton\") & (df[\"to\"] == \"Hamilton\")]"
   ]
  },
  {
   "cell_type": "code",
   "execution_count": 84,
   "metadata": {},
   "outputs": [
    {
     "data": {
      "text/plain": [
       "(1142, 641)"
      ]
     },
     "execution_count": 84,
     "metadata": {},
     "output_type": "execute_result"
    }
   ],
   "source": [
    "len(hamilton), len(hamilton[hamilton[\"delay\"] >= 3])"
   ]
  },
  {
   "cell_type": "code",
   "execution_count": 85,
   "metadata": {},
   "outputs": [],
   "source": [
    "trenton = df[(df[\"from\"] == \"Trenton\") & (df[\"to\"] == \"Trenton\")]"
   ]
  },
  {
   "cell_type": "code",
   "execution_count": 86,
   "metadata": {},
   "outputs": [
    {
     "data": {
      "text/plain": [
       "(1190, 495)"
      ]
     },
     "execution_count": 86,
     "metadata": {},
     "output_type": "execute_result"
    }
   ],
   "source": [
    "len(trenton), len(trenton[trenton[\"delay\"] >= 3])"
   ]
  },
  {
   "cell_type": "markdown",
   "metadata": {},
   "source": [
    "### Wait time for dinky (scheduled & actual)"
   ]
  },
  {
   "cell_type": "code",
   "execution_count": 87,
   "metadata": {},
   "outputs": [],
   "source": [
    "inbound_dinky[\"scheduled_wait_time\"] = inbound_dinky[\"dinky_expected\"] - inbound_dinky[\"expected\"]"
   ]
  },
  {
   "cell_type": "code",
   "execution_count": 88,
   "metadata": {},
   "outputs": [],
   "source": [
    "inbound_dinky[\"scheduled_wait_time\"] = inbound_dinky[\"scheduled_wait_time\"].apply(lambda x: x.total_seconds() / 60)"
   ]
  },
  {
   "cell_type": "code",
   "execution_count": 89,
   "metadata": {},
   "outputs": [],
   "source": [
    "inbound_dinky[\"actual_wait_time\"] = inbound_dinky[\"dinky_time\"] - inbound_dinky[\"time\"]"
   ]
  },
  {
   "cell_type": "code",
   "execution_count": 90,
   "metadata": {},
   "outputs": [],
   "source": [
    "inbound_dinky[\"actual_wait_time\"] = inbound_dinky[\"actual_wait_time\"].apply(lambda x: x.total_seconds() / 60)"
   ]
  },
  {
   "cell_type": "markdown",
   "metadata": {},
   "source": [
    "### Late to dinky"
   ]
  },
  {
   "cell_type": "code",
   "execution_count": 91,
   "metadata": {},
   "outputs": [],
   "source": [
    "inbound_dinky[\"late\"] = inbound_dinky[\"actual_wait_time\"] < 0"
   ]
  },
  {
   "cell_type": "code",
   "execution_count": 92,
   "metadata": {},
   "outputs": [
    {
     "data": {
      "text/plain": [
       "363"
      ]
     },
     "execution_count": 92,
     "metadata": {},
     "output_type": "execute_result"
    }
   ],
   "source": [
    "sum(inbound_dinky[\"late\"])"
   ]
  },
  {
   "cell_type": "code",
   "execution_count": 93,
   "metadata": {},
   "outputs": [
    {
     "data": {
      "text/plain": [
       "0.14816326530612245"
      ]
     },
     "execution_count": 93,
     "metadata": {},
     "output_type": "execute_result"
    }
   ],
   "source": [
    "sum(inbound_dinky[\"late\"]) / len(inbound_dinky)"
   ]
  },
  {
   "cell_type": "code",
   "execution_count": 94,
   "metadata": {},
   "outputs": [
    {
     "data": {
      "text/plain": [
       "from_trenton\n",
       "False    0.116223\n",
       "True     0.180842\n",
       "dtype: float64"
      ]
     },
     "execution_count": 94,
     "metadata": {},
     "output_type": "execute_result"
    }
   ],
   "source": [
    "inbound_dinky.groupby(\"from_trenton\")[\"late\"].sum() / inbound_dinky.groupby(\"from_trenton\").size()"
   ]
  },
  {
   "cell_type": "code",
   "execution_count": 95,
   "metadata": {},
   "outputs": [
    {
     "data": {
      "text/plain": [
       "0.14816326530612245"
      ]
     },
     "execution_count": 95,
     "metadata": {},
     "output_type": "execute_result"
    }
   ],
   "source": [
    "sum(inbound_dinky[\"late\"]) / len(inbound_dinky)"
   ]
  },
  {
   "cell_type": "markdown",
   "metadata": {},
   "source": [
    "#### Next dinky wait time?"
   ]
  },
  {
   "cell_type": "code",
   "execution_count": 96,
   "metadata": {},
   "outputs": [],
   "source": [
    "leaves_junction = dinky[(dinky[\"from\"] == \"Princeton Junction\") & (dinky[\"to\"] == \"Princeton Junction\")].sort_values(\"expected\")"
   ]
  },
  {
   "cell_type": "code",
   "execution_count": 97,
   "metadata": {},
   "outputs": [],
   "source": [
    "leaves_junction[\"shifted_expected\"] = leaves_junction[\"expected\"].shift(-1)"
   ]
  },
  {
   "cell_type": "code",
   "execution_count": 98,
   "metadata": {},
   "outputs": [],
   "source": [
    "leaves_junction[\"wait_next\"] = (leaves_junction[\"shifted_expected\"] - leaves_junction[\"expected\"]).dt.total_seconds() / 60"
   ]
  },
  {
   "cell_type": "code",
   "execution_count": 99,
   "metadata": {},
   "outputs": [
    {
     "data": {
      "text/plain": [
       "count    1007.000000\n",
       "mean       39.726912\n",
       "std        55.374147\n",
       "min        20.000000\n",
       "25%        24.000000\n",
       "50%        29.000000\n",
       "75%        37.000000\n",
       "max       577.000000\n",
       "Name: wait_next, dtype: float64"
      ]
     },
     "execution_count": 99,
     "metadata": {},
     "output_type": "execute_result"
    }
   ],
   "source": [
    "leaves_junction['wait_next'].describe()"
   ]
  },
  {
   "cell_type": "markdown",
   "metadata": {},
   "source": [
    "## If on time, what is the average wait time? Distribution?"
   ]
  },
  {
   "cell_type": "markdown",
   "metadata": {},
   "source": [
    "### Schedule"
   ]
  },
  {
   "cell_type": "code",
   "execution_count": 100,
   "metadata": {},
   "outputs": [
    {
     "data": {
      "text/plain": [
       "<matplotlib.axes._subplots.AxesSubplot at 0x114173550>"
      ]
     },
     "execution_count": 100,
     "metadata": {},
     "output_type": "execute_result"
    },
    {
     "data": {
      "image/png": "[encoded data removed]",
      "text/plain": [
       "<matplotlib.figure.Figure at 0x114176dd8>"
      ]
     },
     "metadata": {},
     "output_type": "display_data"
    }
   ],
   "source": [
    "inbound_dinky[\"scheduled_wait_time\"].hist()"
   ]
  },
  {
   "cell_type": "code",
   "execution_count": 101,
   "metadata": {},
   "outputs": [
    {
     "data": {
      "text/plain": [
       "count    2450.000000\n",
       "mean       22.002449\n",
       "std        46.247492\n",
       "min         0.000000\n",
       "25%         5.000000\n",
       "50%        11.000000\n",
       "75%        21.000000\n",
       "max       471.000000\n",
       "Name: scheduled_wait_time, dtype: float64"
      ]
     },
     "execution_count": 101,
     "metadata": {},
     "output_type": "execute_result"
    }
   ],
   "source": [
    "inbound_dinky[\"scheduled_wait_time\"].describe()"
   ]
  },
  {
   "cell_type": "code",
   "execution_count": 102,
   "metadata": {},
   "outputs": [
    {
     "data": {
      "text/plain": [
       "25.0"
      ]
     },
     "execution_count": 102,
     "metadata": {},
     "output_type": "execute_result"
    }
   ],
   "source": [
    "inbound_dinky[\"scheduled_wait_time\"].quantile(.8)"
   ]
  },
  {
   "cell_type": "code",
   "execution_count": 103,
   "metadata": {},
   "outputs": [
    {
     "data": {
      "text/plain": [
       "(27.669999999999845, 31.000000000000004)"
      ]
     },
     "execution_count": 103,
     "metadata": {},
     "output_type": "execute_result"
    }
   ],
   "source": [
    "inbound_dinky[\"scheduled_wait_time\"].quantile(.83), inbound_dinky[\"scheduled_wait_time\"].quantile(.84)"
   ]
  },
  {
   "cell_type": "code",
   "execution_count": 104,
   "metadata": {},
   "outputs": [
    {
     "data": {
      "text/plain": [
       "36.09999999999991"
      ]
     },
     "execution_count": 104,
     "metadata": {},
     "output_type": "execute_result"
    }
   ],
   "source": [
    "inbound_dinky[\"scheduled_wait_time\"].quantile(.9)"
   ]
  },
  {
   "cell_type": "code",
   "execution_count": 105,
   "metadata": {},
   "outputs": [
    {
     "data": {
      "text/plain": [
       "60.0"
      ]
     },
     "execution_count": 105,
     "metadata": {},
     "output_type": "execute_result"
    }
   ],
   "source": [
    "inbound_dinky[\"scheduled_wait_time\"].quantile(.95)"
   ]
  },
  {
   "cell_type": "code",
   "execution_count": 146,
   "metadata": {},
   "outputs": [
    {
     "data": {
      "text/plain": [
       "8718    94.0\n",
       "4653    67.0\n",
       "2155    67.0\n",
       "1915    67.0\n",
       "6567    67.0\n",
       "8826    67.0\n",
       "4415    67.0\n",
       "6327    67.0\n",
       "4177    67.0\n",
       "8586    67.0\n",
       "8828    63.0\n",
       "6569    63.0\n",
       "6329    63.0\n",
       "4179    63.0\n",
       "8588    63.0\n",
       "1917    63.0\n",
       "2157    63.0\n",
       "4417    63.0\n",
       "4655    63.0\n",
       "5969    60.0\n",
       "5602    60.0\n",
       "3080    60.0\n",
       "470     60.0\n",
       "4616    60.0\n",
       "6292    60.0\n",
       "Name: scheduled_wait_time, dtype: float64"
      ]
     },
     "execution_count": 146,
     "metadata": {},
     "output_type": "execute_result"
    }
   ],
   "source": [
    "inbound_dinky[\"scheduled_wait_time\"].sort_values(ascending=False)[100:125]"
   ]
  },
  {
   "cell_type": "markdown",
   "metadata": {},
   "source": [
    "#### Filtered late"
   ]
  },
  {
   "cell_type": "code",
   "execution_count": 106,
   "metadata": {},
   "outputs": [
    {
     "data": {
      "text/plain": [
       "2450"
      ]
     },
     "execution_count": 106,
     "metadata": {},
     "output_type": "execute_result"
    }
   ],
   "source": [
    "len(inbound_dinky)"
   ]
  },
  {
   "cell_type": "code",
   "execution_count": 107,
   "metadata": {},
   "outputs": [
    {
     "data": {
      "text/plain": [
       "2052"
      ]
     },
     "execution_count": 107,
     "metadata": {},
     "output_type": "execute_result"
    }
   ],
   "source": [
    "len(inbound_dinky[inbound_dinky[\"scheduled_wait_time\"] < 30])"
   ]
  },
  {
   "cell_type": "code",
   "execution_count": 108,
   "metadata": {},
   "outputs": [
    {
     "data": {
      "text/plain": [
       "338"
      ]
     },
     "execution_count": 108,
     "metadata": {},
     "output_type": "execute_result"
    }
   ],
   "source": [
    "len(inbound_dinky[inbound_dinky[\"scheduled_wait_time\"] < 5])"
   ]
  },
  {
   "cell_type": "code",
   "execution_count": 109,
   "metadata": {},
   "outputs": [
    {
     "data": {
      "text/plain": [
       "from_trenton\n",
       "True    0.746988\n",
       "dtype: float64"
      ]
     },
     "execution_count": 109,
     "metadata": {},
     "output_type": "execute_result"
    }
   ],
   "source": [
    "(inbound_dinky[inbound_dinky[\"scheduled_wait_time\"] < 3].groupby(\"from_trenton\")[\"late\"].sum() / \n",
    " inbound_dinky[inbound_dinky[\"scheduled_wait_time\"] < 3].groupby(\"from_trenton\").size())"
   ]
  },
  {
   "cell_type": "code",
   "execution_count": 110,
   "metadata": {},
   "outputs": [
    {
     "data": {
      "text/plain": [
       "274"
      ]
     },
     "execution_count": 110,
     "metadata": {},
     "output_type": "execute_result"
    }
   ],
   "source": [
    "len(inbound_dinky[(inbound_dinky[\"scheduled_wait_time\"] > 5) & (inbound_dinky[\"scheduled_wait_time\"] < 10)])"
   ]
  },
  {
   "cell_type": "code",
   "execution_count": 111,
   "metadata": {},
   "outputs": [
    {
     "data": {
      "text/plain": [
       "from_trenton\n",
       "False    0.101449\n",
       "True     0.268657\n",
       "dtype: float64"
      ]
     },
     "execution_count": 111,
     "metadata": {},
     "output_type": "execute_result"
    }
   ],
   "source": [
    "(inbound_dinky[(inbound_dinky[\"scheduled_wait_time\"] > 5) & (inbound_dinky[\"scheduled_wait_time\"] < 10)].groupby(\"from_trenton\")[\"late\"].sum() / \n",
    " inbound_dinky[(inbound_dinky[\"scheduled_wait_time\"] > 5) & (inbound_dinky[\"scheduled_wait_time\"] < 10)].groupby(\"from_trenton\").size())"
   ]
  },
  {
   "cell_type": "code",
   "execution_count": 112,
   "metadata": {},
   "outputs": [
    {
     "data": {
      "text/plain": [
       "from_trenton\n",
       "False    0.145652\n",
       "True     0.379562\n",
       "dtype: float64"
      ]
     },
     "execution_count": 112,
     "metadata": {},
     "output_type": "execute_result"
    }
   ],
   "source": [
    "(inbound_dinky[inbound_dinky[\"scheduled_wait_time\"] < 15].groupby(\"from_trenton\")[\"late\"].sum() / \n",
    " inbound_dinky[inbound_dinky[\"scheduled_wait_time\"] < 15].groupby(\"from_trenton\").size())"
   ]
  },
  {
   "cell_type": "code",
   "execution_count": 113,
   "metadata": {},
   "outputs": [
    {
     "data": {
      "text/plain": [
       "from_trenton\n",
       "False    0.139512\n",
       "True     0.295736\n",
       "dtype: float64"
      ]
     },
     "execution_count": 113,
     "metadata": {},
     "output_type": "execute_result"
    }
   ],
   "source": [
    "(inbound_dinky[inbound_dinky[\"scheduled_wait_time\"] < 20].groupby(\"from_trenton\")[\"late\"].sum() / \n",
    " inbound_dinky[inbound_dinky[\"scheduled_wait_time\"] < 20].groupby(\"from_trenton\").size())"
   ]
  },
  {
   "cell_type": "code",
   "execution_count": 114,
   "metadata": {},
   "outputs": [
    {
     "data": {
      "text/plain": [
       "from_trenton\n",
       "False    0.133396\n",
       "True     0.245198\n",
       "dtype: float64"
      ]
     },
     "execution_count": 114,
     "metadata": {},
     "output_type": "execute_result"
    }
   ],
   "source": [
    "(inbound_dinky[inbound_dinky[\"scheduled_wait_time\"] < 25].groupby(\"from_trenton\")[\"late\"].sum() / \n",
    " inbound_dinky[inbound_dinky[\"scheduled_wait_time\"] < 25].groupby(\"from_trenton\").size())"
   ]
  },
  {
   "cell_type": "code",
   "execution_count": 115,
   "metadata": {},
   "outputs": [
    {
     "data": {
      "text/plain": [
       "from_trenton\n",
       "False    0.131193\n",
       "True     0.226611\n",
       "dtype: float64"
      ]
     },
     "execution_count": 115,
     "metadata": {},
     "output_type": "execute_result"
    }
   ],
   "source": [
    "(inbound_dinky[inbound_dinky[\"scheduled_wait_time\"] < 30].groupby(\"from_trenton\")[\"late\"].sum() / \n",
    " inbound_dinky[inbound_dinky[\"scheduled_wait_time\"] < 30].groupby(\"from_trenton\").size())"
   ]
  },
  {
   "cell_type": "code",
   "execution_count": 116,
   "metadata": {},
   "outputs": [
    {
     "data": {
      "text/plain": [
       "from_trenton\n",
       "False    0.006711\n",
       "True     0.004016\n",
       "dtype: float64"
      ]
     },
     "execution_count": 116,
     "metadata": {},
     "output_type": "execute_result"
    }
   ],
   "source": [
    "(inbound_dinky[inbound_dinky[\"scheduled_wait_time\"] >= 30].groupby(\"from_trenton\")[\"late\"].sum() / \n",
    " inbound_dinky[inbound_dinky[\"scheduled_wait_time\"] >= 30].groupby(\"from_trenton\").size())"
   ]
  },
  {
   "cell_type": "markdown",
   "metadata": {},
   "source": [
    "If you miss the first Dinky, how long would you have to wait for the next one [RESOLVED: using schedule for dinky]"
   ]
  },
  {
   "cell_type": "markdown",
   "metadata": {},
   "source": [
    "Buffer time x % chance miss, range(30)"
   ]
  },
  {
   "cell_type": "markdown",
   "metadata": {},
   "source": [
    "#### Loop and get % late by buffer"
   ]
  },
  {
   "cell_type": "code",
   "execution_count": 156,
   "metadata": {},
   "outputs": [
    {
     "data": {
      "text/plain": [
       "0.006711409395973154"
      ]
     },
     "execution_count": 156,
     "metadata": {},
     "output_type": "execute_result"
    }
   ],
   "source": [
    "(inbound_dinky[inbound_dinky[\"scheduled_wait_time\"] >= 30].groupby(\"from_trenton\")[\"late\"].sum() / \n",
    " inbound_dinky[inbound_dinky[\"scheduled_wait_time\"] >= 30].groupby(\"from_trenton\").size())[0]"
   ]
  },
  {
   "cell_type": "code",
   "execution_count": 181,
   "metadata": {},
   "outputs": [],
   "source": [
    "from_south_late_chance = []\n",
    "\n",
    "for i in range(60):\n",
    "    under_wait = inbound_dinky_from_south[inbound_dinky_from_south[\"scheduled_wait_time\"] <= i]\n",
    "    chance = under_wait[\"late\"].sum() / len(under_wait)\n",
    "    from_south_late_chance.append(chance)"
   ]
  },
  {
   "cell_type": "code",
   "execution_count": 175,
   "metadata": {
    "scrolled": true
   },
   "outputs": [
    {
     "data": {
      "text/plain": [
       "[(0, 0.7941176470588235),\n",
       " (1, 0.7941176470588235),\n",
       " (2, 0.8571428571428571),\n",
       " (3, 0.5532646048109966),\n",
       " (4, 0.5532646048109966),\n",
       " (5, 0.5331412103746398),\n",
       " (6, 0.528),\n",
       " (7, 0.5292553191489362),\n",
       " (8, 0.5292553191489362),\n",
       " (9, 0.49033816425120774),\n",
       " (10, 0.4700460829493088),\n",
       " (11, 0.4385593220338983),\n",
       " (12, 0.3931947069943289),\n",
       " (13, 0.3795620437956204),\n",
       " (14, 0.3795620437956204),\n",
       " (15, 0.35714285714285715),\n",
       " (16, 0.35714285714285715),\n",
       " (17, 0.3271317829457364),\n",
       " (18, 0.3150074294205052),\n",
       " (19, 0.29573590096286106),\n",
       " (20, 0.2795838751625488),\n",
       " (21, 0.2679012345679012),\n",
       " (22, 0.25894988066825775),\n",
       " (23, 0.24519774011299436),\n",
       " (24, 0.24519774011299436),\n",
       " (25, 0.24004424778761063),\n",
       " (26, 0.24004424778761063),\n",
       " (27, 0.23117709437963946),\n",
       " (28, 0.22661122661122662),\n",
       " (29, 0.22661122661122662),\n",
       " (30, 0.22661122661122662),\n",
       " (31, 0.22661122661122662),\n",
       " (32, 0.22661122661122662),\n",
       " (33, 0.218),\n",
       " (34, 0.21605550049554015),\n",
       " (35, 0.21414538310412573),\n",
       " (36, 0.20877025738798857),\n",
       " (37, 0.2042910447761194),\n",
       " (38, 0.20353159851301114),\n",
       " (39, 0.20353159851301114),\n",
       " (40, 0.20353159851301114),\n",
       " (41, 0.20353159851301114),\n",
       " (42, 0.20334261838440112),\n",
       " (43, 0.19981751824817517),\n",
       " (44, 0.19819004524886877),\n",
       " (45, 0.19819004524886877),\n",
       " (46, 0.19553571428571428),\n",
       " (47, 0.19553571428571428),\n",
       " (48, 0.19553571428571428),\n",
       " (49, 0.19553571428571428),\n",
       " (50, 0.19553571428571428),\n",
       " (51, 0.19553571428571428),\n",
       " (52, 0.19553571428571428),\n",
       " (53, 0.19553571428571428),\n",
       " (54, 0.19553571428571428),\n",
       " (55, 0.19397697077059345),\n",
       " (56, 0.19397697077059345),\n",
       " (57, 0.19397697077059345),\n",
       " (58, 0.19397697077059345),\n",
       " (59, 0.19397697077059345)]"
      ]
     },
     "execution_count": 175,
     "metadata": {},
     "output_type": "execute_result"
    }
   ],
   "source": [
    "from_south_late_chance"
   ]
  },
  {
   "cell_type": "code",
   "execution_count": 193,
   "metadata": {},
   "outputs": [
    {
     "data": {
      "text/plain": [
       "<matplotlib.axes._subplots.AxesSubplot at 0x1154dee48>"
      ]
     },
     "execution_count": 193,
     "metadata": {},
     "output_type": "execute_result"
    },
    {
     "data": {
      "image/png": "[encoded data removed]",
      "text/plain": [
       "<matplotlib.figure.Figure at 0x11551b0b8>"
      ]
     },
     "metadata": {},
     "output_type": "display_data"
    }
   ],
   "source": [
    "pd.DataFrame(from_south_late_chance)[1:].plot()"
   ]
  },
  {
   "cell_type": "code",
   "execution_count": 196,
   "metadata": {},
   "outputs": [
    {
     "name": "stderr",
     "output_type": "stream",
     "text": [
      "/Library/Frameworks/Python.framework/Versions/3.5/lib/python3.5/site-packages/ipykernel_launcher.py:5: RuntimeWarning: invalid value encountered in long_scalars\n",
      "  \"\"\"\n"
     ]
    }
   ],
   "source": [
    "from_north_late_chance = []\n",
    "\n",
    "for i in range(0, 60):\n",
    "    under_wait = inbound_dinky_from_north[inbound_dinky_from_north[\"scheduled_wait_time\"] <= i]\n",
    "    chance = under_wait[\"late\"].sum() / len(under_wait)\n",
    "    from_north_late_chance.append(chance)"
   ]
  },
  {
   "cell_type": "code",
   "execution_count": 197,
   "metadata": {},
   "outputs": [
    {
     "data": {
      "text/plain": [
       "[nan,\n",
       " nan,\n",
       " nan,\n",
       " 0.3684210526315789,\n",
       " 0.3684210526315789,\n",
       " 0.18446601941747573,\n",
       " 0.18274111675126903,\n",
       " 0.16691729323308271,\n",
       " 0.16691729323308271,\n",
       " 0.16066481994459833,\n",
       " 0.16154873164218958,\n",
       " 0.15272727272727274,\n",
       " 0.14965986394557823,\n",
       " 0.14965986394557823,\n",
       " 0.14565217391304347,\n",
       " 0.14084507042253522,\n",
       " 0.14084507042253522,\n",
       " 0.14084507042253522,\n",
       " 0.13880742913000976,\n",
       " 0.13951219512195123,\n",
       " 0.1368421052631579,\n",
       " 0.1333955223880597,\n",
       " 0.1333955223880597,\n",
       " 0.1333955223880597,\n",
       " 0.1333955223880597,\n",
       " 0.1333955223880597,\n",
       " 0.1333955223880597,\n",
       " 0.13119266055045872,\n",
       " 0.13119266055045872,\n",
       " 0.13119266055045872,\n",
       " 0.13119266055045872,\n",
       " 0.13119266055045872,\n",
       " 0.13011828935395814,\n",
       " 0.13011828935395814,\n",
       " 0.13011828935395814,\n",
       " 0.1265377855887522,\n",
       " 0.1245674740484429,\n",
       " 0.1245674740484429,\n",
       " 0.1245674740484429,\n",
       " 0.12360515021459227,\n",
       " 0.12360515021459227,\n",
       " 0.12360515021459227,\n",
       " 0.12360515021459227,\n",
       " 0.12360515021459227,\n",
       " 0.12360515021459227,\n",
       " 0.12360515021459227,\n",
       " 0.12360515021459227,\n",
       " 0.12360515021459227,\n",
       " 0.12360515021459227,\n",
       " 0.12360515021459227,\n",
       " 0.12360515021459227,\n",
       " 0.12360515021459227,\n",
       " 0.12360515021459227,\n",
       " 0.12360515021459227,\n",
       " 0.12360515021459227,\n",
       " 0.12360515021459227,\n",
       " 0.12162162162162163,\n",
       " 0.12162162162162163,\n",
       " 0.12162162162162163,\n",
       " 0.12162162162162163]"
      ]
     },
     "execution_count": 197,
     "metadata": {},
     "output_type": "execute_result"
    }
   ],
   "source": [
    "from_north_late_chance"
   ]
  },
  {
   "cell_type": "code",
   "execution_count": 194,
   "metadata": {},
   "outputs": [
    {
     "data": {
      "text/plain": [
       "<matplotlib.axes._subplots.AxesSubplot at 0x115df0780>"
      ]
     },
     "execution_count": 194,
     "metadata": {},
     "output_type": "execute_result"
    },
    {
     "data": {
      "image/png": "[encoded data removed]",
      "text/plain": [
       "<matplotlib.figure.Figure at 0x115e887f0>"
      ]
     },
     "metadata": {},
     "output_type": "display_data"
    }
   ],
   "source": [
    "pd.DataFrame(from_north_late_chance)[1:].plot()"
   ]
  },
  {
   "cell_type": "markdown",
   "metadata": {},
   "source": [
    "### Actual"
   ]
  },
  {
   "cell_type": "code",
   "execution_count": 117,
   "metadata": {},
   "outputs": [
    {
     "data": {
      "text/plain": [
       "<matplotlib.axes._subplots.AxesSubplot at 0x113dc0470>"
      ]
     },
     "execution_count": 117,
     "metadata": {},
     "output_type": "execute_result"
    },
    {
     "data": {
      "image/png": "[encoded data removed]",
      "text/plain": [
       "<matplotlib.figure.Figure at 0x11415de80>"
      ]
     },
     "metadata": {},
     "output_type": "display_data"
    }
   ],
   "source": [
    "inbound_dinky[\"actual_wait_time\"].hist()"
   ]
  },
  {
   "cell_type": "code",
   "execution_count": 118,
   "metadata": {},
   "outputs": [
    {
     "data": {
      "text/plain": [
       "count    2450.000000\n",
       "mean       19.313748\n",
       "std        47.427383\n",
       "min       -72.633333\n",
       "25%         2.137500\n",
       "50%         8.925000\n",
       "75%        18.829167\n",
       "max       504.083333\n",
       "Name: actual_wait_time, dtype: float64"
      ]
     },
     "execution_count": 118,
     "metadata": {},
     "output_type": "execute_result"
    }
   ],
   "source": [
    "inbound_dinky[\"actual_wait_time\"].describe()"
   ]
  },
  {
   "cell_type": "markdown",
   "metadata": {},
   "source": [
    "## By time of day/weekday"
   ]
  },
  {
   "cell_type": "markdown",
   "metadata": {},
   "source": [
    "### Weekday"
   ]
  },
  {
   "cell_type": "code",
   "execution_count": 119,
   "metadata": {},
   "outputs": [],
   "source": [
    "inbound_dinky[\"weekday\"] = inbound_dinky[\"expected\"].dt.weekday"
   ]
  },
  {
   "cell_type": "code",
   "execution_count": 120,
   "metadata": {},
   "outputs": [
    {
     "data": {
      "text/plain": [
       "weekday\n",
       "0    0.146006\n",
       "1    0.107232\n",
       "2    0.110553\n",
       "3    0.130326\n",
       "4    0.182957\n",
       "5    0.208835\n",
       "6    0.190871\n",
       "dtype: float64"
      ]
     },
     "execution_count": 120,
     "metadata": {},
     "output_type": "execute_result"
    }
   ],
   "source": [
    "inbound_dinky.groupby(\"weekday\")[\"late\"].sum() / inbound_dinky.groupby(\"weekday\").size()"
   ]
  },
  {
   "cell_type": "code",
   "execution_count": 121,
   "metadata": {},
   "outputs": [
    {
     "data": {
      "text/plain": [
       "<matplotlib.axes._subplots.AxesSubplot at 0x113eaa128>"
      ]
     },
     "execution_count": 121,
     "metadata": {},
     "output_type": "execute_result"
    },
    {
     "data": {
      "image/png": "[encoded data removed]",
      "text/plain": [
       "<matplotlib.figure.Figure at 0x113ead588>"
      ]
     },
     "metadata": {},
     "output_type": "display_data"
    }
   ],
   "source": [
    "pd.DataFrame(inbound_dinky.groupby(\"weekday\")[\"late\"].sum() / inbound_dinky.groupby(\"weekday\").size()).plot()"
   ]
  },
  {
   "cell_type": "markdown",
   "metadata": {},
   "source": [
    "### Hour"
   ]
  },
  {
   "cell_type": "code",
   "execution_count": 122,
   "metadata": {},
   "outputs": [],
   "source": [
    "inbound_dinky[\"hour\"] = inbound_dinky[\"expected\"].dt.hour"
   ]
  },
  {
   "cell_type": "code",
   "execution_count": 123,
   "metadata": {},
   "outputs": [
    {
     "data": {
      "text/html": [
       "<div>\n",
       "<style scoped>\n",
       "    .dataframe tbody tr th:only-of-type {\n",
       "        vertical-align: middle;\n",
       "    }\n",
       "\n",
       "    .dataframe tbody tr th {\n",
       "        vertical-align: top;\n",
       "    }\n",
       "\n",
       "    .dataframe thead th {\n",
       "        text-align: right;\n",
       "    }\n",
       "</style>\n",
       "<table border=\"1\" class=\"dataframe\">\n",
       "  <thead>\n",
       "    <tr style=\"text-align: right;\">\n",
       "      <th></th>\n",
       "      <th>0</th>\n",
       "    </tr>\n",
       "    <tr>\n",
       "      <th>hour</th>\n",
       "      <th></th>\n",
       "    </tr>\n",
       "  </thead>\n",
       "  <tbody>\n",
       "    <tr>\n",
       "      <th>0</th>\n",
       "      <td>0.135135</td>\n",
       "    </tr>\n",
       "    <tr>\n",
       "      <th>1</th>\n",
       "      <td>0.194444</td>\n",
       "    </tr>\n",
       "    <tr>\n",
       "      <th>2</th>\n",
       "      <td>0.000000</td>\n",
       "    </tr>\n",
       "    <tr>\n",
       "      <th>4</th>\n",
       "      <td>0.000000</td>\n",
       "    </tr>\n",
       "    <tr>\n",
       "      <th>5</th>\n",
       "      <td>0.232558</td>\n",
       "    </tr>\n",
       "    <tr>\n",
       "      <th>6</th>\n",
       "      <td>0.141791</td>\n",
       "    </tr>\n",
       "    <tr>\n",
       "      <th>7</th>\n",
       "      <td>0.068750</td>\n",
       "    </tr>\n",
       "    <tr>\n",
       "      <th>8</th>\n",
       "      <td>0.040650</td>\n",
       "    </tr>\n",
       "    <tr>\n",
       "      <th>9</th>\n",
       "      <td>0.081250</td>\n",
       "    </tr>\n",
       "    <tr>\n",
       "      <th>10</th>\n",
       "      <td>0.127660</td>\n",
       "    </tr>\n",
       "    <tr>\n",
       "      <th>11</th>\n",
       "      <td>0.083333</td>\n",
       "    </tr>\n",
       "    <tr>\n",
       "      <th>12</th>\n",
       "      <td>0.165049</td>\n",
       "    </tr>\n",
       "    <tr>\n",
       "      <th>13</th>\n",
       "      <td>0.382114</td>\n",
       "    </tr>\n",
       "    <tr>\n",
       "      <th>14</th>\n",
       "      <td>0.306667</td>\n",
       "    </tr>\n",
       "    <tr>\n",
       "      <th>15</th>\n",
       "      <td>0.145038</td>\n",
       "    </tr>\n",
       "    <tr>\n",
       "      <th>16</th>\n",
       "      <td>0.160305</td>\n",
       "    </tr>\n",
       "    <tr>\n",
       "      <th>17</th>\n",
       "      <td>0.088757</td>\n",
       "    </tr>\n",
       "    <tr>\n",
       "      <th>18</th>\n",
       "      <td>0.173913</td>\n",
       "    </tr>\n",
       "    <tr>\n",
       "      <th>19</th>\n",
       "      <td>0.134615</td>\n",
       "    </tr>\n",
       "    <tr>\n",
       "      <th>20</th>\n",
       "      <td>0.290780</td>\n",
       "    </tr>\n",
       "    <tr>\n",
       "      <th>21</th>\n",
       "      <td>0.077670</td>\n",
       "    </tr>\n",
       "    <tr>\n",
       "      <th>22</th>\n",
       "      <td>0.142857</td>\n",
       "    </tr>\n",
       "    <tr>\n",
       "      <th>23</th>\n",
       "      <td>0.076923</td>\n",
       "    </tr>\n",
       "  </tbody>\n",
       "</table>\n",
       "</div>"
      ],
      "text/plain": [
       "             0\n",
       "hour          \n",
       "0     0.135135\n",
       "1     0.194444\n",
       "2     0.000000\n",
       "4     0.000000\n",
       "5     0.232558\n",
       "6     0.141791\n",
       "7     0.068750\n",
       "8     0.040650\n",
       "9     0.081250\n",
       "10    0.127660\n",
       "11    0.083333\n",
       "12    0.165049\n",
       "13    0.382114\n",
       "14    0.306667\n",
       "15    0.145038\n",
       "16    0.160305\n",
       "17    0.088757\n",
       "18    0.173913\n",
       "19    0.134615\n",
       "20    0.290780\n",
       "21    0.077670\n",
       "22    0.142857\n",
       "23    0.076923"
      ]
     },
     "execution_count": 123,
     "metadata": {},
     "output_type": "execute_result"
    }
   ],
   "source": [
    "pd.DataFrame(inbound_dinky.groupby(\"hour\")[\"late\"].sum() / inbound_dinky.groupby(\"hour\").size())"
   ]
  },
  {
   "cell_type": "code",
   "execution_count": 124,
   "metadata": {
    "scrolled": true
   },
   "outputs": [
    {
     "data": {
      "text/plain": [
       "hour\n",
       "0      37\n",
       "1      36\n",
       "2      15\n",
       "4      38\n",
       "5      86\n",
       "6     134\n",
       "7     160\n",
       "8     123\n",
       "9     160\n",
       "10    141\n",
       "11     84\n",
       "12    103\n",
       "13    123\n",
       "14     75\n",
       "15    131\n",
       "16    131\n",
       "17    169\n",
       "18    207\n",
       "19    104\n",
       "20    141\n",
       "21    103\n",
       "22     84\n",
       "23     65\n",
       "dtype: int64"
      ]
     },
     "execution_count": 124,
     "metadata": {},
     "output_type": "execute_result"
    }
   ],
   "source": [
    "inbound_dinky.groupby(\"hour\").size()"
   ]
  },
  {
   "cell_type": "code",
   "execution_count": 125,
   "metadata": {},
   "outputs": [
    {
     "data": {
      "text/plain": [
       "<matplotlib.axes._subplots.AxesSubplot at 0x112e18b70>"
      ]
     },
     "execution_count": 125,
     "metadata": {},
     "output_type": "execute_result"
    },
    {
     "data": {
      "image/png": "[encoded data removed]",
      "text/plain": [
       "<matplotlib.figure.Figure at 0x112e12400>"
      ]
     },
     "metadata": {},
     "output_type": "display_data"
    }
   ],
   "source": [
    "pd.DataFrame(inbound_dinky.groupby(\"hour\")[\"late\"].sum() / inbound_dinky.groupby(\"hour\").size()).plot()"
   ]
  },
  {
   "cell_type": "markdown",
   "metadata": {},
   "source": [
    "### Hour/Weekday"
   ]
  },
  {
   "cell_type": "code",
   "execution_count": 126,
   "metadata": {},
   "outputs": [],
   "source": [
    "hour_by_weekday_late = pd.DataFrame(inbound_dinky.groupby([\"weekday\", \"hour\"])[\"late\"].sum() / inbound_dinky.groupby([\"weekday\", \"hour\"]).size())"
   ]
  },
  {
   "cell_type": "code",
   "execution_count": 127,
   "metadata": {},
   "outputs": [],
   "source": [
    "hour_by_weekday_late.rename(columns={0:\"late\"}, inplace=True)"
   ]
  },
  {
   "cell_type": "code",
   "execution_count": 128,
   "metadata": {},
   "outputs": [
    {
     "data": {
      "text/plain": [
       "<matplotlib.axes._subplots.AxesSubplot at 0x112df8780>"
      ]
     },
     "execution_count": 128,
     "metadata": {},
     "output_type": "execute_result"
    },
    {
     "data": {
      "image/png": "[encoded data removed]",
      "text/plain": [
       "<matplotlib.figure.Figure at 0x112d8f1d0>"
      ]
     },
     "metadata": {},
     "output_type": "display_data"
    }
   ],
   "source": [
    "hour_by_weekday_late.reset_index(\"hour\").plot(x = \"hour\", y = \"late\")\n",
    "# uhh"
   ]
  },
  {
   "cell_type": "code",
   "execution_count": 129,
   "metadata": {},
   "outputs": [],
   "source": [
    "hour_by_weekday_late.reset_index(inplace=True)"
   ]
  },
  {
   "cell_type": "code",
   "execution_count": 130,
   "metadata": {},
   "outputs": [
    {
     "data": {
      "text/plain": [
       "<matplotlib.legend.Legend at 0x11400c748>"
      ]
     },
     "execution_count": 130,
     "metadata": {},
     "output_type": "execute_result"
    },
    {
     "data": {
      "image/png": "[encoded data removed]",
      "text/plain": [
       "<matplotlib.figure.Figure at 0x1136e6978>"
      ]
     },
     "metadata": {},
     "output_type": "display_data"
    }
   ],
   "source": [
    "# fine\n",
    "\n",
    "import matplotlib.pyplot as plt\n",
    "fig,ax = plt.subplots(figsize=(20, 10))\n",
    "\n",
    "for day in range(7):\n",
    "    df = hour_by_weekday_late[hour_by_weekday_late[\"weekday\"]==day]\n",
    "    ax.plot(df[\"hour\"],df[\"late\"],label=day)\n",
    "\n",
    "ax.set_xlabel(\"hour\")\n",
    "ax.set_ylabel(\"% late\")\n",
    "ax.legend(loc='best')"
   ]
  },
  {
   "cell_type": "markdown",
   "metadata": {},
   "source": [
    "TimeGrouper?"
   ]
  },
  {
   "cell_type": "markdown",
   "metadata": {},
   "source": [
    "### Weekend vs. Weekday"
   ]
  },
  {
   "cell_type": "code",
   "execution_count": 131,
   "metadata": {},
   "outputs": [],
   "source": [
    "inbound_dinky[\"is_weekday\"] = inbound_dinky[\"weekday\"] < 5"
   ]
  },
  {
   "cell_type": "code",
   "execution_count": 132,
   "metadata": {},
   "outputs": [],
   "source": [
    "hour_by_weekday_type_late = pd.DataFrame(inbound_dinky.groupby([\"is_weekday\", \"hour\"])[\"late\"].sum() / inbound_dinky.groupby([\"is_weekday\", \"hour\"]).size())"
   ]
  },
  {
   "cell_type": "code",
   "execution_count": 133,
   "metadata": {},
   "outputs": [],
   "source": [
    "hour_by_weekday_type_late.rename(columns={0:\"late\"}, inplace=True)"
   ]
  },
  {
   "cell_type": "code",
   "execution_count": 134,
   "metadata": {},
   "outputs": [],
   "source": [
    "hour_by_weekday_type_late.reset_index(inplace=True)"
   ]
  },
  {
   "cell_type": "code",
   "execution_count": 135,
   "metadata": {},
   "outputs": [
    {
     "data": {
      "text/plain": [
       "<matplotlib.legend.Legend at 0x1140aa1d0>"
      ]
     },
     "execution_count": 135,
     "metadata": {},
     "output_type": "execute_result"
    },
    {
     "data": {
      "image/png": "[encoded data removed]",
      "text/plain": [
       "<matplotlib.figure.Figure at 0x114061208>"
      ]
     },
     "metadata": {},
     "output_type": "display_data"
    }
   ],
   "source": [
    "# fine\n",
    "\n",
    "import matplotlib.pyplot as plt\n",
    "fig,ax = plt.subplots(figsize=(20, 10))\n",
    "\n",
    "for day in [True, False]:\n",
    "    df = hour_by_weekday_type_late[hour_by_weekday_type_late[\"is_weekday\"]==day]\n",
    "    ax.plot(df[\"hour\"],df[\"late\"],label=day)\n",
    "\n",
    "ax.set_xlabel(\"hour\")\n",
    "ax.set_ylabel(\"% late\")\n",
    "ax.legend(loc='best')"
   ]
  },
  {
   "cell_type": "code",
   "execution_count": 136,
   "metadata": {},
   "outputs": [
    {
     "data": {
      "text/plain": [
       "date\n",
       "2018-02-05    164\n",
       "2018-02-06    152\n",
       "2018-02-07    164\n",
       "2018-02-08    152\n",
       "2018-02-09    164\n",
       "2018-02-10    116\n",
       "2018-02-11    108\n",
       "2018-02-12    164\n",
       "2018-02-13    152\n",
       "2018-02-14    164\n",
       "2018-02-15    152\n",
       "2018-02-16    164\n",
       "2018-02-17    116\n",
       "2018-02-18    108\n",
       "2018-02-19    116\n",
       "2018-02-20    164\n",
       "2018-02-21    152\n",
       "2018-02-22    164\n",
       "2018-02-23    152\n",
       "2018-02-24    116\n",
       "2018-02-25    108\n",
       "2018-02-26    164\n",
       "2018-02-27    152\n",
       "2018-02-28    164\n",
       "2018-03-01    152\n",
       "2018-03-02    164\n",
       "2018-03-03    116\n",
       "2018-03-04    108\n",
       "dtype: int64"
      ]
     },
     "execution_count": 136,
     "metadata": {},
     "output_type": "execute_result"
    }
   ],
   "source": [
    "dinky.groupby(dinky[\"date\"]).size()"
   ]
  },
  {
   "cell_type": "code",
   "execution_count": 137,
   "metadata": {},
   "outputs": [
    {
     "data": {
      "text/plain": [
       "date\n",
       "0    152.0\n",
       "1    155.0\n",
       "2    161.0\n",
       "3    155.0\n",
       "4    161.0\n",
       "5    116.0\n",
       "6    108.0\n",
       "dtype: float64"
      ]
     },
     "execution_count": 137,
     "metadata": {},
     "output_type": "execute_result"
    }
   ],
   "source": [
    "dinky.groupby(dinky[\"date\"].dt.weekday).size() / 4"
   ]
  },
  {
   "cell_type": "code",
   "execution_count": 138,
   "metadata": {},
   "outputs": [],
   "source": [
    "dinky_by_day = pd.DataFrame(dinky.groupby(dinky[\"date\"]).size()).reset_index()"
   ]
  },
  {
   "cell_type": "code",
   "execution_count": 139,
   "metadata": {},
   "outputs": [
    {
     "data": {
      "text/html": [
       "<div>\n",
       "<style scoped>\n",
       "    .dataframe tbody tr th:only-of-type {\n",
       "        vertical-align: middle;\n",
       "    }\n",
       "\n",
       "    .dataframe tbody tr th {\n",
       "        vertical-align: top;\n",
       "    }\n",
       "\n",
       "    .dataframe thead th {\n",
       "        text-align: right;\n",
       "    }\n",
       "</style>\n",
       "<table border=\"1\" class=\"dataframe\">\n",
       "  <thead>\n",
       "    <tr style=\"text-align: right;\">\n",
       "      <th></th>\n",
       "      <th>date</th>\n",
       "      <th>0</th>\n",
       "    </tr>\n",
       "    <tr>\n",
       "      <th>date</th>\n",
       "      <th></th>\n",
       "      <th></th>\n",
       "    </tr>\n",
       "  </thead>\n",
       "  <tbody>\n",
       "    <tr>\n",
       "      <th>0</th>\n",
       "      <td>21 days</td>\n",
       "      <td>48</td>\n",
       "    </tr>\n",
       "    <tr>\n",
       "      <th>1</th>\n",
       "      <td>21 days</td>\n",
       "      <td>12</td>\n",
       "    </tr>\n",
       "    <tr>\n",
       "      <th>2</th>\n",
       "      <td>21 days</td>\n",
       "      <td>12</td>\n",
       "    </tr>\n",
       "    <tr>\n",
       "      <th>3</th>\n",
       "      <td>21 days</td>\n",
       "      <td>12</td>\n",
       "    </tr>\n",
       "    <tr>\n",
       "      <th>4</th>\n",
       "      <td>21 days</td>\n",
       "      <td>12</td>\n",
       "    </tr>\n",
       "    <tr>\n",
       "      <th>5</th>\n",
       "      <td>21 days</td>\n",
       "      <td>0</td>\n",
       "    </tr>\n",
       "    <tr>\n",
       "      <th>6</th>\n",
       "      <td>21 days</td>\n",
       "      <td>0</td>\n",
       "    </tr>\n",
       "  </tbody>\n",
       "</table>\n",
       "</div>"
      ],
      "text/plain": [
       "        date   0\n",
       "date            \n",
       "0    21 days  48\n",
       "1    21 days  12\n",
       "2    21 days  12\n",
       "3    21 days  12\n",
       "4    21 days  12\n",
       "5    21 days   0\n",
       "6    21 days   0"
      ]
     },
     "execution_count": 139,
     "metadata": {},
     "output_type": "execute_result"
    }
   ],
   "source": [
    "dinky_by_day.groupby(dinky_by_day[\"date\"].dt.weekday).max() - dinky_by_day.groupby(dinky_by_day[\"date\"].dt.weekday).min()"
   ]
  },
  {
   "cell_type": "markdown",
   "metadata": {},
   "source": [
    "# Seaborn plots"
   ]
  },
  {
   "cell_type": "code",
   "execution_count": 199,
   "metadata": {},
   "outputs": [],
   "source": [
    "import seaborn as sns"
   ]
  },
  {
   "cell_type": "markdown",
   "metadata": {},
   "source": [
    "Colors:\n",
    "* Orange: 241,100,18 (F16412)\n",
    "* Purple: 175,22,148 (AF1694)\n",
    "* Blue: 41,61,147 (293D93)"
   ]
  },
  {
   "cell_type": "markdown",
   "metadata": {},
   "source": [
    "## Overall late % (bar graph)"
   ]
  },
  {
   "cell_type": "code",
   "execution_count": 224,
   "metadata": {},
   "outputs": [],
   "source": [
    "overall_late = pd.DataFrame(inbound_dinky.groupby(\"from_trenton\")[\"late_to_junction\"].sum() / inbound_dinky.groupby(\"from_trenton\").size())"
   ]
  },
  {
   "cell_type": "code",
   "execution_count": 225,
   "metadata": {},
   "outputs": [
    {
     "data": {
      "text/html": [
       "<div>\n",
       "<style scoped>\n",
       "    .dataframe tbody tr th:only-of-type {\n",
       "        vertical-align: middle;\n",
       "    }\n",
       "\n",
       "    .dataframe tbody tr th {\n",
       "        vertical-align: top;\n",
       "    }\n",
       "\n",
       "    .dataframe thead th {\n",
       "        text-align: right;\n",
       "    }\n",
       "</style>\n",
       "<table border=\"1\" class=\"dataframe\">\n",
       "  <thead>\n",
       "    <tr style=\"text-align: right;\">\n",
       "      <th></th>\n",
       "      <th>0</th>\n",
       "    </tr>\n",
       "    <tr>\n",
       "      <th>from_trenton</th>\n",
       "      <th></th>\n",
       "    </tr>\n",
       "  </thead>\n",
       "  <tbody>\n",
       "    <tr>\n",
       "      <th>False</th>\n",
       "      <td>0.347054</td>\n",
       "    </tr>\n",
       "    <tr>\n",
       "      <th>True</th>\n",
       "      <td>0.536746</td>\n",
       "    </tr>\n",
       "  </tbody>\n",
       "</table>\n",
       "</div>"
      ],
      "text/plain": [
       "                     0\n",
       "from_trenton          \n",
       "False         0.347054\n",
       "True          0.536746"
      ]
     },
     "execution_count": 225,
     "metadata": {},
     "output_type": "execute_result"
    }
   ],
   "source": [
    "overall_late"
   ]
  },
  {
   "cell_type": "code",
   "execution_count": 226,
   "metadata": {},
   "outputs": [],
   "source": [
    "overall_late.reset_index(inplace=True)\n",
    "overall_late = overall_late.replace(True, \"Northbound (from Trenton)\").replace(False, \"Southbound (from NYC)\")"
   ]
  },
  {
   "cell_type": "code",
   "execution_count": 228,
   "metadata": {},
   "outputs": [],
   "source": [
    "overall_late.columns = [\"Direction\", \"% Late\"]"
   ]
  },
  {
   "cell_type": "code",
   "execution_count": 230,
   "metadata": {},
   "outputs": [],
   "source": [
    "overall_late[\"% Late\"] = overall_late[\"% Late\"] * 100"
   ]
  },
  {
   "cell_type": "code",
   "execution_count": 231,
   "metadata": {},
   "outputs": [
    {
     "data": {
      "text/html": [
       "<div>\n",
       "<style scoped>\n",
       "    .dataframe tbody tr th:only-of-type {\n",
       "        vertical-align: middle;\n",
       "    }\n",
       "\n",
       "    .dataframe tbody tr th {\n",
       "        vertical-align: top;\n",
       "    }\n",
       "\n",
       "    .dataframe thead th {\n",
       "        text-align: right;\n",
       "    }\n",
       "</style>\n",
       "<table border=\"1\" class=\"dataframe\">\n",
       "  <thead>\n",
       "    <tr style=\"text-align: right;\">\n",
       "      <th></th>\n",
       "      <th>Direction</th>\n",
       "      <th>% Late</th>\n",
       "    </tr>\n",
       "  </thead>\n",
       "  <tbody>\n",
       "    <tr>\n",
       "      <th>0</th>\n",
       "      <td>Southbound (from NYC)</td>\n",
       "      <td>34.705408</td>\n",
       "    </tr>\n",
       "    <tr>\n",
       "      <th>1</th>\n",
       "      <td>Northbound (from Trenton)</td>\n",
       "      <td>53.674649</td>\n",
       "    </tr>\n",
       "  </tbody>\n",
       "</table>\n",
       "</div>"
      ],
      "text/plain": [
       "                   Direction     % Late\n",
       "0      Southbound (from NYC)  34.705408\n",
       "1  Northbound (from Trenton)  53.674649"
      ]
     },
     "execution_count": 231,
     "metadata": {},
     "output_type": "execute_result"
    }
   ],
   "source": [
    "overall_late"
   ]
  },
  {
   "cell_type": "code",
   "execution_count": 549,
   "metadata": {},
   "outputs": [
    {
     "data": {
      "text/plain": [
       "(0, 100)"
      ]
     },
     "execution_count": 549,
     "metadata": {},
     "output_type": "execute_result"
    },
    {
     "data": {
      "image/png": "[encoded data removed]",
      "text/plain": [
       "<matplotlib.figure.Figure at 0x12006e518>"
      ]
     },
     "metadata": {},
     "output_type": "display_data"
    }
   ],
   "source": [
    "sns.set_style(style=\"whitegrid\")\n",
    "plot = sns.barplot(data = overall_late, x = \"Direction\", y =\"% Late\", palette = [\"#F16412\", \"#293D93\"]).set_title(\"% of Trains Late to Princeton Junction\")\n",
    "plt.ylim(0, 100)"
   ]
  },
  {
   "cell_type": "code",
   "execution_count": 550,
   "metadata": {},
   "outputs": [],
   "source": [
    "plot.figure.savefig(\"../../plots/overall_late.png\")"
   ]
  },
  {
   "cell_type": "markdown",
   "metadata": {},
   "source": [
    "## Overall miss dinky late %"
   ]
  },
  {
   "cell_type": "code",
   "execution_count": 519,
   "metadata": {},
   "outputs": [],
   "source": [
    "overall_miss_dinky = pd.DataFrame(inbound_dinky.groupby(\"from_trenton\")[\"late\"].sum() / inbound_dinky.groupby(\"from_trenton\").size())"
   ]
  },
  {
   "cell_type": "code",
   "execution_count": 520,
   "metadata": {},
   "outputs": [
    {
     "data": {
      "text/html": [
       "<div>\n",
       "<style scoped>\n",
       "    .dataframe tbody tr th:only-of-type {\n",
       "        vertical-align: middle;\n",
       "    }\n",
       "\n",
       "    .dataframe tbody tr th {\n",
       "        vertical-align: top;\n",
       "    }\n",
       "\n",
       "    .dataframe thead th {\n",
       "        text-align: right;\n",
       "    }\n",
       "</style>\n",
       "<table border=\"1\" class=\"dataframe\">\n",
       "  <thead>\n",
       "    <tr style=\"text-align: right;\">\n",
       "      <th></th>\n",
       "      <th>0</th>\n",
       "    </tr>\n",
       "    <tr>\n",
       "      <th>from_trenton</th>\n",
       "      <th></th>\n",
       "    </tr>\n",
       "  </thead>\n",
       "  <tbody>\n",
       "    <tr>\n",
       "      <th>False</th>\n",
       "      <td>0.116223</td>\n",
       "    </tr>\n",
       "    <tr>\n",
       "      <th>True</th>\n",
       "      <td>0.180842</td>\n",
       "    </tr>\n",
       "  </tbody>\n",
       "</table>\n",
       "</div>"
      ],
      "text/plain": [
       "                     0\n",
       "from_trenton          \n",
       "False         0.116223\n",
       "True          0.180842"
      ]
     },
     "execution_count": 520,
     "metadata": {},
     "output_type": "execute_result"
    }
   ],
   "source": [
    "overall_miss_dinky"
   ]
  },
  {
   "cell_type": "code",
   "execution_count": 521,
   "metadata": {},
   "outputs": [],
   "source": [
    "overall_miss_dinky.reset_index(inplace=True)\n",
    "overall_miss_dinky = overall_miss_dinky.replace(True, \"Northbound (from Trenton)\").replace(False, \"Southbound (from NYC)\")"
   ]
  },
  {
   "cell_type": "code",
   "execution_count": 522,
   "metadata": {},
   "outputs": [],
   "source": [
    "overall_miss_dinky.columns = [\"Direction\", \"% Chance of Missing Dinky\"]"
   ]
  },
  {
   "cell_type": "code",
   "execution_count": 523,
   "metadata": {},
   "outputs": [],
   "source": [
    "overall_miss_dinky[\"% Chance of Missing Dinky\"] = overall_miss_dinky[\"% Chance of Missing Dinky\"] * 100"
   ]
  },
  {
   "cell_type": "code",
   "execution_count": 524,
   "metadata": {},
   "outputs": [
    {
     "data": {
      "text/html": [
       "<div>\n",
       "<style scoped>\n",
       "    .dataframe tbody tr th:only-of-type {\n",
       "        vertical-align: middle;\n",
       "    }\n",
       "\n",
       "    .dataframe tbody tr th {\n",
       "        vertical-align: top;\n",
       "    }\n",
       "\n",
       "    .dataframe thead th {\n",
       "        text-align: right;\n",
       "    }\n",
       "</style>\n",
       "<table border=\"1\" class=\"dataframe\">\n",
       "  <thead>\n",
       "    <tr style=\"text-align: right;\">\n",
       "      <th></th>\n",
       "      <th>Direction</th>\n",
       "      <th>% Chance of Missing Dinky</th>\n",
       "    </tr>\n",
       "  </thead>\n",
       "  <tbody>\n",
       "    <tr>\n",
       "      <th>0</th>\n",
       "      <td>Southbound (from NYC)</td>\n",
       "      <td>11.622276</td>\n",
       "    </tr>\n",
       "    <tr>\n",
       "      <th>1</th>\n",
       "      <td>Northbound (from Trenton)</td>\n",
       "      <td>18.084228</td>\n",
       "    </tr>\n",
       "  </tbody>\n",
       "</table>\n",
       "</div>"
      ],
      "text/plain": [
       "                   Direction  % Chance of Missing Dinky\n",
       "0      Southbound (from NYC)                  11.622276\n",
       "1  Northbound (from Trenton)                  18.084228"
      ]
     },
     "execution_count": 524,
     "metadata": {},
     "output_type": "execute_result"
    }
   ],
   "source": [
    "overall_miss_dinky"
   ]
  },
  {
   "cell_type": "code",
   "execution_count": 554,
   "metadata": {},
   "outputs": [
    {
     "data": {
      "text/plain": [
       "(0, 100)"
      ]
     },
     "execution_count": 554,
     "metadata": {},
     "output_type": "execute_result"
    },
    {
     "data": {
      "image/png": "[encoded data removed]",
      "text/plain": [
       "<matplotlib.figure.Figure at 0x11f45c5c0>"
      ]
     },
     "metadata": {},
     "output_type": "display_data"
    }
   ],
   "source": [
    "sns.set(rc={\"figure.figsize\":(6, 4)})\n",
    "sns.set_style(style=\"whitegrid\")\n",
    "\n",
    "plot = sns.barplot(data = overall_miss_dinky, x = \"Direction\", y =\"% Chance of Missing Dinky\", palette = [\"#F16412\", \"#293D93\"]).set_title(\"% of Trains Missing Expected Dinky\")\n",
    "plt.ylim(0, 100)"
   ]
  },
  {
   "cell_type": "code",
   "execution_count": 555,
   "metadata": {},
   "outputs": [],
   "source": [
    "plot.figure.savefig(\"../../plots/overall_miss_dinky.png\")"
   ]
  },
  {
   "cell_type": "markdown",
   "metadata": {},
   "source": [
    "## Buffer x % late"
   ]
  },
  {
   "cell_type": "code",
   "execution_count": null,
   "metadata": {},
   "outputs": [],
   "source": [
    "from numpy import arange"
   ]
  },
  {
   "cell_type": "markdown",
   "metadata": {},
   "source": [
    "### From south"
   ]
  },
  {
   "cell_type": "code",
   "execution_count": 275,
   "metadata": {},
   "outputs": [],
   "source": [
    "from_south_late_chance = [x*100 for x in from_south_late_chance]"
   ]
  },
  {
   "cell_type": "code",
   "execution_count": 556,
   "metadata": {
    "scrolled": false
   },
   "outputs": [
    {
     "data": {
      "image/png": "[encoded data removed]",
      "text/plain": [
       "<matplotlib.figure.Figure at 0x11f46e4e0>"
      ]
     },
     "metadata": {},
     "output_type": "display_data"
    }
   ],
   "source": [
    "plt.plot(pd.DataFrame(from_south_late_chance)[1:], color = \"#293D93\")\n",
    "plt.title(\"Northbound (from Trenton)\")\n",
    "plt.xlabel(\"Window between trains (min)\")\n",
    "plt.ylabel(\"% Chance of missing Dinky\")\n",
    "plt.ylim(0, 100)\n",
    "plt.xticks(arange(0, 60+1, 5))\n",
    "plt.savefig(\"../../plots/northbound_buffer_late.png\")"
   ]
  },
  {
   "cell_type": "markdown",
   "metadata": {},
   "source": [
    "## From north"
   ]
  },
  {
   "cell_type": "code",
   "execution_count": 289,
   "metadata": {},
   "outputs": [],
   "source": [
    "from_north_late_chance = [x*100 for x in from_north_late_chance]"
   ]
  },
  {
   "cell_type": "code",
   "execution_count": 557,
   "metadata": {},
   "outputs": [
    {
     "data": {
      "image/png": "[encoded data removed]",
      "text/plain": [
       "<matplotlib.figure.Figure at 0x11fd3cdd8>"
      ]
     },
     "metadata": {},
     "output_type": "display_data"
    }
   ],
   "source": [
    "plt.plot(pd.DataFrame(from_north_late_chance)[1:], color = \"#F16412\")\n",
    "plt.title(\"Southbound (from NYC)\")\n",
    "plt.xlabel(\"Window between trains (min)\")\n",
    "plt.ylabel(\"% Chance of missing Dinky\")\n",
    "plt.ylim(0, 100)\n",
    "plt.xticks(arange(0, 60+1, 5))\n",
    "plt.savefig(\"../../plots/southbound_buffer_late.png\")"
   ]
  },
  {
   "cell_type": "markdown",
   "metadata": {},
   "source": [
    "### Facet"
   ]
  },
  {
   "cell_type": "code",
   "execution_count": 595,
   "metadata": {},
   "outputs": [],
   "source": [
    "from_north_late_chance_df = pd.DataFrame(from_north_late_chance)[1:].reset_index()"
   ]
  },
  {
   "cell_type": "code",
   "execution_count": 596,
   "metadata": {},
   "outputs": [],
   "source": [
    "from_north_late_chance_df[\"Direction\"] = \"Southbound (from NYC)\""
   ]
  },
  {
   "cell_type": "code",
   "execution_count": 597,
   "metadata": {},
   "outputs": [],
   "source": [
    "from_south_late_chance_df = pd.DataFrame(from_south_late_chance)[1:].reset_index()"
   ]
  },
  {
   "cell_type": "code",
   "execution_count": 598,
   "metadata": {},
   "outputs": [],
   "source": [
    "from_south_late_chance_df[\"Direction\"] = \"Northbound (from Trenton)\""
   ]
  },
  {
   "cell_type": "code",
   "execution_count": 599,
   "metadata": {},
   "outputs": [],
   "source": [
    "facet_late_chance = from_south_late_chance_df.append(from_north_late_chance_df)"
   ]
  },
  {
   "cell_type": "code",
   "execution_count": 600,
   "metadata": {
    "scrolled": true
   },
   "outputs": [],
   "source": [
    "facet_late_chance.columns = [\"Window between trains (min)\", \"% Chance of missing Dinky\", \"Direction\"]"
   ]
  },
  {
   "cell_type": "code",
   "execution_count": 601,
   "metadata": {
    "scrolled": true
   },
   "outputs": [
    {
     "data": {
      "text/html": [
       "<div>\n",
       "<style scoped>\n",
       "    .dataframe tbody tr th:only-of-type {\n",
       "        vertical-align: middle;\n",
       "    }\n",
       "\n",
       "    .dataframe tbody tr th {\n",
       "        vertical-align: top;\n",
       "    }\n",
       "\n",
       "    .dataframe thead th {\n",
       "        text-align: right;\n",
       "    }\n",
       "</style>\n",
       "<table border=\"1\" class=\"dataframe\">\n",
       "  <thead>\n",
       "    <tr style=\"text-align: right;\">\n",
       "      <th></th>\n",
       "      <th>Window between trains (min)</th>\n",
       "      <th>% Chance of missing Dinky</th>\n",
       "      <th>Direction</th>\n",
       "    </tr>\n",
       "  </thead>\n",
       "  <tbody>\n",
       "    <tr>\n",
       "      <th>0</th>\n",
       "      <td>1</td>\n",
       "      <td>79.411765</td>\n",
       "      <td>Northbound (from Trenton)</td>\n",
       "    </tr>\n",
       "    <tr>\n",
       "      <th>1</th>\n",
       "      <td>2</td>\n",
       "      <td>85.714286</td>\n",
       "      <td>Northbound (from Trenton)</td>\n",
       "    </tr>\n",
       "    <tr>\n",
       "      <th>2</th>\n",
       "      <td>3</td>\n",
       "      <td>55.326460</td>\n",
       "      <td>Northbound (from Trenton)</td>\n",
       "    </tr>\n",
       "    <tr>\n",
       "      <th>3</th>\n",
       "      <td>4</td>\n",
       "      <td>55.326460</td>\n",
       "      <td>Northbound (from Trenton)</td>\n",
       "    </tr>\n",
       "    <tr>\n",
       "      <th>4</th>\n",
       "      <td>5</td>\n",
       "      <td>53.314121</td>\n",
       "      <td>Northbound (from Trenton)</td>\n",
       "    </tr>\n",
       "  </tbody>\n",
       "</table>\n",
       "</div>"
      ],
      "text/plain": [
       "   Window between trains (min)  % Chance of missing Dinky  \\\n",
       "0                            1                  79.411765   \n",
       "1                            2                  85.714286   \n",
       "2                            3                  55.326460   \n",
       "3                            4                  55.326460   \n",
       "4                            5                  53.314121   \n",
       "\n",
       "                   Direction  \n",
       "0  Northbound (from Trenton)  \n",
       "1  Northbound (from Trenton)  \n",
       "2  Northbound (from Trenton)  \n",
       "3  Northbound (from Trenton)  \n",
       "4  Northbound (from Trenton)  "
      ]
     },
     "execution_count": 601,
     "metadata": {},
     "output_type": "execute_result"
    }
   ],
   "source": [
    "facet_late_chance.head()"
   ]
  },
  {
   "cell_type": "code",
   "execution_count": 607,
   "metadata": {},
   "outputs": [
    {
     "data": {
      "text/plain": [
       "(0, 100)"
      ]
     },
     "execution_count": 607,
     "metadata": {},
     "output_type": "execute_result"
    },
    {
     "data": {
      "image/png": "[encoded data removed]",
      "text/plain": [
       "<matplotlib.figure.Figure at 0x117881400>"
      ]
     },
     "metadata": {},
     "output_type": "display_data"
    }
   ],
   "source": [
    "sns.set(rc={\"figure.figsize\":(14, 10)})\n",
    "sns.set_style(\"whitegrid\")\n",
    "\n",
    "g = sns.FacetGrid(facet_late_chance, col = \"Direction\", size = 6, hue = \"Direction\", palette = [\"#F16412\", \"#293D93\"])\n",
    "g.map(plt.plot, \"Window between trains (min)\", \"% Chance of missing Dinky\")\n",
    "plt.ylim(0, 100)"
   ]
  },
  {
   "cell_type": "code",
   "execution_count": 609,
   "metadata": {},
   "outputs": [],
   "source": [
    "g.savefig(\"../../plots/facet_buffer_late.png\")"
   ]
  },
  {
   "cell_type": "markdown",
   "metadata": {},
   "source": [
    "## By weekday"
   ]
  },
  {
   "cell_type": "code",
   "execution_count": 327,
   "metadata": {},
   "outputs": [],
   "source": [
    "import calendar"
   ]
  },
  {
   "cell_type": "code",
   "execution_count": 328,
   "metadata": {},
   "outputs": [],
   "source": [
    "weekday_dict = dict(enumerate(calendar.day_name))"
   ]
  },
  {
   "cell_type": "markdown",
   "metadata": {},
   "source": [
    "### Facet"
   ]
  },
  {
   "cell_type": "code",
   "execution_count": 508,
   "metadata": {},
   "outputs": [],
   "source": [
    "by_weekday = pd.DataFrame(inbound_dinky.groupby([\"from_trenton\", \"weekday\"])[\"late\"].sum() / inbound_dinky.groupby([\"from_trenton\", \"weekday\"]).size())"
   ]
  },
  {
   "cell_type": "code",
   "execution_count": 509,
   "metadata": {},
   "outputs": [],
   "source": [
    "by_weekday.reset_index(inplace=True)"
   ]
  },
  {
   "cell_type": "code",
   "execution_count": 510,
   "metadata": {},
   "outputs": [],
   "source": [
    "by_weekday.columns = [\"Direction\", \"Weekday\", \"% Chance of missing Dinky\"]"
   ]
  },
  {
   "cell_type": "code",
   "execution_count": 511,
   "metadata": {},
   "outputs": [
    {
     "data": {
      "text/html": [
       "<div>\n",
       "<style scoped>\n",
       "    .dataframe tbody tr th:only-of-type {\n",
       "        vertical-align: middle;\n",
       "    }\n",
       "\n",
       "    .dataframe tbody tr th {\n",
       "        vertical-align: top;\n",
       "    }\n",
       "\n",
       "    .dataframe thead th {\n",
       "        text-align: right;\n",
       "    }\n",
       "</style>\n",
       "<table border=\"1\" class=\"dataframe\">\n",
       "  <thead>\n",
       "    <tr style=\"text-align: right;\">\n",
       "      <th></th>\n",
       "      <th>Direction</th>\n",
       "      <th>Weekday</th>\n",
       "      <th>% Chance of Missing Dinky</th>\n",
       "    </tr>\n",
       "  </thead>\n",
       "  <tbody>\n",
       "    <tr>\n",
       "      <th>0</th>\n",
       "      <td>False</td>\n",
       "      <td>0</td>\n",
       "      <td>0.087912</td>\n",
       "    </tr>\n",
       "    <tr>\n",
       "      <th>1</th>\n",
       "      <td>False</td>\n",
       "      <td>1</td>\n",
       "      <td>0.072115</td>\n",
       "    </tr>\n",
       "    <tr>\n",
       "      <th>2</th>\n",
       "      <td>False</td>\n",
       "      <td>2</td>\n",
       "      <td>0.069307</td>\n",
       "    </tr>\n",
       "    <tr>\n",
       "      <th>3</th>\n",
       "      <td>False</td>\n",
       "      <td>3</td>\n",
       "      <td>0.082524</td>\n",
       "    </tr>\n",
       "    <tr>\n",
       "      <th>4</th>\n",
       "      <td>False</td>\n",
       "      <td>4</td>\n",
       "      <td>0.155000</td>\n",
       "    </tr>\n",
       "    <tr>\n",
       "      <th>5</th>\n",
       "      <td>False</td>\n",
       "      <td>5</td>\n",
       "      <td>0.243902</td>\n",
       "    </tr>\n",
       "    <tr>\n",
       "      <th>6</th>\n",
       "      <td>False</td>\n",
       "      <td>6</td>\n",
       "      <td>0.177966</td>\n",
       "    </tr>\n",
       "    <tr>\n",
       "      <th>7</th>\n",
       "      <td>True</td>\n",
       "      <td>0</td>\n",
       "      <td>0.204420</td>\n",
       "    </tr>\n",
       "    <tr>\n",
       "      <th>8</th>\n",
       "      <td>True</td>\n",
       "      <td>1</td>\n",
       "      <td>0.145078</td>\n",
       "    </tr>\n",
       "    <tr>\n",
       "      <th>9</th>\n",
       "      <td>True</td>\n",
       "      <td>2</td>\n",
       "      <td>0.153061</td>\n",
       "    </tr>\n",
       "    <tr>\n",
       "      <th>10</th>\n",
       "      <td>True</td>\n",
       "      <td>3</td>\n",
       "      <td>0.181347</td>\n",
       "    </tr>\n",
       "    <tr>\n",
       "      <th>11</th>\n",
       "      <td>True</td>\n",
       "      <td>4</td>\n",
       "      <td>0.211055</td>\n",
       "    </tr>\n",
       "    <tr>\n",
       "      <th>12</th>\n",
       "      <td>True</td>\n",
       "      <td>5</td>\n",
       "      <td>0.174603</td>\n",
       "    </tr>\n",
       "    <tr>\n",
       "      <th>13</th>\n",
       "      <td>True</td>\n",
       "      <td>6</td>\n",
       "      <td>0.203252</td>\n",
       "    </tr>\n",
       "  </tbody>\n",
       "</table>\n",
       "</div>"
      ],
      "text/plain": [
       "    Direction  Weekday  % Chance of Missing Dinky\n",
       "0       False        0                   0.087912\n",
       "1       False        1                   0.072115\n",
       "2       False        2                   0.069307\n",
       "3       False        3                   0.082524\n",
       "4       False        4                   0.155000\n",
       "5       False        5                   0.243902\n",
       "6       False        6                   0.177966\n",
       "7        True        0                   0.204420\n",
       "8        True        1                   0.145078\n",
       "9        True        2                   0.153061\n",
       "10       True        3                   0.181347\n",
       "11       True        4                   0.211055\n",
       "12       True        5                   0.174603\n",
       "13       True        6                   0.203252"
      ]
     },
     "execution_count": 511,
     "metadata": {},
     "output_type": "execute_result"
    }
   ],
   "source": [
    "by_weekday"
   ]
  },
  {
   "cell_type": "code",
   "execution_count": 512,
   "metadata": {},
   "outputs": [],
   "source": [
    "by_weekday[\"Weekday\"] = by_weekday[\"Weekday\"].map(weekday_dict)"
   ]
  },
  {
   "cell_type": "code",
   "execution_count": 513,
   "metadata": {},
   "outputs": [],
   "source": [
    "by_weekday = by_weekday.replace(True, \"Northbound (from Trenton)\").replace(False, \"Southbound (from NYC)\")"
   ]
  },
  {
   "cell_type": "code",
   "execution_count": 514,
   "metadata": {},
   "outputs": [],
   "source": [
    "by_weekday[\"% Chance of missing Dinky\"] = by_weekday[\"% Chance of missing Dinky\"] * 100"
   ]
  },
  {
   "cell_type": "code",
   "execution_count": 515,
   "metadata": {},
   "outputs": [
    {
     "data": {
      "text/html": [
       "<div>\n",
       "<style scoped>\n",
       "    .dataframe tbody tr th:only-of-type {\n",
       "        vertical-align: middle;\n",
       "    }\n",
       "\n",
       "    .dataframe tbody tr th {\n",
       "        vertical-align: top;\n",
       "    }\n",
       "\n",
       "    .dataframe thead th {\n",
       "        text-align: right;\n",
       "    }\n",
       "</style>\n",
       "<table border=\"1\" class=\"dataframe\">\n",
       "  <thead>\n",
       "    <tr style=\"text-align: right;\">\n",
       "      <th></th>\n",
       "      <th>Direction</th>\n",
       "      <th>Weekday</th>\n",
       "      <th>% Chance of Missing Dinky</th>\n",
       "    </tr>\n",
       "  </thead>\n",
       "  <tbody>\n",
       "    <tr>\n",
       "      <th>0</th>\n",
       "      <td>Southbound (from NYC)</td>\n",
       "      <td>Monday</td>\n",
       "      <td>8.791209</td>\n",
       "    </tr>\n",
       "    <tr>\n",
       "      <th>1</th>\n",
       "      <td>Southbound (from NYC)</td>\n",
       "      <td>Tuesday</td>\n",
       "      <td>7.211538</td>\n",
       "    </tr>\n",
       "    <tr>\n",
       "      <th>2</th>\n",
       "      <td>Southbound (from NYC)</td>\n",
       "      <td>Wednesday</td>\n",
       "      <td>6.930693</td>\n",
       "    </tr>\n",
       "    <tr>\n",
       "      <th>3</th>\n",
       "      <td>Southbound (from NYC)</td>\n",
       "      <td>Thursday</td>\n",
       "      <td>8.252427</td>\n",
       "    </tr>\n",
       "    <tr>\n",
       "      <th>4</th>\n",
       "      <td>Southbound (from NYC)</td>\n",
       "      <td>Friday</td>\n",
       "      <td>15.500000</td>\n",
       "    </tr>\n",
       "    <tr>\n",
       "      <th>5</th>\n",
       "      <td>Southbound (from NYC)</td>\n",
       "      <td>Saturday</td>\n",
       "      <td>24.390244</td>\n",
       "    </tr>\n",
       "    <tr>\n",
       "      <th>6</th>\n",
       "      <td>Southbound (from NYC)</td>\n",
       "      <td>Sunday</td>\n",
       "      <td>17.796610</td>\n",
       "    </tr>\n",
       "    <tr>\n",
       "      <th>7</th>\n",
       "      <td>Northbound (from Trenton)</td>\n",
       "      <td>Monday</td>\n",
       "      <td>20.441989</td>\n",
       "    </tr>\n",
       "    <tr>\n",
       "      <th>8</th>\n",
       "      <td>Northbound (from Trenton)</td>\n",
       "      <td>Tuesday</td>\n",
       "      <td>14.507772</td>\n",
       "    </tr>\n",
       "    <tr>\n",
       "      <th>9</th>\n",
       "      <td>Northbound (from Trenton)</td>\n",
       "      <td>Wednesday</td>\n",
       "      <td>15.306122</td>\n",
       "    </tr>\n",
       "    <tr>\n",
       "      <th>10</th>\n",
       "      <td>Northbound (from Trenton)</td>\n",
       "      <td>Thursday</td>\n",
       "      <td>18.134715</td>\n",
       "    </tr>\n",
       "    <tr>\n",
       "      <th>11</th>\n",
       "      <td>Northbound (from Trenton)</td>\n",
       "      <td>Friday</td>\n",
       "      <td>21.105528</td>\n",
       "    </tr>\n",
       "    <tr>\n",
       "      <th>12</th>\n",
       "      <td>Northbound (from Trenton)</td>\n",
       "      <td>Saturday</td>\n",
       "      <td>17.460317</td>\n",
       "    </tr>\n",
       "    <tr>\n",
       "      <th>13</th>\n",
       "      <td>Northbound (from Trenton)</td>\n",
       "      <td>Sunday</td>\n",
       "      <td>20.325203</td>\n",
       "    </tr>\n",
       "  </tbody>\n",
       "</table>\n",
       "</div>"
      ],
      "text/plain": [
       "                    Direction    Weekday  % Chance of Missing Dinky\n",
       "0       Southbound (from NYC)     Monday                   8.791209\n",
       "1       Southbound (from NYC)    Tuesday                   7.211538\n",
       "2       Southbound (from NYC)  Wednesday                   6.930693\n",
       "3       Southbound (from NYC)   Thursday                   8.252427\n",
       "4       Southbound (from NYC)     Friday                  15.500000\n",
       "5       Southbound (from NYC)   Saturday                  24.390244\n",
       "6       Southbound (from NYC)     Sunday                  17.796610\n",
       "7   Northbound (from Trenton)     Monday                  20.441989\n",
       "8   Northbound (from Trenton)    Tuesday                  14.507772\n",
       "9   Northbound (from Trenton)  Wednesday                  15.306122\n",
       "10  Northbound (from Trenton)   Thursday                  18.134715\n",
       "11  Northbound (from Trenton)     Friday                  21.105528\n",
       "12  Northbound (from Trenton)   Saturday                  17.460317\n",
       "13  Northbound (from Trenton)     Sunday                  20.325203"
      ]
     },
     "execution_count": 515,
     "metadata": {},
     "output_type": "execute_result"
    }
   ],
   "source": [
    "by_weekday"
   ]
  },
  {
   "cell_type": "code",
   "execution_count": 516,
   "metadata": {},
   "outputs": [],
   "source": [
    "weekday_colors = [\"#AA3898\", \"#BBCBE1\", \"#FFCF06\", \"#0DAF5B\", \"#FAA635\", \"#EE3A43\", \"#1AADE7\"]"
   ]
  },
  {
   "cell_type": "code",
   "execution_count": 517,
   "metadata": {},
   "outputs": [],
   "source": [
    "# sns.set(rc={\"figure.figsize\":(7, 5)})\n",
    "# sns.set_style(\"whitegrid\")\n",
    "# plot = (sns.barplot(data = by_weekday, x = \"Weekday\", y =\"% Late\", palette = weekday_colors)\n",
    "#            .set_title(\"% of Trains Missing Expected Dinky (2/5/18 - 3/4/18)\"))"
   ]
  },
  {
   "cell_type": "code",
   "execution_count": 583,
   "metadata": {
    "scrolled": true
   },
   "outputs": [
    {
     "name": "stderr",
     "output_type": "stream",
     "text": [
      "/Library/Frameworks/Python.framework/Versions/3.5/lib/python3.5/site-packages/seaborn/axisgrid.py:703: UserWarning: Using the barplot function without specifying `order` is likely to produce an incorrect plot.\n",
      "  warnings.warn(warning)\n"
     ]
    },
    {
     "ename": "KeyError",
     "evalue": "\"['% Chance of missing Dinky'] not in index\"",
     "output_type": "error",
     "traceback": [
      "\u001b[0;31m---------------------------------------------------------------------------\u001b[0m",
      "\u001b[0;31mKeyError\u001b[0m                                  Traceback (most recent call last)",
      "\u001b[0;32m<ipython-input-583-34d4cba54df4>\u001b[0m in \u001b[0;36m<module>\u001b[0;34m()\u001b[0m\n\u001b[1;32m      3\u001b[0m \u001b[0;34m\u001b[0m\u001b[0m\n\u001b[1;32m      4\u001b[0m \u001b[0mg\u001b[0m \u001b[0;34m=\u001b[0m \u001b[0msns\u001b[0m\u001b[0;34m.\u001b[0m\u001b[0mFacetGrid\u001b[0m\u001b[0;34m(\u001b[0m\u001b[0mby_weekday\u001b[0m\u001b[0;34m,\u001b[0m \u001b[0mcol\u001b[0m \u001b[0;34m=\u001b[0m \u001b[0;34m\"Direction\"\u001b[0m\u001b[0;34m,\u001b[0m \u001b[0msize\u001b[0m \u001b[0;34m=\u001b[0m \u001b[0;36m6\u001b[0m\u001b[0;34m)\u001b[0m\u001b[0;34m\u001b[0m\u001b[0m\n\u001b[0;32m----> 5\u001b[0;31m \u001b[0mg\u001b[0m\u001b[0;34m.\u001b[0m\u001b[0mmap\u001b[0m\u001b[0;34m(\u001b[0m\u001b[0msns\u001b[0m\u001b[0;34m.\u001b[0m\u001b[0mbarplot\u001b[0m\u001b[0;34m,\u001b[0m \u001b[0;34m\"Weekday\"\u001b[0m\u001b[0;34m,\u001b[0m \u001b[0;34m\"% Chance of missing Dinky\"\u001b[0m\u001b[0;34m,\u001b[0m \u001b[0mpalette\u001b[0m \u001b[0;34m=\u001b[0m \u001b[0mweekday_colors\u001b[0m\u001b[0;34m)\u001b[0m\u001b[0;34m\u001b[0m\u001b[0m\n\u001b[0m\u001b[1;32m      6\u001b[0m \u001b[0mplt\u001b[0m\u001b[0;34m.\u001b[0m\u001b[0mylim\u001b[0m\u001b[0;34m(\u001b[0m\u001b[0;36m0\u001b[0m\u001b[0;34m,\u001b[0m \u001b[0;36m100\u001b[0m\u001b[0;34m)\u001b[0m\u001b[0;34m\u001b[0m\u001b[0m\n",
      "\u001b[0;32m/Library/Frameworks/Python.framework/Versions/3.5/lib/python3.5/site-packages/seaborn/axisgrid.py\u001b[0m in \u001b[0;36mmap\u001b[0;34m(self, func, *args, **kwargs)\u001b[0m\n\u001b[1;32m    730\u001b[0m \u001b[0;34m\u001b[0m\u001b[0m\n\u001b[1;32m    731\u001b[0m             \u001b[0;31m# Get the actual data we are going to plot with\u001b[0m\u001b[0;34m\u001b[0m\u001b[0;34m\u001b[0m\u001b[0m\n\u001b[0;32m--> 732\u001b[0;31m             \u001b[0mplot_data\u001b[0m \u001b[0;34m=\u001b[0m \u001b[0mdata_ijk\u001b[0m\u001b[0;34m[\u001b[0m\u001b[0mlist\u001b[0m\u001b[0;34m(\u001b[0m\u001b[0margs\u001b[0m\u001b[0;34m)\u001b[0m\u001b[0;34m]\u001b[0m\u001b[0;34m\u001b[0m\u001b[0m\n\u001b[0m\u001b[1;32m    733\u001b[0m             \u001b[0;32mif\u001b[0m \u001b[0mself\u001b[0m\u001b[0;34m.\u001b[0m\u001b[0m_dropna\u001b[0m\u001b[0;34m:\u001b[0m\u001b[0;34m\u001b[0m\u001b[0m\n\u001b[1;32m    734\u001b[0m                 \u001b[0mplot_data\u001b[0m \u001b[0;34m=\u001b[0m \u001b[0mplot_data\u001b[0m\u001b[0;34m.\u001b[0m\u001b[0mdropna\u001b[0m\u001b[0;34m(\u001b[0m\u001b[0;34m)\u001b[0m\u001b[0;34m\u001b[0m\u001b[0m\n",
      "\u001b[0;32m/Library/Frameworks/Python.framework/Versions/3.5/lib/python3.5/site-packages/pandas/core/frame.py\u001b[0m in \u001b[0;36m__getitem__\u001b[0;34m(self, key)\u001b[0m\n\u001b[1;32m   2131\u001b[0m         \u001b[0;32mif\u001b[0m \u001b[0misinstance\u001b[0m\u001b[0;34m(\u001b[0m\u001b[0mkey\u001b[0m\u001b[0;34m,\u001b[0m \u001b[0;34m(\u001b[0m\u001b[0mSeries\u001b[0m\u001b[0;34m,\u001b[0m \u001b[0mnp\u001b[0m\u001b[0;34m.\u001b[0m\u001b[0mndarray\u001b[0m\u001b[0;34m,\u001b[0m \u001b[0mIndex\u001b[0m\u001b[0;34m,\u001b[0m \u001b[0mlist\u001b[0m\u001b[0;34m)\u001b[0m\u001b[0;34m)\u001b[0m\u001b[0;34m:\u001b[0m\u001b[0;34m\u001b[0m\u001b[0m\n\u001b[1;32m   2132\u001b[0m             \u001b[0;31m# either boolean or fancy integer index\u001b[0m\u001b[0;34m\u001b[0m\u001b[0;34m\u001b[0m\u001b[0m\n\u001b[0;32m-> 2133\u001b[0;31m             \u001b[0;32mreturn\u001b[0m \u001b[0mself\u001b[0m\u001b[0;34m.\u001b[0m\u001b[0m_getitem_array\u001b[0m\u001b[0;34m(\u001b[0m\u001b[0mkey\u001b[0m\u001b[0;34m)\u001b[0m\u001b[0;34m\u001b[0m\u001b[0m\n\u001b[0m\u001b[1;32m   2134\u001b[0m         \u001b[0;32melif\u001b[0m \u001b[0misinstance\u001b[0m\u001b[0;34m(\u001b[0m\u001b[0mkey\u001b[0m\u001b[0;34m,\u001b[0m \u001b[0mDataFrame\u001b[0m\u001b[0;34m)\u001b[0m\u001b[0;34m:\u001b[0m\u001b[0;34m\u001b[0m\u001b[0m\n\u001b[1;32m   2135\u001b[0m             \u001b[0;32mreturn\u001b[0m \u001b[0mself\u001b[0m\u001b[0;34m.\u001b[0m\u001b[0m_getitem_frame\u001b[0m\u001b[0;34m(\u001b[0m\u001b[0mkey\u001b[0m\u001b[0;34m)\u001b[0m\u001b[0;34m\u001b[0m\u001b[0m\n",
      "\u001b[0;32m/Library/Frameworks/Python.framework/Versions/3.5/lib/python3.5/site-packages/pandas/core/frame.py\u001b[0m in \u001b[0;36m_getitem_array\u001b[0;34m(self, key)\u001b[0m\n\u001b[1;32m   2175\u001b[0m             \u001b[0;32mreturn\u001b[0m \u001b[0mself\u001b[0m\u001b[0;34m.\u001b[0m\u001b[0m_take\u001b[0m\u001b[0;34m(\u001b[0m\u001b[0mindexer\u001b[0m\u001b[0;34m,\u001b[0m \u001b[0maxis\u001b[0m\u001b[0;34m=\u001b[0m\u001b[0;36m0\u001b[0m\u001b[0;34m,\u001b[0m \u001b[0mconvert\u001b[0m\u001b[0;34m=\u001b[0m\u001b[0;32mFalse\u001b[0m\u001b[0;34m)\u001b[0m\u001b[0;34m\u001b[0m\u001b[0m\n\u001b[1;32m   2176\u001b[0m         \u001b[0;32melse\u001b[0m\u001b[0;34m:\u001b[0m\u001b[0;34m\u001b[0m\u001b[0m\n\u001b[0;32m-> 2177\u001b[0;31m             \u001b[0mindexer\u001b[0m \u001b[0;34m=\u001b[0m \u001b[0mself\u001b[0m\u001b[0;34m.\u001b[0m\u001b[0mloc\u001b[0m\u001b[0;34m.\u001b[0m\u001b[0m_convert_to_indexer\u001b[0m\u001b[0;34m(\u001b[0m\u001b[0mkey\u001b[0m\u001b[0;34m,\u001b[0m \u001b[0maxis\u001b[0m\u001b[0;34m=\u001b[0m\u001b[0;36m1\u001b[0m\u001b[0;34m)\u001b[0m\u001b[0;34m\u001b[0m\u001b[0m\n\u001b[0m\u001b[1;32m   2178\u001b[0m             \u001b[0;32mreturn\u001b[0m \u001b[0mself\u001b[0m\u001b[0;34m.\u001b[0m\u001b[0m_take\u001b[0m\u001b[0;34m(\u001b[0m\u001b[0mindexer\u001b[0m\u001b[0;34m,\u001b[0m \u001b[0maxis\u001b[0m\u001b[0;34m=\u001b[0m\u001b[0;36m1\u001b[0m\u001b[0;34m,\u001b[0m \u001b[0mconvert\u001b[0m\u001b[0;34m=\u001b[0m\u001b[0;32mTrue\u001b[0m\u001b[0;34m)\u001b[0m\u001b[0;34m\u001b[0m\u001b[0m\n\u001b[1;32m   2179\u001b[0m \u001b[0;34m\u001b[0m\u001b[0m\n",
      "\u001b[0;32m/Library/Frameworks/Python.framework/Versions/3.5/lib/python3.5/site-packages/pandas/core/indexing.py\u001b[0m in \u001b[0;36m_convert_to_indexer\u001b[0;34m(self, obj, axis, is_setter)\u001b[0m\n\u001b[1;32m   1267\u001b[0m                 \u001b[0;32mif\u001b[0m \u001b[0mmask\u001b[0m\u001b[0;34m.\u001b[0m\u001b[0many\u001b[0m\u001b[0;34m(\u001b[0m\u001b[0;34m)\u001b[0m\u001b[0;34m:\u001b[0m\u001b[0;34m\u001b[0m\u001b[0m\n\u001b[1;32m   1268\u001b[0m                     raise KeyError('{mask} not in index'\n\u001b[0;32m-> 1269\u001b[0;31m                                    .format(mask=objarr[mask]))\n\u001b[0m\u001b[1;32m   1270\u001b[0m \u001b[0;34m\u001b[0m\u001b[0m\n\u001b[1;32m   1271\u001b[0m                 \u001b[0;32mreturn\u001b[0m \u001b[0m_values_from_object\u001b[0m\u001b[0;34m(\u001b[0m\u001b[0mindexer\u001b[0m\u001b[0;34m)\u001b[0m\u001b[0;34m\u001b[0m\u001b[0m\n",
      "\u001b[0;31mKeyError\u001b[0m: \"['% Chance of missing Dinky'] not in index\""
     ]
    },
    {
     "data": {
      "image/png": "[encoded data removed]",
      "text/plain": [
       "<matplotlib.figure.Figure at 0x118cd3358>"
      ]
     },
     "metadata": {},
     "output_type": "display_data"
    }
   ],
   "source": [
    "sns.set(rc={\"figure.figsize\":(14, 10)})\n",
    "sns.set_style(\"whitegrid\")\n",
    "\n",
    "g = sns.FacetGrid(by_weekday, col = \"Direction\", size = 6)\n",
    "g.map(sns.barplot, \"Weekday\", \"% Chance of missing Dinky\", palette = weekday_colors)\n",
    "plt.ylim(0, 100)"
   ]
  },
  {
   "cell_type": "code",
   "execution_count": 559,
   "metadata": {},
   "outputs": [],
   "source": [
    "g.savefig(\"../../plots/miss_by_weekday.png\")"
   ]
  },
  {
   "cell_type": "markdown",
   "metadata": {
    "heading_collapsed": true
   },
   "source": [
    "### Combined"
   ]
  },
  {
   "cell_type": "code",
   "execution_count": 378,
   "metadata": {
    "hidden": true
   },
   "outputs": [],
   "source": [
    "by_weekday = pd.DataFrame(inbound_dinky.groupby(\"weekday\")[\"late\"].sum() / inbound_dinky.groupby(\"weekday\").size())"
   ]
  },
  {
   "cell_type": "code",
   "execution_count": 379,
   "metadata": {
    "hidden": true
   },
   "outputs": [],
   "source": [
    "by_weekday.reset_index(inplace=True)"
   ]
  },
  {
   "cell_type": "code",
   "execution_count": 380,
   "metadata": {
    "hidden": true
   },
   "outputs": [],
   "source": [
    "by_weekday.columns = [\"Weekday\", \"% Late\"]"
   ]
  },
  {
   "cell_type": "code",
   "execution_count": 381,
   "metadata": {
    "hidden": true
   },
   "outputs": [],
   "source": [
    "by_weekday[\"Weekday\"] = by_weekday[\"Weekday\"].map(weekday_dict)"
   ]
  },
  {
   "cell_type": "code",
   "execution_count": 382,
   "metadata": {
    "hidden": true
   },
   "outputs": [],
   "source": [
    "by_weekday[\"% Late\"] = by_weekday[\"% Late\"] * 100"
   ]
  },
  {
   "cell_type": "code",
   "execution_count": 383,
   "metadata": {
    "hidden": true
   },
   "outputs": [],
   "source": [
    "weekday_colors = [\"#AA3898\", \"#BBCBE1\", \"#FFCF06\", \"#0DAF5B\", \"#FAA635\", \"#EE3A43\", \"#1AADE7\"]"
   ]
  },
  {
   "cell_type": "code",
   "execution_count": 384,
   "metadata": {
    "hidden": true
   },
   "outputs": [
    {
     "data": {
      "image/png": "[encoded data removed]",
      "text/plain": [
       "<matplotlib.figure.Figure at 0x11e584ef0>"
      ]
     },
     "metadata": {},
     "output_type": "display_data"
    }
   ],
   "source": [
    "sns.set(rc={\"figure.figsize\":(7, 5)})\n",
    "plot = (sns.barplot(data = by_weekday, x = \"Weekday\", y =\"% Late\", palette = weekday_colors)\n",
    "           .set_title(\"% of Trains Missing Expected Dinky (2/5/18 - 3/4/18)\"))"
   ]
  },
  {
   "cell_type": "markdown",
   "metadata": {},
   "source": [
    "## By hour of day"
   ]
  },
  {
   "cell_type": "code",
   "execution_count": 527,
   "metadata": {},
   "outputs": [],
   "source": [
    "by_hour = pd.DataFrame(inbound_dinky.groupby([\"from_trenton\", \"hour\"])[\"late\"].sum() / inbound_dinky.groupby([\"from_trenton\", \"hour\"]).size())"
   ]
  },
  {
   "cell_type": "code",
   "execution_count": 528,
   "metadata": {},
   "outputs": [],
   "source": [
    "by_hour.reset_index(inplace=True)"
   ]
  },
  {
   "cell_type": "code",
   "execution_count": 529,
   "metadata": {},
   "outputs": [],
   "source": [
    "by_hour.columns = [\"Direction\", \"Hour\", \"% Chance of missing Dinky\"]"
   ]
  },
  {
   "cell_type": "code",
   "execution_count": 530,
   "metadata": {},
   "outputs": [],
   "source": [
    "by_hour[\"% Chance of Missing Dinky\"] = by_hour[\"% Chance of missing Dinky\"] * 100"
   ]
  },
  {
   "cell_type": "code",
   "execution_count": 531,
   "metadata": {},
   "outputs": [],
   "source": [
    "by_hour[\"Direction\"].replace(True, \"Northbound (from Trenton)\", inplace=True)\n",
    "by_hour[\"Direction\"].replace(False, \"Southbound (from NYC)\", inplace = True)"
   ]
  },
  {
   "cell_type": "code",
   "execution_count": 532,
   "metadata": {
    "scrolled": true
   },
   "outputs": [
    {
     "data": {
      "text/html": [
       "<div>\n",
       "<style scoped>\n",
       "    .dataframe tbody tr th:only-of-type {\n",
       "        vertical-align: middle;\n",
       "    }\n",
       "\n",
       "    .dataframe tbody tr th {\n",
       "        vertical-align: top;\n",
       "    }\n",
       "\n",
       "    .dataframe thead th {\n",
       "        text-align: right;\n",
       "    }\n",
       "</style>\n",
       "<table border=\"1\" class=\"dataframe\">\n",
       "  <thead>\n",
       "    <tr style=\"text-align: right;\">\n",
       "      <th></th>\n",
       "      <th>Direction</th>\n",
       "      <th>Hour</th>\n",
       "      <th>% Chance of Missing Dinky</th>\n",
       "    </tr>\n",
       "  </thead>\n",
       "  <tbody>\n",
       "    <tr>\n",
       "      <th>0</th>\n",
       "      <td>Southbound (from NYC)</td>\n",
       "      <td>0</td>\n",
       "      <td>19.047619</td>\n",
       "    </tr>\n",
       "    <tr>\n",
       "      <th>1</th>\n",
       "      <td>Southbound (from NYC)</td>\n",
       "      <td>1</td>\n",
       "      <td>33.333333</td>\n",
       "    </tr>\n",
       "    <tr>\n",
       "      <th>2</th>\n",
       "      <td>Southbound (from NYC)</td>\n",
       "      <td>2</td>\n",
       "      <td>0.000000</td>\n",
       "    </tr>\n",
       "    <tr>\n",
       "      <th>3</th>\n",
       "      <td>Southbound (from NYC)</td>\n",
       "      <td>5</td>\n",
       "      <td>0.000000</td>\n",
       "    </tr>\n",
       "    <tr>\n",
       "      <th>4</th>\n",
       "      <td>Southbound (from NYC)</td>\n",
       "      <td>6</td>\n",
       "      <td>2.127660</td>\n",
       "    </tr>\n",
       "  </tbody>\n",
       "</table>\n",
       "</div>"
      ],
      "text/plain": [
       "               Direction  Hour  % Chance of Missing Dinky\n",
       "0  Southbound (from NYC)     0                  19.047619\n",
       "1  Southbound (from NYC)     1                  33.333333\n",
       "2  Southbound (from NYC)     2                   0.000000\n",
       "3  Southbound (from NYC)     5                   0.000000\n",
       "4  Southbound (from NYC)     6                   2.127660"
      ]
     },
     "execution_count": 532,
     "metadata": {},
     "output_type": "execute_result"
    }
   ],
   "source": [
    "by_hour.head()"
   ]
  },
  {
   "cell_type": "code",
   "execution_count": 533,
   "metadata": {},
   "outputs": [],
   "source": [
    "by_hour[\"color\"] = \"#F16412\"\n",
    "by_hour.loc[by_hour[\"Direction\"] == \"Northbound (from Trenton)\", \"color\"] = \"#293D93\""
   ]
  },
  {
   "cell_type": "code",
   "execution_count": 534,
   "metadata": {},
   "outputs": [],
   "source": [
    "# [\"#F16412\", \"#293D93\"]"
   ]
  },
  {
   "cell_type": "code",
   "execution_count": 560,
   "metadata": {},
   "outputs": [
    {
     "data": {
      "image/png": "[encoded data removed]",
      "text/plain": [
       "<matplotlib.figure.Figure at 0x11fa68320>"
      ]
     },
     "metadata": {},
     "output_type": "display_data"
    }
   ],
   "source": [
    "fig, ax = plt.subplots(figsize = (12, 8))\n",
    "\n",
    "for key, grp in by_hour.groupby(\"Direction\"):\n",
    "    ax = grp.plot(ax=ax, kind=\"line\", x=\"Hour\", y=\"% Chance of missing Dinky\", c=list(grp[\"color\"])[0], label=key) # dumb way to do color\n",
    "    ax.color = grp.color\n",
    "    \n",
    "plt.xticks(arange(0, 24, 1))\n",
    "plt.ylabel(\"% Chance of missing Dinky\")\n",
    "plt.ylim(0, 100)\n",
    "plt.title(\"% of Trains Missing Expected Dinky by Hour\")\n",
    "plt.legend()\n",
    "plt.savefig(\"../../plots/miss_by_hour.png\")"
   ]
  },
  {
   "cell_type": "markdown",
   "metadata": {
    "heading_collapsed": true
   },
   "source": [
    "## Line graph of weekdays by hour"
   ]
  },
  {
   "cell_type": "markdown",
   "metadata": {
    "hidden": true
   },
   "source": [
    "Too messy... doesn't add very much"
   ]
  },
  {
   "cell_type": "code",
   "execution_count": 208,
   "metadata": {
    "hidden": true
   },
   "outputs": [
    {
     "data": {
      "text/plain": [
       "<matplotlib.legend.Legend at 0x11900fc50>"
      ]
     },
     "execution_count": 208,
     "metadata": {},
     "output_type": "execute_result"
    },
    {
     "data": {
      "image/png": "[encoded data removed]",
      "text/plain": [
       "<matplotlib.figure.Figure at 0x11875a4a8>"
      ]
     },
     "metadata": {},
     "output_type": "display_data"
    }
   ],
   "source": [
    "# fine\n",
    "\n",
    "import matplotlib.pyplot as plt\n",
    "fig,ax = plt.subplots(figsize=(20, 10))\n",
    "\n",
    "for day in range(7):\n",
    "    df = hour_by_weekday_late[hour_by_weekday_late[\"weekday\"]==day]\n",
    "    ax.plot(df[\"hour\"],df[\"late\"],label=day)\n",
    "\n",
    "ax.set_xlabel(\"hour\")\n",
    "ax.set_ylabel(\"% late\")\n",
    "ax.legend(loc='best')\n",
    "plt.ylim(0, 100)"
   ]
  }
 ],
 "metadata": {
  "kernelspec": {
   "display_name": "Python 3",
   "language": "python",
   "name": "python3"
  },
  "language_info": {
   "codemirror_mode": {
    "name": "ipython",
    "version": 3
   },
   "file_extension": ".py",
   "mimetype": "text/x-python",
   "name": "python",
   "nbconvert_exporter": "python",
   "pygments_lexer": "ipython3",
   "version": "3.5.1"
  },
  "toc": {
   "nav_menu": {},
   "number_sections": true,
   "sideBar": true,
   "skip_h1_title": false,
   "title_cell": "Table of Contents",
   "title_sidebar": "Contents",
   "toc_cell": false,
   "toc_position": {
    "height": "calc(100% - 180px)",
    "left": "10px",
    "top": "150px",
    "width": "239px"
   },
   "toc_section_display": true,
   "toc_window_display": true
  }
 },
 "nbformat": 4,
 "nbformat_minor": 2
}
