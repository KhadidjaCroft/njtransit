{
 "cells": [
  {
   "cell_type": "markdown",
   "metadata": {},
   "source": [
    "# Figuring things out..."
   ]
  },
  {
   "cell_type": "code",
   "execution_count": 1,
   "metadata": {
    "collapsed": true
   },
   "outputs": [],
   "source": [
    "import configparser"
   ]
  },
  {
   "cell_type": "code",
   "execution_count": 29,
   "metadata": {},
   "outputs": [
    {
     "data": {
      "text/plain": [
       "['../../api_keys.txt']"
      ]
     },
     "execution_count": 29,
     "metadata": {},
     "output_type": "execute_result"
    }
   ],
   "source": [
    "config = configparser.RawConfigParser()   \n",
    "config.read(\"../../api_keys.txt\")"
   ]
  },
  {
   "cell_type": "code",
   "execution_count": 30,
   "metadata": {},
   "outputs": [],
   "source": [
    "api_key = config.get(\"dark_sky\", \"api_key\")"
   ]
  },
  {
   "cell_type": "code",
   "execution_count": 31,
   "metadata": {},
   "outputs": [],
   "source": [
    "api_key = api_key + \"/\""
   ]
  },
  {
   "cell_type": "code",
   "execution_count": 32,
   "metadata": {
    "collapsed": true
   },
   "outputs": [],
   "source": [
    "import requests"
   ]
  },
  {
   "cell_type": "code",
   "execution_count": 6,
   "metadata": {
    "collapsed": true
   },
   "outputs": [],
   "source": [
    "base_url = \"https://api.darksky.net/forecast/\""
   ]
  },
  {
   "cell_type": "code",
   "execution_count": 45,
   "metadata": {
    "collapsed": true
   },
   "outputs": [],
   "source": [
    "exclude = \"?exclude=[currently,minutely,hourly,alerts,flags]\""
   ]
  },
  {
   "cell_type": "markdown",
   "metadata": {},
   "source": [
    "time:\n",
    "Either be a UNIX time (that is, seconds since midnight GMT on 1 Jan 1970) or a string formatted as follows: [YYYY]-[MM]-[DD]T[HH]:[MM]:[SS][timezone]. timezone should either be omitted (to refer to local time for the location being requested), Z (referring to GMT time), or +[HH][MM] or -[HH][MM] for an offset from GMT in hours and minutes. The timezone is only used for determining the time of the request; the response will always be relative to the local time zone."
   ]
  },
  {
   "cell_type": "code",
   "execution_count": 49,
   "metadata": {
    "collapsed": true
   },
   "outputs": [],
   "source": [
    "sample_time = \",2018-02-05T12:00:00\""
   ]
  },
  {
   "cell_type": "code",
   "execution_count": 50,
   "metadata": {},
   "outputs": [],
   "source": [
    "r = requests.get(base_url+api_key+\"37.8267,-122.4233\"+sample_time+exclude)"
   ]
  },
  {
   "cell_type": "code",
   "execution_count": 67,
   "metadata": {},
   "outputs": [],
   "source": [
    "j = r.json()"
   ]
  },
  {
   "cell_type": "code",
   "execution_count": 77,
   "metadata": {
    "collapsed": true
   },
   "outputs": [],
   "source": [
    "import json\n",
    "from pandas.io.json import json_normalize"
   ]
  },
  {
   "cell_type": "code",
   "execution_count": 93,
   "metadata": {
    "collapsed": true
   },
   "outputs": [],
   "source": [
    "def flatten_json(y):\n",
    "    out = {}\n",
    "\n",
    "    def flatten(x, name=''):\n",
    "        if type(x) is dict:\n",
    "            for a in x:\n",
    "                flatten(x[a], a)\n",
    "        elif type(x) is list:\n",
    "            i = 0\n",
    "            for a in x:\n",
    "                flatten(a, str(i))\n",
    "                i += 1\n",
    "        else:\n",
    "            out[name] = x\n",
    "\n",
    "    flatten(y)\n",
    "    return out"
   ]
  },
  {
   "cell_type": "code",
   "execution_count": 79,
   "metadata": {},
   "outputs": [
    {
     "data": {
      "text/plain": [
       "{'daily': {'data': [{'apparentTemperatureHigh': 66.27,\n",
       "    'apparentTemperatureHighTime': 1517875200,\n",
       "    'apparentTemperatureLow': 54.86,\n",
       "    'apparentTemperatureLowTime': 1517918400,\n",
       "    'apparentTemperatureMax': 66.27,\n",
       "    'apparentTemperatureMaxTime': 1517875200,\n",
       "    'apparentTemperatureMin': 53.53,\n",
       "    'apparentTemperatureMinTime': 1517839200,\n",
       "    'cloudCover': 0.18,\n",
       "    'dewPoint': 50.32,\n",
       "    'humidity': 0.76,\n",
       "    'icon': 'partly-cloudy-day',\n",
       "    'moonPhase': 0.69,\n",
       "    'precipIntensity': 0,\n",
       "    'precipIntensityMax': 0,\n",
       "    'precipProbability': 0,\n",
       "    'pressure': 1016.53,\n",
       "    'summary': 'Partly cloudy until evening.',\n",
       "    'sunriseTime': 1517843467,\n",
       "    'sunsetTime': 1517881134,\n",
       "    'temperatureHigh': 66.27,\n",
       "    'temperatureHighTime': 1517875200,\n",
       "    'temperatureLow': 54.86,\n",
       "    'temperatureLowTime': 1517918400,\n",
       "    'temperatureMax': 66.27,\n",
       "    'temperatureMaxTime': 1517875200,\n",
       "    'temperatureMin': 53.53,\n",
       "    'temperatureMinTime': 1517839200,\n",
       "    'time': 1517817600,\n",
       "    'visibility': 9.35,\n",
       "    'windBearing': 296,\n",
       "    'windSpeed': 1.38}]},\n",
       " 'latitude': 37.8267,\n",
       " 'longitude': -122.4233,\n",
       " 'offset': -8,\n",
       " 'timezone': 'America/Los_Angeles'}"
      ]
     },
     "execution_count": 79,
     "metadata": {},
     "output_type": "execute_result"
    }
   ],
   "source": [
    "j"
   ]
  },
  {
   "cell_type": "code",
   "execution_count": 97,
   "metadata": {},
   "outputs": [],
   "source": [
    "flattened_j = flatten_json(j)"
   ]
  },
  {
   "cell_type": "code",
   "execution_count": 101,
   "metadata": {},
   "outputs": [
    {
     "data": {
      "text/plain": [
       "Index(['apparentTemperatureHigh', 'apparentTemperatureHighTime',\n",
       "       'apparentTemperatureLow', 'apparentTemperatureLowTime',\n",
       "       'apparentTemperatureMax', 'apparentTemperatureMaxTime',\n",
       "       'apparentTemperatureMin', 'apparentTemperatureMinTime', 'cloudCover',\n",
       "       'dewPoint', 'humidity', 'icon', 'latitude', 'longitude', 'moonPhase',\n",
       "       'offset', 'precipIntensity', 'precipIntensityMax', 'precipProbability',\n",
       "       'pressure', 'summary', 'sunriseTime', 'sunsetTime', 'temperatureHigh',\n",
       "       'temperatureHighTime', 'temperatureLow', 'temperatureLowTime',\n",
       "       'temperatureMax', 'temperatureMaxTime', 'temperatureMin',\n",
       "       'temperatureMinTime', 'time', 'timezone', 'visibility', 'windBearing',\n",
       "       'windSpeed'],\n",
       "      dtype='object')"
      ]
     },
     "execution_count": 101,
     "metadata": {},
     "output_type": "execute_result"
    }
   ],
   "source": [
    "json_normalize(flattened_j).columns"
   ]
  },
  {
   "cell_type": "code",
   "execution_count": 37,
   "metadata": {
    "collapsed": true
   },
   "outputs": [],
   "source": [
    "import pandas as pd"
   ]
  },
  {
   "cell_type": "markdown",
   "metadata": {},
   "source": [
    "# Iterate to find daily Penn Station for time range?"
   ]
  },
  {
   "cell_type": "code",
   "execution_count": 102,
   "metadata": {
    "collapsed": true
   },
   "outputs": [],
   "source": [
    "import datetime"
   ]
  },
  {
   "cell_type": "code",
   "execution_count": 108,
   "metadata": {},
   "outputs": [
    {
     "data": {
      "text/plain": [
       "'2018-03-22'"
      ]
     },
     "execution_count": 108,
     "metadata": {},
     "output_type": "execute_result"
    }
   ],
   "source": [
    "datetime.datetime.today().strftime(\"%Y-%m-%d\")"
   ]
  },
  {
   "cell_type": "markdown",
   "metadata": {},
   "source": [
    "## Make range of time for requests"
   ]
  },
  {
   "cell_type": "code",
   "execution_count": 119,
   "metadata": {},
   "outputs": [],
   "source": [
    "date_range = [datetime.datetime.strptime(\"2018-02-05\", \"%Y-%m-%d\") + datetime.timedelta(days=x) for x in range(0, 28)]"
   ]
  },
  {
   "cell_type": "code",
   "execution_count": 120,
   "metadata": {},
   "outputs": [],
   "source": [
    "date_range = [date.strftime(\"%Y-%m-%d\") for date in date_range]"
   ]
  },
  {
   "cell_type": "code",
   "execution_count": 127,
   "metadata": {},
   "outputs": [
    {
     "data": {
      "text/plain": [
       "('2018-02-05', '2018-03-04')"
      ]
     },
     "execution_count": 127,
     "metadata": {},
     "output_type": "execute_result"
    }
   ],
   "source": [
    "date_range[0], date_range[len(date_range) - 1]"
   ]
  },
  {
   "cell_type": "code",
   "execution_count": 123,
   "metadata": {},
   "outputs": [],
   "source": [
    "sample_time_format = \",{date}T12:00:00\""
   ]
  },
  {
   "cell_type": "code",
   "execution_count": 128,
   "metadata": {},
   "outputs": [
    {
     "name": "stdout",
     "output_type": "stream",
     "text": [
      ",2018-02-05T12:00:00\n",
      ",2018-02-06T12:00:00\n",
      ",2018-02-07T12:00:00\n",
      ",2018-02-08T12:00:00\n",
      ",2018-02-09T12:00:00\n",
      ",2018-02-10T12:00:00\n",
      ",2018-02-11T12:00:00\n",
      ",2018-02-12T12:00:00\n",
      ",2018-02-13T12:00:00\n",
      ",2018-02-14T12:00:00\n",
      ",2018-02-15T12:00:00\n",
      ",2018-02-16T12:00:00\n",
      ",2018-02-17T12:00:00\n",
      ",2018-02-18T12:00:00\n",
      ",2018-02-19T12:00:00\n",
      ",2018-02-20T12:00:00\n",
      ",2018-02-21T12:00:00\n",
      ",2018-02-22T12:00:00\n",
      ",2018-02-23T12:00:00\n",
      ",2018-02-24T12:00:00\n",
      ",2018-02-25T12:00:00\n",
      ",2018-02-26T12:00:00\n",
      ",2018-02-27T12:00:00\n",
      ",2018-02-28T12:00:00\n",
      ",2018-03-01T12:00:00\n",
      ",2018-03-02T12:00:00\n",
      ",2018-03-03T12:00:00\n",
      ",2018-03-04T12:00:00\n"
     ]
    }
   ],
   "source": [
    "for date in date_range:\n",
    "    print(sample_time_format.format(date=date))"
   ]
  },
  {
   "cell_type": "code",
   "execution_count": 130,
   "metadata": {
    "collapsed": true
   },
   "outputs": [],
   "source": [
    "penn_station_lat_long = \"40.750046,-73.992358\""
   ]
  },
  {
   "cell_type": "code",
   "execution_count": 131,
   "metadata": {},
   "outputs": [],
   "source": [
    "penn_station_requests = []\n",
    "\n",
    "for date in date_range:\n",
    "    date_for_url = sample_time_format.format(date=date)\n",
    "    r = requests.get(base_url+api_key+penn_station_lat_long+date_for_url+exclude)\n",
    "    penn_station_requests.append(r)"
   ]
  },
  {
   "cell_type": "code",
   "execution_count": 133,
   "metadata": {},
   "outputs": [],
   "source": [
    "penn_station_flattened = [flatten_json(r.json()) for r in penn_station_requests]"
   ]
  },
  {
   "cell_type": "code",
   "execution_count": 142,
   "metadata": {},
   "outputs": [],
   "source": [
    "penn_station_daily_weather_df = pd.DataFrame(penn_station_flattened, index = pd.DatetimeIndex(date_range))"
   ]
  },
  {
   "cell_type": "code",
   "execution_count": 145,
   "metadata": {},
   "outputs": [],
   "source": [
    "# penn_station_daily_weather_df.to_csv(\"penn_station_daily_weather_0205-0304.csv\")"
   ]
  }
 ],
 "metadata": {
  "kernelspec": {
   "display_name": "Python 3",
   "language": "python",
   "name": "python3"
  },
  "language_info": {
   "codemirror_mode": {
    "name": "ipython",
    "version": 3
   },
   "file_extension": ".py",
   "mimetype": "text/x-python",
   "name": "python",
   "nbconvert_exporter": "python",
   "pygments_lexer": "ipython3",
   "version": "3.6.4"
  },
  "toc": {
   "nav_menu": {},
   "number_sections": true,
   "sideBar": true,
   "skip_h1_title": false,
   "toc_cell": false,
   "toc_position": {},
   "toc_section_display": "block",
   "toc_window_display": false
  }
 },
 "nbformat": 4,
 "nbformat_minor": 2
}
