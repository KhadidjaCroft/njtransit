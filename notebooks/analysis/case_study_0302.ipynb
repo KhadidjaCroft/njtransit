{
 "cells": [
  {
   "cell_type": "code",
   "execution_count": 1,
   "metadata": {
    "collapsed": true
   },
   "outputs": [],
   "source": [
    "import pandas as pd\n",
    "%matplotlib inline\n",
    "import matplotlib.pyplot as plt\n",
    "import datetime as dt\n",
    "import math\n",
    "import plotly\n",
    "import plotly.plotly as py\n",
    "import plotly.graph_objs as go\n",
    "import pprint\n",
    "import numpy as np"
   ]
  },
  {
   "cell_type": "code",
   "execution_count": 2,
   "metadata": {
    "collapsed": true
   },
   "outputs": [],
   "source": [
    "from datetime import datetime"
   ]
  },
  {
   "cell_type": "code",
   "execution_count": 3,
   "metadata": {
    "collapsed": false
   },
   "outputs": [
    {
     "data": {
      "text/html": [
       "<script>requirejs.config({paths: { 'plotly': ['https://cdn.plot.ly/plotly-latest.min']},});if(!window.Plotly) {{require(['plotly'],function(plotly) {window.Plotly=plotly;});}}</script>"
      ],
      "text/vnd.plotly.v1+html": [
       "<script>requirejs.config({paths: { 'plotly': ['https://cdn.plot.ly/plotly-latest.min']},});if(!window.Plotly) {{require(['plotly'],function(plotly) {window.Plotly=plotly;});}}</script>"
      ]
     },
     "metadata": {},
     "output_type": "display_data"
    }
   ],
   "source": [
    "plotly.offline.init_notebook_mode(connected=True)"
   ]
  },
  {
   "cell_type": "code",
   "execution_count": 4,
   "metadata": {
    "collapsed": true
   },
   "outputs": [],
   "source": [
    "csv_path = '/Users/pbadami/Documents/njtransit/csv'"
   ]
  },
  {
   "cell_type": "code",
   "execution_count": 4,
   "metadata": {
    "collapsed": true
   },
   "outputs": [],
   "source": [
    "csv_path = '/Users/pranav/Documents/development/njtransit/csv'"
   ]
  },
  {
   "cell_type": "code",
   "execution_count": 5,
   "metadata": {
    "collapsed": true
   },
   "outputs": [],
   "source": [
    "day = '2018_03_02'"
   ]
  },
  {
   "cell_type": "code",
   "execution_count": 6,
   "metadata": {
    "collapsed": true
   },
   "outputs": [],
   "source": [
    "day_df = pd.read_csv('{}/{}.csv'.format(csv_path, day))"
   ]
  },
  {
   "cell_type": "code",
   "execution_count": 7,
   "metadata": {
    "collapsed": false
   },
   "outputs": [
    {
     "data": {
      "text/plain": [
       "array(['Gladstone', 'Peapack', 'Far Hills', 'Bernardsville',\n",
       "       'Basking Ridge', 'Lyons', 'Millington', 'Stirling', 'Gillette',\n",
       "       'Berkeley Heights', 'Murray Hill', 'New Providence', 'Summit',\n",
       "       'Short Hills', 'Millburn', 'Newark Broad Street', 'Maplewood',\n",
       "       'South Orange', 'Mountain Station', 'Highland Avenue', 'Orange',\n",
       "       'Brick Church', 'East Orange', 'Hoboken', 'New York Penn Station'], dtype=object)"
      ]
     },
     "execution_count": 7,
     "metadata": {},
     "output_type": "execute_result"
    }
   ],
   "source": [
    "day_df[day_df['line'] == 'Gladstone Branch']['from'].unique()"
   ]
  },
  {
   "cell_type": "code",
   "execution_count": 8,
   "metadata": {
    "collapsed": true
   },
   "outputs": [],
   "source": [
    "nec_list = ['Trenton', 'Hamilton', 'Princeton Junction', 'Jersey Avenue', 'New Brunswick', 'Edison',\n",
    "             'Metuchen', 'Metropark', 'Rahway', 'Linden', 'Elizabeth', 'North Elizabeth', 'Newark Airport',\n",
    "             'Newark Penn Station', 'Junction 1', 'Junction 2', 'Secaucus Upper Lvl', 'New York Penn Station']"
   ]
  },
  {
   "cell_type": "code",
   "execution_count": 9,
   "metadata": {
    "collapsed": true
   },
   "outputs": [],
   "source": [
    "amtrak_list = ['Philadelphia'] + nec_list"
   ]
  },
  {
   "cell_type": "code",
   "execution_count": 10,
   "metadata": {
    "collapsed": true
   },
   "outputs": [],
   "source": [
    "njcl_list = ['Bay Head', 'Point Pleasant Beach', 'Manasquan', 'Spring Lake', 'Belmar', 'Bradley Beach',\n",
    "             'Asbury Park', 'Allenhurst', 'Elberon', 'Long Branch', 'Monmouth Park', 'Little Silver',\n",
    "             'Red Bank', 'Middletown NJ', 'Hazlet', 'Aberdeen-Matawan', 'South Amboy', 'Perth Amboy',\n",
    "             'Woodbridge', 'Avenel', 'Rahway', 'Linden', 'Elizabeth', 'North Elizabeth', 'Newark Airport',\n",
    "             'Newark Penn Station','Junction 1', 'Junction 2', 'Secaucus Upper Lvl', 'New York Penn Station']\n",
    "njcl_fork = ['Hoboken']"
   ]
  },
  {
   "cell_type": "code",
   "execution_count": 11,
   "metadata": {
    "collapsed": true
   },
   "outputs": [],
   "source": [
    "morristown_list = ['Hackettstown', 'Mount Olive','Netcong','Lake Hopatcong','Mount Arlington','Dover','Denville',\n",
    "                   'Mount Tabor','Morris Plains','Morristown','Convent Station','Madison','Chatham',\n",
    "                   'Summit', 'Short Hills','Millburn', 'Maplewood', 'South Orange','Mountain Station', \n",
    "                   'Highland Avenue','Orange', 'Brick Church','East Orange','Newark Broad Street', 'Junction 1', 'Junction 2', 'Hoboken']\n",
    "morristown_fork = ['Secaucus Upper Lvl', 'New York Penn Station']"
   ]
  },
  {
   "cell_type": "code",
   "execution_count": 12,
   "metadata": {
    "collapsed": true
   },
   "outputs": [],
   "source": [
    "raritan_list = ['High Bridge', 'Annandale','Lebanon','White House','North Branch','Raritan','Somerville',\n",
    "                'Bridgewater', 'Bound Brook', 'Dunellen', 'Plainfield', 'Netherwood','Fanwood', 'Westfield',\n",
    "                'Garwood', 'Cranford', 'Roselle Park', 'Union', 'Newark Penn Station', 'Junction 1', 'Junction 2',\n",
    "                'Secaucus Upper Lvl', 'New York Penn Station']\n",
    "raritan_fork = ['Hoboken']"
   ]
  },
  {
   "cell_type": "code",
   "execution_count": 13,
   "metadata": {
    "collapsed": true
   },
   "outputs": [],
   "source": [
    "mb_list = ['Hackettstown', 'Mount Olive','Netcong','Lake Hopatcong','Mount Arlington','Dover','Denville',\n",
    "           'Mountain Lakes', 'Boonton', 'Towaco', 'Lincoln Park','Mountain View','Wayne-Route 23','Little Falls',\n",
    "           'Montclair State U', 'Montclair Heights', 'Mountain Avenue','Upper Montclair', 'Watchung Avenue',\n",
    "           'Walnut Street','Bay Street','Glen Ridge','Bloomfield', 'Watsessing Avenue','Newark Broad Street',\n",
    "           'Junction 1', 'Junction 2', 'Hoboken'] \n",
    "mb_fork = ['New York Penn Station', 'Secaucus Upper Lvl']"
   ]
  },
  {
   "cell_type": "code",
   "execution_count": 14,
   "metadata": {
    "collapsed": true
   },
   "outputs": [],
   "source": [
    "gladstone_list = ['Gladstone', 'Peapack', 'Far Hills', 'Bernardsville',\n",
    "                  'Basking Ridge', 'Lyons', 'Millington', 'Stirling', 'Gillette','Berkeley Heights', 'Murray Hill', \n",
    "                  'New Providence', 'Summit', 'Short Hills','Millburn', 'Maplewood', 'South Orange',\n",
    "                  'Mountain Station', 'Highland Avenue','Orange', 'Brick Church','East Orange',\n",
    "                  'Newark Broad Street', 'Junction 1', 'Junction 2', 'Hoboken']\n",
    "gladstone_fork = ['Secaucus Upper Lvl', 'New York Penn Station']"
   ]
  },
  {
   "cell_type": "code",
   "execution_count": 15,
   "metadata": {
    "collapsed": true
   },
   "outputs": [],
   "source": [
    "def get_linked_dict(line_list):\n",
    "    linked_dict = {}\n",
    "    prev_station = None\n",
    "    next_station = None\n",
    "    for idx, station in enumerate(line_list):\n",
    "        if idx < (len(line_list) - 1):\n",
    "            next_station = line_list[idx + 1]\n",
    "        else:\n",
    "            next_station = None\n",
    "        linked_dict[station] = {-1: [prev_station], 1: [next_station]}\n",
    "        prev_station = station\n",
    "    return linked_dict"
   ]
  },
  {
   "cell_type": "code",
   "execution_count": 16,
   "metadata": {
    "collapsed": true
   },
   "outputs": [],
   "source": [
    "njcl = get_linked_dict(njcl_list)\n",
    "njcl['Hoboken'] = {-1: ['Junction 2'], 1: None}\n",
    "njcl['Junction 2'][1].append('Hoboken')"
   ]
  },
  {
   "cell_type": "code",
   "execution_count": 17,
   "metadata": {
    "collapsed": true
   },
   "outputs": [],
   "source": [
    "morristown = get_linked_dict(morristown_list)\n",
    "morristown['Secaucus Upper Lvl'] = {-1: ['Junction 2'], 1: ['New York Penn Station']}\n",
    "morristown['New York Penn Station'] = {-1: ['Secaucus Upper Lvl'], 1: None}\n",
    "morristown['Junction 2'][1].append('Secaucus Upper Lvl')"
   ]
  },
  {
   "cell_type": "code",
   "execution_count": 18,
   "metadata": {
    "collapsed": true
   },
   "outputs": [],
   "source": [
    "mb = get_linked_dict(mb_list)\n",
    "mb['Secaucus Upper Lvl'] = {-1: ['Junction 2'], 1: ['New York Penn Station']}\n",
    "mb['New York Penn Station'] = {-1: ['Secaucus Upper Lvl'], 1: None}\n",
    "mb['Junction 2'][1].append('Secaucus Upper Lvl')"
   ]
  },
  {
   "cell_type": "code",
   "execution_count": 19,
   "metadata": {
    "collapsed": true
   },
   "outputs": [],
   "source": [
    "gladstone = get_linked_dict(gladstone_list)\n",
    "gladstone['Secaucus Upper Lvl'] = {-1: ['Junction 2'], 1: ['New York Penn Station']}\n",
    "gladstone['New York Penn Station'] = {-1: ['Secaucus Upper Lvl'], 1: None}\n",
    "gladstone['Junction 2'][1].append('Secaucus Upper Lvl')"
   ]
  },
  {
   "cell_type": "code",
   "execution_count": 20,
   "metadata": {
    "collapsed": true
   },
   "outputs": [],
   "source": [
    "amtrak = get_linked_dict(amtrak_list)"
   ]
  },
  {
   "cell_type": "code",
   "execution_count": 21,
   "metadata": {
    "collapsed": true
   },
   "outputs": [],
   "source": [
    "nec = get_linked_dict(nec_list)"
   ]
  },
  {
   "cell_type": "code",
   "execution_count": 22,
   "metadata": {
    "collapsed": true
   },
   "outputs": [],
   "source": [
    "raritan = get_linked_dict(raritan_list)\n",
    "raritan['Hoboken'] = {-1: ['Junction 2'], 1: None}\n",
    "raritan['Junction 2'][1].append('Hoboken')"
   ]
  },
  {
   "cell_type": "code",
   "execution_count": 23,
   "metadata": {
    "collapsed": true
   },
   "outputs": [],
   "source": [
    "linked_lookup = {'Northeast Corrdr': nec, \n",
    "                 'No Jersey Coast': njcl,\n",
    "                 'Morristown Line': morristown,\n",
    "                 'Raritan Valley': raritan, \n",
    "                 'Montclair-Boonton': mb, \n",
    "                 'Gladstone Branch': gladstone,\n",
    "                 'Amtrak': amtrak}"
   ]
  },
  {
   "cell_type": "code",
   "execution_count": 24,
   "metadata": {
    "collapsed": true
   },
   "outputs": [],
   "source": [
    "def clean_delay(sec):\n",
    "    if sec < 0:\n",
    "        return 0\n",
    "    else:\n",
    "        return sec\n",
    "\n",
    "# temporarily fix wrong day \n",
    "def fix_day(row):\n",
    "    # wrong day\n",
    "    if row['delay'] >= (1400*60):\n",
    "        row['time'] = row['time'] - dt.timedelta(days=1)\n",
    "        row['delay'] = (row['time'] - row['expected']).total_seconds()\n",
    "    return row\n",
    "        \n",
    "def format_df(df):\n",
    "    df['expected'] = pd.to_datetime(df['expected'])\n",
    "    df['time'] = pd.to_datetime(df['time'])\n",
    "\n",
    "    df['delay']= (df['time']-df['expected']).dt.total_seconds() #calculate delay in seconds\n",
    "    df['delay']= (df['time']-df['expected']).dt.total_seconds() #calculate delay in seconds\n",
    "    df = df.apply(fix_day, axis=1)\n",
    "    df['delay'] = df['delay'].apply(lambda x: clean_delay(x))/60.0 # clean delay and get delay in minutes\n",
    "    df['status'] = df['status'].fillna(\"Estimated\")\n",
    "    return df"
   ]
  },
  {
   "cell_type": "code",
   "execution_count": 25,
   "metadata": {
    "collapsed": true
   },
   "outputs": [],
   "source": [
    "df = format_df(day_df)"
   ]
  },
  {
   "cell_type": "code",
   "execution_count": 26,
   "metadata": {
    "collapsed": true
   },
   "outputs": [],
   "source": [
    "trains = df.groupby(['train_id', 'date'])"
   ]
  },
  {
   "cell_type": "code",
   "execution_count": 27,
   "metadata": {
    "collapsed": true
   },
   "outputs": [],
   "source": [
    "trains_last = trains.last()\n",
    "trains_first = trains.nth(1)"
   ]
  },
  {
   "cell_type": "code",
   "execution_count": 28,
   "metadata": {
    "collapsed": true
   },
   "outputs": [],
   "source": [
    "trains_last['day_of_week'] = trains_last['time'].dt.dayofweek\n",
    "trains_first['day_of_week'] = trains_first['time'].dt.dayofweek"
   ]
  },
  {
   "cell_type": "code",
   "execution_count": 29,
   "metadata": {
    "collapsed": true
   },
   "outputs": [],
   "source": [
    "trains_last['hour'] = trains_last['time'].dt.hour\n",
    "trains_last['sched_hour'] = trains_last['expected'].dt.hour\n",
    "\n",
    "trains_first['hour'] = trains_first['time'].dt.hour\n",
    "trains_first['sched_hour'] = trains_first['expected'].dt.hour"
   ]
  },
  {
   "cell_type": "code",
   "execution_count": 30,
   "metadata": {
    "collapsed": true
   },
   "outputs": [],
   "source": [
    "trains_last = trains_last[trains_last['type'] == 'NJ Transit'].copy()\n",
    "trains_first = trains_first[trains_first['type'] == 'NJ Transit'].copy()"
   ]
  },
  {
   "cell_type": "code",
   "execution_count": 31,
   "metadata": {
    "collapsed": true
   },
   "outputs": [],
   "source": [
    "def get_severity(row):\n",
    "    delay = row['delay']\n",
    "    status = row['status']\n",
    "    if status == 'Cancelled':\n",
    "        return \"Cancelled\"\n",
    "    if math.isnan(delay):\n",
    "        return \"Unscheduled\"\n",
    "    if 0 <= delay < 3:\n",
    "        return \"On time\"\n",
    "    if 3 <= delay < 6:\n",
    "        return \"3-5 min\"\n",
    "    if 6 <= delay < 10:\n",
    "        return \"6-9 min\"\n",
    "    if 10 <= delay < 20:\n",
    "        return \"10-20 min\"\n",
    "    return \"20+ min\""
   ]
  },
  {
   "cell_type": "code",
   "execution_count": 32,
   "metadata": {
    "collapsed": true
   },
   "outputs": [],
   "source": [
    "trains_last['severity'] = trains_last.apply(get_severity, axis=1)\n",
    "trains_first['severity'] = trains_first.apply(get_severity, axis=1)"
   ]
  },
  {
   "cell_type": "code",
   "execution_count": 33,
   "metadata": {
    "collapsed": true
   },
   "outputs": [],
   "source": [
    "trains_last.reset_index(level='date', inplace=True)\n",
    "trains_first.reset_index(level='date', inplace=True)"
   ]
  },
  {
   "cell_type": "code",
   "execution_count": 34,
   "metadata": {
    "collapsed": true
   },
   "outputs": [],
   "source": [
    "# turn into dict\n",
    "colors={'On time': '#39e600', \n",
    "        '3-5 min': '#ffff00', \n",
    "        '6-9 min': '#ff9933', \n",
    "        '10-20 min': '#ff0000', \n",
    "        '20+ min': '#990000', \n",
    "        'Cancelled': '#827e7d'}\n",
    "colors_list= ['#39e600', '#ffff00', '#ff9933', '#ff0000', '#990000', '#827e7d']"
   ]
  },
  {
   "cell_type": "code",
   "execution_count": 35,
   "metadata": {
    "collapsed": false
   },
   "outputs": [
    {
     "data": {
      "text/plain": [
       "779"
      ]
     },
     "execution_count": 35,
     "metadata": {},
     "output_type": "execute_result"
    }
   ],
   "source": [
    "len(trains_last)"
   ]
  },
  {
   "cell_type": "code",
   "execution_count": 36,
   "metadata": {
    "collapsed": false
   },
   "outputs": [
    {
     "data": {
      "text/plain": [
       "779"
      ]
     },
     "execution_count": 36,
     "metadata": {},
     "output_type": "execute_result"
    }
   ],
   "source": [
    "len(trains_first)"
   ]
  },
  {
   "cell_type": "code",
   "execution_count": 37,
   "metadata": {
    "collapsed": true
   },
   "outputs": [],
   "source": [
    "to_nyp = trains_last[trains_last['to'] == \"New York Penn Station\"].copy()\n",
    "from_nyp = trains_first[(trains_first['from'] == \"New York Penn Station\") & (trains_first['severity'] != 'Unscheduled')].copy()"
   ]
  },
  {
   "cell_type": "code",
   "execution_count": 38,
   "metadata": {
    "collapsed": false
   },
   "outputs": [
    {
     "data": {
      "text/plain": [
       "<matplotlib.axes._subplots.AxesSubplot at 0x1167ae350>"
      ]
     },
     "execution_count": 38,
     "metadata": {},
     "output_type": "execute_result"
    },
    {
     "data": {
      "image/png": "[encoded data removed]",
      "text/plain": [
       "<matplotlib.figure.Figure at 0x114435f90>"
      ]
     },
     "metadata": {},
     "output_type": "display_data"
    }
   ],
   "source": [
    "df[(df['from']=='Newark Penn Station') & (df['to']=='Secaucus Upper Lvl')].plot(x='expected', y='delay')"
   ]
  },
  {
   "cell_type": "code",
   "execution_count": 39,
   "metadata": {
    "collapsed": false
   },
   "outputs": [
    {
     "data": {
      "text/plain": [
       "<matplotlib.axes._subplots.AxesSubplot at 0x115138050>"
      ]
     },
     "execution_count": 39,
     "metadata": {},
     "output_type": "execute_result"
    },
    {
     "data": {
      "image/png": "[encoded data removed]",
      "text/plain": [
       "<matplotlib.figure.Figure at 0x11512d890>"
      ]
     },
     "metadata": {},
     "output_type": "display_data"
    }
   ],
   "source": [
    "df[(df['from']=='Secaucus Upper Lvl') & (df['to']=='Newark Penn Station')].plot(x='expected', y='delay')"
   ]
  },
  {
   "cell_type": "code",
   "execution_count": 40,
   "metadata": {
    "collapsed": false,
    "scrolled": true
   },
   "outputs": [
    {
     "data": {
      "text/plain": [
       "<matplotlib.axes._subplots.AxesSubplot at 0x116725bd0>"
      ]
     },
     "execution_count": 40,
     "metadata": {},
     "output_type": "execute_result"
    },
    {
     "data": {
      "image/png": "[encoded data removed]",
      "text/plain": [
       "<matplotlib.figure.Figure at 0x1165d0a50>"
      ]
     },
     "metadata": {},
     "output_type": "display_data"
    }
   ],
   "source": [
    "from_nyp.plot(x='expected', y='delay')"
   ]
  },
  {
   "cell_type": "code",
   "execution_count": 41,
   "metadata": {
    "collapsed": false
   },
   "outputs": [
    {
     "data": {
      "text/plain": [
       "array([[<matplotlib.axes._subplots.AxesSubplot object at 0x114ea2b50>]], dtype=object)"
      ]
     },
     "execution_count": 41,
     "metadata": {},
     "output_type": "execute_result"
    },
    {
     "data": {
      "image/png": "[encoded data removed]",
      "text/plain": [
       "<matplotlib.figure.Figure at 0x116579150>"
      ]
     },
     "metadata": {},
     "output_type": "display_data"
    }
   ],
   "source": [
    "to_nyp.hist('sched_hour', bins=24)"
   ]
  },
  {
   "cell_type": "code",
   "execution_count": 42,
   "metadata": {
    "collapsed": false
   },
   "outputs": [
    {
     "data": {
      "text/plain": [
       "array([[<matplotlib.axes._subplots.AxesSubplot object at 0x11344e1d0>]], dtype=object)"
      ]
     },
     "execution_count": 42,
     "metadata": {},
     "output_type": "execute_result"
    },
    {
     "data": {
      "image/png": "[encoded data removed]",
      "text/plain": [
       "<matplotlib.figure.Figure at 0x116789910>"
      ]
     },
     "metadata": {},
     "output_type": "display_data"
    }
   ],
   "source": [
    "from_nyp.hist('sched_hour', bins=24)"
   ]
  },
  {
   "cell_type": "code",
   "execution_count": 43,
   "metadata": {
    "collapsed": true
   },
   "outputs": [],
   "source": [
    "test = to_nyp.copy()\n",
    "test2 = from_nyp.copy()"
   ]
  },
  {
   "cell_type": "code",
   "execution_count": 44,
   "metadata": {
    "collapsed": true
   },
   "outputs": [],
   "source": [
    "test.loc[test['sched_hour'] < 3, 'sched_hour'] = test.loc[test['sched_hour'] < 3, 'sched_hour'] + 24"
   ]
  },
  {
   "cell_type": "code",
   "execution_count": 45,
   "metadata": {
    "collapsed": true
   },
   "outputs": [],
   "source": [
    "test2.loc[test2['sched_hour'] < 3, 'sched_hour'] = test2.loc[test2['sched_hour'] < 3, 'sched_hour'] + 24"
   ]
  },
  {
   "cell_type": "code",
   "execution_count": 46,
   "metadata": {
    "collapsed": true
   },
   "outputs": [],
   "source": [
    "test['sequence'] = test.sort_values('time').groupby('sched_hour').cumcount() + 1\n",
    "test2['sequence'] = test2.sort_values('time').groupby('sched_hour').cumcount() + 1"
   ]
  },
  {
   "cell_type": "code",
   "execution_count": 47,
   "metadata": {
    "collapsed": false
   },
   "outputs": [
    {
     "data": {
      "text/plain": [
       "array(['6-9 min', 'Cancelled', '20+ min', 'On time', '10-20 min', '3-5 min'], dtype=object)"
      ]
     },
     "execution_count": 47,
     "metadata": {},
     "output_type": "execute_result"
    }
   ],
   "source": [
    "test['severity'].unique()"
   ]
  },
  {
   "cell_type": "code",
   "execution_count": 48,
   "metadata": {
    "collapsed": true
   },
   "outputs": [],
   "source": [
    "test['severity_color'] = test['severity'].map(colors)\n",
    "test2['severity_color'] = test2['severity'].map(colors)"
   ]
  },
  {
   "cell_type": "code",
   "execution_count": 49,
   "metadata": {
    "collapsed": true
   },
   "outputs": [],
   "source": [
    "test['id'] = test.index\n",
    "test2['id'] = test2.index"
   ]
  },
  {
   "cell_type": "code",
   "execution_count": 50,
   "metadata": {
    "collapsed": true
   },
   "outputs": [],
   "source": [
    "into_cancelled = test[test['severity'] == 'Cancelled'].copy()\n",
    "into_ontime = test[test['severity'] == 'On time'].copy()\n",
    "into_3_5 = test[test['severity'] == '3-5 min'].copy()\n",
    "into_6_9 = test[test['severity'] == '6-9 min'].copy()\n",
    "into_10_20 = test[test['severity'] == '10-20 min'].copy()\n",
    "into_20 = test[test['severity'] == '20+ min'].copy()\n",
    "into_trace = [into_ontime, into_3_5, into_6_9, into_10_20, into_20, into_cancelled]\n",
    "into_names = ['On time', '3-5 min', '6-9 min', '10-20 min', '20+ min', 'Cancelled']\n",
    "into_traces = zip(into_trace, into_names)"
   ]
  },
  {
   "cell_type": "code",
   "execution_count": 56,
   "metadata": {
    "collapsed": false,
    "scrolled": false
   },
   "outputs": [
    {
     "data": {
      "application/vnd.plotly.v1+json": {
       "data": [
        {
         "marker": {
          "color": [
           "#39e600",
           "#39e600",
           "#39e600",
           "#39e600",
           "#39e600",
           "#39e600",
           "#39e600",
           "#39e600",
           "#39e600",
           "#39e600",
           "#39e600",
           "#39e600",
           "#39e600",
           "#39e600",
           "#39e600",
           "#39e600",
           "#39e600",
           "#39e600",
           "#39e600",
           "#39e600",
           "#39e600",
           "#39e600",
           "#39e600",
           "#39e600",
           "#39e600",
           "#39e600",
           "#39e600",
           "#39e600",
           "#39e600",
           "#39e600",
           "#39e600",
           "#39e600",
           "#39e600",
           "#39e600",
           "#39e600",
           "#39e600",
           "#39e600",
           "#39e600",
           "#39e600",
           "#39e600",
           "#39e600",
           "#39e600",
           "#39e600",
           "#39e600",
           "#39e600",
           "#39e600",
           "#39e600",
           "#39e600",
           "#39e600",
           "#39e600",
           "#39e600",
           "#39e600",
           "#39e600",
           "#39e600",
           "#39e600",
           "#39e600",
           "#39e600",
           "#39e600",
           "#39e600",
           "#39e600",
           "#39e600",
           "#39e600",
           "#39e600",
           "#39e600",
           "#39e600",
           "#39e600",
           "#39e600",
           "#39e600",
           "#39e600",
           "#39e600",
           "#39e600",
           "#39e600",
           "#39e600",
           "#39e600",
           "#39e600",
           "#39e600",
           "#39e600",
           "#39e600",
           "#39e600",
           "#39e600",
           "#39e600",
           "#39e600",
           "#39e600",
           "#39e600",
           "#39e600"
          ],
          "size": "16"
         },
         "mode": "markers",
         "name": "On time",
         "text": [
          "No Jersey Coast3202",
          "No Jersey Coast3204",
          "No Jersey Coast3208",
          "No Jersey Coast3224",
          "No Jersey Coast3230",
          "No Jersey Coast3232",
          "No Jersey Coast3236",
          "No Jersey Coast3248",
          "No Jersey Coast3252",
          "No Jersey Coast3288",
          "No Jersey Coast3292",
          "No Jersey Coast3326",
          "No Jersey Coast3508",
          "No Jersey Coast3512",
          "No Jersey Coast3516",
          "No Jersey Coast3598",
          "Northeast Corrdr3700",
          "Northeast Corrdr3702",
          "Northeast Corrdr3704",
          "Northeast Corrdr3714",
          "Northeast Corrdr3718",
          "Northeast Corrdr3722",
          "Northeast Corrdr3738",
          "Northeast Corrdr3806",
          "Northeast Corrdr3808",
          "Northeast Corrdr3810",
          "Northeast Corrdr3812",
          "Northeast Corrdr3818",
          "Northeast Corrdr3832",
          "Northeast Corrdr3834",
          "Northeast Corrdr3836",
          "Northeast Corrdr3838",
          "Northeast Corrdr3840",
          "Northeast Corrdr3846",
          "Northeast Corrdr3848",
          "Northeast Corrdr3852",
          "Northeast Corrdr3880",
          "Northeast Corrdr3888",
          "Northeast Corrdr3892",
          "Northeast Corrdr3898",
          "Northeast Corrdr3910",
          "Northeast Corrdr3914",
          "Northeast Corrdr3926",
          "Northeast Corrdr3934",
          "Northeast Corrdr3936",
          "Raritan Valley5126",
          "Raritan Valley5132",
          "Raritan Valley5152",
          "Raritan Valley5154",
          "Raritan Valley5156",
          "Raritan Valley5170",
          "Montclair-Boonton6200",
          "Montclair-Boonton6202",
          "Montclair-Boonton6204",
          "Montclair-Boonton6214",
          "Montclair-Boonton6222",
          "Montclair-Boonton6226",
          "Montclair-Boonton6238",
          "Montclair-Boonton6242",
          "Montclair-Boonton6252",
          "Montclair-Boonton6258",
          "Montclair-Boonton6270",
          "Montclair-Boonton6274",
          "Montclair-Boonton6278",
          "Montclair-Boonton6280",
          "Morristown Line6318",
          "Morristown Line6328",
          "Gladstone Branch6406",
          "Morristown Line6602",
          "Morristown Line6604",
          "Morristown Line6606",
          "Morristown Line6612",
          "Morristown Line6620",
          "Morristown Line6628",
          "Morristown Line6632",
          "Morristown Line6636",
          "Morristown Line6664",
          "Morristown Line6666",
          "Morristown Line6668",
          "Morristown Line6670",
          "Morristown Line6672",
          "Morristown Line6674",
          "Morristown Line6676",
          "No Jersey Coast7200",
          "Northeast Corrdr7800"
         ],
         "type": "scatter",
         "x": [
          5,
          5,
          6,
          8,
          9,
          10,
          11,
          14,
          15,
          24,
          25,
          9,
          10,
          19,
          21,
          19,
          6,
          6,
          7,
          8,
          9,
          10,
          18,
          5,
          5,
          6,
          6,
          7,
          10,
          11,
          11,
          12,
          13,
          14,
          14,
          15,
          22,
          24,
          25,
          18,
          6,
          7,
          8,
          10,
          10,
          10,
          12,
          21,
          22,
          23,
          11,
          5,
          6,
          6,
          8,
          10,
          11,
          14,
          15,
          17,
          19,
          21,
          22,
          23,
          24,
          8,
          10,
          7,
          5,
          6,
          6,
          7,
          8,
          10,
          11,
          12,
          18,
          19,
          19,
          20,
          21,
          21,
          23,
          26,
          26
         ],
         "y": [
          2,
          6,
          5,
          14,
          14,
          9,
          5,
          3,
          1,
          2,
          1,
          1,
          3,
          5,
          2,
          1,
          2,
          7,
          1,
          19,
          10,
          4,
          2,
          1,
          4,
          4,
          9,
          13,
          8,
          2,
          6,
          2,
          3,
          2,
          5,
          2,
          4,
          4,
          2,
          4,
          3,
          2,
          16,
          2,
          6,
          1,
          1,
          3,
          3,
          2,
          1,
          3,
          1,
          8,
          20,
          10,
          7,
          6,
          3,
          3,
          2,
          1,
          1,
          3,
          3,
          12,
          7,
          7,
          5,
          6,
          10,
          9,
          18,
          5,
          4,
          3,
          3,
          3,
          7,
          4,
          4,
          6,
          1,
          1,
          2
         ]
        },
        {
         "marker": {
          "color": [
           "#ffff00",
           "#ffff00",
           "#ffff00",
           "#ffff00",
           "#ffff00",
           "#ffff00",
           "#ffff00",
           "#ffff00",
           "#ffff00",
           "#ffff00",
           "#ffff00",
           "#ffff00",
           "#ffff00"
          ],
          "size": "16"
         },
         "mode": "markers",
         "name": "3-5 min",
         "text": [
          "No Jersey Coast3272",
          "No Jersey Coast3504",
          "Northeast Corrdr3720",
          "Northeast Corrdr3876",
          "Northeast Corrdr3918",
          "Northeast Corrdr3920",
          "Montclair-Boonton6206",
          "Montclair-Boonton6210",
          "Montclair-Boonton6216",
          "Montclair-Boonton6230",
          "Morristown Line6332",
          "Morristown Line6610",
          "Morristown Line6614"
         ],
         "type": "scatter",
         "x": [
          19,
          8,
          9,
          21,
          7,
          7,
          7,
          8,
          9,
          12,
          11,
          7,
          8
         ],
         "y": [
          8,
          17,
          15,
          5,
          10,
          15,
          12,
          8,
          13,
          5,
          3,
          3,
          1
         ]
        },
        {
         "marker": {
          "color": [
           "#ff9933",
           "#ff9933",
           "#ff9933",
           "#ff9933",
           "#ff9933",
           "#ff9933",
           "#ff9933",
           "#ff9933",
           "#ff9933",
           "#ff9933",
           "#ff9933",
           "#ff9933",
           "#ff9933",
           "#ff9933",
           "#ff9933",
           "#ff9933",
           "#ff9933"
          ],
          "size": "16"
         },
         "mode": "markers",
         "name": "6-9 min",
         "text": [
          "Northeast Corrdr3124",
          "No Jersey Coast3222",
          "No Jersey Coast3240",
          "No Jersey Coast3312",
          "No Jersey Coast3316",
          "Northeast Corrdr3706",
          "Northeast Corrdr3708",
          "Northeast Corrdr3716",
          "Northeast Corrdr3814",
          "Northeast Corrdr3828",
          "Northeast Corrdr3830",
          "Northeast Corrdr3882",
          "Northeast Corrdr3886",
          "Morristown Line6314",
          "Morristown Line6324",
          "Gladstone Branch6410",
          "Morristown Line6616"
         ],
         "type": "scatter",
         "x": [
          8,
          8,
          12,
          7,
          7,
          7,
          7,
          9,
          7,
          9,
          9,
          22,
          23,
          8,
          9,
          8,
          8
         ],
         "y": [
          4,
          3,
          4,
          4,
          11,
          8,
          16,
          6,
          6,
          2,
          9,
          5,
          4,
          2,
          11,
          6,
          11
         ]
        },
        {
         "marker": {
          "color": [
           "#ff0000",
           "#ff0000",
           "#ff0000",
           "#ff0000",
           "#ff0000",
           "#ff0000",
           "#ff0000",
           "#ff0000",
           "#ff0000",
           "#ff0000",
           "#ff0000",
           "#ff0000",
           "#ff0000",
           "#ff0000",
           "#ff0000",
           "#ff0000",
           "#ff0000"
          ],
          "size": "16"
         },
         "mode": "markers",
         "name": "10-20 min",
         "text": [
          "No Jersey Coast3210",
          "No Jersey Coast3244",
          "No Jersey Coast3276",
          "No Jersey Coast3502",
          "No Jersey Coast3506",
          "Northeast Corrdr3710",
          "Northeast Corrdr3712",
          "Northeast Corrdr3922",
          "Northeast Corrdr3924",
          "Northeast Corrdr3928",
          "Northeast Corrdr3930",
          "Northeast Corrdr3932",
          "Raritan Valley5150",
          "Montclair-Boonton6234",
          "Montclair-Boonton6248",
          "Morristown Line6320",
          "Morristown Line6624"
         ],
         "type": "scatter",
         "x": [
          7,
          13,
          20,
          8,
          9,
          8,
          8,
          8,
          8,
          9,
          9,
          9,
          20,
          13,
          17,
          9,
          9
         ],
         "y": [
          5,
          5,
          8,
          9,
          5,
          10,
          15,
          7,
          13,
          3,
          7,
          12,
          3,
          6,
          2,
          4,
          8
         ]
        },
        {
         "marker": {
          "color": [
           "#990000",
           "#990000",
           "#990000",
           "#990000",
           "#990000",
           "#990000",
           "#990000",
           "#990000",
           "#990000",
           "#990000",
           "#990000",
           "#990000",
           "#990000",
           "#990000",
           "#990000",
           "#990000",
           "#990000",
           "#990000",
           "#990000",
           "#990000",
           "#990000",
           "#990000",
           "#990000",
           "#990000"
          ],
          "size": "16"
         },
         "mode": "markers",
         "name": "20+ min",
         "text": [
          "Northeast Corrdr3154",
          "No Jersey Coast3256",
          "No Jersey Coast3260",
          "No Jersey Coast3266",
          "No Jersey Coast3270",
          "No Jersey Coast3274",
          "No Jersey Coast3278",
          "No Jersey Coast3284",
          "No Jersey Coast3500",
          "No Jersey Coast3510",
          "No Jersey Coast3514",
          "Northeast Corrdr3844",
          "Northeast Corrdr3856",
          "Northeast Corrdr3858",
          "Northeast Corrdr3860",
          "Northeast Corrdr3864",
          "Northeast Corrdr3866",
          "Northeast Corrdr3896",
          "Northeast Corrdr3954",
          "Raritan Valley5176",
          "Montclair-Boonton6264",
          "Morristown Line6648",
          "Morristown Line6654",
          "Morristown Line6662"
         ],
         "type": "scatter",
         "x": [
          16,
          16,
          17,
          18,
          19,
          20,
          21,
          22,
          7,
          17,
          20,
          13,
          16,
          16,
          17,
          18,
          18,
          17,
          16,
          14,
          20,
          15,
          16,
          18
         ],
         "y": [
          1,
          3,
          4,
          6,
          9,
          7,
          7,
          6,
          14,
          7,
          6,
          7,
          5,
          6,
          5,
          5,
          8,
          6,
          2,
          4,
          5,
          4,
          4,
          7
         ]
        },
        {
         "marker": {
          "color": [
           "#827e7d",
           "#827e7d",
           "#827e7d",
           "#827e7d",
           "#827e7d",
           "#827e7d",
           "#827e7d",
           "#827e7d",
           "#827e7d",
           "#827e7d",
           "#827e7d",
           "#827e7d",
           "#827e7d"
          ],
          "size": "16"
         },
         "mode": "markers",
         "name": "Cancelled",
         "text": [
          "Northeast Corrdr3126",
          "Northeast Corrdr3742",
          "Northeast Corrdr3842",
          "Northeast Corrdr3862",
          "Northeast Corrdr3868",
          "Northeast Corrdr3870",
          "Northeast Corrdr3872",
          "Northeast Corrdr3874",
          "Northeast Corrdr3984",
          "Raritan Valley5134",
          "Morristown Line6640",
          "Morristown Line6644",
          "Morristown Line6656"
         ],
         "type": "scatter",
         "x": [
          8,
          24,
          13,
          18,
          19,
          19,
          20,
          20,
          22,
          13,
          13,
          14,
          17
         ],
         "y": [
          5,
          1,
          4,
          1,
          6,
          4,
          1,
          2,
          2,
          2,
          1,
          1,
          1
         ]
        }
       ],
       "layout": {
        "title": "Trains into NY Penn on 3/2/18",
        "xaxis": {
         "title": "Hour of day"
        },
        "yaxis": {
         "showgrid": false,
         "showticklabels": false,
         "ticks": ""
        }
       }
      },
      "text/html": [
       "<div id=\"30b611dc-5463-4d5c-92be-b4545fe65c52\" style=\"height: 525px; width: 100%;\" class=\"plotly-graph-div\"></div><script type=\"text/javascript\">require([\"plotly\"], function(Plotly) { window.PLOTLYENV=window.PLOTLYENV || {};window.PLOTLYENV.BASE_URL=\"https://plot.ly\";Plotly.newPlot(\"30b611dc-5463-4d5c-92be-b4545fe65c52\", [{\"name\": \"On time\", \"text\": [\"No Jersey Coast3202\", \"No Jersey Coast3204\", \"No Jersey Coast3208\", \"No Jersey Coast3224\", \"No Jersey Coast3230\", \"No Jersey Coast3232\", \"No Jersey Coast3236\", \"No Jersey Coast3248\", \"No Jersey Coast3252\", \"No Jersey Coast3288\", \"No Jersey Coast3292\", \"No Jersey Coast3326\", \"No Jersey Coast3508\", \"No Jersey Coast3512\", \"No Jersey Coast3516\", \"No Jersey Coast3598\", \"Northeast Corrdr3700\", \"Northeast Corrdr3702\", \"Northeast Corrdr3704\", \"Northeast Corrdr3714\", \"Northeast Corrdr3718\", \"Northeast Corrdr3722\", \"Northeast Corrdr3738\", \"Northeast Corrdr3806\", \"Northeast Corrdr3808\", \"Northeast Corrdr3810\", \"Northeast Corrdr3812\", \"Northeast Corrdr3818\", \"Northeast Corrdr3832\", \"Northeast Corrdr3834\", \"Northeast Corrdr3836\", \"Northeast Corrdr3838\", \"Northeast Corrdr3840\", \"Northeast Corrdr3846\", \"Northeast Corrdr3848\", \"Northeast Corrdr3852\", \"Northeast Corrdr3880\", \"Northeast Corrdr3888\", \"Northeast Corrdr3892\", \"Northeast Corrdr3898\", \"Northeast Corrdr3910\", \"Northeast Corrdr3914\", \"Northeast Corrdr3926\", \"Northeast Corrdr3934\", \"Northeast Corrdr3936\", \"Raritan Valley5126\", \"Raritan Valley5132\", \"Raritan Valley5152\", \"Raritan Valley5154\", \"Raritan Valley5156\", \"Raritan Valley5170\", \"Montclair-Boonton6200\", \"Montclair-Boonton6202\", \"Montclair-Boonton6204\", \"Montclair-Boonton6214\", \"Montclair-Boonton6222\", \"Montclair-Boonton6226\", \"Montclair-Boonton6238\", \"Montclair-Boonton6242\", \"Montclair-Boonton6252\", \"Montclair-Boonton6258\", \"Montclair-Boonton6270\", \"Montclair-Boonton6274\", \"Montclair-Boonton6278\", \"Montclair-Boonton6280\", \"Morristown Line6318\", \"Morristown Line6328\", \"Gladstone Branch6406\", \"Morristown Line6602\", \"Morristown Line6604\", \"Morristown Line6606\", \"Morristown Line6612\", \"Morristown Line6620\", \"Morristown Line6628\", \"Morristown Line6632\", \"Morristown Line6636\", \"Morristown Line6664\", \"Morristown Line6666\", \"Morristown Line6668\", \"Morristown Line6670\", \"Morristown Line6672\", \"Morristown Line6674\", \"Morristown Line6676\", \"No Jersey Coast7200\", \"Northeast Corrdr7800\"], \"marker\": {\"color\": [\"#39e600\", \"#39e600\", \"#39e600\", \"#39e600\", \"#39e600\", \"#39e600\", \"#39e600\", \"#39e600\", \"#39e600\", \"#39e600\", \"#39e600\", \"#39e600\", \"#39e600\", \"#39e600\", \"#39e600\", \"#39e600\", \"#39e600\", \"#39e600\", \"#39e600\", \"#39e600\", \"#39e600\", \"#39e600\", \"#39e600\", \"#39e600\", \"#39e600\", \"#39e600\", \"#39e600\", \"#39e600\", \"#39e600\", \"#39e600\", \"#39e600\", \"#39e600\", \"#39e600\", \"#39e600\", \"#39e600\", \"#39e600\", \"#39e600\", \"#39e600\", \"#39e600\", \"#39e600\", \"#39e600\", \"#39e600\", \"#39e600\", \"#39e600\", \"#39e600\", \"#39e600\", \"#39e600\", \"#39e600\", \"#39e600\", \"#39e600\", \"#39e600\", \"#39e600\", \"#39e600\", \"#39e600\", \"#39e600\", \"#39e600\", \"#39e600\", \"#39e600\", \"#39e600\", \"#39e600\", \"#39e600\", \"#39e600\", \"#39e600\", \"#39e600\", \"#39e600\", \"#39e600\", \"#39e600\", \"#39e600\", \"#39e600\", \"#39e600\", \"#39e600\", \"#39e600\", \"#39e600\", \"#39e600\", \"#39e600\", \"#39e600\", \"#39e600\", \"#39e600\", \"#39e600\", \"#39e600\", \"#39e600\", \"#39e600\", \"#39e600\", \"#39e600\", \"#39e600\"], \"size\": \"16\"}, \"mode\": \"markers\", \"y\": [2, 6, 5, 14, 14, 9, 5, 3, 1, 2, 1, 1, 3, 5, 2, 1, 2, 7, 1, 19, 10, 4, 2, 1, 4, 4, 9, 13, 8, 2, 6, 2, 3, 2, 5, 2, 4, 4, 2, 4, 3, 2, 16, 2, 6, 1, 1, 3, 3, 2, 1, 3, 1, 8, 20, 10, 7, 6, 3, 3, 2, 1, 1, 3, 3, 12, 7, 7, 5, 6, 10, 9, 18, 5, 4, 3, 3, 3, 7, 4, 4, 6, 1, 1, 2], \"x\": [5.0, 5.0, 6.0, 8.0, 9.0, 10.0, 11.0, 14.0, 15.0, 24.0, 25.0, 9.0, 10.0, 19.0, 21.0, 19.0, 6.0, 6.0, 7.0, 8.0, 9.0, 10.0, 18.0, 5.0, 5.0, 6.0, 6.0, 7.0, 10.0, 11.0, 11.0, 12.0, 13.0, 14.0, 14.0, 15.0, 22.0, 24.0, 25.0, 18.0, 6.0, 7.0, 8.0, 10.0, 10.0, 10.0, 12.0, 21.0, 22.0, 23.0, 11.0, 5.0, 6.0, 6.0, 8.0, 10.0, 11.0, 14.0, 15.0, 17.0, 19.0, 21.0, 22.0, 23.0, 24.0, 8.0, 10.0, 7.0, 5.0, 6.0, 6.0, 7.0, 8.0, 10.0, 11.0, 12.0, 18.0, 19.0, 19.0, 20.0, 21.0, 21.0, 23.0, 26.0, 26.0], \"type\": \"scatter\"}, {\"name\": \"3-5 min\", \"text\": [\"No Jersey Coast3272\", \"No Jersey Coast3504\", \"Northeast Corrdr3720\", \"Northeast Corrdr3876\", \"Northeast Corrdr3918\", \"Northeast Corrdr3920\", \"Montclair-Boonton6206\", \"Montclair-Boonton6210\", \"Montclair-Boonton6216\", \"Montclair-Boonton6230\", \"Morristown Line6332\", \"Morristown Line6610\", \"Morristown Line6614\"], \"marker\": {\"color\": [\"#ffff00\", \"#ffff00\", \"#ffff00\", \"#ffff00\", \"#ffff00\", \"#ffff00\", \"#ffff00\", \"#ffff00\", \"#ffff00\", \"#ffff00\", \"#ffff00\", \"#ffff00\", \"#ffff00\"], \"size\": \"16\"}, \"mode\": \"markers\", \"y\": [8, 17, 15, 5, 10, 15, 12, 8, 13, 5, 3, 3, 1], \"x\": [19.0, 8.0, 9.0, 21.0, 7.0, 7.0, 7.0, 8.0, 9.0, 12.0, 11.0, 7.0, 8.0], \"type\": \"scatter\"}, {\"name\": \"6-9 min\", \"text\": [\"Northeast Corrdr3124\", \"No Jersey Coast3222\", \"No Jersey Coast3240\", \"No Jersey Coast3312\", \"No Jersey Coast3316\", \"Northeast Corrdr3706\", \"Northeast Corrdr3708\", \"Northeast Corrdr3716\", \"Northeast Corrdr3814\", \"Northeast Corrdr3828\", \"Northeast Corrdr3830\", \"Northeast Corrdr3882\", \"Northeast Corrdr3886\", \"Morristown Line6314\", \"Morristown Line6324\", \"Gladstone Branch6410\", \"Morristown Line6616\"], \"marker\": {\"color\": [\"#ff9933\", \"#ff9933\", \"#ff9933\", \"#ff9933\", \"#ff9933\", \"#ff9933\", \"#ff9933\", \"#ff9933\", \"#ff9933\", \"#ff9933\", \"#ff9933\", \"#ff9933\", \"#ff9933\", \"#ff9933\", \"#ff9933\", \"#ff9933\", \"#ff9933\"], \"size\": \"16\"}, \"mode\": \"markers\", \"y\": [4, 3, 4, 4, 11, 8, 16, 6, 6, 2, 9, 5, 4, 2, 11, 6, 11], \"x\": [8.0, 8.0, 12.0, 7.0, 7.0, 7.0, 7.0, 9.0, 7.0, 9.0, 9.0, 22.0, 23.0, 8.0, 9.0, 8.0, 8.0], \"type\": \"scatter\"}, {\"name\": \"10-20 min\", \"text\": [\"No Jersey Coast3210\", \"No Jersey Coast3244\", \"No Jersey Coast3276\", \"No Jersey Coast3502\", \"No Jersey Coast3506\", \"Northeast Corrdr3710\", \"Northeast Corrdr3712\", \"Northeast Corrdr3922\", \"Northeast Corrdr3924\", \"Northeast Corrdr3928\", \"Northeast Corrdr3930\", \"Northeast Corrdr3932\", \"Raritan Valley5150\", \"Montclair-Boonton6234\", \"Montclair-Boonton6248\", \"Morristown Line6320\", \"Morristown Line6624\"], \"marker\": {\"color\": [\"#ff0000\", \"#ff0000\", \"#ff0000\", \"#ff0000\", \"#ff0000\", \"#ff0000\", \"#ff0000\", \"#ff0000\", \"#ff0000\", \"#ff0000\", \"#ff0000\", \"#ff0000\", \"#ff0000\", \"#ff0000\", \"#ff0000\", \"#ff0000\", \"#ff0000\"], \"size\": \"16\"}, \"mode\": \"markers\", \"y\": [5, 5, 8, 9, 5, 10, 15, 7, 13, 3, 7, 12, 3, 6, 2, 4, 8], \"x\": [7.0, 13.0, 20.0, 8.0, 9.0, 8.0, 8.0, 8.0, 8.0, 9.0, 9.0, 9.0, 20.0, 13.0, 17.0, 9.0, 9.0], \"type\": \"scatter\"}, {\"name\": \"20+ min\", \"text\": [\"Northeast Corrdr3154\", \"No Jersey Coast3256\", \"No Jersey Coast3260\", \"No Jersey Coast3266\", \"No Jersey Coast3270\", \"No Jersey Coast3274\", \"No Jersey Coast3278\", \"No Jersey Coast3284\", \"No Jersey Coast3500\", \"No Jersey Coast3510\", \"No Jersey Coast3514\", \"Northeast Corrdr3844\", \"Northeast Corrdr3856\", \"Northeast Corrdr3858\", \"Northeast Corrdr3860\", \"Northeast Corrdr3864\", \"Northeast Corrdr3866\", \"Northeast Corrdr3896\", \"Northeast Corrdr3954\", \"Raritan Valley5176\", \"Montclair-Boonton6264\", \"Morristown Line6648\", \"Morristown Line6654\", \"Morristown Line6662\"], \"marker\": {\"color\": [\"#990000\", \"#990000\", \"#990000\", \"#990000\", \"#990000\", \"#990000\", \"#990000\", \"#990000\", \"#990000\", \"#990000\", \"#990000\", \"#990000\", \"#990000\", \"#990000\", \"#990000\", \"#990000\", \"#990000\", \"#990000\", \"#990000\", \"#990000\", \"#990000\", \"#990000\", \"#990000\", \"#990000\"], \"size\": \"16\"}, \"mode\": \"markers\", \"y\": [1, 3, 4, 6, 9, 7, 7, 6, 14, 7, 6, 7, 5, 6, 5, 5, 8, 6, 2, 4, 5, 4, 4, 7], \"x\": [16.0, 16.0, 17.0, 18.0, 19.0, 20.0, 21.0, 22.0, 7.0, 17.0, 20.0, 13.0, 16.0, 16.0, 17.0, 18.0, 18.0, 17.0, 16.0, 14.0, 20.0, 15.0, 16.0, 18.0], \"type\": \"scatter\"}, {\"name\": \"Cancelled\", \"text\": [\"Northeast Corrdr3126\", \"Northeast Corrdr3742\", \"Northeast Corrdr3842\", \"Northeast Corrdr3862\", \"Northeast Corrdr3868\", \"Northeast Corrdr3870\", \"Northeast Corrdr3872\", \"Northeast Corrdr3874\", \"Northeast Corrdr3984\", \"Raritan Valley5134\", \"Morristown Line6640\", \"Morristown Line6644\", \"Morristown Line6656\"], \"marker\": {\"color\": [\"#827e7d\", \"#827e7d\", \"#827e7d\", \"#827e7d\", \"#827e7d\", \"#827e7d\", \"#827e7d\", \"#827e7d\", \"#827e7d\", \"#827e7d\", \"#827e7d\", \"#827e7d\", \"#827e7d\"], \"size\": \"16\"}, \"mode\": \"markers\", \"y\": [5, 1, 4, 1, 6, 4, 1, 2, 2, 2, 1, 1, 1], \"x\": [8.0, 24.0, 13.0, 18.0, 19.0, 19.0, 20.0, 20.0, 22.0, 13.0, 13.0, 14.0, 17.0], \"type\": \"scatter\"}], {\"title\": \"Trains into NY Penn on 3/2/18\", \"xaxis\": {\"title\": \"Hour of day\"}, \"yaxis\": {\"showticklabels\": false, \"ticks\": \"\", \"showgrid\": false}}, {\"linkText\": \"Export to plot.ly\", \"showLink\": true})});</script>"
      ],
      "text/vnd.plotly.v1+html": [
       "<div id=\"30b611dc-5463-4d5c-92be-b4545fe65c52\" style=\"height: 525px; width: 100%;\" class=\"plotly-graph-div\"></div><script type=\"text/javascript\">require([\"plotly\"], function(Plotly) { window.PLOTLYENV=window.PLOTLYENV || {};window.PLOTLYENV.BASE_URL=\"https://plot.ly\";Plotly.newPlot(\"30b611dc-5463-4d5c-92be-b4545fe65c52\", [{\"name\": \"On time\", \"text\": [\"No Jersey Coast3202\", \"No Jersey Coast3204\", \"No Jersey Coast3208\", \"No Jersey Coast3224\", \"No Jersey Coast3230\", \"No Jersey Coast3232\", \"No Jersey Coast3236\", \"No Jersey Coast3248\", \"No Jersey Coast3252\", \"No Jersey Coast3288\", \"No Jersey Coast3292\", \"No Jersey Coast3326\", \"No Jersey Coast3508\", \"No Jersey Coast3512\", \"No Jersey Coast3516\", \"No Jersey Coast3598\", \"Northeast Corrdr3700\", \"Northeast Corrdr3702\", \"Northeast Corrdr3704\", \"Northeast Corrdr3714\", \"Northeast Corrdr3718\", \"Northeast Corrdr3722\", \"Northeast Corrdr3738\", \"Northeast Corrdr3806\", \"Northeast Corrdr3808\", \"Northeast Corrdr3810\", \"Northeast Corrdr3812\", \"Northeast Corrdr3818\", \"Northeast Corrdr3832\", \"Northeast Corrdr3834\", \"Northeast Corrdr3836\", \"Northeast Corrdr3838\", \"Northeast Corrdr3840\", \"Northeast Corrdr3846\", \"Northeast Corrdr3848\", \"Northeast Corrdr3852\", \"Northeast Corrdr3880\", \"Northeast Corrdr3888\", \"Northeast Corrdr3892\", \"Northeast Corrdr3898\", \"Northeast Corrdr3910\", \"Northeast Corrdr3914\", \"Northeast Corrdr3926\", \"Northeast Corrdr3934\", \"Northeast Corrdr3936\", \"Raritan Valley5126\", \"Raritan Valley5132\", \"Raritan Valley5152\", \"Raritan Valley5154\", \"Raritan Valley5156\", \"Raritan Valley5170\", \"Montclair-Boonton6200\", \"Montclair-Boonton6202\", \"Montclair-Boonton6204\", \"Montclair-Boonton6214\", \"Montclair-Boonton6222\", \"Montclair-Boonton6226\", \"Montclair-Boonton6238\", \"Montclair-Boonton6242\", \"Montclair-Boonton6252\", \"Montclair-Boonton6258\", \"Montclair-Boonton6270\", \"Montclair-Boonton6274\", \"Montclair-Boonton6278\", \"Montclair-Boonton6280\", \"Morristown Line6318\", \"Morristown Line6328\", \"Gladstone Branch6406\", \"Morristown Line6602\", \"Morristown Line6604\", \"Morristown Line6606\", \"Morristown Line6612\", \"Morristown Line6620\", \"Morristown Line6628\", \"Morristown Line6632\", \"Morristown Line6636\", \"Morristown Line6664\", \"Morristown Line6666\", \"Morristown Line6668\", \"Morristown Line6670\", \"Morristown Line6672\", \"Morristown Line6674\", \"Morristown Line6676\", \"No Jersey Coast7200\", \"Northeast Corrdr7800\"], \"marker\": {\"color\": [\"#39e600\", \"#39e600\", \"#39e600\", \"#39e600\", \"#39e600\", \"#39e600\", \"#39e600\", \"#39e600\", \"#39e600\", \"#39e600\", \"#39e600\", \"#39e600\", \"#39e600\", \"#39e600\", \"#39e600\", \"#39e600\", \"#39e600\", \"#39e600\", \"#39e600\", \"#39e600\", \"#39e600\", \"#39e600\", \"#39e600\", \"#39e600\", \"#39e600\", \"#39e600\", \"#39e600\", \"#39e600\", \"#39e600\", \"#39e600\", \"#39e600\", \"#39e600\", \"#39e600\", \"#39e600\", \"#39e600\", \"#39e600\", \"#39e600\", \"#39e600\", \"#39e600\", \"#39e600\", \"#39e600\", \"#39e600\", \"#39e600\", \"#39e600\", \"#39e600\", \"#39e600\", \"#39e600\", \"#39e600\", \"#39e600\", \"#39e600\", \"#39e600\", \"#39e600\", \"#39e600\", \"#39e600\", \"#39e600\", \"#39e600\", \"#39e600\", \"#39e600\", \"#39e600\", \"#39e600\", \"#39e600\", \"#39e600\", \"#39e600\", \"#39e600\", \"#39e600\", \"#39e600\", \"#39e600\", \"#39e600\", \"#39e600\", \"#39e600\", \"#39e600\", \"#39e600\", \"#39e600\", \"#39e600\", \"#39e600\", \"#39e600\", \"#39e600\", \"#39e600\", \"#39e600\", \"#39e600\", \"#39e600\", \"#39e600\", \"#39e600\", \"#39e600\", \"#39e600\"], \"size\": \"16\"}, \"mode\": \"markers\", \"y\": [2, 6, 5, 14, 14, 9, 5, 3, 1, 2, 1, 1, 3, 5, 2, 1, 2, 7, 1, 19, 10, 4, 2, 1, 4, 4, 9, 13, 8, 2, 6, 2, 3, 2, 5, 2, 4, 4, 2, 4, 3, 2, 16, 2, 6, 1, 1, 3, 3, 2, 1, 3, 1, 8, 20, 10, 7, 6, 3, 3, 2, 1, 1, 3, 3, 12, 7, 7, 5, 6, 10, 9, 18, 5, 4, 3, 3, 3, 7, 4, 4, 6, 1, 1, 2], \"x\": [5.0, 5.0, 6.0, 8.0, 9.0, 10.0, 11.0, 14.0, 15.0, 24.0, 25.0, 9.0, 10.0, 19.0, 21.0, 19.0, 6.0, 6.0, 7.0, 8.0, 9.0, 10.0, 18.0, 5.0, 5.0, 6.0, 6.0, 7.0, 10.0, 11.0, 11.0, 12.0, 13.0, 14.0, 14.0, 15.0, 22.0, 24.0, 25.0, 18.0, 6.0, 7.0, 8.0, 10.0, 10.0, 10.0, 12.0, 21.0, 22.0, 23.0, 11.0, 5.0, 6.0, 6.0, 8.0, 10.0, 11.0, 14.0, 15.0, 17.0, 19.0, 21.0, 22.0, 23.0, 24.0, 8.0, 10.0, 7.0, 5.0, 6.0, 6.0, 7.0, 8.0, 10.0, 11.0, 12.0, 18.0, 19.0, 19.0, 20.0, 21.0, 21.0, 23.0, 26.0, 26.0], \"type\": \"scatter\"}, {\"name\": \"3-5 min\", \"text\": [\"No Jersey Coast3272\", \"No Jersey Coast3504\", \"Northeast Corrdr3720\", \"Northeast Corrdr3876\", \"Northeast Corrdr3918\", \"Northeast Corrdr3920\", \"Montclair-Boonton6206\", \"Montclair-Boonton6210\", \"Montclair-Boonton6216\", \"Montclair-Boonton6230\", \"Morristown Line6332\", \"Morristown Line6610\", \"Morristown Line6614\"], \"marker\": {\"color\": [\"#ffff00\", \"#ffff00\", \"#ffff00\", \"#ffff00\", \"#ffff00\", \"#ffff00\", \"#ffff00\", \"#ffff00\", \"#ffff00\", \"#ffff00\", \"#ffff00\", \"#ffff00\", \"#ffff00\"], \"size\": \"16\"}, \"mode\": \"markers\", \"y\": [8, 17, 15, 5, 10, 15, 12, 8, 13, 5, 3, 3, 1], \"x\": [19.0, 8.0, 9.0, 21.0, 7.0, 7.0, 7.0, 8.0, 9.0, 12.0, 11.0, 7.0, 8.0], \"type\": \"scatter\"}, {\"name\": \"6-9 min\", \"text\": [\"Northeast Corrdr3124\", \"No Jersey Coast3222\", \"No Jersey Coast3240\", \"No Jersey Coast3312\", \"No Jersey Coast3316\", \"Northeast Corrdr3706\", \"Northeast Corrdr3708\", \"Northeast Corrdr3716\", \"Northeast Corrdr3814\", \"Northeast Corrdr3828\", \"Northeast Corrdr3830\", \"Northeast Corrdr3882\", \"Northeast Corrdr3886\", \"Morristown Line6314\", \"Morristown Line6324\", \"Gladstone Branch6410\", \"Morristown Line6616\"], \"marker\": {\"color\": [\"#ff9933\", \"#ff9933\", \"#ff9933\", \"#ff9933\", \"#ff9933\", \"#ff9933\", \"#ff9933\", \"#ff9933\", \"#ff9933\", \"#ff9933\", \"#ff9933\", \"#ff9933\", \"#ff9933\", \"#ff9933\", \"#ff9933\", \"#ff9933\", \"#ff9933\"], \"size\": \"16\"}, \"mode\": \"markers\", \"y\": [4, 3, 4, 4, 11, 8, 16, 6, 6, 2, 9, 5, 4, 2, 11, 6, 11], \"x\": [8.0, 8.0, 12.0, 7.0, 7.0, 7.0, 7.0, 9.0, 7.0, 9.0, 9.0, 22.0, 23.0, 8.0, 9.0, 8.0, 8.0], \"type\": \"scatter\"}, {\"name\": \"10-20 min\", \"text\": [\"No Jersey Coast3210\", \"No Jersey Coast3244\", \"No Jersey Coast3276\", \"No Jersey Coast3502\", \"No Jersey Coast3506\", \"Northeast Corrdr3710\", \"Northeast Corrdr3712\", \"Northeast Corrdr3922\", \"Northeast Corrdr3924\", \"Northeast Corrdr3928\", \"Northeast Corrdr3930\", \"Northeast Corrdr3932\", \"Raritan Valley5150\", \"Montclair-Boonton6234\", \"Montclair-Boonton6248\", \"Morristown Line6320\", \"Morristown Line6624\"], \"marker\": {\"color\": [\"#ff0000\", \"#ff0000\", \"#ff0000\", \"#ff0000\", \"#ff0000\", \"#ff0000\", \"#ff0000\", \"#ff0000\", \"#ff0000\", \"#ff0000\", \"#ff0000\", \"#ff0000\", \"#ff0000\", \"#ff0000\", \"#ff0000\", \"#ff0000\", \"#ff0000\"], \"size\": \"16\"}, \"mode\": \"markers\", \"y\": [5, 5, 8, 9, 5, 10, 15, 7, 13, 3, 7, 12, 3, 6, 2, 4, 8], \"x\": [7.0, 13.0, 20.0, 8.0, 9.0, 8.0, 8.0, 8.0, 8.0, 9.0, 9.0, 9.0, 20.0, 13.0, 17.0, 9.0, 9.0], \"type\": \"scatter\"}, {\"name\": \"20+ min\", \"text\": [\"Northeast Corrdr3154\", \"No Jersey Coast3256\", \"No Jersey Coast3260\", \"No Jersey Coast3266\", \"No Jersey Coast3270\", \"No Jersey Coast3274\", \"No Jersey Coast3278\", \"No Jersey Coast3284\", \"No Jersey Coast3500\", \"No Jersey Coast3510\", \"No Jersey Coast3514\", \"Northeast Corrdr3844\", \"Northeast Corrdr3856\", \"Northeast Corrdr3858\", \"Northeast Corrdr3860\", \"Northeast Corrdr3864\", \"Northeast Corrdr3866\", \"Northeast Corrdr3896\", \"Northeast Corrdr3954\", \"Raritan Valley5176\", \"Montclair-Boonton6264\", \"Morristown Line6648\", \"Morristown Line6654\", \"Morristown Line6662\"], \"marker\": {\"color\": [\"#990000\", \"#990000\", \"#990000\", \"#990000\", \"#990000\", \"#990000\", \"#990000\", \"#990000\", \"#990000\", \"#990000\", \"#990000\", \"#990000\", \"#990000\", \"#990000\", \"#990000\", \"#990000\", \"#990000\", \"#990000\", \"#990000\", \"#990000\", \"#990000\", \"#990000\", \"#990000\", \"#990000\"], \"size\": \"16\"}, \"mode\": \"markers\", \"y\": [1, 3, 4, 6, 9, 7, 7, 6, 14, 7, 6, 7, 5, 6, 5, 5, 8, 6, 2, 4, 5, 4, 4, 7], \"x\": [16.0, 16.0, 17.0, 18.0, 19.0, 20.0, 21.0, 22.0, 7.0, 17.0, 20.0, 13.0, 16.0, 16.0, 17.0, 18.0, 18.0, 17.0, 16.0, 14.0, 20.0, 15.0, 16.0, 18.0], \"type\": \"scatter\"}, {\"name\": \"Cancelled\", \"text\": [\"Northeast Corrdr3126\", \"Northeast Corrdr3742\", \"Northeast Corrdr3842\", \"Northeast Corrdr3862\", \"Northeast Corrdr3868\", \"Northeast Corrdr3870\", \"Northeast Corrdr3872\", \"Northeast Corrdr3874\", \"Northeast Corrdr3984\", \"Raritan Valley5134\", \"Morristown Line6640\", \"Morristown Line6644\", \"Morristown Line6656\"], \"marker\": {\"color\": [\"#827e7d\", \"#827e7d\", \"#827e7d\", \"#827e7d\", \"#827e7d\", \"#827e7d\", \"#827e7d\", \"#827e7d\", \"#827e7d\", \"#827e7d\", \"#827e7d\", \"#827e7d\", \"#827e7d\"], \"size\": \"16\"}, \"mode\": \"markers\", \"y\": [5, 1, 4, 1, 6, 4, 1, 2, 2, 2, 1, 1, 1], \"x\": [8.0, 24.0, 13.0, 18.0, 19.0, 19.0, 20.0, 20.0, 22.0, 13.0, 13.0, 14.0, 17.0], \"type\": \"scatter\"}], {\"title\": \"Trains into NY Penn on 3/2/18\", \"xaxis\": {\"title\": \"Hour of day\"}, \"yaxis\": {\"showticklabels\": false, \"ticks\": \"\", \"showgrid\": false}}, {\"linkText\": \"Export to plot.ly\", \"showLink\": true})});</script>"
      ]
     },
     "metadata": {},
     "output_type": "display_data"
    }
   ],
   "source": [
    "traces = []\n",
    "for trace in into_traces:\n",
    "    trace_data = trace[0]\n",
    "    trace_name = trace[1]\n",
    "    traces.append(go.Scatter(\n",
    "        x = trace_data['sched_hour'],\n",
    "        y = trace_data['sequence'],\n",
    "        mode='markers',\n",
    "        marker=dict(\n",
    "            size='16',\n",
    "            color = trace_data['severity_color'], #set color equal to a variable\n",
    "        ),\n",
    "        text = trace_data['line'] + trace_data['id'],\n",
    "        name = trace_name\n",
    "    ))\n",
    "layout = go.Layout(\n",
    "        title='Trains into NY Penn on 3/2/18',\n",
    "        xaxis=dict(\n",
    "            title='Hour of day'\n",
    "        ),\n",
    "        yaxis=dict(\n",
    "            ticks='',\n",
    "            showticklabels=False,\n",
    "            showgrid=False\n",
    "        )\n",
    "    )\n",
    "fig = go.Figure(data=traces, layout=layout)\n",
    "plotly.offline.iplot(fig)"
   ]
  },
  {
   "cell_type": "code",
   "execution_count": 52,
   "metadata": {
    "collapsed": true
   },
   "outputs": [],
   "source": [
    "out_cancelled = test2[test2['severity'] == 'Cancelled'].copy()\n",
    "out_ontime = test2[test2['severity'] == 'On time'].copy()\n",
    "out_3_5 = test2[test2['severity'] == '3-5 min'].copy()\n",
    "out_6_9 = test2[test2['severity'] == '6-9 min'].copy()\n",
    "out_10_20 = test2[test2['severity'] == '10-20 min'].copy()\n",
    "out_20 = test2[test2['severity'] == '20+ min'].copy()\n",
    "out_trace = [out_ontime, out_3_5, out_6_9, out_10_20, out_20, out_cancelled]\n",
    "out_names = ['On time', '3-5 min', '6-9 min', '10-20 min', '20+ min', 'Cancelled']\n",
    "out_traces = zip(out_trace, out_names)"
   ]
  },
  {
   "cell_type": "code",
   "execution_count": 55,
   "metadata": {
    "collapsed": false,
    "scrolled": false
   },
   "outputs": [
    {
     "data": {
      "text/plain": [
       "'file:///Users/pranav/Documents/development/njtransit/notebooks/analysis/temp-plot.html'"
      ]
     },
     "execution_count": 55,
     "metadata": {},
     "output_type": "execute_result"
    }
   ],
   "source": [
    "traces = []\n",
    "for trace in out_traces:\n",
    "    trace_data = trace[0]\n",
    "    trace_name = trace[1]\n",
    "    traces.append(go.Scatter(\n",
    "        x = trace_data['sched_hour'],\n",
    "        y = trace_data['sequence'],\n",
    "        mode='markers',\n",
    "        marker=dict(\n",
    "            size='20',\n",
    "            color = trace_data['severity_color'], #set color equal to a variable\n",
    "        ),\n",
    "        text = trace_data['line'] + trace_data['id'],\n",
    "        name = trace_name\n",
    "    ))\n",
    "layout = go.Layout(\n",
    "        title='Trains out of NY Penn on 3/2/18',\n",
    "        xaxis=dict(\n",
    "            title='Hour of day'\n",
    "        ),\n",
    "        yaxis=dict(\n",
    "            ticks='',\n",
    "            showticklabels=False,\n",
    "            showgrid=False\n",
    "        )\n",
    "    )\n",
    "fig = go.Figure(data=traces, layout=layout)\n",
    "plotly.offline.plot(fig)"
   ]
  },
  {
   "cell_type": "markdown",
   "metadata": {},
   "source": [
    "# Animation"
   ]
  },
  {
   "cell_type": "code",
   "execution_count": 508,
   "metadata": {
    "collapsed": true
   },
   "outputs": [],
   "source": [
    "relevant = ['New York Penn Station', 'Secaucus Upper Lvl', 'Newark Penn Station', 'Newark Airport'] "
   ]
  },
  {
   "cell_type": "code",
   "execution_count": 509,
   "metadata": {
    "collapsed": true
   },
   "outputs": [],
   "source": [
    "relevant_df = df[(df['from'].isin(relevant)) | (df['to'].isin(relevant))].copy()"
   ]
  },
  {
   "cell_type": "code",
   "execution_count": 510,
   "metadata": {
    "collapsed": false,
    "scrolled": true
   },
   "outputs": [
    {
     "data": {
      "text/plain": [
       "1556"
      ]
     },
     "execution_count": 510,
     "metadata": {},
     "output_type": "execute_result"
    }
   ],
   "source": [
    "len(relevant_df)"
   ]
  },
  {
   "cell_type": "code",
   "execution_count": 511,
   "metadata": {
    "collapsed": true
   },
   "outputs": [],
   "source": [
    "unique_ids = relevant_df['train_id'].unique()"
   ]
  },
  {
   "cell_type": "code",
   "execution_count": 512,
   "metadata": {
    "collapsed": true
   },
   "outputs": [],
   "source": [
    "relevant_df = df[df['train_id'].isin(unique_ids)].copy()"
   ]
  },
  {
   "cell_type": "code",
   "execution_count": 513,
   "metadata": {
    "collapsed": false,
    "scrolled": false
   },
   "outputs": [
    {
     "data": {
      "text/plain": [
       "array(['Raritan Valley', 'No Jersey Coast', 'Morristown Line',\n",
       "       'Northeast Corrdr', 'ACELA EXPRESS', 'REGIONAL', 'Amtrak',\n",
       "       'CRESCENT', 'Montclair-Boonton', 'KEYSTONE', 'CAROLINIAN',\n",
       "       'Gladstone Branch', 'PENNSYLVANIAN', 'SILVER STAR  -R',\n",
       "       'SILVER METEOR-R', 'VERMONTER    -R', 'AMTRAK'], dtype=object)"
      ]
     },
     "execution_count": 513,
     "metadata": {},
     "output_type": "execute_result"
    }
   ],
   "source": [
    "relevant_df['line'].unique()"
   ]
  },
  {
   "cell_type": "code",
   "execution_count": 514,
   "metadata": {
    "collapsed": true
   },
   "outputs": [],
   "source": [
    "except_lines = ['Gladstone Branch', 'Morristown Line', 'Montclair-Boonton']\n",
    "except_stations = ['Newark Airport', 'Newark Penn Station', 'Secaucus Upper Lvl', 'New York Penn Station', 'Hoboken', 'Newark Broad Street']"
   ]
  },
  {
   "cell_type": "code",
   "execution_count": 515,
   "metadata": {
    "collapsed": true
   },
   "outputs": [],
   "source": [
    "stations_except_lines = relevant_df[relevant_df['line'].isin(except_lines)]['from'].unique()"
   ]
  },
  {
   "cell_type": "code",
   "execution_count": 516,
   "metadata": {
    "collapsed": true
   },
   "outputs": [],
   "source": [
    "slanted = np.setdiff1d(stations_except_lines, except_stations)"
   ]
  },
  {
   "cell_type": "code",
   "execution_count": 517,
   "metadata": {
    "collapsed": true
   },
   "outputs": [],
   "source": [
    "station_map_x = {sta:0 for sta in slanted}\n",
    "station_map_y = {sta:10 for sta in slanted}"
   ]
  },
  {
   "cell_type": "code",
   "execution_count": 518,
   "metadata": {
    "collapsed": true
   },
   "outputs": [],
   "source": [
    "map_x = {'Newark Airport': 0,\n",
    "        'Newark Broad Street': 5,\n",
    "        'Newark Penn Station': 5,\n",
    "        'Secaucus Upper Lvl': 10, \n",
    "        'New York Penn Station': 15,\n",
    "        'Hoboken': 10, \n",
    "         'Junction 1':6.5,\n",
    "         'Junction 2':8\n",
    "            }\n",
    "map_y = {'Newark Airport': 0,\n",
    "        'Newark Broad Street': 5,\n",
    "         'Newark Penn Station': 0,\n",
    "         'Secaucus Upper Lvl': 0, \n",
    "         'New York Penn Station': 0,\n",
    "         'Hoboken': -5,\n",
    "        'Junction 1': 0,\n",
    "        'Junction 2': 0}"
   ]
  },
  {
   "cell_type": "code",
   "execution_count": 519,
   "metadata": {
    "collapsed": true
   },
   "outputs": [],
   "source": [
    "station_map_x.update(map_x)"
   ]
  },
  {
   "cell_type": "code",
   "execution_count": 520,
   "metadata": {
    "collapsed": true
   },
   "outputs": [],
   "source": [
    "station_map_y.update(map_y)"
   ]
  },
  {
   "cell_type": "code",
   "execution_count": 521,
   "metadata": {
    "collapsed": true
   },
   "outputs": [],
   "source": [
    "relevant_df['from_x'] = relevant_df['from'].map(station_map_x)\n",
    "relevant_df['to_x'] = relevant_df['to'].map(station_map_x)\n",
    "relevant_df['from_y'] = relevant_df['from'].map(station_map_y)\n",
    "relevant_df['to_y'] = relevant_df['to'].map(station_map_y)"
   ]
  },
  {
   "cell_type": "code",
   "execution_count": 522,
   "metadata": {
    "collapsed": true
   },
   "outputs": [],
   "source": [
    "relevant_df['from_x'].fillna(0, inplace=True)\n",
    "relevant_df['to_x'].fillna(0, inplace=True)\n",
    "relevant_df['from_y'].fillna(0, inplace=True)\n",
    "relevant_df['to_y'].fillna(0, inplace=True)"
   ]
  },
  {
   "cell_type": "code",
   "execution_count": 523,
   "metadata": {
    "collapsed": true
   },
   "outputs": [],
   "source": [
    "def get_direction(group):\n",
    "    from_x = group.iloc[0]['from_x']\n",
    "    to_x = group.iloc[-1]['to_x']\n",
    "    if from_x > to_x:\n",
    "        group['direction'] = -1\n",
    "    else:\n",
    "        group['direction'] = 1\n",
    "#     print group.iloc[0]['train_id'], from_x, to_x, group.iloc[0]['direction']\n",
    "    return group"
   ]
  },
  {
   "cell_type": "code",
   "execution_count": 524,
   "metadata": {
    "collapsed": true
   },
   "outputs": [],
   "source": [
    "relevant_df = relevant_df.sort_values(['time', 'stop_sequence']).groupby('train_id').apply(get_direction)"
   ]
  },
  {
   "cell_type": "code",
   "execution_count": 525,
   "metadata": {
    "collapsed": true
   },
   "outputs": [],
   "source": [
    "cutoff = dt.datetime(2018,3,2,8)\n",
    "cutoff_end = dt.datetime(2018,3,2,12)"
   ]
  },
  {
   "cell_type": "code",
   "execution_count": 526,
   "metadata": {
    "collapsed": true
   },
   "outputs": [],
   "source": [
    "relevant_df = relevant_df[(relevant_df['time'] >= cutoff) & (relevant_df['time'] <= cutoff_end)]"
   ]
  },
  {
   "cell_type": "code",
   "execution_count": 527,
   "metadata": {
    "collapsed": true
   },
   "outputs": [],
   "source": [
    "relevant_df = relevant_df[relevant_df['type'] == 'NJ Transit'].copy()"
   ]
  },
  {
   "cell_type": "markdown",
   "metadata": {},
   "source": [
    "Corrupted NJT trains"
   ]
  },
  {
   "cell_type": "code",
   "execution_count": 528,
   "metadata": {
    "collapsed": true
   },
   "outputs": [],
   "source": [
    "corrupted = relevant_df[(relevant_df['from_x'] < relevant_df['to_x']) & (relevant_df['direction'] == -1)]['train_id'].unique()\n",
    "# corrupted = relevant_df[(relevant_df['from_x'] < relevant_df['to_x']) & (relevant_df['direction'] == -1) & (relevant_df['status'] == 'Departed')]['train_id'].unique()"
   ]
  },
  {
   "cell_type": "code",
   "execution_count": 529,
   "metadata": {
    "collapsed": true
   },
   "outputs": [],
   "source": [
    "corrupted_to = relevant_df[(relevant_df['from_x'] > relevant_df['to_x']) & (relevant_df['direction'] == 1)]['train_id'].unique()"
   ]
  },
  {
   "cell_type": "code",
   "execution_count": 530,
   "metadata": {
    "collapsed": true
   },
   "outputs": [],
   "source": [
    "corrupted = np.concatenate((corrupted, corrupted_to))"
   ]
  },
  {
   "cell_type": "code",
   "execution_count": 531,
   "metadata": {
    "collapsed": false
   },
   "outputs": [
    {
     "data": {
      "text/plain": [
       "array([], dtype=object)"
      ]
     },
     "execution_count": 531,
     "metadata": {},
     "output_type": "execute_result"
    }
   ],
   "source": [
    "corrupted"
   ]
  },
  {
   "cell_type": "code",
   "execution_count": 532,
   "metadata": {
    "collapsed": false
   },
   "outputs": [
    {
     "data": {
      "text/plain": [
       "0"
      ]
     },
     "execution_count": 532,
     "metadata": {},
     "output_type": "execute_result"
    }
   ],
   "source": [
    "len(corrupted)"
   ]
  },
  {
   "cell_type": "code",
   "execution_count": 533,
   "metadata": {
    "collapsed": false
   },
   "outputs": [
    {
     "data": {
      "text/plain": [
       "114"
      ]
     },
     "execution_count": 533,
     "metadata": {},
     "output_type": "execute_result"
    }
   ],
   "source": [
    "relevant_df['train_id'].nunique()"
   ]
  },
  {
   "cell_type": "markdown",
   "metadata": {},
   "source": [
    "corrupted trains: 10 am visual (0), 4 pm visual (11 of 105), 10pm visual (3 of 70)"
   ]
  },
  {
   "cell_type": "code",
   "execution_count": 534,
   "metadata": {
    "collapsed": true
   },
   "outputs": [],
   "source": [
    "relevant_df = relevant_df[~relevant_df['train_id'].isin(corrupted)].copy()"
   ]
  },
  {
   "cell_type": "code",
   "execution_count": 535,
   "metadata": {
    "collapsed": true
   },
   "outputs": [],
   "source": [
    "relevant_df.loc[relevant_df['type'] == 'Amtrak', 'expected'] = relevant_df.loc[relevant_df['type'] == 'Amtrak']['time'].copy()"
   ]
  },
  {
   "cell_type": "code",
   "execution_count": 536,
   "metadata": {
    "collapsed": true
   },
   "outputs": [],
   "source": [
    "other_corrupted = ['3957', '3363']"
   ]
  },
  {
   "cell_type": "code",
   "execution_count": 537,
   "metadata": {
    "collapsed": true
   },
   "outputs": [],
   "source": [
    "relevant_df = relevant_df[~relevant_df['train_id'].isin(other_corrupted)].copy()"
   ]
  },
  {
   "cell_type": "code",
   "execution_count": 538,
   "metadata": {
    "collapsed": true
   },
   "outputs": [],
   "source": [
    "time_df = relevant_df[relevant_df['status'] != 'Cancelled'].copy()\n",
    "exp_df = relevant_df[(relevant_df['type'] != 'Amtrak') | (relevant_df['status'] != 'Cancelled')].copy()"
   ]
  },
  {
   "cell_type": "code",
   "execution_count": 539,
   "metadata": {
    "collapsed": true
   },
   "outputs": [],
   "source": [
    "def get_states(from_state, to_state, linked_dict, direction):\n",
    "    if to_state == from_state:\n",
    "        return [to_state]\n",
    "    if from_state is None:\n",
    "        return None\n",
    "    else:\n",
    "        gap_states = None\n",
    "        if linked_dict[from_state][direction] is None:\n",
    "            return gap_states\n",
    "        for station in linked_dict[from_state][direction]:\n",
    "            ret = get_states(station, to_state, linked_dict, direction)\n",
    "            if ret is not None:\n",
    "                gap_states = [from_state] + ret\n",
    "        return gap_states"
   ]
  },
  {
   "cell_type": "code",
   "execution_count": 540,
   "metadata": {
    "collapsed": true
   },
   "outputs": [],
   "source": [
    "def get_state_movement(states, time_diff, time_start):\n",
    "    total_dist = 0\n",
    "    state_info = []\n",
    "    for from_sta, to_sta in zip(states[:-1], states[1:]):\n",
    "        if from_sta in station_map_x:\n",
    "            from_x, from_y = station_map_x[from_sta], station_map_y[from_sta]\n",
    "        else:\n",
    "            from_x, from_y = 0, 0\n",
    "        if to_sta in station_map_x:\n",
    "            to_x, to_y = station_map_x[to_sta], station_map_y[to_sta]\n",
    "        else:\n",
    "            to_x, to_y = 0, 0\n",
    "        from_loc = np.array((from_x, from_y))\n",
    "        to_loc = np.array((to_x, to_y))\n",
    "        dist = np.linalg.norm(to_loc-from_loc)\n",
    "        if dist:\n",
    "            total_dist = total_dist + dist\n",
    "            state_info.append({\n",
    "                'from': from_sta,\n",
    "                'to': to_sta,\n",
    "                'from_x': from_x,\n",
    "                'from_y': from_y,\n",
    "                'to_x': to_x,\n",
    "                'to_y': to_y,\n",
    "                'dist': dist    \n",
    "            })\n",
    "    if total_dist:\n",
    "        for info in state_info:\n",
    "            frac = info['dist']/total_dist\n",
    "            this_diff = time_diff*frac\n",
    "            info['start'] = time_start\n",
    "            info['end'] = time_start + dt.timedelta(seconds=this_diff)\n",
    "            time_start = info['end']\n",
    "            if not this_diff:\n",
    "                this_diff = 1\n",
    "            info['x_delta'] = float(info['to_x'] - info['from_x'])/this_diff\n",
    "            info['y_delta'] = float(info['to_y'] - info['from_y'])/this_diff\n",
    "                \n",
    "    else:\n",
    "        from_sta = states[0]\n",
    "        to_sta = states[-1]\n",
    "        if from_sta in station_map_x:\n",
    "            from_x, from_y = station_map_x[from_sta], station_map_y[from_sta]\n",
    "        else:\n",
    "            from_x, from_y = 0, 0\n",
    "        if to_sta in station_map_x:\n",
    "            to_x, to_y = station_map_x[to_sta], station_map_y[to_sta]\n",
    "        else:\n",
    "            to_x, to_y = 0, 0\n",
    "        try:\n",
    "            state_info = [{'from': from_sta,\n",
    "                        'to': to_sta,\n",
    "                        'from_x':  from_x,\n",
    "                        'from_y':  from_y,\n",
    "                        'to_x':  to_x,\n",
    "                        'to_y':  to_y,\n",
    "                        'dist': total_dist,\n",
    "                       'start': time_start,\n",
    "                       'end': time_start + dt.timedelta(seconds=time_diff),\n",
    "                       'x_delta': 0,\n",
    "                       'y_delta': 0}]\n",
    "        except:\n",
    "            print(time_start, time_diff)\n",
    "    return state_info"
   ]
  },
  {
   "cell_type": "code",
   "execution_count": 541,
   "metadata": {
    "collapsed": true,
    "scrolled": true
   },
   "outputs": [],
   "source": [
    "def df_to_positions(input_df, time_col='time'):\n",
    "    input_df = input_df.copy()\n",
    "    input_df['from_y'] = input_df['from_y'] + 0.2*input_df['direction']\n",
    "    input_df['to_y'] = input_df['to_y'] + 0.2*input_df['direction']\n",
    "    min_time = input_df[time_col].min()\n",
    "    train_dict = {}\n",
    "    train_x = []\n",
    "    train_y = []\n",
    "    train_text = []\n",
    "    for index, row in input_df.sort_values(time_col).iterrows():\n",
    "        t_id = row['train_id']\n",
    "        if not t_id in train_dict:\n",
    "            # put first state\n",
    "            train_dict[t_id] = {}\n",
    "            train_dict[t_id]['idx'] = len(train_x)\n",
    "            train_dict[t_id]['start_x'] = row['to_x']\n",
    "            train_dict[t_id]['start_y'] = row['to_y']\n",
    "            train_x.append(row['to_x'])\n",
    "            train_y.append(row['to_y'])\n",
    "            train_text.append(t_id)\n",
    "            train_dict[t_id]['state'] = [{'start': min_time,\n",
    "                                          'end': row[time_col],\n",
    "                                          'x_delta': 0,\n",
    "                                          'y_delta': 0}]\n",
    "            train_dict[t_id]['state_count'] = 0\n",
    "        else:\n",
    "            # get states\n",
    "            prev_state = train_dict[t_id]['state'][-1]\n",
    "            if row['line'] in linked_lookup:\n",
    "                linked_dict = linked_lookup[row['line']]\n",
    "            else:\n",
    "                linked_dict = linked_lookup['Amtrak']\n",
    "            gap_states = get_states(row['from'], row['to'], linked_dict, row['direction'])\n",
    "            if gap_states is not None:            \n",
    "                time_diff = (row[time_col] - prev_state['end']).total_seconds()\n",
    "                time_start = prev_state['end']\n",
    "                state_info = get_state_movement(gap_states, time_diff, time_start)\n",
    "                train_dict[t_id]['state'] = train_dict[t_id]['state'] + state_info\n",
    "    return train_dict, train_x, train_y, train_text"
   ]
  },
  {
   "cell_type": "code",
   "execution_count": 621,
   "metadata": {
    "collapsed": true,
    "scrolled": false
   },
   "outputs": [],
   "source": [
    "def get_frames(input_df, train_dict, train_x, train_y, train_text, time_col='time', exp_col='expected'): \n",
    "    # add exp columns\n",
    "    min_time = min([input_df[time_col].min(), input_df[exp_col].min()])\n",
    "    current_time = min_time\n",
    "    max_time = max([input_df[time_col].max(), input_df[exp_col].max()])\n",
    "    time_step = 60 # seconds\n",
    "    slider_time_step = 900\n",
    "    frames = []\n",
    "\n",
    "    sliders_dict = {\n",
    "        'active': 0,\n",
    "        'yanchor': 'top',\n",
    "        'xanchor': 'left',\n",
    "        'currentvalue': {\n",
    "            'font': {'size': 20},\n",
    "            'prefix': 'Time:',\n",
    "            'visible': True,\n",
    "            'xanchor': 'right'\n",
    "        },\n",
    "        'transition': {'duration': 1000, 'easing': 'linear'},\n",
    "        'pad': {'b': 10, 't': 50},\n",
    "        'len': 0.9,\n",
    "        'x': 0.1,\n",
    "        'y': 0,\n",
    "        'steps': []\n",
    "    }\n",
    "    \n",
    "    def calculate_frames(train_dict, train_x, train_y):\n",
    "        for t_id, train in train_dict.iteritems():\n",
    "            time_cursor = current_time\n",
    "            idx = train['idx']\n",
    "            if not 'completed' in train:\n",
    "                current_state = train['state_count']\n",
    "                x_delta = 0\n",
    "                y_delta = 0\n",
    "                t = 0\n",
    "                while time_cursor < animate_to:\n",
    "                    state = train['state'][current_state]\n",
    "                    if state['end'] > animate_to:\n",
    "                        t = animate_to - time_cursor\n",
    "                    else:\n",
    "                        t = state['end'] - time_cursor\n",
    "                        train['state_count'] = train['state_count'] + 1\n",
    "                        if current_state < (len(train['state']) - 1):\n",
    "                            current_state = current_state + 1\n",
    "                        else:\n",
    "    #                         t = t + (animate_to-time_cursor)\n",
    "                            time_cursor = animate_to\n",
    "                            train['completed'] = True\n",
    "                    x_delta = x_delta + state['x_delta']*t.total_seconds()\n",
    "                    y_delta = y_delta + state['y_delta']*t.total_seconds()\n",
    "                    time_cursor = time_cursor + t\n",
    "                train_x[idx] = train_x[idx] + x_delta\n",
    "                train_y[idx] = train_y[idx] + y_delta\n",
    "        return train_dict, train_x, train_y\n",
    "    times = []\n",
    "    total_time_step = 0\n",
    "\n",
    "    while current_time < max_time:\n",
    "        times.append(current_time)\n",
    "        animate_to = current_time + dt.timedelta(seconds=time_step)\n",
    "        \n",
    "        train_dict, train_x, train_y = calculate_frames(train_dict, train_x, train_y)\n",
    "        \n",
    "        slider_step = {'args': [\n",
    "            [current_time],\n",
    "            {'frame': {'duration': 700, 'redraw': False},\n",
    "             'mode': 'immediate',\n",
    "           'transition': {'duration': 1000, 'easing': 'linear'}}\n",
    "         ],\n",
    "         'label': current_time,\n",
    "         'method': 'animate'}\n",
    "\n",
    "        current_time = animate_to\n",
    "        layout = {'annotations': [{'x': 10, 'y': 5, 'text': 'time: ' + current_time.strftime(\"%I:%M %p\")}],\n",
    "                 }\n",
    "        frames.append({'data': [{'x': list(train_x), 'y': list(train_y), 'text': train_text}], \n",
    "                       'name': str(current_time),\n",
    "                       'layout': layout})\n",
    "\n",
    "        total_time_step = total_time_step + time_step\n",
    "        if not (total_time_step % slider_time_step):\n",
    "            sliders_dict['steps'].append(slider_step)\n",
    "    return frames, sliders_dict, times"
   ]
  },
  {
   "cell_type": "code",
   "execution_count": 618,
   "metadata": {
    "collapsed": true,
    "scrolled": false
   },
   "outputs": [],
   "source": [
    "def plot(frames, sliders_dict, times, title):\n",
    "    \n",
    "    figure = {'data': [go.Scatter({'x': [0, 1], 'y': [0, 1], 'type': 'scatter', 'mode':'markers'})],\n",
    "\n",
    "              'layout': {'xaxis': {'range': [1, 16], \n",
    "                                   'autorange': False, \n",
    "                                   'scaleanchor': \"y\",\n",
    "                                   'ticks':'', \n",
    "                                   'showticklabels':False,\n",
    "                                   'showgrid':False,\n",
    "                                   'zeroline':False,\n",
    "                                   'showline':False},\n",
    "                         'yaxis': {'range': [-6, 6], \n",
    "                                   'autorange': False, \n",
    "                                   'ticks':'', \n",
    "                                   'showticklabels':False,\n",
    "                                   'showgrid':False,\n",
    "                                   'zeroline':False,\n",
    "                                   'showline':False},\n",
    "                         'title': title,\n",
    "                         'width': 900,\n",
    "                         'height': 600,\n",
    "                         'annotations': [{\n",
    "                                            'x':10,\n",
    "                                            'y':0.5,\n",
    "                                            'xref':'x',\n",
    "                                            'yref':'y',\n",
    "                                            'text':'SEC',\n",
    "                                            'showarrow': False\n",
    "                                         },\n",
    "                                         {\n",
    "                                            'x':2,\n",
    "                                            'y':0.5,\n",
    "                                            'xref':'x',\n",
    "                                            'yref':'y',\n",
    "                                             'ax':-30,\n",
    "                                             'ay':0,\n",
    "                                            'text':'',\n",
    "                                            'showarrow': True,\n",
    "                                            'arrowwidth':1,\n",
    "                                         },\n",
    "                                         {\n",
    "                                            'x':1,\n",
    "                                            'y':-0.5,\n",
    "                                            'xref':'x',\n",
    "                                            'yref':'y',\n",
    "                                             'ax':30,\n",
    "                                             'ay':0,\n",
    "                                            'text':'',\n",
    "                                            'showarrow': True,\n",
    "                                            'arrowwidth':1,\n",
    "                                         },\n",
    "                                         {\n",
    "                                            'x':14,\n",
    "                                            'y':0.5,\n",
    "                                            'xref':'x',\n",
    "                                            'yref':'y',\n",
    "                                             'ax':-30,\n",
    "                                             'ay':0,\n",
    "                                            'text':'',\n",
    "                                            'showarrow': True,\n",
    "                                            'arrowwidth':1,\n",
    "                                         },\n",
    "                                         {\n",
    "                                            'x':13,\n",
    "                                            'y':-0.5,\n",
    "                                            'xref':'x',\n",
    "                                            'yref':'y',\n",
    "                                             'ax':30,\n",
    "                                             'ay':0,\n",
    "                                            'text':'',\n",
    "                                            'showarrow': True,\n",
    "                                            'arrowwidth':1,\n",
    "                                         },\n",
    "                                         {\n",
    "                                            'x':6,\n",
    "                                            'y':3,\n",
    "                                            'xref':'x',\n",
    "                                            'yref':'y',\n",
    "                                             'ax':-8.6,\n",
    "                                             'ay':-28.7,\n",
    "                                            'text':'',\n",
    "                                            'showarrow': True,\n",
    "                                            'arrowwidth':1,\n",
    "                                         },\n",
    "                                         {\n",
    "                                            'x':4.9,\n",
    "                                            'y':3.8,\n",
    "                                            'xref':'x',\n",
    "                                            'yref':'y',\n",
    "                                             'ax':8.6,\n",
    "                                             'ay':28.7,\n",
    "                                            'text':'',\n",
    "                                            'showarrow': True,\n",
    "                                            'arrowwidth':1,\n",
    "                                         },\n",
    "                                         {\n",
    "                                            'x':9.9,\n",
    "                                            'y':-3.8,\n",
    "                                            'xref':'x',\n",
    "                                            'yref':'y',\n",
    "                                             'ax':-11.1,\n",
    "                                             'ay':-27.8,\n",
    "                                            'text':'',\n",
    "                                            'showarrow': True,\n",
    "                                            'arrowwidth':1,\n",
    "                                         },\n",
    "                                         {\n",
    "                                            'x':8.8,\n",
    "                                            'y':-3,\n",
    "                                            'xref':'x',\n",
    "                                            'yref':'y',\n",
    "                                             'ax':11.1,\n",
    "                                             'ay':27.78,\n",
    "                                            'text':'',\n",
    "                                            'showarrow': True,\n",
    "                                            'arrowwidth':1,\n",
    "                                         },\n",
    "                                         #STATIONS\n",
    "                                         {\n",
    "                                            'x':10,\n",
    "                                            'y':0.5,\n",
    "                                            'xref':'x',\n",
    "                                            'yref':'y',\n",
    "                                            'text':'SEC',\n",
    "                                            'showarrow': False\n",
    "                                         },\n",
    "                                         {\n",
    "                                            'x':5,\n",
    "                                            'y':0.5,\n",
    "                                            'xref':'x',\n",
    "                                            'yref':'y',\n",
    "                                            'text':'NWP',\n",
    "                                            'showarrow': False\n",
    "                                         }, \n",
    "                                         {\n",
    "                                            'x':15,\n",
    "                                            'y':0.5,\n",
    "                                            'xref':'x',\n",
    "                                            'yref':'y',\n",
    "                                            'text':'NYP',\n",
    "                                            'showarrow': False\n",
    "                                         }, \n",
    "                                         {\n",
    "                                            'x':5,\n",
    "                                            'y':5.5,\n",
    "                                            'xref':'x',\n",
    "                                            'yref':'y',\n",
    "                                            'text':'ND',\n",
    "                                            'showarrow': False\n",
    "                                         },\n",
    "                                         {\n",
    "                                            'x':11,\n",
    "                                            'y':-5,\n",
    "                                            'xref':'x',\n",
    "                                            'yref':'y',\n",
    "                                            'text':'HOB',\n",
    "                                            'showarrow': False\n",
    "                                         }],\n",
    "\n",
    "                         'shapes': [\n",
    "                            # Newark to NY Penn\n",
    "                            {\n",
    "                                'type': 'line',\n",
    "                                'x0': 0,\n",
    "                                'y0': 0,\n",
    "                                'x1': 15,\n",
    "                                'y1': 0,\n",
    "                                'line': {\n",
    "                                    'color': 'rgb(255, 0, 0)',\n",
    "                                    'width': 2,\n",
    "                                },\n",
    "                            },\n",
    "                             # Onward to Newark Broad\n",
    "                            {\n",
    "                                'type': 'line',\n",
    "                                'x0': 0,\n",
    "                                'y0': 10,\n",
    "                                'x1': 5,\n",
    "                                'y1': 5,\n",
    "                                'line': {\n",
    "                                    'color': 'rgb(0,0,0)',\n",
    "                                    'width': 2,\n",
    "                                },\n",
    "                            },\n",
    "                            # Newark Broad St to Junction 1\n",
    "                            {\n",
    "                                'type': 'line',\n",
    "                                'x0': 5,\n",
    "                                'y0': 5,\n",
    "                                'x1': 6.5,\n",
    "                                'y1': 0,\n",
    "                                'line': {\n",
    "                                    'color': 'rgb(0,0,0)',\n",
    "                                    'width': 2,\n",
    "                                },\n",
    "                            },\n",
    "                            # Junction 2 to Hoboken \n",
    "                            {\n",
    "                                'type': 'line',\n",
    "                                'x0': 8,\n",
    "                                'y0': 0,\n",
    "                                'x1': 10,\n",
    "                                'y1': -5,\n",
    "                                'line': {\n",
    "                                    'color': 'rgb(0,0,0)',\n",
    "                                    'width': 2,\n",
    "                                },\n",
    "                            },\n",
    "                            # Newark Broad Street\n",
    "                             {\n",
    "                                'type': 'circle',\n",
    "                                'xref': 'x',\n",
    "                                'yref': 'y',\n",
    "                                'fillcolor': 'rgb(255,255,255)',\n",
    "                                'x0': 4.75,\n",
    "                                'y0': 4.75,\n",
    "                                'x1': 5.25,\n",
    "                                'y1': 5.25,\n",
    "                                'line': {\n",
    "                                    'color': 'rgb(0,0,0)',\n",
    "                                },\n",
    "                            },\n",
    "                             # Newark Penn\n",
    "                             {\n",
    "                                'type': 'circle',\n",
    "                                'xref': 'x',\n",
    "                                'yref': 'y',\n",
    "                                'fillcolor': 'rgb(255,255,255)',\n",
    "                                'x0': 4.75,\n",
    "                                'y0': -0.25,\n",
    "                                'x1': 5.25,\n",
    "                                'y1': 0.25,\n",
    "                                'line': {\n",
    "                                    'color': 'rgb(0,0,0)',\n",
    "                                },\n",
    "                            },\n",
    "                             # Secaucus\n",
    "                             {\n",
    "                                'type': 'circle',\n",
    "                                'xref': 'x',\n",
    "                                'yref': 'y',\n",
    "                                'fillcolor': 'rgb(255,255,255)',\n",
    "                                'x0': 9.75,\n",
    "                                'y0': -0.25,\n",
    "                                'x1': 10.25,\n",
    "                                'y1': 0.25,\n",
    "                                'line': {\n",
    "                                    'color': 'rgb(0,0,0)',\n",
    "                                },\n",
    "                            },\n",
    "                             # Hoboken\n",
    "                             {\n",
    "                                'type': 'circle',\n",
    "                                'xref': 'x',\n",
    "                                'yref': 'y',\n",
    "                                'fillcolor': 'rgb(255,255,255)',\n",
    "                                'x0': 9.75,\n",
    "                                'y0': -5.25,\n",
    "                                'x1': 10.25,\n",
    "                                'y1': -4.75,\n",
    "                                'line': {\n",
    "                                    'color': 'rgb(0,0,0)',\n",
    "                                },\n",
    "                            },\n",
    "                            # New York Penn\n",
    "                             {\n",
    "                                'type': 'circle',\n",
    "                                'xref': 'x',\n",
    "                                'yref': 'y',\n",
    "                                'fillcolor': 'rgb(255,255,255)',\n",
    "                                'x0': 14.75,\n",
    "                                'y0': 0.25,\n",
    "                                'x1': 15.25,\n",
    "                                'y1': -0.25,\n",
    "                                'line': {\n",
    "                                    'color': 'rgb(0,0,0)',\n",
    "                                },\n",
    "                            },\n",
    "                             # NEC Beyond\n",
    "                             {\n",
    "                                'type': 'circle',\n",
    "                                'xref': 'x',\n",
    "                                'yref': 'y',\n",
    "                                'fillcolor': 'rgb(255,255,255)',\n",
    "                                'x0': -0.25,\n",
    "                                'y0': 0.5,\n",
    "                                'x1': 0.25,\n",
    "                                'y1': -0.5,\n",
    "                                'line': {\n",
    "                                    'color': 'rgb(255,255,255)',\n",
    "                                }\n",
    "                            }\n",
    "                         ]},\n",
    "\n",
    "                        'frames': frames\n",
    "                    }\n",
    "    figure['layout']['sliders'] = {\n",
    "        'args': [\n",
    "            'transition', {\n",
    "                'duration': 1000,\n",
    "                'easing': 'linear'\n",
    "            }\n",
    "        ],\n",
    "        'initialValue': times[0],\n",
    "    #     'plotlycommand': 'animate',\n",
    "        'values': times,\n",
    "        'visible': True\n",
    "    }\n",
    "\n",
    "    figure['layout']['sliders'] = [sliders_dict]\n",
    "    figure['layout']['updatemenus'] = [\n",
    "        {\n",
    "            'buttons': [\n",
    "                {\n",
    "                    'args': [None, {'frame': {'duration': 700, 'redraw': False},\n",
    "                             'fromcurrent': True, 'transition': {'duration': 1000, 'easing': 'linear'}}],\n",
    "                    'label': 'Play',\n",
    "                    'method': 'animate'\n",
    "                },\n",
    "                {\n",
    "                    'args': [[None], {'frame': {'duration': 0, 'redraw': False}, 'mode': 'immediate',\n",
    "                    'transition': {'duration': 0}}],\n",
    "                    'label': 'Pause',\n",
    "                    'method': 'animate'\n",
    "                }\n",
    "            ],\n",
    "            'direction': 'left',\n",
    "            'pad': {'r': 10, 't': 87},\n",
    "            'showactive': False,\n",
    "            'type': 'buttons',\n",
    "            'x': 0.1,\n",
    "            'xanchor': 'right',\n",
    "            'y': 0,\n",
    "            'yanchor': 'top'\n",
    "        }\n",
    "    ]\n",
    "    plotly.offline.plot(figure)"
   ]
  },
  {
   "cell_type": "code",
   "execution_count": 619,
   "metadata": {
    "collapsed": true
   },
   "outputs": [],
   "source": [
    "# plot on 'time' column\n",
    "time_dict, time_x, time_y, time_text = df_to_positions(time_df)"
   ]
  },
  {
   "cell_type": "code",
   "execution_count": 622,
   "metadata": {
    "collapsed": false,
    "scrolled": true
   },
   "outputs": [],
   "source": [
    "time_frames, time_sliders, time_times = get_frames(time_df, time_dict, time_x, time_y, time_text)"
   ]
  },
  {
   "cell_type": "code",
   "execution_count": 623,
   "metadata": {
    "collapsed": true
   },
   "outputs": [],
   "source": [
    "plot(time_frames, time_sliders, time_times, 'Actual trains between Newark Penn and New York Penn (3/2/18)')"
   ]
  },
  {
   "cell_type": "code",
   "execution_count": 607,
   "metadata": {
    "collapsed": false
   },
   "outputs": [],
   "source": [
    "# plot on 'expected' column\n",
    "exp_dict, exp_x, exp_y, exp_text = df_to_positions(exp_df, time_col='expected')"
   ]
  },
  {
   "cell_type": "code",
   "execution_count": null,
   "metadata": {
    "collapsed": true
   },
   "outputs": [],
   "source": [
    "exp_frames, exp_sliders, exp_times = get_frames(exp_df, exp_dict, exp_x, exp_y, exp_text)"
   ]
  },
  {
   "cell_type": "code",
   "execution_count": 503,
   "metadata": {
    "collapsed": true
   },
   "outputs": [],
   "source": [
    "plot(exp_frames, exp_sliders, exp_times, 'Scheduled trains between Newark Penn and New York Penn (3/2/18)')"
   ]
  },
  {
   "cell_type": "code",
   "execution_count": 608,
   "metadata": {
    "collapsed": false
   },
   "outputs": [],
   "source": [
    "# all_frames, all_sliders, all_times = get_frames(time_df, time_dict, time_x, time_y, time_text, \n",
    "#                                                 exp_df, exp_dict, exp_x, exp_y, exp_text)"
   ]
  },
  {
   "cell_type": "code",
   "execution_count": 616,
   "metadata": {
    "collapsed": false
   },
   "outputs": [],
   "source": [
    "# plot(all_frames, all_sliders, all_times, 'Trains between Newark Penn and New York Penn (3/2/18)')"
   ]
  },
  {
   "cell_type": "code",
   "execution_count": null,
   "metadata": {
    "collapsed": true
   },
   "outputs": [],
   "source": []
  },
  {
   "cell_type": "code",
   "execution_count": 306,
   "metadata": {
    "collapsed": false
   },
   "outputs": [
    {
     "data": {
      "text/plain": [
       "<matplotlib.axes._subplots.AxesSubplot at 0x1159cb790>"
      ]
     },
     "execution_count": 306,
     "metadata": {},
     "output_type": "execute_result"
    },
    {
     "data": {
      "image/png": "[encoded data removed]",
      "text/plain": [
       "<matplotlib.figure.Figure at 0x114b57410>"
      ]
     },
     "metadata": {},
     "output_type": "display_data"
    }
   ],
   "source": [
    "test.groupby('sched_hour').size().cumsum().plot()"
   ]
  },
  {
   "cell_type": "code",
   "execution_count": 309,
   "metadata": {
    "collapsed": false
   },
   "outputs": [
    {
     "data": {
      "text/plain": [
       "<matplotlib.axes._subplots.AxesSubplot at 0x11495d650>"
      ]
     },
     "execution_count": 309,
     "metadata": {},
     "output_type": "execute_result"
    },
    {
     "data": {
      "image/png": "[encoded data removed]",
      "text/plain": [
       "<matplotlib.figure.Figure at 0x1149630d0>"
      ]
     },
     "metadata": {},
     "output_type": "display_data"
    }
   ],
   "source": [
    "test2.groupby('sched_hour').size().cumsum().plot()"
   ]
  },
  {
   "cell_type": "code",
   "execution_count": 311,
   "metadata": {
    "collapsed": false
   },
   "outputs": [
    {
     "data": {
      "text/plain": [
       "<matplotlib.axes._subplots.AxesSubplot at 0x1159e1090>"
      ]
     },
     "execution_count": 311,
     "metadata": {},
     "output_type": "execute_result"
    },
    {
     "data": {
      "image/png": "[encoded data removed]",
      "text/plain": [
       "<matplotlib.figure.Figure at 0x1149903d0>"
      ]
     },
     "metadata": {},
     "output_type": "display_data"
    }
   ],
   "source": [
    "(test.groupby('sched_hour').size().cumsum() - test2.groupby('sched_hour').size().cumsum()).plot()"
   ]
  },
  {
   "cell_type": "code",
   "execution_count": 327,
   "metadata": {
    "collapsed": false
   },
   "outputs": [],
   "source": [
    "expected_reserve = (test.groupby(pd.Grouper(key='expected', freq='900s')).size().cumsum() - test2.groupby(pd.Grouper(key='expected', freq='900s')).size().cumsum())\n"
   ]
  },
  {
   "cell_type": "code",
   "execution_count": 333,
   "metadata": {
    "collapsed": true
   },
   "outputs": [],
   "source": [
    "non_cancelled = test[test['status'] != \"Cancelled\"]"
   ]
  },
  {
   "cell_type": "code",
   "execution_count": 360,
   "metadata": {
    "collapsed": true
   },
   "outputs": [],
   "source": [
    "non_cancelled2 = test2[test2['status'] != \"Cancelled\"]"
   ]
  },
  {
   "cell_type": "code",
   "execution_count": 363,
   "metadata": {
    "collapsed": false
   },
   "outputs": [],
   "source": [
    "observed_reserve = (non_cancelled.groupby(pd.Grouper(key='time', freq='900s')).size().cumsum() - test2.groupby(pd.Grouper(key='time', freq='900s')).size().cumsum())"
   ]
  },
  {
   "cell_type": "code",
   "execution_count": 507,
   "metadata": {
    "collapsed": false
   },
   "outputs": [
    {
     "data": {
      "text/plain": [
       "'file:///Users/pranav/Documents/development/njtransit/notebooks/analysis/temp-plot.html'"
      ]
     },
     "execution_count": 507,
     "metadata": {},
     "output_type": "execute_result"
    }
   ],
   "source": [
    "trace0 = go.Scatter(\n",
    "    x = expected_reserve.index,\n",
    "    y = expected_reserve.values,\n",
    "    mode = 'lines',\n",
    "    name = 'scheduled',\n",
    ")\n",
    "trace1 = go.Scatter(\n",
    "    x = observed_reserve.index,\n",
    "    y = observed_reserve.values,\n",
    "    mode = 'lines',\n",
    "    name = 'actual',\n",
    "   \n",
    ")\n",
    "layout = dict(title = 'Number of Trains Available at New York Penn Station',\n",
    "              xaxis = dict(title = 'Time of day'),\n",
    "              yaxis = dict(title = 'Number of trains'),\n",
    "              shapes = [{\n",
    "                        'type': 'line',\n",
    "                        'x0': '2018-03-02 18:30:00',\n",
    "                        'y0': 35,\n",
    "                        'x1': '2018-03-02 18:30:00',\n",
    "                        'y1': -12,\n",
    "                        'line': {\n",
    "                            'color': 'rgb(0,0,0)',\n",
    "                            'width': 2,\n",
    "                        }}],\n",
    "              annotations = [{'x': '2018-03-02 21:00:00', \n",
    "                              'y': 12, \n",
    "                              'text': \"6:30 pm:<br>9 trains expected to be availabe,<br>0 trains actually available\",\n",
    "                             'showarrow': False,\n",
    "                             'align': 'left'},\n",
    "                             {'x': '2018-03-02 16:45:00', \n",
    "                              'y': 13, \n",
    "                              'text': \"4:00 pm - 5:00 pm:<br>queueing increases availability deficit\",\n",
    "                             'showarrow': True,\n",
    "                              'ax':-5,\n",
    "                              'ay':15,\n",
    "                             'align': 'right',\n",
    "                             'xanchor':'right',\n",
    "                            'yanchor':'top'},\n",
    "                             {'x': '2018-03-02 13:30:00', \n",
    "                              'y': 26, \n",
    "                              'text': \"1:00 pm - 2:00 pm:<br>initial cancellations\",\n",
    "                             'showarrow': True,\n",
    "                              'ax':-5,\n",
    "                              'ay':15,\n",
    "                             'align': 'center',\n",
    "                             \n",
    "                            'yanchor':'top'},\n",
    "                             {'x': '2018-03-02 18:15:00', \n",
    "                              'y': 2, \n",
    "                              'text': \"6:00 pm:<br>further queueing\",\n",
    "                             'showarrow': True,\n",
    "                              'ax':-5,\n",
    "                              'ay':15,\n",
    "                             'align': 'right',\n",
    "                             'xanchor':'right',\n",
    "                            'yanchor':'top'}\n",
    "                        ]\n",
    "              )\n",
    "data = [trace0, trace1]\n",
    "fig = dict(data=data, layout=layout)\n",
    "plotly.offline.plot(fig)"
   ]
  },
  {
   "cell_type": "code",
   "execution_count": 376,
   "metadata": {
    "collapsed": false
   },
   "outputs": [
    {
     "data": {
      "text/plain": [
       "time\n",
       "2018-03-02 18:30:00    0.0\n",
       "Freq: 900S, dtype: float64"
      ]
     },
     "execution_count": 376,
     "metadata": {},
     "output_type": "execute_result"
    }
   ],
   "source": [
    "observed_reserve[observed_reserve == 0]"
   ]
  },
  {
   "cell_type": "code",
   "execution_count": 364,
   "metadata": {
    "collapsed": false
   },
   "outputs": [
    {
     "data": {
      "text/plain": [
       "<matplotlib.axes._subplots.AxesSubplot at 0x11e95e090>"
      ]
     },
     "execution_count": 364,
     "metadata": {},
     "output_type": "execute_result"
    },
    {
     "data": {
      "image/png": "[encoded data removed]",
      "text/plain": [
       "<matplotlib.figure.Figure at 0x11edfd9d0>"
      ]
     },
     "metadata": {},
     "output_type": "display_data"
    }
   ],
   "source": [
    "ax = expected_reserve.plot(figsize=(10,8))\n",
    "observed_reserve.plot(ax=ax)\n",
    "# (observed_reserve - expected_reserve).plot(ax=ax)"
   ]
  },
  {
   "cell_type": "code",
   "execution_count": 355,
   "metadata": {
    "collapsed": false
   },
   "outputs": [
    {
     "data": {
      "text/plain": [
       "<matplotlib.axes._subplots.AxesSubplot at 0x11c347bd0>"
      ]
     },
     "execution_count": 355,
     "metadata": {},
     "output_type": "execute_result"
    },
    {
     "data": {
      "image/png": "[encoded data removed]",
      "text/plain": [
       "<matplotlib.figure.Figure at 0x11dce2650>"
      ]
     },
     "metadata": {},
     "output_type": "display_data"
    }
   ],
   "source": [
    "(observed_reserve - expected_reserve).plot()"
   ]
  },
  {
   "cell_type": "code",
   "execution_count": 349,
   "metadata": {
    "collapsed": false
   },
   "outputs": [
    {
     "data": {
      "text/html": [
       "<div>\n",
       "<table border=\"1\" class=\"dataframe\">\n",
       "  <thead>\n",
       "    <tr style=\"text-align: right;\">\n",
       "      <th></th>\n",
       "      <th>date</th>\n",
       "      <th>stop_sequence</th>\n",
       "      <th>from</th>\n",
       "      <th>from_id</th>\n",
       "      <th>to</th>\n",
       "      <th>to_id</th>\n",
       "      <th>expected</th>\n",
       "      <th>time</th>\n",
       "      <th>status</th>\n",
       "      <th>line</th>\n",
       "      <th>type</th>\n",
       "      <th>delay</th>\n",
       "      <th>day_of_week</th>\n",
       "      <th>hour</th>\n",
       "      <th>sched_hour</th>\n",
       "      <th>severity</th>\n",
       "      <th>sequence</th>\n",
       "      <th>severity_color</th>\n",
       "      <th>id</th>\n",
       "    </tr>\n",
       "    <tr>\n",
       "      <th>train_id</th>\n",
       "      <th></th>\n",
       "      <th></th>\n",
       "      <th></th>\n",
       "      <th></th>\n",
       "      <th></th>\n",
       "      <th></th>\n",
       "      <th></th>\n",
       "      <th></th>\n",
       "      <th></th>\n",
       "      <th></th>\n",
       "      <th></th>\n",
       "      <th></th>\n",
       "      <th></th>\n",
       "      <th></th>\n",
       "      <th></th>\n",
       "      <th></th>\n",
       "      <th></th>\n",
       "      <th></th>\n",
       "      <th></th>\n",
       "    </tr>\n",
       "  </thead>\n",
       "  <tbody>\n",
       "    <tr>\n",
       "      <th>3260</th>\n",
       "      <td>2018-03-02</td>\n",
       "      <td>17.0</td>\n",
       "      <td>Secaucus Upper Lvl</td>\n",
       "      <td>38187</td>\n",
       "      <td>New York Penn Station</td>\n",
       "      <td>105</td>\n",
       "      <td>2018-03-02 17:28:00</td>\n",
       "      <td>2018-03-02 18:04:00</td>\n",
       "      <td>Estimated</td>\n",
       "      <td>No Jersey Coast</td>\n",
       "      <td>NJ Transit</td>\n",
       "      <td>36.0</td>\n",
       "      <td>4</td>\n",
       "      <td>18</td>\n",
       "      <td>17.0</td>\n",
       "      <td>20+ min</td>\n",
       "      <td>4</td>\n",
       "      <td>#990000</td>\n",
       "      <td>3260</td>\n",
       "    </tr>\n",
       "    <tr>\n",
       "      <th>3510</th>\n",
       "      <td>2018-03-02</td>\n",
       "      <td>12.0</td>\n",
       "      <td>Secaucus Upper Lvl</td>\n",
       "      <td>38187</td>\n",
       "      <td>New York Penn Station</td>\n",
       "      <td>105</td>\n",
       "      <td>2018-03-02 17:49:00</td>\n",
       "      <td>2018-03-02 18:50:00</td>\n",
       "      <td>Estimated</td>\n",
       "      <td>No Jersey Coast</td>\n",
       "      <td>NJ Transit</td>\n",
       "      <td>61.0</td>\n",
       "      <td>4</td>\n",
       "      <td>18</td>\n",
       "      <td>17.0</td>\n",
       "      <td>20+ min</td>\n",
       "      <td>7</td>\n",
       "      <td>#990000</td>\n",
       "      <td>3510</td>\n",
       "    </tr>\n",
       "    <tr>\n",
       "      <th>3738</th>\n",
       "      <td>2018-03-02</td>\n",
       "      <td>5.0</td>\n",
       "      <td>Secaucus Upper Lvl</td>\n",
       "      <td>38187</td>\n",
       "      <td>New York Penn Station</td>\n",
       "      <td>105</td>\n",
       "      <td>2018-03-02 18:17:00</td>\n",
       "      <td>2018-03-02 18:17:00</td>\n",
       "      <td>Departed</td>\n",
       "      <td>Northeast Corrdr</td>\n",
       "      <td>NJ Transit</td>\n",
       "      <td>0.0</td>\n",
       "      <td>4</td>\n",
       "      <td>18</td>\n",
       "      <td>18.0</td>\n",
       "      <td>On time</td>\n",
       "      <td>2</td>\n",
       "      <td>#39e600</td>\n",
       "      <td>3738</td>\n",
       "    </tr>\n",
       "    <tr>\n",
       "      <th>3860</th>\n",
       "      <td>2018-03-02</td>\n",
       "      <td>14.0</td>\n",
       "      <td>Secaucus Upper Lvl</td>\n",
       "      <td>38187</td>\n",
       "      <td>New York Penn Station</td>\n",
       "      <td>105</td>\n",
       "      <td>2018-03-02 17:35:00</td>\n",
       "      <td>2018-03-02 18:10:00</td>\n",
       "      <td>Estimated</td>\n",
       "      <td>Northeast Corrdr</td>\n",
       "      <td>NJ Transit</td>\n",
       "      <td>35.0</td>\n",
       "      <td>4</td>\n",
       "      <td>18</td>\n",
       "      <td>17.0</td>\n",
       "      <td>20+ min</td>\n",
       "      <td>5</td>\n",
       "      <td>#990000</td>\n",
       "      <td>3860</td>\n",
       "    </tr>\n",
       "    <tr>\n",
       "      <th>3896</th>\n",
       "      <td>2018-03-02</td>\n",
       "      <td>11.0</td>\n",
       "      <td>Secaucus Upper Lvl</td>\n",
       "      <td>38187</td>\n",
       "      <td>New York Penn Station</td>\n",
       "      <td>105</td>\n",
       "      <td>2018-03-02 17:38:00</td>\n",
       "      <td>2018-03-02 18:29:00</td>\n",
       "      <td>Estimated</td>\n",
       "      <td>Northeast Corrdr</td>\n",
       "      <td>NJ Transit</td>\n",
       "      <td>51.0</td>\n",
       "      <td>4</td>\n",
       "      <td>18</td>\n",
       "      <td>17.0</td>\n",
       "      <td>20+ min</td>\n",
       "      <td>6</td>\n",
       "      <td>#990000</td>\n",
       "      <td>3896</td>\n",
       "    </tr>\n",
       "    <tr>\n",
       "      <th>3898</th>\n",
       "      <td>2018-03-02</td>\n",
       "      <td>7.0</td>\n",
       "      <td>Secaucus Upper Lvl</td>\n",
       "      <td>38187</td>\n",
       "      <td>New York Penn Station</td>\n",
       "      <td>105</td>\n",
       "      <td>2018-03-02 18:48:00</td>\n",
       "      <td>2018-03-02 18:48:00</td>\n",
       "      <td>Departed</td>\n",
       "      <td>Northeast Corrdr</td>\n",
       "      <td>NJ Transit</td>\n",
       "      <td>0.0</td>\n",
       "      <td>4</td>\n",
       "      <td>18</td>\n",
       "      <td>18.0</td>\n",
       "      <td>On time</td>\n",
       "      <td>4</td>\n",
       "      <td>#39e600</td>\n",
       "      <td>3898</td>\n",
       "    </tr>\n",
       "    <tr>\n",
       "      <th>6664</th>\n",
       "      <td>2018-03-02</td>\n",
       "      <td>16.0</td>\n",
       "      <td>Newark Broad Street</td>\n",
       "      <td>106</td>\n",
       "      <td>New York Penn Station</td>\n",
       "      <td>105</td>\n",
       "      <td>2018-03-02 18:42:00</td>\n",
       "      <td>2018-03-02 18:42:00</td>\n",
       "      <td>Departed</td>\n",
       "      <td>Morristown Line</td>\n",
       "      <td>NJ Transit</td>\n",
       "      <td>0.0</td>\n",
       "      <td>4</td>\n",
       "      <td>18</td>\n",
       "      <td>18.0</td>\n",
       "      <td>On time</td>\n",
       "      <td>3</td>\n",
       "      <td>#39e600</td>\n",
       "      <td>6664</td>\n",
       "    </tr>\n",
       "  </tbody>\n",
       "</table>\n",
       "</div>"
      ],
      "text/plain": [
       "                date  stop_sequence                 from  from_id  \\\n",
       "train_id                                                            \n",
       "3260      2018-03-02           17.0   Secaucus Upper Lvl    38187   \n",
       "3510      2018-03-02           12.0   Secaucus Upper Lvl    38187   \n",
       "3738      2018-03-02            5.0   Secaucus Upper Lvl    38187   \n",
       "3860      2018-03-02           14.0   Secaucus Upper Lvl    38187   \n",
       "3896      2018-03-02           11.0   Secaucus Upper Lvl    38187   \n",
       "3898      2018-03-02            7.0   Secaucus Upper Lvl    38187   \n",
       "6664      2018-03-02           16.0  Newark Broad Street      106   \n",
       "\n",
       "                             to  to_id            expected  \\\n",
       "train_id                                                     \n",
       "3260      New York Penn Station    105 2018-03-02 17:28:00   \n",
       "3510      New York Penn Station    105 2018-03-02 17:49:00   \n",
       "3738      New York Penn Station    105 2018-03-02 18:17:00   \n",
       "3860      New York Penn Station    105 2018-03-02 17:35:00   \n",
       "3896      New York Penn Station    105 2018-03-02 17:38:00   \n",
       "3898      New York Penn Station    105 2018-03-02 18:48:00   \n",
       "6664      New York Penn Station    105 2018-03-02 18:42:00   \n",
       "\n",
       "                        time     status              line        type  delay  \\\n",
       "train_id                                                                       \n",
       "3260     2018-03-02 18:04:00  Estimated   No Jersey Coast  NJ Transit   36.0   \n",
       "3510     2018-03-02 18:50:00  Estimated   No Jersey Coast  NJ Transit   61.0   \n",
       "3738     2018-03-02 18:17:00   Departed  Northeast Corrdr  NJ Transit    0.0   \n",
       "3860     2018-03-02 18:10:00  Estimated  Northeast Corrdr  NJ Transit   35.0   \n",
       "3896     2018-03-02 18:29:00  Estimated  Northeast Corrdr  NJ Transit   51.0   \n",
       "3898     2018-03-02 18:48:00   Departed  Northeast Corrdr  NJ Transit    0.0   \n",
       "6664     2018-03-02 18:42:00   Departed   Morristown Line  NJ Transit    0.0   \n",
       "\n",
       "          day_of_week  hour  sched_hour severity  sequence severity_color  \\\n",
       "train_id                                                                    \n",
       "3260                4    18        17.0  20+ min         4        #990000   \n",
       "3510                4    18        17.0  20+ min         7        #990000   \n",
       "3738                4    18        18.0  On time         2        #39e600   \n",
       "3860                4    18        17.0  20+ min         5        #990000   \n",
       "3896                4    18        17.0  20+ min         6        #990000   \n",
       "3898                4    18        18.0  On time         4        #39e600   \n",
       "6664                4    18        18.0  On time         3        #39e600   \n",
       "\n",
       "            id  \n",
       "train_id        \n",
       "3260      3260  \n",
       "3510      3510  \n",
       "3738      3738  \n",
       "3860      3860  \n",
       "3896      3896  \n",
       "3898      3898  \n",
       "6664      6664  "
      ]
     },
     "execution_count": 349,
     "metadata": {},
     "output_type": "execute_result"
    }
   ],
   "source": [
    "test[test['hour'] == 18]"
   ]
  },
  {
   "cell_type": "code",
   "execution_count": 365,
   "metadata": {
    "collapsed": false
   },
   "outputs": [
    {
     "data": {
      "text/plain": [
       "<matplotlib.axes._subplots.AxesSubplot at 0x11ebe3710>"
      ]
     },
     "execution_count": 365,
     "metadata": {},
     "output_type": "execute_result"
    },
    {
     "data": {
      "image/png": "[encoded data removed]",
      "text/plain": [
       "<matplotlib.figure.Figure at 0x11e95eb10>"
      ]
     },
     "metadata": {},
     "output_type": "display_data"
    }
   ],
   "source": [
    "ax = (test.groupby(pd.Grouper(key='expected', freq='900s')).size().cumsum()).plot()\n",
    "test2.groupby(pd.Grouper(key='expected', freq='900s')).size().cumsum().plot(ax=ax)\n",
    "(non_cancelled.groupby(pd.Grouper(key='time', freq='900s')).size().cumsum()).plot(ax=ax)\n",
    "(non_cancelled2.groupby(pd.Grouper(key='time', freq='900s')).size().cumsum()).plot(ax=ax)"
   ]
  },
  {
   "cell_type": "code",
   "execution_count": 426,
   "metadata": {
    "collapsed": false
   },
   "outputs": [
    {
     "data": {
      "text/plain": [
       "train_id\n",
       "3271   2018-03-02 18:28:24\n",
       "3281   2018-03-02 20:10:12\n",
       "3361   2018-03-02 16:57:23\n",
       "3363   2018-03-02 17:47:23\n",
       "3373   2018-03-02 18:28:33\n",
       "3515   2018-03-02 18:39:13\n",
       "3595   2018-03-02 16:22:14\n",
       "3721   2018-03-02 16:20:13\n",
       "3723   2018-03-02 16:53:24\n",
       "3725   2018-03-02 17:47:24\n",
       "3737   2018-03-02 21:52:14\n",
       "3867   2018-03-02 17:32:20\n",
       "3873   2018-03-02 18:29:16\n",
       "3889   2018-03-02 21:42:14\n",
       "3943   2018-03-02 16:21:19\n",
       "3947   2018-03-02 16:53:21\n",
       "3951   2018-03-02 17:32:28\n",
       "3953   2018-03-02 17:33:34\n",
       "3959   2018-03-02 18:29:25\n",
       "3961   2018-03-02 18:58:11\n",
       "6253   2018-03-02 16:20:12\n",
       "6279   2018-03-02 18:29:07\n",
       "6283   2018-03-02 19:05:24\n",
       "6291   2018-03-02 20:04:18\n",
       "6295   2018-03-02 21:35:15\n",
       "6299   2018-03-02 23:39:10\n",
       "6343   2018-03-02 16:36:26\n",
       "6355   2018-03-02 18:39:25\n",
       "6359   2018-03-02 19:05:31\n",
       "6363   2018-03-02 20:04:14\n",
       "6437   2018-03-02 18:29:12\n",
       "6639   2018-03-02 15:20:18\n",
       "6651   2018-03-02 18:29:06\n",
       "6653   2018-03-02 18:29:06\n",
       "6655   2018-03-02 19:05:15\n",
       "6671   2018-03-02 21:05:10\n",
       "6675   2018-03-02 21:49:08\n",
       "6683   2018-03-03 00:00:05\n",
       "Name: time, dtype: datetime64[ns]"
      ]
     },
     "execution_count": 426,
     "metadata": {},
     "output_type": "execute_result"
    }
   ],
   "source": [
    "test2[test2['status']==\"Cancelled\"]['time']"
   ]
  },
  {
   "cell_type": "code",
   "execution_count": null,
   "metadata": {
    "collapsed": true
   },
   "outputs": [],
   "source": []
  }
 ],
 "metadata": {
  "anaconda-cloud": {},
  "kernelspec": {
   "display_name": "Python [Root]",
   "language": "python",
   "name": "Python [Root]"
  },
  "language_info": {
   "codemirror_mode": {
    "name": "ipython",
    "version": 2
   },
   "file_extension": ".py",
   "mimetype": "text/x-python",
   "name": "python",
   "nbconvert_exporter": "python",
   "pygments_lexer": "ipython2",
   "version": "2.7.12"
  },
  "toc": {
   "nav_menu": {},
   "number_sections": true,
   "sideBar": true,
   "skip_h1_title": false,
   "toc_cell": false,
   "toc_position": {},
   "toc_section_display": "block",
   "toc_window_display": false
  }
 },
 "nbformat": 4,
 "nbformat_minor": 2
}
