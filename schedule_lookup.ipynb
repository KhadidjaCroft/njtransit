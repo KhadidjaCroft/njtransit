{
 "cells": [
  {
   "cell_type": "code",
   "execution_count": 77,
   "metadata": {
    "collapsed": true
   },
   "outputs": [],
   "source": [
    "import pandas as pd"
   ]
  },
  {
   "cell_type": "code",
   "execution_count": 78,
   "metadata": {
    "collapsed": true
   },
   "outputs": [],
   "source": [
    "path = \"./rail_data/\""
   ]
  },
  {
   "cell_type": "code",
   "execution_count": 79,
   "metadata": {
    "collapsed": true
   },
   "outputs": [],
   "source": [
    "trips = pd.read_csv(path+'trips.txt')\n",
    "stop_times = pd.read_csv(path+'stop_times.txt')"
   ]
  },
  {
   "cell_type": "code",
   "execution_count": 80,
   "metadata": {
    "collapsed": false
   },
   "outputs": [
    {
     "data": {
      "text/html": [
       "<div>\n",
       "<table border=\"1\" class=\"dataframe\">\n",
       "  <thead>\n",
       "    <tr style=\"text-align: right;\">\n",
       "      <th></th>\n",
       "      <th>route_id</th>\n",
       "      <th>service_id</th>\n",
       "      <th>trip_id</th>\n",
       "      <th>trip_headsign</th>\n",
       "      <th>direction_id</th>\n",
       "      <th>block_id</th>\n",
       "      <th>shape_id</th>\n",
       "    </tr>\n",
       "  </thead>\n",
       "  <tbody>\n",
       "    <tr>\n",
       "      <th>1830</th>\n",
       "      <td>7</td>\n",
       "      <td>4</td>\n",
       "      <td>1831</td>\n",
       "      <td>DOVER</td>\n",
       "      <td>1</td>\n",
       "      <td>6925</td>\n",
       "      <td>878</td>\n",
       "    </tr>\n",
       "    <tr>\n",
       "      <th>1853</th>\n",
       "      <td>7</td>\n",
       "      <td>3</td>\n",
       "      <td>1854</td>\n",
       "      <td>DOVER</td>\n",
       "      <td>1</td>\n",
       "      <td>6925</td>\n",
       "      <td>901</td>\n",
       "    </tr>\n",
       "  </tbody>\n",
       "</table>\n",
       "</div>"
      ],
      "text/plain": [
       "      route_id  service_id  trip_id trip_headsign  direction_id block_id  \\\n",
       "1830         7           4     1831         DOVER             1     6925   \n",
       "1853         7           3     1854         DOVER             1     6925   \n",
       "\n",
       "      shape_id  \n",
       "1830       878  \n",
       "1853       901  "
      ]
     },
     "execution_count": 80,
     "metadata": {},
     "output_type": "execute_result"
    }
   ],
   "source": [
    "trips[trips['block_id'] == \"6925\"]"
   ]
  },
  {
   "cell_type": "code",
   "execution_count": 12,
   "metadata": {
    "collapsed": false
   },
   "outputs": [
    {
     "data": {
      "text/plain": [
       "1480"
      ]
     },
     "execution_count": 12,
     "metadata": {},
     "output_type": "execute_result"
    }
   ],
   "source": [
    "trips['block_id'].nunique()"
   ]
  },
  {
   "cell_type": "code",
   "execution_count": 60,
   "metadata": {
    "collapsed": false
   },
   "outputs": [
    {
     "data": {
      "text/plain": [
       "1641    0041\n",
       "1634    0041\n",
       "1592    0042\n",
       "1591    0042\n",
       "1633    0043\n",
       "1624    0043\n",
       "1573    0044\n",
       "1574    0044\n",
       "1632    0045\n",
       "1640    0045\n",
       "1575    0046\n",
       "1576    0046\n",
       "1623    0047\n",
       "1614    0047\n",
       "1577    0048\n",
       "1578    0048\n",
       "1619    0049\n",
       "1612    0049\n",
       "1596    0050\n",
       "1595    0050\n",
       "1616    0051\n",
       "1625    0051\n",
       "1588    0052\n",
       "1587    0052\n",
       "1627    0053\n",
       "1618    0053\n",
       "1580    0054\n",
       "1579    0054\n",
       "1620    0055\n",
       "1629    0055\n",
       "        ... \n",
       "1776    0854\n",
       "1788    0854\n",
       "1738    0858\n",
       "1755    0858\n",
       "1930    0871\n",
       "1948    0871\n",
       "1777    0872\n",
       "1762    0872\n",
       "1913    0877\n",
       "1888    0877\n",
       "1764    0880\n",
       "1779    0880\n",
       "1941    0881\n",
       "1918    0881\n",
       "1778    0882\n",
       "1789    0882\n",
       "1772    0884\n",
       "1784    0884\n",
       "1801    0951\n",
       "1643    0952\n",
       "1802    0953\n",
       "1644    0954\n",
       "1800    0955\n",
       "1645    0956\n",
       "1803    0961\n",
       "1646    0962\n",
       "1804    0963\n",
       "1647    0964\n",
       "1805    0965\n",
       "1648    0966\n",
       "Name: block_id, dtype: object"
      ]
     },
     "execution_count": 60,
     "metadata": {},
     "output_type": "execute_result"
    }
   ],
   "source": [
    "trips[trips['block_id'] < \"1000\"]['block_id'].sort_values()"
   ]
  },
  {
   "cell_type": "code",
   "execution_count": 9,
   "metadata": {
    "collapsed": false
   },
   "outputs": [
    {
     "data": {
      "text/html": [
       "<div>\n",
       "<table border=\"1\" class=\"dataframe\">\n",
       "  <thead>\n",
       "    <tr style=\"text-align: right;\">\n",
       "      <th></th>\n",
       "      <th>trip_id</th>\n",
       "      <th>arrival_time</th>\n",
       "      <th>departure_time</th>\n",
       "      <th>stop_id</th>\n",
       "      <th>stop_sequence</th>\n",
       "      <th>pickup_type</th>\n",
       "      <th>drop_off_type</th>\n",
       "      <th>shape_dist_traveled</th>\n",
       "    </tr>\n",
       "  </thead>\n",
       "  <tbody>\n",
       "    <tr>\n",
       "      <th>0</th>\n",
       "      <td>1</td>\n",
       "      <td>25:53:00</td>\n",
       "      <td>25:53:00</td>\n",
       "      <td>10</td>\n",
       "      <td>1</td>\n",
       "      <td>0</td>\n",
       "      <td>0</td>\n",
       "      <td>0.0000</td>\n",
       "    </tr>\n",
       "    <tr>\n",
       "      <th>1</th>\n",
       "      <td>1</td>\n",
       "      <td>26:02:00</td>\n",
       "      <td>26:02:00</td>\n",
       "      <td>2</td>\n",
       "      <td>2</td>\n",
       "      <td>0</td>\n",
       "      <td>0</td>\n",
       "      <td>5.8924</td>\n",
       "    </tr>\n",
       "    <tr>\n",
       "      <th>2</th>\n",
       "      <td>1</td>\n",
       "      <td>26:12:00</td>\n",
       "      <td>26:12:00</td>\n",
       "      <td>39</td>\n",
       "      <td>3</td>\n",
       "      <td>0</td>\n",
       "      <td>0</td>\n",
       "      <td>16.4295</td>\n",
       "    </tr>\n",
       "    <tr>\n",
       "      <th>3</th>\n",
       "      <td>1</td>\n",
       "      <td>26:23:00</td>\n",
       "      <td>26:23:00</td>\n",
       "      <td>55</td>\n",
       "      <td>4</td>\n",
       "      <td>0</td>\n",
       "      <td>0</td>\n",
       "      <td>27.2915</td>\n",
       "    </tr>\n",
       "    <tr>\n",
       "      <th>4</th>\n",
       "      <td>1</td>\n",
       "      <td>26:36:00</td>\n",
       "      <td>26:36:00</td>\n",
       "      <td>9</td>\n",
       "      <td>5</td>\n",
       "      <td>0</td>\n",
       "      <td>0</td>\n",
       "      <td>40.2494</td>\n",
       "    </tr>\n",
       "  </tbody>\n",
       "</table>\n",
       "</div>"
      ],
      "text/plain": [
       "   trip_id arrival_time departure_time  stop_id  stop_sequence  pickup_type  \\\n",
       "0        1     25:53:00       25:53:00       10              1            0   \n",
       "1        1     26:02:00       26:02:00        2              2            0   \n",
       "2        1     26:12:00       26:12:00       39              3            0   \n",
       "3        1     26:23:00       26:23:00       55              4            0   \n",
       "4        1     26:36:00       26:36:00        9              5            0   \n",
       "\n",
       "   drop_off_type  shape_dist_traveled  \n",
       "0              0               0.0000  \n",
       "1              0               5.8924  \n",
       "2              0              16.4295  \n",
       "3              0              27.2915  \n",
       "4              0              40.2494  "
      ]
     },
     "execution_count": 9,
     "metadata": {},
     "output_type": "execute_result"
    }
   ],
   "source": [
    "stop_times.head()"
   ]
  },
  {
   "cell_type": "code",
   "execution_count": 15,
   "metadata": {
    "collapsed": false
   },
   "outputs": [
    {
     "data": {
      "text/html": [
       "<div>\n",
       "<table border=\"1\" class=\"dataframe\">\n",
       "  <thead>\n",
       "    <tr style=\"text-align: right;\">\n",
       "      <th></th>\n",
       "      <th>trip_id</th>\n",
       "      <th>arrival_time</th>\n",
       "      <th>departure_time</th>\n",
       "      <th>stop_id</th>\n",
       "      <th>stop_sequence</th>\n",
       "      <th>pickup_type</th>\n",
       "      <th>drop_off_type</th>\n",
       "      <th>shape_dist_traveled</th>\n",
       "    </tr>\n",
       "  </thead>\n",
       "  <tbody>\n",
       "    <tr>\n",
       "      <th>25922</th>\n",
       "      <td>1831</td>\n",
       "      <td>13:11:00</td>\n",
       "      <td>13:11:00</td>\n",
       "      <td>105</td>\n",
       "      <td>1</td>\n",
       "      <td>0</td>\n",
       "      <td>0</td>\n",
       "      <td>0.0000</td>\n",
       "    </tr>\n",
       "    <tr>\n",
       "      <th>25923</th>\n",
       "      <td>1831</td>\n",
       "      <td>13:20:00</td>\n",
       "      <td>13:20:00</td>\n",
       "      <td>38187</td>\n",
       "      <td>2</td>\n",
       "      <td>0</td>\n",
       "      <td>0</td>\n",
       "      <td>4.9884</td>\n",
       "    </tr>\n",
       "    <tr>\n",
       "      <th>25924</th>\n",
       "      <td>1831</td>\n",
       "      <td>13:30:00</td>\n",
       "      <td>13:30:00</td>\n",
       "      <td>106</td>\n",
       "      <td>3</td>\n",
       "      <td>0</td>\n",
       "      <td>0</td>\n",
       "      <td>10.4222</td>\n",
       "    </tr>\n",
       "    <tr>\n",
       "      <th>25925</th>\n",
       "      <td>1831</td>\n",
       "      <td>13:36:00</td>\n",
       "      <td>13:36:00</td>\n",
       "      <td>37</td>\n",
       "      <td>4</td>\n",
       "      <td>0</td>\n",
       "      <td>0</td>\n",
       "      <td>12.6699</td>\n",
       "    </tr>\n",
       "    <tr>\n",
       "      <th>25926</th>\n",
       "      <td>1831</td>\n",
       "      <td>13:39:00</td>\n",
       "      <td>13:39:00</td>\n",
       "      <td>23</td>\n",
       "      <td>5</td>\n",
       "      <td>0</td>\n",
       "      <td>0</td>\n",
       "      <td>13.1977</td>\n",
       "    </tr>\n",
       "  </tbody>\n",
       "</table>\n",
       "</div>"
      ],
      "text/plain": [
       "       trip_id arrival_time departure_time  stop_id  stop_sequence  \\\n",
       "25922     1831     13:11:00       13:11:00      105              1   \n",
       "25923     1831     13:20:00       13:20:00    38187              2   \n",
       "25924     1831     13:30:00       13:30:00      106              3   \n",
       "25925     1831     13:36:00       13:36:00       37              4   \n",
       "25926     1831     13:39:00       13:39:00       23              5   \n",
       "\n",
       "       pickup_type  drop_off_type  shape_dist_traveled  \n",
       "25922            0              0               0.0000  \n",
       "25923            0              0               4.9884  \n",
       "25924            0              0              10.4222  \n",
       "25925            0              0              12.6699  \n",
       "25926            0              0              13.1977  "
      ]
     },
     "execution_count": 15,
     "metadata": {},
     "output_type": "execute_result"
    }
   ],
   "source": [
    "stop_times[stop_times['trip_id'] == 1831].head()"
   ]
  },
  {
   "cell_type": "code",
   "execution_count": 16,
   "metadata": {
    "collapsed": true
   },
   "outputs": [],
   "source": [
    "trip_stops = stop_times.merge(trips, on=['trip_id'])"
   ]
  },
  {
   "cell_type": "code",
   "execution_count": 18,
   "metadata": {
    "collapsed": false
   },
   "outputs": [
    {
     "data": {
      "text/plain": [
       "59825"
      ]
     },
     "execution_count": 18,
     "metadata": {},
     "output_type": "execute_result"
    }
   ],
   "source": [
    "len(trip_stops)"
   ]
  },
  {
   "cell_type": "code",
   "execution_count": 19,
   "metadata": {
    "collapsed": false
   },
   "outputs": [
    {
     "data": {
      "text/plain": [
       "59825"
      ]
     },
     "execution_count": 19,
     "metadata": {},
     "output_type": "execute_result"
    }
   ],
   "source": [
    "len(stop_times)"
   ]
  },
  {
   "cell_type": "code",
   "execution_count": 99,
   "metadata": {
    "collapsed": false
   },
   "outputs": [
    {
     "data": {
      "text/plain": [
       "34227    22:14:00\n",
       "34228    22:23:00\n",
       "34229    22:32:00\n",
       "34230    22:37:00\n",
       "34231    22:42:00\n",
       "34232    22:48:00\n",
       "34233    22:52:00\n",
       "34234    22:57:00\n",
       "34235    23:02:00\n",
       "34236    23:07:00\n",
       "34237    23:11:00\n",
       "34238    23:26:00\n",
       "34239    23:33:00\n",
       "34240    23:45:00\n",
       "34917    22:14:00\n",
       "34918    22:23:00\n",
       "34919    22:32:00\n",
       "34920    22:37:00\n",
       "34921    22:42:00\n",
       "34922    22:48:00\n",
       "34923    22:52:00\n",
       "34924    22:57:00\n",
       "34925    23:02:00\n",
       "34926    23:07:00\n",
       "34927    23:11:00\n",
       "34928    23:26:00\n",
       "34929    23:33:00\n",
       "34930    23:45:00\n",
       "Name: arrival_time, dtype: object"
      ]
     },
     "execution_count": 99,
     "metadata": {},
     "output_type": "execute_result"
    }
   ],
   "source": [
    "trip_stops[trip_stops['block_id'] == \"7881\"]['arrival_time']"
   ]
  },
  {
   "cell_type": "code",
   "execution_count": 67,
   "metadata": {
    "collapsed": false
   },
   "outputs": [
    {
     "data": {
      "text/plain": [
       "array(['1090', '1092', '1094', '1002', '1000', '1070', '1006', '1074',\n",
       "       '9530', '0544', '0530', '0510', '0514', '0518', '0522', '0526',\n",
       "       '0534', '0538', '0262', '0250', '0204', '0208', '0212', '1786',\n",
       "       '1752', '1854', '1856', '1858', '1862', '1866', '1870', '1874',\n",
       "       '1876', '1878', '1882', '1822', '1704', '1706', '1708', '1712',\n",
       "       '1716', '1718', '1720', '1724', '1726', '1728', '1730', '1732',\n",
       "       '1254', '1226', '1278', '1280', '1152', '1154', '1156', '1252',\n",
       "       '1168', '1202', '1204', '1206', '1208', '1210', '1212', '1214',\n",
       "       '1216', '1218', '1220', '1234', '1158', '1146', '1150', '1162',\n",
       "       '1178', '1180', '1148', '1160', '1164', '1166', '1170', '1172',\n",
       "       '1174', '1100', '1102', '1116', '1118', '1120', '1122', '1124',\n",
       "       '1128', '1130', '1132', '1134', '1274', '0088', '0094', '0080',\n",
       "       '0072', '0078', '0070', '0074', '0076', '0082', '0066', '0044',\n",
       "       '0046', '0048', '0054', '0056', '0058', '0064', '0052', '0068',\n",
       "       '0042', '0062', '0050', '0952', '0954', '0956', '0962', '0964',\n",
       "       '0966', '0308', '0312', '0332', '0334', '0300', '0684', '0626',\n",
       "       '0858', '0852', '0608', '0872', '0880', '0660', '0682', '0884',\n",
       "       '0808', '0854', '0882', '9746', '0466', '0434', '0400', '0404',\n",
       "       '0408', '0412', '0416', '0414', '0402', '0480', '0432', '0430',\n",
       "       '0418', '0420', '0422', '0424', '0426', '0428', '0436', '0438',\n",
       "       '0440', '0442', '2608', '2300', '2312', '2606', '2602', '2604',\n",
       "       '2100', '2102', '2104', '2108', '2112', '2114', '2118', '2122',\n",
       "       '2124', '2126', '2106', '2110', '1628', '1612', '1626', '1610',\n",
       "       '1622', '1624', '1636', '1602', '1604', '1608', '1614', '1616',\n",
       "       '1620', '1630', '1632', '1634', '1606', '1618', '1652', '2406',\n",
       "       '1966', '1972', '1976', '1982', '1964'], dtype=object)"
      ]
     },
     "execution_count": 67,
     "metadata": {},
     "output_type": "execute_result"
    }
   ],
   "source": [
    "trip_stops[trip_stops['trip_headsign'] == \"HOBOKEN\"]['block_id'].unique()"
   ]
  },
  {
   "cell_type": "code",
   "execution_count": 40,
   "metadata": {
    "collapsed": false
   },
   "outputs": [
    {
     "data": {
      "text/plain": [
       "'21:46:00'"
      ]
     },
     "execution_count": 40,
     "metadata": {},
     "output_type": "execute_result"
    }
   ],
   "source": [
    "first"
   ]
  },
  {
   "cell_type": "code",
   "execution_count": 36,
   "metadata": {
    "collapsed": false
   },
   "outputs": [],
   "source": [
    "hours, minutes, seconds = first.split(\":\")"
   ]
  },
  {
   "cell_type": "code",
   "execution_count": 38,
   "metadata": {
    "collapsed": false
   },
   "outputs": [
    {
     "data": {
      "text/plain": [
       "'46'"
      ]
     },
     "execution_count": 38,
     "metadata": {},
     "output_type": "execute_result"
    }
   ],
   "source": [
    "minutes"
   ]
  },
  {
   "cell_type": "code",
   "execution_count": 83,
   "metadata": {
    "collapsed": false
   },
   "outputs": [
    {
     "data": {
      "text/html": [
       "<div>\n",
       "<table border=\"1\" class=\"dataframe\">\n",
       "  <thead>\n",
       "    <tr style=\"text-align: right;\">\n",
       "      <th></th>\n",
       "      <th>route_id</th>\n",
       "      <th>service_id</th>\n",
       "      <th>trip_id</th>\n",
       "      <th>trip_headsign</th>\n",
       "      <th>direction_id</th>\n",
       "      <th>block_id</th>\n",
       "      <th>shape_id</th>\n",
       "    </tr>\n",
       "  </thead>\n",
       "  <tbody>\n",
       "    <tr>\n",
       "      <th>147</th>\n",
       "      <td>3</td>\n",
       "      <td>4</td>\n",
       "      <td>148</td>\n",
       "      <td>HOBOKEN</td>\n",
       "      <td>0</td>\n",
       "      <td>0526</td>\n",
       "      <td>148</td>\n",
       "    </tr>\n",
       "    <tr>\n",
       "      <th>150</th>\n",
       "      <td>3</td>\n",
       "      <td>3</td>\n",
       "      <td>151</td>\n",
       "      <td>HOBOKEN</td>\n",
       "      <td>0</td>\n",
       "      <td>0526</td>\n",
       "      <td>151</td>\n",
       "    </tr>\n",
       "  </tbody>\n",
       "</table>\n",
       "</div>"
      ],
      "text/plain": [
       "     route_id  service_id  trip_id trip_headsign  direction_id block_id  \\\n",
       "147         3           4      148       HOBOKEN             0     0526   \n",
       "150         3           3      151       HOBOKEN             0     0526   \n",
       "\n",
       "     shape_id  \n",
       "147       148  \n",
       "150       151  "
      ]
     },
     "execution_count": 83,
     "metadata": {},
     "output_type": "execute_result"
    }
   ],
   "source": [
    "trips[trips['block_id'].str.contains('0526')]"
   ]
  },
  {
   "cell_type": "code",
   "execution_count": 82,
   "metadata": {
    "collapsed": false
   },
   "outputs": [
    {
     "data": {
      "text/html": [
       "<div>\n",
       "<table border=\"1\" class=\"dataframe\">\n",
       "  <thead>\n",
       "    <tr style=\"text-align: right;\">\n",
       "      <th></th>\n",
       "      <th>route_id</th>\n",
       "      <th>service_id</th>\n",
       "      <th>trip_id</th>\n",
       "      <th>trip_headsign</th>\n",
       "      <th>direction_id</th>\n",
       "      <th>block_id</th>\n",
       "      <th>shape_id</th>\n",
       "    </tr>\n",
       "  </thead>\n",
       "  <tbody>\n",
       "    <tr>\n",
       "      <th>925</th>\n",
       "      <td>4</td>\n",
       "      <td>19</td>\n",
       "      <td>926</td>\n",
       "      <td>HBLR TONNELLE</td>\n",
       "      <td>0</td>\n",
       "      <td>342JC003</td>\n",
       "      <td>299</td>\n",
       "    </tr>\n",
       "  </tbody>\n",
       "</table>\n",
       "</div>"
      ],
      "text/plain": [
       "     route_id  service_id  trip_id  trip_headsign  direction_id  block_id  \\\n",
       "925         4          19      926  HBLR TONNELLE             0  342JC003   \n",
       "\n",
       "     shape_id  \n",
       "925       299  "
      ]
     },
     "execution_count": 82,
     "metadata": {},
     "output_type": "execute_result"
    }
   ],
   "source": [
    "trips[trips['trip_id']==926]"
   ]
  },
  {
   "cell_type": "code",
   "execution_count": 88,
   "metadata": {
    "collapsed": false
   },
   "outputs": [
    {
     "ename": "IndexError",
     "evalue": "single positional indexer is out-of-bounds",
     "output_type": "error",
     "traceback": [
      "\u001b[0;31m---------------------------------------------------------------------------\u001b[0m",
      "\u001b[0;31mIndexError\u001b[0m                                Traceback (most recent call last)",
      "\u001b[0;32m<ipython-input-88-1c11436cf6cf>\u001b[0m in \u001b[0;36m<module>\u001b[0;34m()\u001b[0m\n\u001b[0;32m----> 1\u001b[0;31m \u001b[0mtrip_stops\u001b[0m\u001b[0;34m[\u001b[0m\u001b[0mtrip_stops\u001b[0m\u001b[0;34m[\u001b[0m\u001b[0;34m'block_id'\u001b[0m\u001b[0;34m]\u001b[0m \u001b[0;34m==\u001b[0m \u001b[0;34m'foo'\u001b[0m\u001b[0;34m]\u001b[0m\u001b[0;34m[\u001b[0m\u001b[0;34m'arrival_time'\u001b[0m\u001b[0;34m]\u001b[0m\u001b[0;34m.\u001b[0m\u001b[0miloc\u001b[0m\u001b[0;34m[\u001b[0m\u001b[0;36m0\u001b[0m\u001b[0;34m]\u001b[0m\u001b[0;34m\u001b[0m\u001b[0m\n\u001b[0m",
      "\u001b[0;32m/Users/pranav/anaconda/lib/python2.7/site-packages/pandas/core/indexing.pyc\u001b[0m in \u001b[0;36m__getitem__\u001b[0;34m(self, key)\u001b[0m\n\u001b[1;32m   1310\u001b[0m             \u001b[0;32mreturn\u001b[0m \u001b[0mself\u001b[0m\u001b[0;34m.\u001b[0m\u001b[0m_getitem_tuple\u001b[0m\u001b[0;34m(\u001b[0m\u001b[0mkey\u001b[0m\u001b[0;34m)\u001b[0m\u001b[0;34m\u001b[0m\u001b[0m\n\u001b[1;32m   1311\u001b[0m         \u001b[0;32melse\u001b[0m\u001b[0;34m:\u001b[0m\u001b[0;34m\u001b[0m\u001b[0m\n\u001b[0;32m-> 1312\u001b[0;31m             \u001b[0;32mreturn\u001b[0m \u001b[0mself\u001b[0m\u001b[0;34m.\u001b[0m\u001b[0m_getitem_axis\u001b[0m\u001b[0;34m(\u001b[0m\u001b[0mkey\u001b[0m\u001b[0;34m,\u001b[0m \u001b[0maxis\u001b[0m\u001b[0;34m=\u001b[0m\u001b[0;36m0\u001b[0m\u001b[0;34m)\u001b[0m\u001b[0;34m\u001b[0m\u001b[0m\n\u001b[0m\u001b[1;32m   1313\u001b[0m \u001b[0;34m\u001b[0m\u001b[0m\n\u001b[1;32m   1314\u001b[0m     \u001b[0;32mdef\u001b[0m \u001b[0m_getitem_axis\u001b[0m\u001b[0;34m(\u001b[0m\u001b[0mself\u001b[0m\u001b[0;34m,\u001b[0m \u001b[0mkey\u001b[0m\u001b[0;34m,\u001b[0m \u001b[0maxis\u001b[0m\u001b[0;34m=\u001b[0m\u001b[0;36m0\u001b[0m\u001b[0;34m)\u001b[0m\u001b[0;34m:\u001b[0m\u001b[0;34m\u001b[0m\u001b[0m\n",
      "\u001b[0;32m/Users/pranav/anaconda/lib/python2.7/site-packages/pandas/core/indexing.pyc\u001b[0m in \u001b[0;36m_getitem_axis\u001b[0;34m(self, key, axis)\u001b[0m\n\u001b[1;32m   1626\u001b[0m \u001b[0;34m\u001b[0m\u001b[0m\n\u001b[1;32m   1627\u001b[0m                 \u001b[0;31m# validate the location\u001b[0m\u001b[0;34m\u001b[0m\u001b[0;34m\u001b[0m\u001b[0m\n\u001b[0;32m-> 1628\u001b[0;31m                 \u001b[0mself\u001b[0m\u001b[0;34m.\u001b[0m\u001b[0m_is_valid_integer\u001b[0m\u001b[0;34m(\u001b[0m\u001b[0mkey\u001b[0m\u001b[0;34m,\u001b[0m \u001b[0maxis\u001b[0m\u001b[0;34m)\u001b[0m\u001b[0;34m\u001b[0m\u001b[0m\n\u001b[0m\u001b[1;32m   1629\u001b[0m \u001b[0;34m\u001b[0m\u001b[0m\n\u001b[1;32m   1630\u001b[0m             \u001b[0;32mreturn\u001b[0m \u001b[0mself\u001b[0m\u001b[0;34m.\u001b[0m\u001b[0m_get_loc\u001b[0m\u001b[0;34m(\u001b[0m\u001b[0mkey\u001b[0m\u001b[0;34m,\u001b[0m \u001b[0maxis\u001b[0m\u001b[0;34m=\u001b[0m\u001b[0maxis\u001b[0m\u001b[0;34m)\u001b[0m\u001b[0;34m\u001b[0m\u001b[0m\n",
      "\u001b[0;32m/Users/pranav/anaconda/lib/python2.7/site-packages/pandas/core/indexing.pyc\u001b[0m in \u001b[0;36m_is_valid_integer\u001b[0;34m(self, key, axis)\u001b[0m\n\u001b[1;32m   1540\u001b[0m         \u001b[0ml\u001b[0m \u001b[0;34m=\u001b[0m \u001b[0mlen\u001b[0m\u001b[0;34m(\u001b[0m\u001b[0max\u001b[0m\u001b[0;34m)\u001b[0m\u001b[0;34m\u001b[0m\u001b[0m\n\u001b[1;32m   1541\u001b[0m         \u001b[0;32mif\u001b[0m \u001b[0mkey\u001b[0m \u001b[0;34m>=\u001b[0m \u001b[0ml\u001b[0m \u001b[0;32mor\u001b[0m \u001b[0mkey\u001b[0m \u001b[0;34m<\u001b[0m \u001b[0;34m-\u001b[0m\u001b[0ml\u001b[0m\u001b[0;34m:\u001b[0m\u001b[0;34m\u001b[0m\u001b[0m\n\u001b[0;32m-> 1542\u001b[0;31m             \u001b[0;32mraise\u001b[0m \u001b[0mIndexError\u001b[0m\u001b[0;34m(\u001b[0m\u001b[0;34m\"single positional indexer is out-of-bounds\"\u001b[0m\u001b[0;34m)\u001b[0m\u001b[0;34m\u001b[0m\u001b[0m\n\u001b[0m\u001b[1;32m   1543\u001b[0m         \u001b[0;32mreturn\u001b[0m \u001b[0mTrue\u001b[0m\u001b[0;34m\u001b[0m\u001b[0m\n\u001b[1;32m   1544\u001b[0m \u001b[0;34m\u001b[0m\u001b[0m\n",
      "\u001b[0;31mIndexError\u001b[0m: single positional indexer is out-of-bounds"
     ]
    }
   ],
   "source": [
    "trip_stops[trip_stops['block_id'] == 'foo']['arrival_time'].iloc[0]"
   ]
  },
  {
   "cell_type": "code",
   "execution_count": 90,
   "metadata": {
    "collapsed": false
   },
   "outputs": [
    {
     "data": {
      "text/plain": [
       "IndexError"
      ]
     },
     "execution_count": 90,
     "metadata": {},
     "output_type": "execute_result"
    }
   ],
   "source": [
    "IndexError"
   ]
  },
  {
   "cell_type": "code",
   "execution_count": null,
   "metadata": {
    "collapsed": true
   },
   "outputs": [],
   "source": []
  }
 ],
 "metadata": {
  "anaconda-cloud": {},
  "kernelspec": {
   "display_name": "Python [Root]",
   "language": "python",
   "name": "Python [Root]"
  },
  "language_info": {
   "codemirror_mode": {
    "name": "ipython",
    "version": 2
   },
   "file_extension": ".py",
   "mimetype": "text/x-python",
   "name": "python",
   "nbconvert_exporter": "python",
   "pygments_lexer": "ipython2",
   "version": "2.7.12"
  }
 },
 "nbformat": 4,
 "nbformat_minor": 2
}
