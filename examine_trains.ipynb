{
 "cells": [
  {
   "cell_type": "code",
   "execution_count": 1,
   "metadata": {
    "collapsed": true
   },
   "outputs": [],
   "source": [
    "from transit_parser import *"
   ]
  },
  {
   "cell_type": "markdown",
   "metadata": {},
   "source": [
    "## NJ Transit "
   ]
  },
  {
   "cell_type": "code",
   "execution_count": 2,
   "metadata": {
    "collapsed": true
   },
   "outputs": [],
   "source": [
    "train_name = './test/' + '2018_01_30_3177'"
   ]
  },
  {
   "cell_type": "code",
   "execution_count": 3,
   "metadata": {
    "collapsed": true
   },
   "outputs": [],
   "source": [
    "t = TrainParser(train_name)\n",
    "times = t.get_stop_times()\n",
    "rows = t.get_rows(times)\n",
    "df = t.get_df(rows)\n",
    "performance = t.join_schedule(df)"
   ]
  },
  {
   "cell_type": "code",
   "execution_count": 4,
   "metadata": {
    "collapsed": false
   },
   "outputs": [
    {
     "data": {
      "text/html": [
       "<div>\n",
       "<table border=\"1\" class=\"dataframe\">\n",
       "  <thead>\n",
       "    <tr style=\"text-align: right;\">\n",
       "      <th></th>\n",
       "      <th>from</th>\n",
       "      <th>to</th>\n",
       "      <th>status</th>\n",
       "      <th>time</th>\n",
       "      <th>expected</th>\n",
       "      <th>train_id</th>\n",
       "    </tr>\n",
       "    <tr>\n",
       "      <th>stop_num</th>\n",
       "      <th></th>\n",
       "      <th></th>\n",
       "      <th></th>\n",
       "      <th></th>\n",
       "      <th></th>\n",
       "      <th></th>\n",
       "    </tr>\n",
       "  </thead>\n",
       "  <tbody>\n",
       "    <tr>\n",
       "      <th>1</th>\n",
       "      <td>New York Penn Station</td>\n",
       "      <td>New York Penn Station</td>\n",
       "      <td>Departed</td>\n",
       "      <td>2018-01-30 19:21:12</td>\n",
       "      <td>2018-01-30 19:22:00</td>\n",
       "      <td>3177</td>\n",
       "    </tr>\n",
       "    <tr>\n",
       "      <th>2</th>\n",
       "      <td>New York Penn Station</td>\n",
       "      <td>Newark Penn Station</td>\n",
       "      <td>Departed</td>\n",
       "      <td>2018-01-30 19:41:23</td>\n",
       "      <td>2018-01-30 19:38:00</td>\n",
       "      <td>3177</td>\n",
       "    </tr>\n",
       "    <tr>\n",
       "      <th>3</th>\n",
       "      <td>Newark Penn Station</td>\n",
       "      <td>Rahway</td>\n",
       "      <td>Departed</td>\n",
       "      <td>2018-01-30 19:53:14</td>\n",
       "      <td>2018-01-30 19:51:00</td>\n",
       "      <td>3177</td>\n",
       "    </tr>\n",
       "    <tr>\n",
       "      <th>4</th>\n",
       "      <td>Rahway</td>\n",
       "      <td>Metropark</td>\n",
       "      <td>Departed</td>\n",
       "      <td>2018-01-30 19:58:39</td>\n",
       "      <td>2018-01-30 19:58:00</td>\n",
       "      <td>3177</td>\n",
       "    </tr>\n",
       "    <tr>\n",
       "      <th>5</th>\n",
       "      <td>Metropark</td>\n",
       "      <td>Metuchen</td>\n",
       "      <td>Departed</td>\n",
       "      <td>2018-01-30 20:05:17</td>\n",
       "      <td>2018-01-30 20:03:00</td>\n",
       "      <td>3177</td>\n",
       "    </tr>\n",
       "    <tr>\n",
       "      <th>6</th>\n",
       "      <td>Metuchen</td>\n",
       "      <td>Edison</td>\n",
       "      <td>Departed</td>\n",
       "      <td>2018-01-30 20:09:15</td>\n",
       "      <td>2018-01-30 20:08:00</td>\n",
       "      <td>3177</td>\n",
       "    </tr>\n",
       "    <tr>\n",
       "      <th>7</th>\n",
       "      <td>Edison</td>\n",
       "      <td>New Brunswick</td>\n",
       "      <td>Departed</td>\n",
       "      <td>2018-01-30 20:13:11</td>\n",
       "      <td>2018-01-30 20:13:00</td>\n",
       "      <td>3177</td>\n",
       "    </tr>\n",
       "    <tr>\n",
       "      <th>8</th>\n",
       "      <td>New Brunswick</td>\n",
       "      <td>Jersey Avenue</td>\n",
       "      <td>Departed</td>\n",
       "      <td>2018-01-30 20:18:14</td>\n",
       "      <td>2018-01-30 20:16:00</td>\n",
       "      <td>3177</td>\n",
       "    </tr>\n",
       "  </tbody>\n",
       "</table>\n",
       "</div>"
      ],
      "text/plain": [
       "                           from                     to    status  \\\n",
       "stop_num                                                           \n",
       "1         New York Penn Station  New York Penn Station  Departed   \n",
       "2         New York Penn Station    Newark Penn Station  Departed   \n",
       "3           Newark Penn Station                 Rahway  Departed   \n",
       "4                        Rahway              Metropark  Departed   \n",
       "5                     Metropark               Metuchen  Departed   \n",
       "6                      Metuchen                 Edison  Departed   \n",
       "7                        Edison          New Brunswick  Departed   \n",
       "8                 New Brunswick          Jersey Avenue  Departed   \n",
       "\n",
       "                         time             expected train_id  \n",
       "stop_num                                                     \n",
       "1         2018-01-30 19:21:12  2018-01-30 19:22:00     3177  \n",
       "2         2018-01-30 19:41:23  2018-01-30 19:38:00     3177  \n",
       "3         2018-01-30 19:53:14  2018-01-30 19:51:00     3177  \n",
       "4         2018-01-30 19:58:39  2018-01-30 19:58:00     3177  \n",
       "5         2018-01-30 20:05:17  2018-01-30 20:03:00     3177  \n",
       "6         2018-01-30 20:09:15  2018-01-30 20:08:00     3177  \n",
       "7         2018-01-30 20:13:11  2018-01-30 20:13:00     3177  \n",
       "8         2018-01-30 20:18:14  2018-01-30 20:16:00     3177  "
      ]
     },
     "execution_count": 4,
     "metadata": {},
     "output_type": "execute_result"
    }
   ],
   "source": [
    "performance[['from', 'to','status', 'time', 'expected','train_id']]"
   ]
  },
  {
   "cell_type": "markdown",
   "metadata": {},
   "source": [
    "## Amtrak"
   ]
  },
  {
   "cell_type": "code",
   "execution_count": 5,
   "metadata": {
    "collapsed": true
   },
   "outputs": [],
   "source": [
    "train_id = './test/' + '2018_01_30_A2117'"
   ]
  },
  {
   "cell_type": "code",
   "execution_count": 6,
   "metadata": {
    "collapsed": true
   },
   "outputs": [],
   "source": [
    "a_t = TrainParser(train_id)\n",
    "a_times = a_t.get_stop_times()\n",
    "a_rows = a_t.get_rows(a_times)\n",
    "a_df = a_t.get_df(a_rows)\n",
    "a_performance = a_t.join_schedule(a_df)"
   ]
  },
  {
   "cell_type": "code",
   "execution_count": 7,
   "metadata": {
    "collapsed": false
   },
   "outputs": [
    {
     "data": {
      "text/html": [
       "<div>\n",
       "<style>\n",
       "    .dataframe thead tr:only-child th {\n",
       "        text-align: right;\n",
       "    }\n",
       "\n",
       "    .dataframe thead th {\n",
       "        text-align: left;\n",
       "    }\n",
       "\n",
       "    .dataframe tbody tr th {\n",
       "        vertical-align: top;\n",
       "    }\n",
       "</style>\n",
       "<table border=\"1\" class=\"dataframe\">\n",
       "  <thead>\n",
       "    <tr style=\"text-align: right;\">\n",
       "      <th></th>\n",
       "      <th>from</th>\n",
       "      <th>to</th>\n",
       "      <th>status</th>\n",
       "      <th>time</th>\n",
       "      <th>expected</th>\n",
       "      <th>train_id</th>\n",
       "    </tr>\n",
       "    <tr>\n",
       "      <th>stop_num</th>\n",
       "      <th></th>\n",
       "      <th></th>\n",
       "      <th></th>\n",
       "      <th></th>\n",
       "      <th></th>\n",
       "      <th></th>\n",
       "    </tr>\n",
       "  </thead>\n",
       "  <tbody>\n",
       "    <tr>\n",
       "      <th>1</th>\n",
       "      <td>New York Penn Station</td>\n",
       "      <td>New York Penn Station</td>\n",
       "      <td>Departed</td>\n",
       "      <td>2018-01-30 12:00:06</td>\n",
       "      <td>None</td>\n",
       "      <td>A2117</td>\n",
       "    </tr>\n",
       "    <tr>\n",
       "      <th>2</th>\n",
       "      <td>New York Penn Station</td>\n",
       "      <td>Newark Penn Station</td>\n",
       "      <td>Departed</td>\n",
       "      <td>2018-01-30 12:16:03</td>\n",
       "      <td>None</td>\n",
       "      <td>A2117</td>\n",
       "    </tr>\n",
       "    <tr>\n",
       "      <th>3</th>\n",
       "      <td>Newark Penn Station</td>\n",
       "      <td>Metropark</td>\n",
       "      <td>Departed</td>\n",
       "      <td>2018-01-30 12:31:10</td>\n",
       "      <td>None</td>\n",
       "      <td>A2117</td>\n",
       "    </tr>\n",
       "    <tr>\n",
       "      <th>4</th>\n",
       "      <td>Metropark</td>\n",
       "      <td>Philadelphia</td>\n",
       "      <td>Departed</td>\n",
       "      <td>2018-01-30 13:17:11</td>\n",
       "      <td>None</td>\n",
       "      <td>A2117</td>\n",
       "    </tr>\n",
       "  </tbody>\n",
       "</table>\n",
       "</div>"
      ],
      "text/plain": [
       "                           from                     to    status  \\\n",
       "stop_num                                                           \n",
       "1         New York Penn Station  New York Penn Station  Departed   \n",
       "2         New York Penn Station    Newark Penn Station  Departed   \n",
       "3           Newark Penn Station              Metropark  Departed   \n",
       "4                     Metropark           Philadelphia  Departed   \n",
       "\n",
       "                         time expected train_id  \n",
       "stop_num                                         \n",
       "1         2018-01-30 12:00:06     None    A2117  \n",
       "2         2018-01-30 12:16:03     None    A2117  \n",
       "3         2018-01-30 12:31:10     None    A2117  \n",
       "4         2018-01-30 13:17:11     None    A2117  "
      ]
     },
     "execution_count": 7,
     "metadata": {},
     "output_type": "execute_result"
    }
   ],
   "source": [
    "a_performance[['from', 'to','status', 'time', 'expected','train_id']]"
   ]
  },
  {
   "cell_type": "code",
   "execution_count": null,
   "metadata": {
    "collapsed": true
   },
   "outputs": [],
   "source": []
  }
 ],
 "metadata": {
  "anaconda-cloud": {},
  "kernelspec": {
   "display_name": "Python [Root]",
   "language": "python",
   "name": "Python [Root]"
  },
  "language_info": {
   "codemirror_mode": {
    "name": "ipython",
    "version": 2
   },
   "file_extension": ".py",
   "mimetype": "text/x-python",
   "name": "python",
   "nbconvert_exporter": "python",
   "pygments_lexer": "ipython2",
   "version": "2.7.12"
  }
 },
 "nbformat": 4,
 "nbformat_minor": 2
}
