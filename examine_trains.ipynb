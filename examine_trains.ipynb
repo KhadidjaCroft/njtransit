{
 "cells": [
  {
   "cell_type": "code",
   "execution_count": 1,
   "metadata": {
    "collapsed": true
   },
   "outputs": [],
   "source": [
    "from transit_parser import *"
   ]
  },
  {
   "cell_type": "markdown",
   "metadata": {},
   "source": [
    "## NJ Transit "
   ]
  },
  {
   "cell_type": "code",
   "execution_count": 2,
   "metadata": {
    "collapsed": true
   },
   "outputs": [],
   "source": [
    "train_name = './test/' + '2018_01_29_3891'"
   ]
  },
  {
   "cell_type": "code",
   "execution_count": 3,
   "metadata": {
    "collapsed": true
   },
   "outputs": [],
   "source": [
    "t = TrainParser(train_name)\n",
    "times = t.get_stop_times()\n",
    "rows = t.get_rows(times)\n",
    "df = t.get_df(rows)\n",
    "performance = t.join_schedule(df)"
   ]
  },
  {
   "cell_type": "code",
   "execution_count": 4,
   "metadata": {
    "collapsed": false
   },
   "outputs": [
    {
     "data": {
      "text/html": [
       "<div>\n",
       "<table border=\"1\" class=\"dataframe\">\n",
       "  <thead>\n",
       "    <tr style=\"text-align: right;\">\n",
       "      <th></th>\n",
       "      <th>from</th>\n",
       "      <th>to</th>\n",
       "      <th>status</th>\n",
       "      <th>time</th>\n",
       "      <th>expected</th>\n",
       "      <th>train_id</th>\n",
       "    </tr>\n",
       "    <tr>\n",
       "      <th>stop_num</th>\n",
       "      <th></th>\n",
       "      <th></th>\n",
       "      <th></th>\n",
       "      <th></th>\n",
       "      <th></th>\n",
       "      <th></th>\n",
       "    </tr>\n",
       "  </thead>\n",
       "  <tbody>\n",
       "    <tr>\n",
       "      <th>1</th>\n",
       "      <td>New York Penn Station</td>\n",
       "      <td>New York Penn Station</td>\n",
       "      <td>Departed</td>\n",
       "      <td>2018-01-29 22:10:04</td>\n",
       "      <td>2018-01-29 22:11:00</td>\n",
       "      <td>3891</td>\n",
       "    </tr>\n",
       "    <tr>\n",
       "      <th>2</th>\n",
       "      <td>New York Penn Station</td>\n",
       "      <td>Secaucus Upper Lvl</td>\n",
       "      <td>Departed</td>\n",
       "      <td>2018-01-29 22:20:11</td>\n",
       "      <td>2018-01-29 22:20:00</td>\n",
       "      <td>3891</td>\n",
       "    </tr>\n",
       "    <tr>\n",
       "      <th>3</th>\n",
       "      <td>Secaucus Upper Lvl</td>\n",
       "      <td>Newark Penn Station</td>\n",
       "      <td>Departed</td>\n",
       "      <td>2018-01-29 22:31:09</td>\n",
       "      <td>2018-01-29 22:30:00</td>\n",
       "      <td>3891</td>\n",
       "    </tr>\n",
       "    <tr>\n",
       "      <th>4</th>\n",
       "      <td>Newark Penn Station</td>\n",
       "      <td>Newark Airport</td>\n",
       "      <td>Departed</td>\n",
       "      <td>2018-01-29 22:36:10</td>\n",
       "      <td>2018-01-29 22:36:00</td>\n",
       "      <td>3891</td>\n",
       "    </tr>\n",
       "    <tr>\n",
       "      <th>5</th>\n",
       "      <td>Newark Airport</td>\n",
       "      <td>Rahway</td>\n",
       "      <td>Departed</td>\n",
       "      <td>2018-01-29 22:46:10</td>\n",
       "      <td>2018-01-29 22:46:00</td>\n",
       "      <td>3891</td>\n",
       "    </tr>\n",
       "    <tr>\n",
       "      <th>6</th>\n",
       "      <td>Rahway</td>\n",
       "      <td>Metropark</td>\n",
       "      <td>Departed</td>\n",
       "      <td>2018-01-29 22:53:07</td>\n",
       "      <td>2018-01-29 22:52:00</td>\n",
       "      <td>3891</td>\n",
       "    </tr>\n",
       "    <tr>\n",
       "      <th>7</th>\n",
       "      <td>Metropark</td>\n",
       "      <td>Metuchen</td>\n",
       "      <td>Departed</td>\n",
       "      <td>2018-01-29 22:57:10</td>\n",
       "      <td>2018-01-29 22:56:00</td>\n",
       "      <td>3891</td>\n",
       "    </tr>\n",
       "    <tr>\n",
       "      <th>8</th>\n",
       "      <td>Metuchen</td>\n",
       "      <td>Edison</td>\n",
       "      <td>Departed</td>\n",
       "      <td>2018-01-29 23:01:05</td>\n",
       "      <td>2018-01-29 23:01:00</td>\n",
       "      <td>3891</td>\n",
       "    </tr>\n",
       "    <tr>\n",
       "      <th>9</th>\n",
       "      <td>Edison</td>\n",
       "      <td>New Brunswick</td>\n",
       "      <td>Departed</td>\n",
       "      <td>2018-01-29 23:05:06</td>\n",
       "      <td>2018-01-29 23:05:00</td>\n",
       "      <td>3891</td>\n",
       "    </tr>\n",
       "    <tr>\n",
       "      <th>10</th>\n",
       "      <td>New Brunswick</td>\n",
       "      <td>Jersey Avenue</td>\n",
       "      <td>Departed</td>\n",
       "      <td>2018-01-29 23:10:11</td>\n",
       "      <td>2018-01-29 23:10:00</td>\n",
       "      <td>3891</td>\n",
       "    </tr>\n",
       "    <tr>\n",
       "      <th>11</th>\n",
       "      <td>Jersey Avenue</td>\n",
       "      <td>Princeton Junction</td>\n",
       "      <td>Departed</td>\n",
       "      <td>2018-01-29 23:20:07</td>\n",
       "      <td>2018-01-29 23:23:00</td>\n",
       "      <td>3891</td>\n",
       "    </tr>\n",
       "    <tr>\n",
       "      <th>12</th>\n",
       "      <td>Princeton Junction</td>\n",
       "      <td>Hamilton</td>\n",
       "      <td>Departed</td>\n",
       "      <td>2018-01-29 23:26:12</td>\n",
       "      <td>2018-01-29 23:30:00</td>\n",
       "      <td>3891</td>\n",
       "    </tr>\n",
       "    <tr>\n",
       "      <th>13</th>\n",
       "      <td>Hamilton</td>\n",
       "      <td>Trenton</td>\n",
       "      <td>Departed</td>\n",
       "      <td>2018-01-29 23:30:09</td>\n",
       "      <td>2018-01-29 23:42:00</td>\n",
       "      <td>3891</td>\n",
       "    </tr>\n",
       "  </tbody>\n",
       "</table>\n",
       "</div>"
      ],
      "text/plain": [
       "                           from                     to    status  \\\n",
       "stop_num                                                           \n",
       "1         New York Penn Station  New York Penn Station  Departed   \n",
       "2         New York Penn Station     Secaucus Upper Lvl  Departed   \n",
       "3            Secaucus Upper Lvl    Newark Penn Station  Departed   \n",
       "4           Newark Penn Station         Newark Airport  Departed   \n",
       "5                Newark Airport                 Rahway  Departed   \n",
       "6                        Rahway              Metropark  Departed   \n",
       "7                     Metropark               Metuchen  Departed   \n",
       "8                      Metuchen                 Edison  Departed   \n",
       "9                        Edison          New Brunswick  Departed   \n",
       "10                New Brunswick          Jersey Avenue  Departed   \n",
       "11                Jersey Avenue     Princeton Junction  Departed   \n",
       "12           Princeton Junction               Hamilton  Departed   \n",
       "13                     Hamilton                Trenton  Departed   \n",
       "\n",
       "                         time             expected train_id  \n",
       "stop_num                                                     \n",
       "1         2018-01-29 22:10:04  2018-01-29 22:11:00     3891  \n",
       "2         2018-01-29 22:20:11  2018-01-29 22:20:00     3891  \n",
       "3         2018-01-29 22:31:09  2018-01-29 22:30:00     3891  \n",
       "4         2018-01-29 22:36:10  2018-01-29 22:36:00     3891  \n",
       "5         2018-01-29 22:46:10  2018-01-29 22:46:00     3891  \n",
       "6         2018-01-29 22:53:07  2018-01-29 22:52:00     3891  \n",
       "7         2018-01-29 22:57:10  2018-01-29 22:56:00     3891  \n",
       "8         2018-01-29 23:01:05  2018-01-29 23:01:00     3891  \n",
       "9         2018-01-29 23:05:06  2018-01-29 23:05:00     3891  \n",
       "10        2018-01-29 23:10:11  2018-01-29 23:10:00     3891  \n",
       "11        2018-01-29 23:20:07  2018-01-29 23:23:00     3891  \n",
       "12        2018-01-29 23:26:12  2018-01-29 23:30:00     3891  \n",
       "13        2018-01-29 23:30:09  2018-01-29 23:42:00     3891  "
      ]
     },
     "execution_count": 4,
     "metadata": {},
     "output_type": "execute_result"
    }
   ],
   "source": [
    "performance[['from', 'to','status', 'time', 'expected','train_id']]"
   ]
  },
  {
   "cell_type": "markdown",
   "metadata": {},
   "source": [
    "## Amtrak"
   ]
  },
  {
   "cell_type": "code",
   "execution_count": 5,
   "metadata": {
    "collapsed": true
   },
   "outputs": [],
   "source": [
    "train_id = './test/' + '2018_01_29_A177'"
   ]
  },
  {
   "cell_type": "code",
   "execution_count": 6,
   "metadata": {
    "collapsed": true
   },
   "outputs": [],
   "source": [
    "a_t = TrainParser(train_id)\n",
    "a_times = a_t.get_stop_times()\n",
    "a_rows = a_t.get_rows(a_times)\n",
    "a_df = a_t.get_df(a_rows)\n",
    "a_performance = a_t.join_schedule(a_df)"
   ]
  },
  {
   "cell_type": "code",
   "execution_count": 8,
   "metadata": {
    "collapsed": false
   },
   "outputs": [
    {
     "data": {
      "text/html": [
       "<div>\n",
       "<table border=\"1\" class=\"dataframe\">\n",
       "  <thead>\n",
       "    <tr style=\"text-align: right;\">\n",
       "      <th></th>\n",
       "      <th>from</th>\n",
       "      <th>to</th>\n",
       "      <th>status</th>\n",
       "      <th>time</th>\n",
       "      <th>expected</th>\n",
       "      <th>train_id</th>\n",
       "    </tr>\n",
       "    <tr>\n",
       "      <th>stop_num</th>\n",
       "      <th></th>\n",
       "      <th></th>\n",
       "      <th></th>\n",
       "      <th></th>\n",
       "      <th></th>\n",
       "      <th></th>\n",
       "    </tr>\n",
       "  </thead>\n",
       "  <tbody>\n",
       "    <tr>\n",
       "      <th>1</th>\n",
       "      <td>New York Penn Station</td>\n",
       "      <td>New York Penn Station</td>\n",
       "      <td>Departed</td>\n",
       "      <td>2018-01-29 22:05:51</td>\n",
       "      <td>None</td>\n",
       "      <td>A177</td>\n",
       "    </tr>\n",
       "    <tr>\n",
       "      <th>2</th>\n",
       "      <td>New York Penn Station</td>\n",
       "      <td>Newark Penn Station</td>\n",
       "      <td>Departed</td>\n",
       "      <td>2018-01-29 22:22:01</td>\n",
       "      <td>None</td>\n",
       "      <td>A177</td>\n",
       "    </tr>\n",
       "    <tr>\n",
       "      <th>3</th>\n",
       "      <td>Newark Penn Station</td>\n",
       "      <td>Metropark</td>\n",
       "      <td>Departed</td>\n",
       "      <td>2018-01-29 22:38:08</td>\n",
       "      <td>None</td>\n",
       "      <td>A177</td>\n",
       "    </tr>\n",
       "    <tr>\n",
       "      <th>4</th>\n",
       "      <td>Metropark</td>\n",
       "      <td>Trenton</td>\n",
       "      <td>Departed</td>\n",
       "      <td>2018-01-29 23:01:02</td>\n",
       "      <td>None</td>\n",
       "      <td>A177</td>\n",
       "    </tr>\n",
       "    <tr>\n",
       "      <th>5</th>\n",
       "      <td>Trenton</td>\n",
       "      <td>Philadelphia</td>\n",
       "      <td>Departed</td>\n",
       "      <td>2018-01-29 23:30:07</td>\n",
       "      <td>None</td>\n",
       "      <td>A177</td>\n",
       "    </tr>\n",
       "  </tbody>\n",
       "</table>\n",
       "</div>"
      ],
      "text/plain": [
       "                           from                     to    status  \\\n",
       "stop_num                                                           \n",
       "1         New York Penn Station  New York Penn Station  Departed   \n",
       "2         New York Penn Station    Newark Penn Station  Departed   \n",
       "3           Newark Penn Station              Metropark  Departed   \n",
       "4                     Metropark                Trenton  Departed   \n",
       "5                       Trenton           Philadelphia  Departed   \n",
       "\n",
       "                         time expected train_id  \n",
       "stop_num                                         \n",
       "1         2018-01-29 22:05:51     None     A177  \n",
       "2         2018-01-29 22:22:01     None     A177  \n",
       "3         2018-01-29 22:38:08     None     A177  \n",
       "4         2018-01-29 23:01:02     None     A177  \n",
       "5         2018-01-29 23:30:07     None     A177  "
      ]
     },
     "execution_count": 8,
     "metadata": {},
     "output_type": "execute_result"
    }
   ],
   "source": [
    "a_performance[['from', 'to','status', 'time', 'expected','train_id']]"
   ]
  },
  {
   "cell_type": "code",
   "execution_count": null,
   "metadata": {
    "collapsed": true
   },
   "outputs": [],
   "source": []
  }
 ],
 "metadata": {
  "anaconda-cloud": {},
  "kernelspec": {
   "display_name": "Python [Root]",
   "language": "python",
   "name": "Python [Root]"
  },
  "language_info": {
   "codemirror_mode": {
    "name": "ipython",
    "version": 2
   },
   "file_extension": ".py",
   "mimetype": "text/x-python",
   "name": "python",
   "nbconvert_exporter": "python",
   "pygments_lexer": "ipython2",
   "version": "2.7.12"
  }
 },
 "nbformat": 4,
 "nbformat_minor": 2
}
